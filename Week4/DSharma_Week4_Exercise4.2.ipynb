{
 "cells": [
  {
   "cell_type": "markdown",
   "id": "9398fd90-bd26-4c9d-9d05-f9ff5f9bf6df",
   "metadata": {},
   "source": [
    "#### Name Dipika Sharma\n",
    "#### DSC 550 T302 Data Mining\n",
    "#### Week 4"
   ]
  },
  {
   "cell_type": "markdown",
   "id": "2b9cd907-4816-4540-9150-979b4e8cb3ee",
   "metadata": {},
   "source": [
    "# Exercise 4.2"
   ]
  },
  {
   "cell_type": "code",
   "execution_count": 1,
   "id": "f6b254c6-1b15-4dc6-890b-993b9e83933f",
   "metadata": {},
   "outputs": [],
   "source": [
    "## Importing the required libraries\n",
    "\n",
    "import pandas as pd\n",
    "import numpy as np"
   ]
  },
  {
   "cell_type": "markdown",
   "id": "ab5aa3d6-c2c2-452e-a44c-1661ec5e1557",
   "metadata": {},
   "source": [
    "#### In this exercise, you will build a linear regression model to predict fuel efficiency (miles per gallon) of automobiles. Download the auto-mpg.csv dataset from: Auto-mpg dataset."
   ]
  },
  {
   "cell_type": "markdown",
   "id": "b69f2548-7408-45a8-a379-d62fb806153d",
   "metadata": {},
   "source": [
    "### 1. Load the data as a Pandas data frame and ensure that it imported correctly."
   ]
  },
  {
   "cell_type": "code",
   "execution_count": 2,
   "id": "a3111141-b032-44c5-80ac-9cc163d5700b",
   "metadata": {},
   "outputs": [],
   "source": [
    "## Loading the cvs file data as panda dataframe\n",
    "\n",
    "auto_mpg_df = pd.read_csv('auto-mpg.csv')"
   ]
  },
  {
   "cell_type": "code",
   "execution_count": 3,
   "id": "12aca069-2f8c-4aab-922b-1ec2f7d9f782",
   "metadata": {},
   "outputs": [
    {
     "data": {
      "text/html": [
       "<div>\n",
       "<style scoped>\n",
       "    .dataframe tbody tr th:only-of-type {\n",
       "        vertical-align: middle;\n",
       "    }\n",
       "\n",
       "    .dataframe tbody tr th {\n",
       "        vertical-align: top;\n",
       "    }\n",
       "\n",
       "    .dataframe thead th {\n",
       "        text-align: right;\n",
       "    }\n",
       "</style>\n",
       "<table border=\"1\" class=\"dataframe\">\n",
       "  <thead>\n",
       "    <tr style=\"text-align: right;\">\n",
       "      <th></th>\n",
       "      <th>mpg</th>\n",
       "      <th>cylinders</th>\n",
       "      <th>displacement</th>\n",
       "      <th>horsepower</th>\n",
       "      <th>weight</th>\n",
       "      <th>acceleration</th>\n",
       "      <th>model year</th>\n",
       "      <th>origin</th>\n",
       "      <th>car name</th>\n",
       "    </tr>\n",
       "  </thead>\n",
       "  <tbody>\n",
       "    <tr>\n",
       "      <th>0</th>\n",
       "      <td>18.0</td>\n",
       "      <td>8</td>\n",
       "      <td>307.0</td>\n",
       "      <td>130</td>\n",
       "      <td>3504</td>\n",
       "      <td>12.0</td>\n",
       "      <td>70</td>\n",
       "      <td>1</td>\n",
       "      <td>chevrolet chevelle malibu</td>\n",
       "    </tr>\n",
       "    <tr>\n",
       "      <th>1</th>\n",
       "      <td>15.0</td>\n",
       "      <td>8</td>\n",
       "      <td>350.0</td>\n",
       "      <td>165</td>\n",
       "      <td>3693</td>\n",
       "      <td>11.5</td>\n",
       "      <td>70</td>\n",
       "      <td>1</td>\n",
       "      <td>buick skylark 320</td>\n",
       "    </tr>\n",
       "    <tr>\n",
       "      <th>2</th>\n",
       "      <td>18.0</td>\n",
       "      <td>8</td>\n",
       "      <td>318.0</td>\n",
       "      <td>150</td>\n",
       "      <td>3436</td>\n",
       "      <td>11.0</td>\n",
       "      <td>70</td>\n",
       "      <td>1</td>\n",
       "      <td>plymouth satellite</td>\n",
       "    </tr>\n",
       "    <tr>\n",
       "      <th>3</th>\n",
       "      <td>16.0</td>\n",
       "      <td>8</td>\n",
       "      <td>304.0</td>\n",
       "      <td>150</td>\n",
       "      <td>3433</td>\n",
       "      <td>12.0</td>\n",
       "      <td>70</td>\n",
       "      <td>1</td>\n",
       "      <td>amc rebel sst</td>\n",
       "    </tr>\n",
       "    <tr>\n",
       "      <th>4</th>\n",
       "      <td>17.0</td>\n",
       "      <td>8</td>\n",
       "      <td>302.0</td>\n",
       "      <td>140</td>\n",
       "      <td>3449</td>\n",
       "      <td>10.5</td>\n",
       "      <td>70</td>\n",
       "      <td>1</td>\n",
       "      <td>ford torino</td>\n",
       "    </tr>\n",
       "  </tbody>\n",
       "</table>\n",
       "</div>"
      ],
      "text/plain": [
       "    mpg  cylinders  displacement horsepower  weight  acceleration  model year  \\\n",
       "0  18.0          8         307.0        130    3504          12.0          70   \n",
       "1  15.0          8         350.0        165    3693          11.5          70   \n",
       "2  18.0          8         318.0        150    3436          11.0          70   \n",
       "3  16.0          8         304.0        150    3433          12.0          70   \n",
       "4  17.0          8         302.0        140    3449          10.5          70   \n",
       "\n",
       "   origin                   car name  \n",
       "0       1  chevrolet chevelle malibu  \n",
       "1       1          buick skylark 320  \n",
       "2       1         plymouth satellite  \n",
       "3       1              amc rebel sst  \n",
       "4       1                ford torino  "
      ]
     },
     "execution_count": 3,
     "metadata": {},
     "output_type": "execute_result"
    }
   ],
   "source": [
    "## Lets check the top five rows of the data frame to see if its loaded correctly\n",
    "\n",
    "auto_mpg_df.head(5)"
   ]
  },
  {
   "cell_type": "code",
   "execution_count": 4,
   "id": "ea1c1467-4f77-4f8f-ad70-68f4bfa3e1df",
   "metadata": {},
   "outputs": [
    {
     "name": "stdout",
     "output_type": "stream",
     "text": [
      "The total number of rows and columns of auto-mpg dataframe: (398, 9)\n"
     ]
    }
   ],
   "source": [
    "## Using shape function to see the number of rows and column in auto dataframe\n",
    "\n",
    "print(\"The total number of rows and columns of auto-mpg dataframe: {}\".format(auto_mpg_df.shape))"
   ]
  },
  {
   "cell_type": "markdown",
   "id": "9d717ff3-91ad-428f-a24d-d31c2be0a387",
   "metadata": {},
   "source": [
    "### We can see that suto-mfg data frame has 398 rows and 9 comlumns."
   ]
  },
  {
   "cell_type": "markdown",
   "id": "988ed509-f6d2-425e-af37-5a97f7d4b085",
   "metadata": {},
   "source": [
    "### 2. Begin by prepping the data for modeling: <br> &emsp; (i) Remove the car name column."
   ]
  },
  {
   "cell_type": "code",
   "execution_count": 5,
   "id": "35c40f72-bf9a-44f0-989b-c5a1ed3b10a4",
   "metadata": {},
   "outputs": [
    {
     "data": {
      "text/html": [
       "<div>\n",
       "<style scoped>\n",
       "    .dataframe tbody tr th:only-of-type {\n",
       "        vertical-align: middle;\n",
       "    }\n",
       "\n",
       "    .dataframe tbody tr th {\n",
       "        vertical-align: top;\n",
       "    }\n",
       "\n",
       "    .dataframe thead th {\n",
       "        text-align: right;\n",
       "    }\n",
       "</style>\n",
       "<table border=\"1\" class=\"dataframe\">\n",
       "  <thead>\n",
       "    <tr style=\"text-align: right;\">\n",
       "      <th></th>\n",
       "      <th>mpg</th>\n",
       "      <th>cylinders</th>\n",
       "      <th>displacement</th>\n",
       "      <th>horsepower</th>\n",
       "      <th>weight</th>\n",
       "      <th>acceleration</th>\n",
       "      <th>model year</th>\n",
       "      <th>origin</th>\n",
       "    </tr>\n",
       "  </thead>\n",
       "  <tbody>\n",
       "    <tr>\n",
       "      <th>0</th>\n",
       "      <td>18.0</td>\n",
       "      <td>8</td>\n",
       "      <td>307.0</td>\n",
       "      <td>130</td>\n",
       "      <td>3504</td>\n",
       "      <td>12.0</td>\n",
       "      <td>70</td>\n",
       "      <td>1</td>\n",
       "    </tr>\n",
       "    <tr>\n",
       "      <th>1</th>\n",
       "      <td>15.0</td>\n",
       "      <td>8</td>\n",
       "      <td>350.0</td>\n",
       "      <td>165</td>\n",
       "      <td>3693</td>\n",
       "      <td>11.5</td>\n",
       "      <td>70</td>\n",
       "      <td>1</td>\n",
       "    </tr>\n",
       "    <tr>\n",
       "      <th>2</th>\n",
       "      <td>18.0</td>\n",
       "      <td>8</td>\n",
       "      <td>318.0</td>\n",
       "      <td>150</td>\n",
       "      <td>3436</td>\n",
       "      <td>11.0</td>\n",
       "      <td>70</td>\n",
       "      <td>1</td>\n",
       "    </tr>\n",
       "    <tr>\n",
       "      <th>3</th>\n",
       "      <td>16.0</td>\n",
       "      <td>8</td>\n",
       "      <td>304.0</td>\n",
       "      <td>150</td>\n",
       "      <td>3433</td>\n",
       "      <td>12.0</td>\n",
       "      <td>70</td>\n",
       "      <td>1</td>\n",
       "    </tr>\n",
       "    <tr>\n",
       "      <th>4</th>\n",
       "      <td>17.0</td>\n",
       "      <td>8</td>\n",
       "      <td>302.0</td>\n",
       "      <td>140</td>\n",
       "      <td>3449</td>\n",
       "      <td>10.5</td>\n",
       "      <td>70</td>\n",
       "      <td>1</td>\n",
       "    </tr>\n",
       "  </tbody>\n",
       "</table>\n",
       "</div>"
      ],
      "text/plain": [
       "    mpg  cylinders  displacement horsepower  weight  acceleration  model year  \\\n",
       "0  18.0          8         307.0        130    3504          12.0          70   \n",
       "1  15.0          8         350.0        165    3693          11.5          70   \n",
       "2  18.0          8         318.0        150    3436          11.0          70   \n",
       "3  16.0          8         304.0        150    3433          12.0          70   \n",
       "4  17.0          8         302.0        140    3449          10.5          70   \n",
       "\n",
       "   origin  \n",
       "0       1  \n",
       "1       1  \n",
       "2       1  \n",
       "3       1  \n",
       "4       1  "
      ]
     },
     "execution_count": 5,
     "metadata": {},
     "output_type": "execute_result"
    }
   ],
   "source": [
    "## Using drop function to remove car column from data frame.\n",
    "\n",
    "auto_mpg_df = auto_mpg_df.drop(columns='car name')\n",
    "\n",
    "## Lets check the top five rows of the data frame to see if the column car names drop correctly.\n",
    "\n",
    "auto_mpg_df.head(5)"
   ]
  },
  {
   "cell_type": "markdown",
   "id": "2fc1c5a9-019c-402e-8607-426e3ebdf46b",
   "metadata": {},
   "source": [
    "### &emsp; (ii) The horsepower column values likely imported as a string data type. Figure out why and replace any strings with the column mean."
   ]
  },
  {
   "cell_type": "code",
   "execution_count": 6,
   "id": "041db7ba-3760-4c2e-a085-7456f4159d01",
   "metadata": {},
   "outputs": [
    {
     "name": "stdout",
     "output_type": "stream",
     "text": [
      "<class 'pandas.core.frame.DataFrame'>\n",
      "RangeIndex: 398 entries, 0 to 397\n",
      "Data columns (total 8 columns):\n",
      " #   Column        Non-Null Count  Dtype  \n",
      "---  ------        --------------  -----  \n",
      " 0   mpg           398 non-null    float64\n",
      " 1   cylinders     398 non-null    int64  \n",
      " 2   displacement  398 non-null    float64\n",
      " 3   horsepower    398 non-null    object \n",
      " 4   weight        398 non-null    int64  \n",
      " 5   acceleration  398 non-null    float64\n",
      " 6   model year    398 non-null    int64  \n",
      " 7   origin        398 non-null    int64  \n",
      "dtypes: float64(3), int64(4), object(1)\n",
      "memory usage: 25.0+ KB\n"
     ]
    }
   ],
   "source": [
    "## Lets check the data type of horsepower column\n",
    "\n",
    "auto_mpg_df.info()"
   ]
  },
  {
   "cell_type": "markdown",
   "id": "87a1defe-fa7d-4a70-af10-d95814fb237f",
   "metadata": {},
   "source": [
    "### We can see that the horsepower is object datatype."
   ]
  },
  {
   "cell_type": "code",
   "execution_count": 7,
   "id": "c190b1d4-d348-4df4-915e-d64f4254cbd9",
   "metadata": {},
   "outputs": [
    {
     "data": {
      "text/plain": [
       "0      130\n",
       "1      165\n",
       "2      150\n",
       "3      150\n",
       "4      140\n",
       "      ... \n",
       "393     86\n",
       "394     52\n",
       "395     84\n",
       "396     79\n",
       "397     82\n",
       "Name: horsepower, Length: 398, dtype: object"
      ]
     },
     "execution_count": 7,
     "metadata": {},
     "output_type": "execute_result"
    }
   ],
   "source": [
    "## lets check some values of horsepower column.\n",
    "\n",
    "auto_mpg_df['horsepower']"
   ]
  },
  {
   "cell_type": "code",
   "execution_count": 8,
   "id": "e4c6f33b-3593-4572-9611-73777f1d2288",
   "metadata": {},
   "outputs": [
    {
     "data": {
      "text/plain": [
       "array(['130', '165', '150', '140', '198', '220', '215', '225', '190',\n",
       "       '170', '160', '95', '97', '85', '88', '46', '87', '90', '113',\n",
       "       '200', '210', '193', '?', '100', '105', '175', '153', '180', '110',\n",
       "       '72', '86', '70', '76', '65', '69', '60', '80', '54', '208', '155',\n",
       "       '112', '92', '145', '137', '158', '167', '94', '107', '230', '49',\n",
       "       '75', '91', '122', '67', '83', '78', '52', '61', '93', '148',\n",
       "       '129', '96', '71', '98', '115', '53', '81', '79', '120', '152',\n",
       "       '102', '108', '68', '58', '149', '89', '63', '48', '66', '139',\n",
       "       '103', '125', '133', '138', '135', '142', '77', '62', '132', '84',\n",
       "       '64', '74', '116', '82'], dtype=object)"
      ]
     },
     "execution_count": 8,
     "metadata": {},
     "output_type": "execute_result"
    }
   ],
   "source": [
    "## Lets check the unique values of the horsepower column\n",
    "\n",
    "auto_mpg_df['horsepower'].unique()"
   ]
  },
  {
   "cell_type": "markdown",
   "id": "73ee0aa7-6ec5-44b0-80f9-e8cbc6db88f2",
   "metadata": {},
   "source": [
    "#### I looked into the kaggle site from where we have imported the data it says the dataset has 6 missing values for horsepower column, now I am seeing that the horsepower column has all the values float and no missing values but it has \"?\" value for some of the cars model."
   ]
  },
  {
   "cell_type": "markdown",
   "id": "56a52ddc-8893-4a62-8eb2-7b513b86a017",
   "metadata": {},
   "source": [
    "#### Assuming that when the survey happened to collect the data for this dataset, the horsepower of some car models are not known and that is why it is showing \"?\" for those 6 missing values."
   ]
  },
  {
   "cell_type": "code",
   "execution_count": 9,
   "id": "6d65875f-0161-4218-9686-baf32526c046",
   "metadata": {},
   "outputs": [],
   "source": [
    "## using the to_numeric function with coerce as errors so then invalid parsing will be set as NaN.\n",
    "\n",
    "auto_mpg_df['horsepower'] = auto_mpg_df['horsepower'].apply(pd.to_numeric, errors='coerce')"
   ]
  },
  {
   "cell_type": "code",
   "execution_count": 10,
   "id": "e90893da-e985-41b6-b4d4-22c14423b4dd",
   "metadata": {},
   "outputs": [
    {
     "name": "stdout",
     "output_type": "stream",
     "text": [
      "The mean of horsepower column in auto-mfg data frame is: 104.46938775510205\n"
     ]
    }
   ],
   "source": [
    "## Lets find out the mean of horsepower column.\n",
    "\n",
    "hp_mean = auto_mpg_df['horsepower'].mean()\n",
    "print(\"The mean of horsepower column in auto-mfg data frame is: {}\".format(hp_mean))"
   ]
  },
  {
   "cell_type": "code",
   "execution_count": 11,
   "id": "4f0af862-1c74-42f2-8511-cacd27ae9b74",
   "metadata": {
    "tags": []
   },
   "outputs": [],
   "source": [
    "## using fillna to replace NaN values with mean of the horsepower column.\n",
    "\n",
    "auto_mpg_df['horsepower'] = auto_mpg_df['horsepower'].fillna(hp_mean)"
   ]
  },
  {
   "cell_type": "code",
   "execution_count": 12,
   "id": "dd05c14a-56fe-4d0f-9f71-87e66901bbf7",
   "metadata": {},
   "outputs": [
    {
     "name": "stdout",
     "output_type": "stream",
     "text": [
      "<class 'pandas.core.frame.DataFrame'>\n",
      "RangeIndex: 398 entries, 0 to 397\n",
      "Data columns (total 8 columns):\n",
      " #   Column        Non-Null Count  Dtype  \n",
      "---  ------        --------------  -----  \n",
      " 0   mpg           398 non-null    float64\n",
      " 1   cylinders     398 non-null    int64  \n",
      " 2   displacement  398 non-null    float64\n",
      " 3   horsepower    398 non-null    float64\n",
      " 4   weight        398 non-null    int64  \n",
      " 5   acceleration  398 non-null    float64\n",
      " 6   model year    398 non-null    int64  \n",
      " 7   origin        398 non-null    int64  \n",
      "dtypes: float64(4), int64(4)\n",
      "memory usage: 25.0 KB\n"
     ]
    }
   ],
   "source": [
    "## Lets check the datatype of the horsepower column again.\n",
    "\n",
    "auto_mpg_df.info()"
   ]
  },
  {
   "cell_type": "markdown",
   "id": "affd8b0c-dd82-4a44-b211-b1ed8e3cf3bc",
   "metadata": {},
   "source": [
    "### As we can see that now the horsepower column data type is float."
   ]
  },
  {
   "cell_type": "markdown",
   "id": "5d679230-a4c6-4225-bb9c-e8632f103a7a",
   "metadata": {},
   "source": [
    "### &emsp; (iii) Create dummy variables for the origin column."
   ]
  },
  {
   "cell_type": "code",
   "execution_count": 13,
   "id": "0a624dbe-ed76-4e76-8230-a24cd3149160",
   "metadata": {},
   "outputs": [
    {
     "data": {
      "text/plain": [
       "array([1, 3, 2])"
      ]
     },
     "execution_count": 13,
     "metadata": {},
     "output_type": "execute_result"
    }
   ],
   "source": [
    "## Using unique function to check the unique values for origin column.\n",
    "\n",
    "auto_mpg_df['origin'].unique()"
   ]
  },
  {
   "cell_type": "markdown",
   "id": "b0cc6b72-df96-467b-94e9-51874a9a0314",
   "metadata": {},
   "source": [
    "### As we can see that the column origin has unique value 1, 2, and 3 so we will create dummy variables of these three categorical values of the origin."
   ]
  },
  {
   "cell_type": "code",
   "execution_count": 14,
   "id": "c0c9bee9-92e6-4d65-b71f-a6254302c01f",
   "metadata": {},
   "outputs": [
    {
     "data": {
      "text/html": [
       "<div>\n",
       "<style scoped>\n",
       "    .dataframe tbody tr th:only-of-type {\n",
       "        vertical-align: middle;\n",
       "    }\n",
       "\n",
       "    .dataframe tbody tr th {\n",
       "        vertical-align: top;\n",
       "    }\n",
       "\n",
       "    .dataframe thead th {\n",
       "        text-align: right;\n",
       "    }\n",
       "</style>\n",
       "<table border=\"1\" class=\"dataframe\">\n",
       "  <thead>\n",
       "    <tr style=\"text-align: right;\">\n",
       "      <th></th>\n",
       "      <th>1</th>\n",
       "      <th>2</th>\n",
       "      <th>3</th>\n",
       "    </tr>\n",
       "  </thead>\n",
       "  <tbody>\n",
       "    <tr>\n",
       "      <th>0</th>\n",
       "      <td>1</td>\n",
       "      <td>0</td>\n",
       "      <td>0</td>\n",
       "    </tr>\n",
       "    <tr>\n",
       "      <th>1</th>\n",
       "      <td>1</td>\n",
       "      <td>0</td>\n",
       "      <td>0</td>\n",
       "    </tr>\n",
       "    <tr>\n",
       "      <th>2</th>\n",
       "      <td>1</td>\n",
       "      <td>0</td>\n",
       "      <td>0</td>\n",
       "    </tr>\n",
       "    <tr>\n",
       "      <th>3</th>\n",
       "      <td>1</td>\n",
       "      <td>0</td>\n",
       "      <td>0</td>\n",
       "    </tr>\n",
       "    <tr>\n",
       "      <th>4</th>\n",
       "      <td>1</td>\n",
       "      <td>0</td>\n",
       "      <td>0</td>\n",
       "    </tr>\n",
       "    <tr>\n",
       "      <th>...</th>\n",
       "      <td>...</td>\n",
       "      <td>...</td>\n",
       "      <td>...</td>\n",
       "    </tr>\n",
       "    <tr>\n",
       "      <th>393</th>\n",
       "      <td>1</td>\n",
       "      <td>0</td>\n",
       "      <td>0</td>\n",
       "    </tr>\n",
       "    <tr>\n",
       "      <th>394</th>\n",
       "      <td>0</td>\n",
       "      <td>1</td>\n",
       "      <td>0</td>\n",
       "    </tr>\n",
       "    <tr>\n",
       "      <th>395</th>\n",
       "      <td>1</td>\n",
       "      <td>0</td>\n",
       "      <td>0</td>\n",
       "    </tr>\n",
       "    <tr>\n",
       "      <th>396</th>\n",
       "      <td>1</td>\n",
       "      <td>0</td>\n",
       "      <td>0</td>\n",
       "    </tr>\n",
       "    <tr>\n",
       "      <th>397</th>\n",
       "      <td>1</td>\n",
       "      <td>0</td>\n",
       "      <td>0</td>\n",
       "    </tr>\n",
       "  </tbody>\n",
       "</table>\n",
       "<p>398 rows × 3 columns</p>\n",
       "</div>"
      ],
      "text/plain": [
       "     1  2  3\n",
       "0    1  0  0\n",
       "1    1  0  0\n",
       "2    1  0  0\n",
       "3    1  0  0\n",
       "4    1  0  0\n",
       "..  .. .. ..\n",
       "393  1  0  0\n",
       "394  0  1  0\n",
       "395  1  0  0\n",
       "396  1  0  0\n",
       "397  1  0  0\n",
       "\n",
       "[398 rows x 3 columns]"
      ]
     },
     "execution_count": 14,
     "metadata": {},
     "output_type": "execute_result"
    }
   ],
   "source": [
    "## lets use get_dummies() method\n",
    "\n",
    "pd.get_dummies(auto_mpg_df['origin'])"
   ]
  },
  {
   "cell_type": "code",
   "execution_count": 15,
   "id": "94d97e5e-cc71-4d54-be73-8c23f519a979",
   "metadata": {},
   "outputs": [],
   "source": [
    "## Now since we know how it the dummy values will look\n",
    "## Lets create the dummy variables origin_1, origin_3, and origin_2 for the origin column\n",
    "## origin_1 variable values will be 1 of origin column value is 1 otherwise 0.\n",
    "## origin_3 variable values will be 1 of origin column value is 3 otherwise 0.\n",
    "## origin_2 variable values will be 1 of origin column value is 2 otherwise 0.\n",
    "\n",
    "auto_mpg_df['origin_1'] = auto_mpg_df['origin'].apply(lambda x: 1 if x == 1 else 0) \n",
    "auto_mpg_df['origin_3'] = auto_mpg_df['origin'].apply(lambda x: 1 if x == 3 else 0)\n",
    "auto_mpg_df['origin_2'] = auto_mpg_df['origin'].apply(lambda x: 1 if x == 2 else 0)"
   ]
  },
  {
   "cell_type": "code",
   "execution_count": 16,
   "id": "34c0214c-019d-4e28-9eb5-81703b19d2bd",
   "metadata": {},
   "outputs": [
    {
     "data": {
      "text/html": [
       "<div>\n",
       "<style scoped>\n",
       "    .dataframe tbody tr th:only-of-type {\n",
       "        vertical-align: middle;\n",
       "    }\n",
       "\n",
       "    .dataframe tbody tr th {\n",
       "        vertical-align: top;\n",
       "    }\n",
       "\n",
       "    .dataframe thead th {\n",
       "        text-align: right;\n",
       "    }\n",
       "</style>\n",
       "<table border=\"1\" class=\"dataframe\">\n",
       "  <thead>\n",
       "    <tr style=\"text-align: right;\">\n",
       "      <th></th>\n",
       "      <th>mpg</th>\n",
       "      <th>cylinders</th>\n",
       "      <th>displacement</th>\n",
       "      <th>horsepower</th>\n",
       "      <th>weight</th>\n",
       "      <th>acceleration</th>\n",
       "      <th>model year</th>\n",
       "      <th>origin</th>\n",
       "      <th>origin_1</th>\n",
       "      <th>origin_3</th>\n",
       "      <th>origin_2</th>\n",
       "    </tr>\n",
       "  </thead>\n",
       "  <tbody>\n",
       "    <tr>\n",
       "      <th>0</th>\n",
       "      <td>18.0</td>\n",
       "      <td>8</td>\n",
       "      <td>307.0</td>\n",
       "      <td>130.0</td>\n",
       "      <td>3504</td>\n",
       "      <td>12.0</td>\n",
       "      <td>70</td>\n",
       "      <td>1</td>\n",
       "      <td>1</td>\n",
       "      <td>0</td>\n",
       "      <td>0</td>\n",
       "    </tr>\n",
       "    <tr>\n",
       "      <th>1</th>\n",
       "      <td>15.0</td>\n",
       "      <td>8</td>\n",
       "      <td>350.0</td>\n",
       "      <td>165.0</td>\n",
       "      <td>3693</td>\n",
       "      <td>11.5</td>\n",
       "      <td>70</td>\n",
       "      <td>1</td>\n",
       "      <td>1</td>\n",
       "      <td>0</td>\n",
       "      <td>0</td>\n",
       "    </tr>\n",
       "    <tr>\n",
       "      <th>2</th>\n",
       "      <td>18.0</td>\n",
       "      <td>8</td>\n",
       "      <td>318.0</td>\n",
       "      <td>150.0</td>\n",
       "      <td>3436</td>\n",
       "      <td>11.0</td>\n",
       "      <td>70</td>\n",
       "      <td>1</td>\n",
       "      <td>1</td>\n",
       "      <td>0</td>\n",
       "      <td>0</td>\n",
       "    </tr>\n",
       "    <tr>\n",
       "      <th>3</th>\n",
       "      <td>16.0</td>\n",
       "      <td>8</td>\n",
       "      <td>304.0</td>\n",
       "      <td>150.0</td>\n",
       "      <td>3433</td>\n",
       "      <td>12.0</td>\n",
       "      <td>70</td>\n",
       "      <td>1</td>\n",
       "      <td>1</td>\n",
       "      <td>0</td>\n",
       "      <td>0</td>\n",
       "    </tr>\n",
       "    <tr>\n",
       "      <th>4</th>\n",
       "      <td>17.0</td>\n",
       "      <td>8</td>\n",
       "      <td>302.0</td>\n",
       "      <td>140.0</td>\n",
       "      <td>3449</td>\n",
       "      <td>10.5</td>\n",
       "      <td>70</td>\n",
       "      <td>1</td>\n",
       "      <td>1</td>\n",
       "      <td>0</td>\n",
       "      <td>0</td>\n",
       "    </tr>\n",
       "  </tbody>\n",
       "</table>\n",
       "</div>"
      ],
      "text/plain": [
       "    mpg  cylinders  displacement  horsepower  weight  acceleration  \\\n",
       "0  18.0          8         307.0       130.0    3504          12.0   \n",
       "1  15.0          8         350.0       165.0    3693          11.5   \n",
       "2  18.0          8         318.0       150.0    3436          11.0   \n",
       "3  16.0          8         304.0       150.0    3433          12.0   \n",
       "4  17.0          8         302.0       140.0    3449          10.5   \n",
       "\n",
       "   model year  origin  origin_1  origin_3  origin_2  \n",
       "0          70       1         1         0         0  \n",
       "1          70       1         1         0         0  \n",
       "2          70       1         1         0         0  \n",
       "3          70       1         1         0         0  \n",
       "4          70       1         1         0         0  "
      ]
     },
     "execution_count": 16,
     "metadata": {},
     "output_type": "execute_result"
    }
   ],
   "source": [
    "## Lets check the top five rows of the data frame to see if dummy variable created correctly\n",
    "\n",
    "auto_mpg_df.head(5)"
   ]
  },
  {
   "cell_type": "markdown",
   "id": "0a5139a2-881b-4e8f-8a68-a1316ffd0839",
   "metadata": {},
   "source": [
    "### 3. Create a correlation coefficient matrix and/or visualization. Are there features highly correlated with mpg?"
   ]
  },
  {
   "cell_type": "code",
   "execution_count": 17,
   "id": "2ecdb997-8369-43c7-a1d3-cf5efc842623",
   "metadata": {},
   "outputs": [],
   "source": [
    "## lets import the required libraries\n",
    "\n",
    "import seaborn as sns\n",
    "import matplotlib.pyplot as plt"
   ]
  },
  {
   "cell_type": "code",
   "execution_count": 18,
   "id": "080d42d9-6015-46a4-96be-000b60ae513d",
   "metadata": {},
   "outputs": [],
   "source": [
    "## Lets first create the correlation efficient matrix.\n",
    "## using corr() function for the correlation efficient.\n",
    "\n",
    "corr_matrix = auto_mpg_df.corr()"
   ]
  },
  {
   "cell_type": "code",
   "execution_count": 19,
   "id": "1c7d66d4-2806-47f5-b85e-56f09923c290",
   "metadata": {},
   "outputs": [
    {
     "data": {
      "text/html": [
       "<div>\n",
       "<style scoped>\n",
       "    .dataframe tbody tr th:only-of-type {\n",
       "        vertical-align: middle;\n",
       "    }\n",
       "\n",
       "    .dataframe tbody tr th {\n",
       "        vertical-align: top;\n",
       "    }\n",
       "\n",
       "    .dataframe thead th {\n",
       "        text-align: right;\n",
       "    }\n",
       "</style>\n",
       "<table border=\"1\" class=\"dataframe\">\n",
       "  <thead>\n",
       "    <tr style=\"text-align: right;\">\n",
       "      <th></th>\n",
       "      <th>mpg</th>\n",
       "      <th>cylinders</th>\n",
       "      <th>displacement</th>\n",
       "      <th>horsepower</th>\n",
       "      <th>weight</th>\n",
       "      <th>acceleration</th>\n",
       "      <th>model year</th>\n",
       "      <th>origin</th>\n",
       "      <th>origin_1</th>\n",
       "      <th>origin_3</th>\n",
       "      <th>origin_2</th>\n",
       "    </tr>\n",
       "  </thead>\n",
       "  <tbody>\n",
       "    <tr>\n",
       "      <th>mpg</th>\n",
       "      <td>1.000000</td>\n",
       "      <td>-0.775396</td>\n",
       "      <td>-0.804203</td>\n",
       "      <td>-0.771437</td>\n",
       "      <td>-0.831741</td>\n",
       "      <td>0.420289</td>\n",
       "      <td>0.579267</td>\n",
       "      <td>0.563450</td>\n",
       "      <td>-0.568192</td>\n",
       "      <td>0.442174</td>\n",
       "      <td>0.259022</td>\n",
       "    </tr>\n",
       "    <tr>\n",
       "      <th>cylinders</th>\n",
       "      <td>-0.775396</td>\n",
       "      <td>1.000000</td>\n",
       "      <td>0.950721</td>\n",
       "      <td>0.838939</td>\n",
       "      <td>0.896017</td>\n",
       "      <td>-0.505419</td>\n",
       "      <td>-0.348746</td>\n",
       "      <td>-0.562543</td>\n",
       "      <td>0.604351</td>\n",
       "      <td>-0.396479</td>\n",
       "      <td>-0.352861</td>\n",
       "    </tr>\n",
       "    <tr>\n",
       "      <th>displacement</th>\n",
       "      <td>-0.804203</td>\n",
       "      <td>0.950721</td>\n",
       "      <td>1.000000</td>\n",
       "      <td>0.893646</td>\n",
       "      <td>0.932824</td>\n",
       "      <td>-0.543684</td>\n",
       "      <td>-0.370164</td>\n",
       "      <td>-0.609409</td>\n",
       "      <td>0.651407</td>\n",
       "      <td>-0.433505</td>\n",
       "      <td>-0.373886</td>\n",
       "    </tr>\n",
       "    <tr>\n",
       "      <th>horsepower</th>\n",
       "      <td>-0.771437</td>\n",
       "      <td>0.838939</td>\n",
       "      <td>0.893646</td>\n",
       "      <td>1.000000</td>\n",
       "      <td>0.860574</td>\n",
       "      <td>-0.684259</td>\n",
       "      <td>-0.411651</td>\n",
       "      <td>-0.453669</td>\n",
       "      <td>0.486083</td>\n",
       "      <td>-0.321325</td>\n",
       "      <td>-0.281258</td>\n",
       "    </tr>\n",
       "    <tr>\n",
       "      <th>weight</th>\n",
       "      <td>-0.831741</td>\n",
       "      <td>0.896017</td>\n",
       "      <td>0.932824</td>\n",
       "      <td>0.860574</td>\n",
       "      <td>1.000000</td>\n",
       "      <td>-0.417457</td>\n",
       "      <td>-0.306564</td>\n",
       "      <td>-0.581024</td>\n",
       "      <td>0.598398</td>\n",
       "      <td>-0.440817</td>\n",
       "      <td>-0.298843</td>\n",
       "    </tr>\n",
       "    <tr>\n",
       "      <th>acceleration</th>\n",
       "      <td>0.420289</td>\n",
       "      <td>-0.505419</td>\n",
       "      <td>-0.543684</td>\n",
       "      <td>-0.684259</td>\n",
       "      <td>-0.417457</td>\n",
       "      <td>1.000000</td>\n",
       "      <td>0.288137</td>\n",
       "      <td>0.205873</td>\n",
       "      <td>-0.250806</td>\n",
       "      <td>0.109144</td>\n",
       "      <td>0.204473</td>\n",
       "    </tr>\n",
       "    <tr>\n",
       "      <th>model year</th>\n",
       "      <td>0.579267</td>\n",
       "      <td>-0.348746</td>\n",
       "      <td>-0.370164</td>\n",
       "      <td>-0.411651</td>\n",
       "      <td>-0.306564</td>\n",
       "      <td>0.288137</td>\n",
       "      <td>1.000000</td>\n",
       "      <td>0.180662</td>\n",
       "      <td>-0.139883</td>\n",
       "      <td>0.193101</td>\n",
       "      <td>-0.024489</td>\n",
       "    </tr>\n",
       "    <tr>\n",
       "      <th>origin</th>\n",
       "      <td>0.563450</td>\n",
       "      <td>-0.562543</td>\n",
       "      <td>-0.609409</td>\n",
       "      <td>-0.453669</td>\n",
       "      <td>-0.581024</td>\n",
       "      <td>0.205873</td>\n",
       "      <td>0.180662</td>\n",
       "      <td>1.000000</td>\n",
       "      <td>-0.924486</td>\n",
       "      <td>0.886596</td>\n",
       "      <td>0.246332</td>\n",
       "    </tr>\n",
       "    <tr>\n",
       "      <th>origin_1</th>\n",
       "      <td>-0.568192</td>\n",
       "      <td>0.604351</td>\n",
       "      <td>0.651407</td>\n",
       "      <td>0.486083</td>\n",
       "      <td>0.598398</td>\n",
       "      <td>-0.250806</td>\n",
       "      <td>-0.139883</td>\n",
       "      <td>-0.924486</td>\n",
       "      <td>1.000000</td>\n",
       "      <td>-0.643317</td>\n",
       "      <td>-0.597198</td>\n",
       "    </tr>\n",
       "    <tr>\n",
       "      <th>origin_3</th>\n",
       "      <td>0.442174</td>\n",
       "      <td>-0.396479</td>\n",
       "      <td>-0.433505</td>\n",
       "      <td>-0.321325</td>\n",
       "      <td>-0.440817</td>\n",
       "      <td>0.109144</td>\n",
       "      <td>0.193101</td>\n",
       "      <td>0.886596</td>\n",
       "      <td>-0.643317</td>\n",
       "      <td>1.000000</td>\n",
       "      <td>-0.229895</td>\n",
       "    </tr>\n",
       "    <tr>\n",
       "      <th>origin_2</th>\n",
       "      <td>0.259022</td>\n",
       "      <td>-0.352861</td>\n",
       "      <td>-0.373886</td>\n",
       "      <td>-0.281258</td>\n",
       "      <td>-0.298843</td>\n",
       "      <td>0.204473</td>\n",
       "      <td>-0.024489</td>\n",
       "      <td>0.246332</td>\n",
       "      <td>-0.597198</td>\n",
       "      <td>-0.229895</td>\n",
       "      <td>1.000000</td>\n",
       "    </tr>\n",
       "  </tbody>\n",
       "</table>\n",
       "</div>"
      ],
      "text/plain": [
       "                   mpg  cylinders  displacement  horsepower    weight  \\\n",
       "mpg           1.000000  -0.775396     -0.804203   -0.771437 -0.831741   \n",
       "cylinders    -0.775396   1.000000      0.950721    0.838939  0.896017   \n",
       "displacement -0.804203   0.950721      1.000000    0.893646  0.932824   \n",
       "horsepower   -0.771437   0.838939      0.893646    1.000000  0.860574   \n",
       "weight       -0.831741   0.896017      0.932824    0.860574  1.000000   \n",
       "acceleration  0.420289  -0.505419     -0.543684   -0.684259 -0.417457   \n",
       "model year    0.579267  -0.348746     -0.370164   -0.411651 -0.306564   \n",
       "origin        0.563450  -0.562543     -0.609409   -0.453669 -0.581024   \n",
       "origin_1     -0.568192   0.604351      0.651407    0.486083  0.598398   \n",
       "origin_3      0.442174  -0.396479     -0.433505   -0.321325 -0.440817   \n",
       "origin_2      0.259022  -0.352861     -0.373886   -0.281258 -0.298843   \n",
       "\n",
       "              acceleration  model year    origin  origin_1  origin_3  origin_2  \n",
       "mpg               0.420289    0.579267  0.563450 -0.568192  0.442174  0.259022  \n",
       "cylinders        -0.505419   -0.348746 -0.562543  0.604351 -0.396479 -0.352861  \n",
       "displacement     -0.543684   -0.370164 -0.609409  0.651407 -0.433505 -0.373886  \n",
       "horsepower       -0.684259   -0.411651 -0.453669  0.486083 -0.321325 -0.281258  \n",
       "weight           -0.417457   -0.306564 -0.581024  0.598398 -0.440817 -0.298843  \n",
       "acceleration      1.000000    0.288137  0.205873 -0.250806  0.109144  0.204473  \n",
       "model year        0.288137    1.000000  0.180662 -0.139883  0.193101 -0.024489  \n",
       "origin            0.205873    0.180662  1.000000 -0.924486  0.886596  0.246332  \n",
       "origin_1         -0.250806   -0.139883 -0.924486  1.000000 -0.643317 -0.597198  \n",
       "origin_3          0.109144    0.193101  0.886596 -0.643317  1.000000 -0.229895  \n",
       "origin_2          0.204473   -0.024489  0.246332 -0.597198 -0.229895  1.000000  "
      ]
     },
     "execution_count": 19,
     "metadata": {},
     "output_type": "execute_result"
    }
   ],
   "source": [
    "## Lets see the matrix first\n",
    "\n",
    "corr_matrix"
   ]
  },
  {
   "cell_type": "markdown",
   "id": "3da34af7-d1a2-402e-9804-b490178d8c3e",
   "metadata": {},
   "source": [
    "#### yes, Looking above results we can clearly see that mpg is highly negatively correlated with weight, displacement, cylinder and horsepower. Which mean increase in any of the features - weight, displacement, cylinder and horsepower will have direct impact on mpg and mpg value will decrease."
   ]
  },
  {
   "cell_type": "markdown",
   "id": "56f862ec-c2da-4c52-94cd-e84634dc802f",
   "metadata": {},
   "source": [
    "#### Also we can see from above correlation matrix that (displacement and cylinders), (displacement and weight), (weight and cylinders), (displacement and horsepower) are highly positive correlated and increase in one will increase the other."
   ]
  },
  {
   "cell_type": "code",
   "execution_count": 20,
   "id": "8931b055-3700-4e1b-89c7-ca133e08488e",
   "metadata": {},
   "outputs": [
    {
     "data": {
      "image/png": "[encoded data removed]",
      "text/plain": [
       "<Figure size 432x288 with 2 Axes>"
      ]
     },
     "metadata": {
      "needs_background": "light"
     },
     "output_type": "display_data"
    }
   ],
   "source": [
    "## Lets see if using plot also show the same observation taht we got above using matrix\n",
    "\n",
    "## Using heatmap for correlation visualization\n",
    "\n",
    "sns.heatmap(corr_matrix, annot = True)\n",
    "plt.show()"
   ]
  },
  {
   "cell_type": "markdown",
   "id": "76f2e588-8572-4bdf-b62b-24c9f6404990",
   "metadata": {},
   "source": [
    "#### The above visualization also show the strong negative correlation between mpg and features - cylinders, displacement, horsepower and weight.\n",
    "#### Also it show strong positive correlation between cylinders & displacement, cylinders & weight, displacement & weight and displacement & horsepower."
   ]
  },
  {
   "cell_type": "markdown",
   "id": "49012554-00ef-4aee-bd99-dd5ae6bd8bed",
   "metadata": {},
   "source": [
    "### 4. Plot mpg versus weight. Analyze this graph and explain how it relates to the corresponding correlation coefficient."
   ]
  },
  {
   "cell_type": "code",
   "execution_count": 21,
   "id": "61d1d655-f5d8-4118-80c5-055bedb7d004",
   "metadata": {},
   "outputs": [
    {
     "data": {
      "text/plain": [
       "Text(0, 0.5, 'Weight')"
      ]
     },
     "execution_count": 21,
     "metadata": {},
     "output_type": "execute_result"
    },
    {
     "data": {
      "image/png": "[encoded data removed]",
      "text/plain": [
       "<Figure size 432x288 with 1 Axes>"
      ]
     },
     "metadata": {
      "needs_background": "light"
     },
     "output_type": "display_data"
    }
   ],
   "source": [
    "### From above correlation visualtion it is quite visible that mpg and weight are highly negative correlated.\n",
    "\n",
    "### Lets plot the mpg and weight to understand the replationship more clearly.\n",
    "\n",
    "auto_mpg_df.plot(x='mpg', y='weight', style='o')\n",
    "plt.suptitle('mpg vs. Weight', fontsize=15)\n",
    "plt.xlabel('mpg', fontsize=15)\n",
    "plt.ylabel('Weight', fontsize=15)"
   ]
  },
  {
   "cell_type": "markdown",
   "id": "345d56f2-181d-42dc-9185-e15598da9f8d",
   "metadata": {},
   "source": [
    "#### From the above graph we can clearly say that the as weight of the vehicles increases, the mpg of the vehicles will decrease. And if weight of the vehicles is less then the mpg of the vehcles is high.\n",
    "#### This result matches with what we got from correlation visualization that weight and mpg is highly negative correlated wih each other."
   ]
  },
  {
   "cell_type": "markdown",
   "id": "af485d98-1821-4545-b2e7-a123edb521fd",
   "metadata": {},
   "source": [
    "### 5. Randomly split the data into 80% training data and 20% test data, where your target is mpg."
   ]
  },
  {
   "cell_type": "code",
   "execution_count": 22,
   "id": "ff6cbdec-806b-4d23-8192-9d48642c4cd4",
   "metadata": {},
   "outputs": [
    {
     "data": {
      "text/plain": [
       "Index(['mpg', 'cylinders', 'displacement', 'horsepower', 'weight',\n",
       "       'acceleration', 'model year', 'origin', 'origin_1', 'origin_3',\n",
       "       'origin_2'],\n",
       "      dtype='object')"
      ]
     },
     "execution_count": 22,
     "metadata": {},
     "output_type": "execute_result"
    }
   ],
   "source": [
    "## Lets check the columns of the existing dataframe.\n",
    "\n",
    "auto_mpg_df.columns"
   ]
  },
  {
   "cell_type": "code",
   "execution_count": 23,
   "id": "6bc001eb-0c8c-41f1-9ee8-cd72489b063e",
   "metadata": {},
   "outputs": [],
   "source": [
    "## Lets create copy of existing dataframe using copy function.\n",
    "\n",
    "auto_df = auto_mpg_df.copy()"
   ]
  },
  {
   "cell_type": "code",
   "execution_count": 24,
   "id": "62376986-2338-48da-8908-c5e3589d7567",
   "metadata": {},
   "outputs": [],
   "source": [
    "## Now using drop function to drop the clumn mpg from new data frame.\n",
    "\n",
    "auto_df = auto_df.drop(columns = ['mpg'])"
   ]
  },
  {
   "cell_type": "code",
   "execution_count": 25,
   "id": "98dca6c3-dbd4-49a6-b7c7-4ed11b0ecc97",
   "metadata": {},
   "outputs": [
    {
     "data": {
      "text/plain": [
       "Index(['cylinders', 'displacement', 'horsepower', 'weight', 'acceleration',\n",
       "       'model year', 'origin', 'origin_1', 'origin_3', 'origin_2'],\n",
       "      dtype='object')"
      ]
     },
     "execution_count": 25,
     "metadata": {},
     "output_type": "execute_result"
    }
   ],
   "source": [
    "## lets check the coulmns of the new data fram without mpg column\n",
    "\n",
    "auto_df.columns"
   ]
  },
  {
   "cell_type": "code",
   "execution_count": 26,
   "id": "6a680a37-893c-4cc3-9715-0e48431a6eaf",
   "metadata": {},
   "outputs": [],
   "source": [
    "## Let import the Importing train_test_split module from sklearn\n",
    "\n",
    "from sklearn.model_selection import train_test_split"
   ]
  },
  {
   "cell_type": "code",
   "execution_count": 27,
   "id": "4ea536b8-5317-42f0-971a-79dae8e83311",
   "metadata": {},
   "outputs": [],
   "source": [
    "## Pareto Principle Split\n",
    "## Using train_test_split function to split the data into 80% training and 20% testing.\n",
    "\n",
    "X_train, X_test, Y_train, Y_test = train_test_split(auto_df, auto_mpg_df['mpg'], test_size= 0.2)"
   ]
  },
  {
   "cell_type": "code",
   "execution_count": 28,
   "id": "4b608cdb-9132-448b-aa09-78bc60ae7028",
   "metadata": {},
   "outputs": [
    {
     "name": "stdout",
     "output_type": "stream",
     "text": [
      "The shape of X training dataset is: (318, 10)\n",
      "The shape of Y training dataset is: (318,)\n",
      "The shape of X testing dataset is: (80, 10)\n",
      "The shape of Y testing dataset is: (80,)\n"
     ]
    }
   ],
   "source": [
    "## lets check the number of rows and columns of the split data\n",
    "\n",
    "print(\"The shape of X training dataset is: {}\".format(X_train.shape))\n",
    "print(\"The shape of Y training dataset is: {}\".format(Y_train.shape))\n",
    "print(\"The shape of X testing dataset is: {}\".format(X_test.shape))\n",
    "print(\"The shape of Y testing dataset is: {}\".format(Y_test.shape))"
   ]
  },
  {
   "cell_type": "markdown",
   "id": "33b6b51f-75ac-4ec9-b41c-bec126f20dd2",
   "metadata": {},
   "source": [
    "### As we can see that the rows of the X data matches with Y data for both training and testing."
   ]
  },
  {
   "cell_type": "markdown",
   "id": "b24d12e6-2bef-4261-bb9d-2982dff6cebc",
   "metadata": {},
   "source": [
    "### 6. Train an ordinary linear regression on the training data."
   ]
  },
  {
   "cell_type": "code",
   "execution_count": 29,
   "id": "a405e85e-ec01-4297-91b0-d686f3562df6",
   "metadata": {
    "tags": []
   },
   "outputs": [],
   "source": [
    "## lets import the LinearRegression library\n",
    "\n",
    "from sklearn.linear_model import LinearRegression"
   ]
  },
  {
   "cell_type": "code",
   "execution_count": 30,
   "id": "21fb51b3-125b-466b-80ff-db62a1e21ff6",
   "metadata": {},
   "outputs": [],
   "source": [
    "## lets create the linear regression model\n",
    "\n",
    "lin_reg = LinearRegression()"
   ]
  },
  {
   "cell_type": "code",
   "execution_count": 31,
   "id": "9398b81c-1538-443b-915d-584d9a8dd388",
   "metadata": {},
   "outputs": [
    {
     "data": {
      "text/plain": [
       "LinearRegression()"
      ]
     },
     "execution_count": 31,
     "metadata": {},
     "output_type": "execute_result"
    }
   ],
   "source": [
    "## Lets train the linear regression on the training data.\n",
    "\n",
    "lin_reg.fit(X_train, Y_train)"
   ]
  },
  {
   "cell_type": "code",
   "execution_count": 32,
   "id": "cc8c9655-f062-4f67-9ed2-afbc673c7a39",
   "metadata": {},
   "outputs": [],
   "source": [
    "## Lets make the prediction on test data\n",
    "\n",
    "lin_reg_pred_test = lin_reg.predict(X_test)"
   ]
  },
  {
   "cell_type": "code",
   "execution_count": 33,
   "id": "aae3793b-2935-46e7-962a-b235e24e927d",
   "metadata": {},
   "outputs": [],
   "source": [
    "# Lets make the prediction on train data\n",
    "\n",
    "lin_reg_pred_train = lin_reg.predict(X_train)"
   ]
  },
  {
   "cell_type": "markdown",
   "id": "dcd799fa-2f43-420d-9354-761cc5567be5",
   "metadata": {},
   "source": [
    "### 7. Calculate R2, RMSE, and MAE on both the training and test sets and interpret your results."
   ]
  },
  {
   "cell_type": "code",
   "execution_count": 34,
   "id": "d09ac137-cf2b-4111-891f-5c6742837b91",
   "metadata": {},
   "outputs": [],
   "source": [
    "## Lets imports the required libraries.\n",
    "\n",
    "from sklearn.metrics import mean_squared_error, r2_score, mean_absolute_error\n",
    "from math import sqrt"
   ]
  },
  {
   "cell_type": "code",
   "execution_count": 35,
   "id": "97112b7d-5f15-40d8-bb28-474edb43b242",
   "metadata": {},
   "outputs": [
    {
     "name": "stdout",
     "output_type": "stream",
     "text": [
      "Coefficients:\n",
      " [-0.59570024  0.02082852 -0.00775402 -0.0067357   0.06412565  0.74145217\n",
      "  0.89202644 -0.82789558  0.06413085  0.76376473]\n",
      "The Coefficient of Determination (R2) is: 0.8348123220971622\n",
      "The Root Mean Squared Error (RMSE) is: 3.171733037563727\n",
      "The Mean Absolute Error (MAE) is: 2.3976481312195577\n"
     ]
    }
   ],
   "source": [
    "## lets calculate the R2, RMSE and MAE on training set.\n",
    "\n",
    "print(\"Coefficients:\\n\", lin_reg.coef_)\n",
    "print(\"The Coefficient of Determination (R2) is:\", r2_score(Y_train, lin_reg_pred_train))\n",
    "print(\"The Root Mean Squared Error (RMSE) is:\", sqrt(mean_squared_error(Y_train, lin_reg_pred_train)))\n",
    "print(\"The Mean Absolute Error (MAE) is:\", mean_absolute_error(Y_train, lin_reg_pred_train))"
   ]
  },
  {
   "cell_type": "markdown",
   "id": "602c5c63-11d2-4660-a1d2-4891425b1563",
   "metadata": {},
   "source": [
    "#### R2 is 82% which is large, it means that the regression model fitting the observation. When the R2 value is high it suggest the better fit for the model."
   ]
  },
  {
   "cell_type": "markdown",
   "id": "8e18d283-5f2f-41d3-898e-2efc0dff4b9b",
   "metadata": {},
   "source": [
    "#### The RMSE value is low as 3.25 which suggest the accuracy of prediction are close and suggest that the model is close to accuracy."
   ]
  },
  {
   "cell_type": "markdown",
   "id": "0a741636-0e2c-420a-b9c1-1abdad627359",
   "metadata": {},
   "source": [
    "#### MAE value more close to zero, the more accuarte the model is. As we can see that the MAE value is low as 2.5 that suggest predictive model is relatively accurate and forecast value are close to true value."
   ]
  },
  {
   "cell_type": "code",
   "execution_count": 36,
   "id": "af4a8fb0-bbd1-47fe-a1ee-68f6338abaaa",
   "metadata": {},
   "outputs": [
    {
     "name": "stdout",
     "output_type": "stream",
     "text": [
      "The Coefficient of Determination (R2) is: 0.7773451007752371\n",
      "The Root Mean Squared Error (RMSE) is: 3.684249390910379\n",
      "The Mean Absolute Error (MAE) is: 2.90533325327375\n"
     ]
    }
   ],
   "source": [
    "## lets calculate the R2, RMSE and MAE on testing set.\n",
    "\n",
    "print(\"The Coefficient of Determination (R2) is:\", r2_score(Y_test, lin_reg_pred_test))\n",
    "print(\"The Root Mean Squared Error (RMSE) is:\", sqrt(mean_squared_error(Y_test, lin_reg_pred_test)))\n",
    "print(\"The Mean Absolute Error (MAE) is:\", mean_absolute_error(Y_test, lin_reg_pred_test))"
   ]
  },
  {
   "cell_type": "markdown",
   "id": "f9ac1b6f-39a8-4f81-92f3-1af84fd30d22",
   "metadata": {},
   "source": [
    "#### R2 is 83% which is large, it means that the regression model fitting the observation. When the R2 value is high it suggest the better fit for the model.\n",
    "#### The RMSE value is low as 3.38 which suggest the accuracy of prediction are close and suggest that the model is close to accuracy.\n",
    "#### MAE value more close to zero, the more accuarte the model is. As we can see that the MAE value is low as 2.4 that suggest predictive model is relatively accurate and forecast value are close to true value."
   ]
  },
  {
   "cell_type": "markdown",
   "id": "cdded79c-0b9e-4623-8815-acac656aeeb3",
   "metadata": {},
   "source": [
    "### 8. Pick another regression model and repeat the previous two steps. Note: Do NOT choose logistic regression as it is more like a classification model."
   ]
  },
  {
   "cell_type": "code",
   "execution_count": 37,
   "id": "178a7c31-3cf6-40c1-9843-4a8e499a3b3b",
   "metadata": {},
   "outputs": [],
   "source": [
    "## Lets import the required libraries for Ridge Regression model\n",
    "\n",
    "from sklearn import linear_model"
   ]
  },
  {
   "cell_type": "code",
   "execution_count": 38,
   "id": "78b65841-0886-4b9b-a672-2d4fa27c75ce",
   "metadata": {},
   "outputs": [],
   "source": [
    "## Lets train the model on the training data.\n",
    "\n",
    "Ridge_reg = linear_model.Ridge().fit(X_train, Y_train)"
   ]
  },
  {
   "cell_type": "code",
   "execution_count": 39,
   "id": "928f0fb6-4e8b-4633-b3f9-e1be5f27442c",
   "metadata": {},
   "outputs": [],
   "source": [
    "## Lets make the prediction on train data\n",
    "\n",
    "Ridge_reg_pred_train = Ridge_reg.predict(X_train)"
   ]
  },
  {
   "cell_type": "code",
   "execution_count": 40,
   "id": "afc0d4ae-a8d9-458f-be5a-5ad44c5fa45f",
   "metadata": {},
   "outputs": [],
   "source": [
    "## Lets make the prediction on test data\n",
    "\n",
    "Ridge_reg_pred_test = Ridge_reg.predict(X_test)"
   ]
  },
  {
   "cell_type": "code",
   "execution_count": 41,
   "id": "f1d53392-b11f-4ab0-b92d-ee6f2e08421f",
   "metadata": {},
   "outputs": [
    {
     "name": "stdout",
     "output_type": "stream",
     "text": [
      "Coefficients:\n",
      " [-0.58728347  0.02056921 -0.0076305  -0.00673532  0.06406972  0.74080419\n",
      "  0.88631426 -0.81796402  0.06835023  0.74961379]\n",
      "The Coefficient of Determination (R2) is: 0.8348108278018438\n",
      "The Root Mean Squared Error (RMSE) is: 3.1717473833526215\n",
      "The Mean Absolute Error (MAE) is: 2.3968658706033814\n"
     ]
    }
   ],
   "source": [
    "## lets calculate the R2, RMSE and MAE on training set.\n",
    "\n",
    "print(\"Coefficients:\\n\", Ridge_reg.coef_)\n",
    "print(\"The Coefficient of Determination (R2) is:\", r2_score(Y_train, Ridge_reg_pred_train))\n",
    "print(\"The Root Mean Squared Error (RMSE) is:\", sqrt(mean_squared_error(Y_train, Ridge_reg_pred_train)))\n",
    "print(\"The Mean Absolute Error (MAE) is:\", mean_absolute_error(Y_train, Ridge_reg_pred_train))"
   ]
  },
  {
   "cell_type": "markdown",
   "id": "e684cbfa-c4d2-49ab-a1a8-5712a9afa46f",
   "metadata": {},
   "source": [
    "#### R2 is 82% which is large, it means that the regression model fitting the observation. When the R2 value is high it suggest the better fit for the model.\n",
    "#### The RMSE value is low as 3.25 which suggest the accuracy of prediction are close and suggest that the model is close to accuracy.\n",
    "#### MAE value more close to zero, the more accuarte the model is. As we can see that the MAE value is low as 2.5 that suggest predictive model is relatively accurate and forecast value are close to true value."
   ]
  },
  {
   "cell_type": "code",
   "execution_count": 42,
   "id": "56c87106-4f03-4dd8-b593-dc31402209a4",
   "metadata": {},
   "outputs": [
    {
     "name": "stdout",
     "output_type": "stream",
     "text": [
      "The Coefficient of Determination (R2) is: 0.7772528705927433\n",
      "The Root Mean Squared Error (RMSE) is: 3.6850123739246112\n",
      "The Mean Absolute Error (MAE) is: 2.9065903337884023\n"
     ]
    }
   ],
   "source": [
    "## lets calculate the R2, RMSE and MAE on testing set.\n",
    "\n",
    "print(\"The Coefficient of Determination (R2) is:\", r2_score(Y_test, Ridge_reg_pred_test))\n",
    "print(\"The Root Mean Squared Error (RMSE) is:\", sqrt(mean_squared_error(Y_test, Ridge_reg_pred_test)))\n",
    "print(\"The Mean Absolute Error (MAE) is:\", mean_absolute_error(Y_test, Ridge_reg_pred_test))"
   ]
  },
  {
   "cell_type": "markdown",
   "id": "5ddba4ef-da8e-4269-8179-1a2cb61c8d75",
   "metadata": {
    "tags": []
   },
   "source": [
    "#### R2 is 83% which is large, it means that the regression model fitting the observation. When the R2 value is high it suggest the better fit for the model.\n",
    "#### The RMSE value is low as 3.39 which suggest the accuracy of prediction are close and suggest that the model is close to accuracy.\n",
    "#### MAE value more close to zero, the more accuarte the model is. As we can see that the MAE value is low as 2.4 that suggest predictive model is relatively accurate and forecast value are close to true value."
   ]
  },
  {
   "cell_type": "markdown",
   "id": "1700329d-7cef-473b-a82f-db0aa49a7050",
   "metadata": {},
   "source": [
    "#### As we can see that both the model linear regression and Ridge regression model results have almost same results."
   ]
  },
  {
   "cell_type": "code",
   "execution_count": null,
   "id": "1688d9bc-f222-49d2-9722-53d1850e37cf",
   "metadata": {},
   "outputs": [],
   "source": []
  }
 ],
 "metadata": {
  "kernelspec": {
   "display_name": "Python 3 (ipykernel)",
   "language": "python",
   "name": "python3"
  },
  "language_info": {
   "codemirror_mode": {
    "name": "ipython",
    "version": 3
   },
   "file_extension": ".py",
   "mimetype": "text/x-python",
   "name": "python",
   "nbconvert_exporter": "python",
   "pygments_lexer": "ipython3",
   "version": "3.9.7"
  }
 },
 "nbformat": 4,
 "nbformat_minor": 5
}
