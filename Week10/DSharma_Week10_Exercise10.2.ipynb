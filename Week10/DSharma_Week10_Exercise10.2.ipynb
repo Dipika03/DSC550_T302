{
 "cells": [
  {
   "cell_type": "markdown",
   "id": "3541a0f4",
   "metadata": {},
   "source": [
    "#### Name Dipika Sharma\n",
    "#### DSC 550 T302 Data Mining\n",
    "#### Week 10"
   ]
  },
  {
   "cell_type": "markdown",
   "id": "dc63aa81-eb03-45fb-9978-ddc6e2cf446e",
   "metadata": {},
   "source": [
    "## Exercise 10.2"
   ]
  },
  {
   "cell_type": "markdown",
   "id": "ac4ac9b7",
   "metadata": {},
   "source": [
    "### Building a CNN Image Classifier"
   ]
  },
  {
   "cell_type": "markdown",
   "id": "d9cdaf5f-3658-4164-b605-b0106a195606",
   "metadata": {},
   "source": [
    "### 1. Load the MNIST data set."
   ]
  },
  {
   "cell_type": "code",
   "execution_count": 1,
   "id": "3608cbd3",
   "metadata": {},
   "outputs": [
    {
     "name": "stdout",
     "output_type": "stream",
     "text": [
      "Requirement already satisfied: keras in /Users/milindkumartandel/opt/anaconda3/lib/python3.9/site-packages (2.2.2)\n",
      "Requirement already satisfied: six>=1.9.0 in /Users/milindkumartandel/opt/anaconda3/lib/python3.9/site-packages (from keras) (1.16.0)\n",
      "Requirement already satisfied: h5py in /Users/milindkumartandel/opt/anaconda3/lib/python3.9/site-packages (from keras) (3.2.1)\n",
      "Requirement already satisfied: numpy>=1.9.1 in /Users/milindkumartandel/opt/anaconda3/lib/python3.9/site-packages (from keras) (1.22.4)\n",
      "Requirement already satisfied: scipy>=0.14 in /Users/milindkumartandel/opt/anaconda3/lib/python3.9/site-packages (from keras) (1.7.1)\n",
      "Requirement already satisfied: keras-preprocessing==1.0.2 in /Users/milindkumartandel/opt/anaconda3/lib/python3.9/site-packages (from keras) (1.0.2)\n",
      "Requirement already satisfied: keras-applications==1.0.4 in /Users/milindkumartandel/opt/anaconda3/lib/python3.9/site-packages (from keras) (1.0.4)\n",
      "Requirement already satisfied: pyyaml in /Users/milindkumartandel/opt/anaconda3/lib/python3.9/site-packages (from keras) (6.0)\n",
      "Requirement already satisfied: tensorflow in /Users/milindkumartandel/opt/anaconda3/lib/python3.9/site-packages (2.13.0)\n",
      "Requirement already satisfied: tensorflow-estimator<2.14,>=2.13.0 in /Users/milindkumartandel/opt/anaconda3/lib/python3.9/site-packages (from tensorflow) (2.13.0)\n",
      "Requirement already satisfied: packaging in /Users/milindkumartandel/opt/anaconda3/lib/python3.9/site-packages (from tensorflow) (21.0)\n",
      "Requirement already satisfied: typing-extensions<4.6.0,>=3.6.6 in /Users/milindkumartandel/opt/anaconda3/lib/python3.9/site-packages (from tensorflow) (3.10.0.2)\n",
      "Requirement already satisfied: termcolor>=1.1.0 in /Users/milindkumartandel/opt/anaconda3/lib/python3.9/site-packages (from tensorflow) (2.3.0)\n",
      "Requirement already satisfied: numpy<=1.24.3,>=1.22 in /Users/milindkumartandel/opt/anaconda3/lib/python3.9/site-packages (from tensorflow) (1.22.4)\n",
      "Requirement already satisfied: setuptools in /Users/milindkumartandel/opt/anaconda3/lib/python3.9/site-packages (from tensorflow) (58.0.4)\n",
      "Requirement already satisfied: opt-einsum>=2.3.2 in /Users/milindkumartandel/opt/anaconda3/lib/python3.9/site-packages (from tensorflow) (3.3.0)\n",
      "Requirement already satisfied: tensorflow-io-gcs-filesystem>=0.23.1 in /Users/milindkumartandel/opt/anaconda3/lib/python3.9/site-packages (from tensorflow) (0.33.0)\n",
      "Requirement already satisfied: astunparse>=1.6.0 in /Users/milindkumartandel/opt/anaconda3/lib/python3.9/site-packages (from tensorflow) (1.6.3)\n",
      "Requirement already satisfied: libclang>=13.0.0 in /Users/milindkumartandel/opt/anaconda3/lib/python3.9/site-packages (from tensorflow) (16.0.6)\n",
      "Requirement already satisfied: h5py>=2.9.0 in /Users/milindkumartandel/opt/anaconda3/lib/python3.9/site-packages (from tensorflow) (3.2.1)\n",
      "Collecting keras<2.14,>=2.13.1\n",
      "  Using cached keras-2.13.1-py3-none-any.whl (1.7 MB)\n",
      "Requirement already satisfied: absl-py>=1.0.0 in /Users/milindkumartandel/opt/anaconda3/lib/python3.9/site-packages (from tensorflow) (1.4.0)\n",
      "Requirement already satisfied: grpcio<2.0,>=1.24.3 in /Users/milindkumartandel/opt/anaconda3/lib/python3.9/site-packages (from tensorflow) (1.56.2)\n",
      "Requirement already satisfied: six>=1.12.0 in /Users/milindkumartandel/opt/anaconda3/lib/python3.9/site-packages (from tensorflow) (1.16.0)\n",
      "Requirement already satisfied: google-pasta>=0.1.1 in /Users/milindkumartandel/opt/anaconda3/lib/python3.9/site-packages (from tensorflow) (0.2.0)\n",
      "Requirement already satisfied: gast<=0.4.0,>=0.2.1 in /Users/milindkumartandel/opt/anaconda3/lib/python3.9/site-packages (from tensorflow) (0.4.0)\n",
      "Requirement already satisfied: tensorboard<2.14,>=2.13 in /Users/milindkumartandel/opt/anaconda3/lib/python3.9/site-packages (from tensorflow) (2.13.0)\n",
      "Requirement already satisfied: flatbuffers>=23.1.21 in /Users/milindkumartandel/opt/anaconda3/lib/python3.9/site-packages (from tensorflow) (23.5.26)\n",
      "Requirement already satisfied: wrapt>=1.11.0 in /Users/milindkumartandel/opt/anaconda3/lib/python3.9/site-packages (from tensorflow) (1.12.1)\n",
      "Requirement already satisfied: protobuf!=4.21.0,!=4.21.1,!=4.21.2,!=4.21.3,!=4.21.4,!=4.21.5,<5.0.0dev,>=3.20.3 in /Users/milindkumartandel/opt/anaconda3/lib/python3.9/site-packages (from tensorflow) (4.23.4)\n",
      "Requirement already satisfied: wheel<1.0,>=0.23.0 in /Users/milindkumartandel/opt/anaconda3/lib/python3.9/site-packages (from astunparse>=1.6.0->tensorflow) (0.37.0)\n",
      "Requirement already satisfied: requests<3,>=2.21.0 in /Users/milindkumartandel/opt/anaconda3/lib/python3.9/site-packages (from tensorboard<2.14,>=2.13->tensorflow) (2.27.1)\n",
      "Requirement already satisfied: werkzeug>=1.0.1 in /Users/milindkumartandel/opt/anaconda3/lib/python3.9/site-packages (from tensorboard<2.14,>=2.13->tensorflow) (2.0.2)\n",
      "Requirement already satisfied: markdown>=2.6.8 in /Users/milindkumartandel/opt/anaconda3/lib/python3.9/site-packages (from tensorboard<2.14,>=2.13->tensorflow) (3.4.4)\n",
      "Requirement already satisfied: google-auth<3,>=1.6.3 in /Users/milindkumartandel/opt/anaconda3/lib/python3.9/site-packages (from tensorboard<2.14,>=2.13->tensorflow) (2.22.0)\n",
      "Requirement already satisfied: google-auth-oauthlib<1.1,>=0.5 in /Users/milindkumartandel/opt/anaconda3/lib/python3.9/site-packages (from tensorboard<2.14,>=2.13->tensorflow) (1.0.0)\n",
      "Requirement already satisfied: tensorboard-data-server<0.8.0,>=0.7.0 in /Users/milindkumartandel/opt/anaconda3/lib/python3.9/site-packages (from tensorboard<2.14,>=2.13->tensorflow) (0.7.1)\n",
      "Requirement already satisfied: rsa<5,>=3.1.4 in /Users/milindkumartandel/opt/anaconda3/lib/python3.9/site-packages (from google-auth<3,>=1.6.3->tensorboard<2.14,>=2.13->tensorflow) (4.9)\n",
      "Requirement already satisfied: cachetools<6.0,>=2.0.0 in /Users/milindkumartandel/opt/anaconda3/lib/python3.9/site-packages (from google-auth<3,>=1.6.3->tensorboard<2.14,>=2.13->tensorflow) (5.3.1)\n",
      "Requirement already satisfied: urllib3<2.0 in /Users/milindkumartandel/opt/anaconda3/lib/python3.9/site-packages (from google-auth<3,>=1.6.3->tensorboard<2.14,>=2.13->tensorflow) (1.26.7)\n",
      "Requirement already satisfied: pyasn1-modules>=0.2.1 in /Users/milindkumartandel/opt/anaconda3/lib/python3.9/site-packages (from google-auth<3,>=1.6.3->tensorboard<2.14,>=2.13->tensorflow) (0.3.0)\n",
      "Requirement already satisfied: requests-oauthlib>=0.7.0 in /Users/milindkumartandel/opt/anaconda3/lib/python3.9/site-packages (from google-auth-oauthlib<1.1,>=0.5->tensorboard<2.14,>=2.13->tensorflow) (1.3.1)\n",
      "Requirement already satisfied: importlib-metadata>=4.4 in /Users/milindkumartandel/opt/anaconda3/lib/python3.9/site-packages (from markdown>=2.6.8->tensorboard<2.14,>=2.13->tensorflow) (4.8.1)\n",
      "Requirement already satisfied: zipp>=0.5 in /Users/milindkumartandel/opt/anaconda3/lib/python3.9/site-packages (from importlib-metadata>=4.4->markdown>=2.6.8->tensorboard<2.14,>=2.13->tensorflow) (3.6.0)\n",
      "Requirement already satisfied: pyasn1<0.6.0,>=0.4.6 in /Users/milindkumartandel/opt/anaconda3/lib/python3.9/site-packages (from pyasn1-modules>=0.2.1->google-auth<3,>=1.6.3->tensorboard<2.14,>=2.13->tensorflow) (0.5.0)\n",
      "Requirement already satisfied: idna<4,>=2.5 in /Users/milindkumartandel/opt/anaconda3/lib/python3.9/site-packages (from requests<3,>=2.21.0->tensorboard<2.14,>=2.13->tensorflow) (3.2)\n",
      "Requirement already satisfied: charset-normalizer~=2.0.0 in /Users/milindkumartandel/opt/anaconda3/lib/python3.9/site-packages (from requests<3,>=2.21.0->tensorboard<2.14,>=2.13->tensorflow) (2.0.4)\n",
      "Requirement already satisfied: certifi>=2017.4.17 in /Users/milindkumartandel/opt/anaconda3/lib/python3.9/site-packages (from requests<3,>=2.21.0->tensorboard<2.14,>=2.13->tensorflow) (2021.10.8)\n",
      "Requirement already satisfied: oauthlib>=3.0.0 in /Users/milindkumartandel/opt/anaconda3/lib/python3.9/site-packages (from requests-oauthlib>=0.7.0->google-auth-oauthlib<1.1,>=0.5->tensorboard<2.14,>=2.13->tensorflow) (3.2.0)\n",
      "Requirement already satisfied: pyparsing>=2.0.2 in /Users/milindkumartandel/opt/anaconda3/lib/python3.9/site-packages (from packaging->tensorflow) (3.0.4)\n",
      "Installing collected packages: keras\n",
      "  Attempting uninstall: keras\n",
      "    Found existing installation: Keras 2.2.2\n",
      "    Uninstalling Keras-2.2.2:\n",
      "      Successfully uninstalled Keras-2.2.2\n",
      "Successfully installed keras-2.13.1\n"
     ]
    }
   ],
   "source": [
    "## Lets install keras and tensorflow packages\n",
    "! pip install keras\n",
    "! pip install tensorflow"
   ]
  },
  {
   "cell_type": "code",
   "execution_count": 2,
   "id": "ec567da4",
   "metadata": {},
   "outputs": [
    {
     "name": "stderr",
     "output_type": "stream",
     "text": [
      "2023-08-09 22:42:23.431678: I tensorflow/core/platform/cpu_feature_guard.cc:182] This TensorFlow binary is optimized to use available CPU instructions in performance-critical operations.\n",
      "To enable the following instructions: AVX2 FMA, in other operations, rebuild TensorFlow with the appropriate compiler flags.\n"
     ]
    }
   ],
   "source": [
    "## Lets import all requiied libraries\n",
    "import numpy as np\n",
    "import pandas as pd\n",
    "from keras.datasets import mnist\n",
    "from tensorflow.keras.datasets import mnist\n",
    "from tensorflow.keras.utils import to_categorical\n",
    "from keras.models import Sequential\n",
    "from keras.layers import Dense, Dropout, Flatten\n",
    "from keras import utils as np_utils\n",
    "from keras import backend as K\n",
    "from sklearn.metrics import confusion_matrix, classification_report, ConfusionMatrixDisplay, accuracy_score, precision_score, recall_score, f1_score"
   ]
  },
  {
   "cell_type": "code",
   "execution_count": 3,
   "id": "5c0f1f05",
   "metadata": {},
   "outputs": [],
   "source": [
    "## Lets load MNIST data\n",
    "\n",
    "(data_train, target_train), (data_test, target_test) = mnist.load_data()"
   ]
  },
  {
   "cell_type": "code",
   "execution_count": 4,
   "id": "9f162869-27d0-491d-8fc5-9b08deaed441",
   "metadata": {},
   "outputs": [
    {
     "name": "stdout",
     "output_type": "stream",
     "text": [
      "The shape of training dataset is: (60000, 28, 28)\n",
      "The shape of testing dataset is: (10000, 28, 28)\n"
     ]
    }
   ],
   "source": [
    "## lets check the number of rows and columns of training and test datasets.\n",
    "\n",
    "print(\"The shape of training dataset is: {}\".format(data_train.shape))\n",
    "print(\"The shape of testing dataset is: {}\".format(data_test.shape))"
   ]
  },
  {
   "cell_type": "markdown",
   "id": "433bd46f",
   "metadata": {},
   "source": [
    "### 2. Display the first five images in the training data set (see section 8.1 in the Machine Learning with Python Cookbook). Compare these to the first five training labels."
   ]
  },
  {
   "cell_type": "code",
   "execution_count": 5,
   "id": "ac159f97",
   "metadata": {},
   "outputs": [
    {
     "data": {
      "image/png": "[encoded data removed]",
      "text/plain": [
       "<Figure size 432x288 with 5 Axes>"
      ]
     },
     "metadata": {
      "needs_background": "light"
     },
     "output_type": "display_data"
    }
   ],
   "source": [
    "## Lets display the first 5 images.\n",
    "\n",
    "## Importing require library.\n",
    "\n",
    "from matplotlib import pyplot\n",
    "\n",
    "for i in range(5):\n",
    "    ## Using subplot to display images.\n",
    "    pyplot.subplot(330 + 1 + i)\n",
    "    pyplot.imshow(data_train[i], cmap=pyplot.get_cmap('gray'))\n",
    "    \n",
    "## Display the images.\n",
    "\n",
    "pyplot.show()"
   ]
  },
  {
   "cell_type": "markdown",
   "id": "fc594409",
   "metadata": {},
   "source": [
    "### 3. Build and train a Keras CNN classifier on the MNIST training set."
   ]
  },
  {
   "cell_type": "code",
   "execution_count": 6,
   "id": "02d1c720",
   "metadata": {},
   "outputs": [],
   "source": [
    "## Lets set the color channel value\n",
    "\n",
    "K.set_image_data_format(\"channels_last\")"
   ]
  },
  {
   "cell_type": "code",
   "execution_count": 7,
   "id": "21301572",
   "metadata": {},
   "outputs": [],
   "source": [
    "## Lets set the seed\n",
    "\n",
    "np.random.seed(0)"
   ]
  },
  {
   "cell_type": "code",
   "execution_count": 8,
   "id": "ed0c1634",
   "metadata": {},
   "outputs": [],
   "source": [
    "## Lets set the image information\n",
    "\n",
    "channels = 1\n",
    "height = 28\n",
    "width = 28"
   ]
  },
  {
   "cell_type": "code",
   "execution_count": 9,
   "id": "e1aaeca0",
   "metadata": {},
   "outputs": [],
   "source": [
    "## Lets check the shape of the dataset now.\n",
    "\n",
    "data_train = data_train.reshape((data_train.shape[0], 28, 28, 1))\n",
    "data_test = data_test.reshape((data_test.shape[0], 28, 28, 1))"
   ]
  },
  {
   "cell_type": "code",
   "execution_count": 10,
   "id": "0dfe61b2",
   "metadata": {},
   "outputs": [],
   "source": [
    "## Lets set the pixel intensity to between 0 and 1\n",
    "\n",
    "features_train = data_train / 255\n",
    "features_test = data_test / 255"
   ]
  },
  {
   "cell_type": "code",
   "execution_count": 11,
   "id": "08814b88-9993-4049-afb5-2415bf4bea7b",
   "metadata": {},
   "outputs": [],
   "source": [
    "from tensorflow import keras"
   ]
  },
  {
   "cell_type": "code",
   "execution_count": 12,
   "id": "d9215339",
   "metadata": {},
   "outputs": [],
   "source": [
    "## Lets encode the target\n",
    "\n",
    "target_train = keras.utils.to_categorical(target_train)\n",
    "\n",
    "target_test = keras.utils.to_categorical(target_test)\n",
    "\n",
    "number_of_classes = target_test.shape[1]"
   ]
  },
  {
   "cell_type": "code",
   "execution_count": 13,
   "id": "2b5a1e0f",
   "metadata": {},
   "outputs": [],
   "source": [
    "## Lets begin the neural network\n",
    "\n",
    "network = Sequential()"
   ]
  },
  {
   "cell_type": "code",
   "execution_count": 14,
   "id": "1767c855-fd35-4636-a0a1-fd905c613047",
   "metadata": {},
   "outputs": [],
   "source": [
    "import numpy as np\n",
    "import matplotlib.pyplot as plt\n",
    "from keras.datasets import mnist\n",
    "from keras.models import Sequential\n",
    "from keras.layers import Dense, Dropout, Flatten, Conv2D, MaxPooling2D\n",
    "from keras.utils import to_categorical\n",
    "from keras import backend as K\n",
    "from sklearn.metrics import confusion_matrix\n",
    "import seaborn as sns"
   ]
  },
  {
   "cell_type": "code",
   "execution_count": 15,
   "id": "7d684833",
   "metadata": {
    "tags": []
   },
   "outputs": [],
   "source": [
    "## Add convolutional layer with 64 filters, a 5x5 window, and ReLU activation function\n",
    "\n",
    "network.add(Conv2D(filters=64,kernel_size=(5, 5), input_shape=(height, width, channels), activation='relu'))"
   ]
  },
  {
   "cell_type": "code",
   "execution_count": 16,
   "id": "f2d9c5a0",
   "metadata": {},
   "outputs": [],
   "source": [
    "## Add max pooling layer with a 2x2 window\n",
    "\n",
    "network.add(MaxPooling2D(pool_size=(2, 2)))"
   ]
  },
  {
   "cell_type": "code",
   "execution_count": 17,
   "id": "50da7570",
   "metadata": {},
   "outputs": [],
   "source": [
    "## Add dropout layer\n",
    "\n",
    "network.add(Dropout(0.5))"
   ]
  },
  {
   "cell_type": "code",
   "execution_count": 18,
   "id": "98083a35",
   "metadata": {},
   "outputs": [],
   "source": [
    "## Add layer to flatten input\n",
    "\n",
    "network.add(Flatten())"
   ]
  },
  {
   "cell_type": "code",
   "execution_count": 19,
   "id": "e62f5bdc",
   "metadata": {},
   "outputs": [],
   "source": [
    "## Add fully connected layer of 128 units with a ReLU activation function\n",
    "\n",
    "network.add(Dense(128, activation=\"relu\"))"
   ]
  },
  {
   "cell_type": "code",
   "execution_count": 20,
   "id": "5481ce2d",
   "metadata": {},
   "outputs": [],
   "source": [
    "## Add dropout layer\n",
    "\n",
    "network.add(Dropout(0.5))"
   ]
  },
  {
   "cell_type": "code",
   "execution_count": 21,
   "id": "55503146",
   "metadata": {},
   "outputs": [],
   "source": [
    "## Add fully connected layer with a softmax activation function\n",
    "\n",
    "network.add(Dense(number_of_classes, activation=\"softmax\"))"
   ]
  },
  {
   "cell_type": "code",
   "execution_count": 22,
   "id": "8cc6b94a",
   "metadata": {},
   "outputs": [],
   "source": [
    "## Compile neural network\n",
    "network.compile(loss=\"categorical_crossentropy\", # Cross-entropy\n",
    " optimizer=\"rmsprop\", # Root Mean Square Propagation\n",
    " metrics=[\"accuracy\"]) # Accuracy performance metric"
   ]
  },
  {
   "cell_type": "code",
   "execution_count": 23,
   "id": "4d10c7c7-4e35-4fc2-b3fb-dbf97fa145f7",
   "metadata": {},
   "outputs": [
    {
     "data": {
      "text/plain": [
       "<keras.src.callbacks.History at 0x7fb8a6fc9880>"
      ]
     },
     "execution_count": 23,
     "metadata": {},
     "output_type": "execute_result"
    }
   ],
   "source": [
    "## Train neural network\n",
    "network.fit(features_train, # Features\n",
    "            target_train, # Target\n",
    "            epochs=2, # Number of epochs\n",
    "            verbose=0, # Don't print description after each epoch\n",
    "            batch_size=1000, # Number of observations per batch\n",
    "            validation_data=(features_test, target_test)) # Data for evaluation\n"
   ]
  },
  {
   "cell_type": "code",
   "execution_count": 24,
   "id": "1fed95a6",
   "metadata": {},
   "outputs": [
    {
     "name": "stdout",
     "output_type": "stream",
     "text": [
      "Model: \"sequential\"\n",
      "_________________________________________________________________\n",
      " Layer (type)                Output Shape              Param #   \n",
      "=================================================================\n",
      " conv2d (Conv2D)             (None, 24, 24, 64)        1664      \n",
      "                                                                 \n",
      " max_pooling2d (MaxPooling2  (None, 12, 12, 64)        0         \n",
      " D)                                                              \n",
      "                                                                 \n",
      " dropout (Dropout)           (None, 12, 12, 64)        0         \n",
      "                                                                 \n",
      " flatten (Flatten)           (None, 9216)              0         \n",
      "                                                                 \n",
      " dense (Dense)               (None, 128)               1179776   \n",
      "                                                                 \n",
      " dropout_1 (Dropout)         (None, 128)               0         \n",
      "                                                                 \n",
      " dense_1 (Dense)             (None, 10)                1290      \n",
      "                                                                 \n",
      "=================================================================\n",
      "Total params: 1182730 (4.51 MB)\n",
      "Trainable params: 1182730 (4.51 MB)\n",
      "Non-trainable params: 0 (0.00 Byte)\n",
      "_________________________________________________________________\n"
     ]
    }
   ],
   "source": [
    "network.summary()"
   ]
  },
  {
   "cell_type": "code",
   "execution_count": 25,
   "id": "410d1c86",
   "metadata": {},
   "outputs": [
    {
     "name": "stdout",
     "output_type": "stream",
     "text": [
      "313/313 [==============================] - 1s 2ms/step\n"
     ]
    }
   ],
   "source": [
    "## Lets make predictions on test set\n",
    "\n",
    "pred = network.predict(data_test)"
   ]
  },
  {
   "cell_type": "code",
   "execution_count": 26,
   "id": "c8f9f4d9",
   "metadata": {},
   "outputs": [],
   "source": [
    "## Prepare values for confusion matrix\n",
    "\n",
    "y_preds = np.argmax(pred, axis=1)"
   ]
  },
  {
   "cell_type": "code",
   "execution_count": 27,
   "id": "48c5c5cd",
   "metadata": {},
   "outputs": [
    {
     "data": {
      "text/plain": [
       "array([[0., 0., 0., ..., 1., 0., 0.],\n",
       "       [0., 0., 1., ..., 0., 0., 0.],\n",
       "       [0., 1., 0., ..., 0., 0., 0.],\n",
       "       ...,\n",
       "       [0., 0., 0., ..., 0., 0., 0.],\n",
       "       [0., 0., 0., ..., 0., 0., 0.],\n",
       "       [0., 0., 0., ..., 0., 0., 0.]], dtype=float32)"
      ]
     },
     "execution_count": 27,
     "metadata": {},
     "output_type": "execute_result"
    }
   ],
   "source": [
    "## Lets check the shape of target_test\n",
    "\n",
    "target_test"
   ]
  },
  {
   "cell_type": "code",
   "execution_count": 28,
   "id": "17a1756c",
   "metadata": {},
   "outputs": [],
   "source": [
    "## Prepare values for confusion matrix\n",
    "\n",
    "y_true = np.argmax(target_test, axis=1)"
   ]
  },
  {
   "cell_type": "markdown",
   "id": "b08f8d9b",
   "metadata": {},
   "source": [
    "### 4. Report the test accuracy of your model."
   ]
  },
  {
   "cell_type": "code",
   "execution_count": 29,
   "id": "7f7bc349",
   "metadata": {},
   "outputs": [],
   "source": [
    "## Lets calculate the test accuracy.\n",
    "\n",
    "accuracy = accuracy_score(y_true, y_preds)\n",
    "precision = precision_score(y_true, y_preds, average='micro')\n",
    "recall = recall_score(y_true, y_preds, average='micro')\n",
    "f1 = f1_score(y_true, y_preds, average='micro')"
   ]
  },
  {
   "cell_type": "code",
   "execution_count": 30,
   "id": "47d3201f-e612-4fc2-a95c-a4403b5687f4",
   "metadata": {},
   "outputs": [
    {
     "name": "stdout",
     "output_type": "stream",
     "text": [
      "Accuracy of model is : 0.9699\n",
      "Precision is : 0.9699\n",
      "Recall of the model is : 0.9699\n",
      "F1 score of the model is : 0.9699\n"
     ]
    }
   ],
   "source": [
    "print(\"Accuracy of model is : {}\".format(accuracy))\n",
    "print(\"Precision is : {}\".format(precision))\n",
    "print(\"Recall of the model is : {}\".format(recall))\n",
    "print(\"F1 score of the model is : {}\".format(f1))"
   ]
  },
  {
   "cell_type": "code",
   "execution_count": 31,
   "id": "be7f6988",
   "metadata": {},
   "outputs": [
    {
     "name": "stdout",
     "output_type": "stream",
     "text": [
      "              precision    recall  f1-score   support\n",
      "\n",
      "           0       0.97      0.99      0.98       980\n",
      "           1       0.99      0.99      0.99      1135\n",
      "           2       0.97      0.96      0.96      1032\n",
      "           3       0.96      0.97      0.97      1010\n",
      "           4       0.97      0.98      0.97       982\n",
      "           5       0.99      0.97      0.98       892\n",
      "           6       0.97      0.98      0.98       958\n",
      "           7       0.97      0.96      0.96      1028\n",
      "           8       0.95      0.96      0.95       974\n",
      "           9       0.98      0.95      0.96      1009\n",
      "\n",
      "    accuracy                           0.97     10000\n",
      "   macro avg       0.97      0.97      0.97     10000\n",
      "weighted avg       0.97      0.97      0.97     10000\n",
      "\n"
     ]
    }
   ],
   "source": [
    "## Lets display the classification report.\n",
    "\n",
    "print(classification_report(y_true, y_preds))"
   ]
  },
  {
   "cell_type": "markdown",
   "id": "b0482ab7",
   "metadata": {},
   "source": [
    "### 5. Display a confusion matrix on the test set classifications."
   ]
  },
  {
   "cell_type": "code",
   "execution_count": 32,
   "id": "155b7019",
   "metadata": {},
   "outputs": [
    {
     "data": {
      "image/png": "[encoded data removed]",
      "text/plain": [
       "<Figure size 432x288 with 2 Axes>"
      ]
     },
     "metadata": {
      "needs_background": "light"
     },
     "output_type": "display_data"
    }
   ],
   "source": [
    "## Lets display the confusion matrix.\n",
    "\n",
    "conf_matrix = confusion_matrix(y_true, y_preds)\n",
    "cm = ConfusionMatrixDisplay(confusion_matrix=conf_matrix, display_labels=[0,1,2,3,4,5,6,7,8,9])\n",
    "cm.plot()\n",
    "pyplot.show()"
   ]
  },
  {
   "cell_type": "markdown",
   "id": "bb1cd31b",
   "metadata": {},
   "source": [
    "### 6. Summarize your results."
   ]
  },
  {
   "cell_type": "markdown",
   "id": "b017b9ca-1d34-4aaa-b7ec-b99fe4505de6",
   "metadata": {},
   "source": [
    "#### Build the convolutional network using the image data process. we use the MNIST training set and trained the keras CNN classifier. Once we completed the model and trained the model on the training set, we use the model to make prediction on test set. The accuracy of the model on the test set is 97%. We also visualize the confusion matrix and we learned that the model is correctly classified True positive class which means that the predicted values matches with the actual or true value. Hence the model performed well.\n"
   ]
  },
  {
   "cell_type": "code",
   "execution_count": null,
   "id": "88bea3a2-f7e4-4d1a-be59-e75b9293dd08",
   "metadata": {},
   "outputs": [],
   "source": []
  }
 ],
 "metadata": {
  "kernelspec": {
   "display_name": "Python 3 (ipykernel)",
   "language": "python",
   "name": "python3"
  },
  "language_info": {
   "codemirror_mode": {
    "name": "ipython",
    "version": 3
   },
   "file_extension": ".py",
   "mimetype": "text/x-python",
   "name": "python",
   "nbconvert_exporter": "python",
   "pygments_lexer": "ipython3",
   "version": "3.9.7"
  }
 },
 "nbformat": 4,
 "nbformat_minor": 5
}
