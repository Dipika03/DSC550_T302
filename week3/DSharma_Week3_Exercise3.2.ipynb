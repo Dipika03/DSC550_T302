{
 "cells": [
  {
   "cell_type": "markdown",
   "id": "b317b979-422b-448b-b722-a88cbd83198d",
   "metadata": {},
   "source": [
    "#### Name Dipika Sharma\n",
    "#### DSC 550 T302 Data Mining\n",
    "#### Week 3"
   ]
  },
  {
   "cell_type": "markdown",
   "id": "80a1f5c5-cfd5-4b8f-8b03-14b94275f87e",
   "metadata": {},
   "source": [
    "# Exercise 3.2"
   ]
  },
  {
   "cell_type": "code",
   "execution_count": 1,
   "id": "2181e726-42a6-4a96-a8e5-5b5484069fea",
   "metadata": {},
   "outputs": [],
   "source": [
    "## Importing the required libraries\n",
    "\n",
    "import pandas as pd\n",
    "import numpy as np"
   ]
  },
  {
   "cell_type": "markdown",
   "id": "6fafb0df-5537-4721-a539-6d3d9e6aea23",
   "metadata": {},
   "source": [
    "## Part 1: Using the TextBlob Sentiment Analyzer"
   ]
  },
  {
   "cell_type": "markdown",
   "id": "28454e66-e248-4462-9857-cfb2f3128fbf",
   "metadata": {},
   "source": [
    "### 1. Import the movie review data as a data frame and ensure that the data is loaded properly."
   ]
  },
  {
   "cell_type": "code",
   "execution_count": 2,
   "id": "5b2b0c52-e4e2-40cf-a0a5-75ea4d0d7eef",
   "metadata": {},
   "outputs": [],
   "source": [
    "## Lets import movie review data as a dataframe.\n",
    "\n",
    "Movie_Review_df = pd.read_csv('labeledTrainData.tsv',sep = '\\t')\n"
   ]
  },
  {
   "cell_type": "code",
   "execution_count": 3,
   "id": "d99b2d78-f9fc-48f1-8a79-ef263ecda78d",
   "metadata": {},
   "outputs": [
    {
     "data": {
      "text/html": [
       "<div>\n",
       "<style scoped>\n",
       "    .dataframe tbody tr th:only-of-type {\n",
       "        vertical-align: middle;\n",
       "    }\n",
       "\n",
       "    .dataframe tbody tr th {\n",
       "        vertical-align: top;\n",
       "    }\n",
       "\n",
       "    .dataframe thead th {\n",
       "        text-align: right;\n",
       "    }\n",
       "</style>\n",
       "<table border=\"1\" class=\"dataframe\">\n",
       "  <thead>\n",
       "    <tr style=\"text-align: right;\">\n",
       "      <th></th>\n",
       "      <th>id</th>\n",
       "      <th>sentiment</th>\n",
       "      <th>review</th>\n",
       "    </tr>\n",
       "  </thead>\n",
       "  <tbody>\n",
       "    <tr>\n",
       "      <th>0</th>\n",
       "      <td>5814_8</td>\n",
       "      <td>1</td>\n",
       "      <td>With all this stuff going down at the moment w...</td>\n",
       "    </tr>\n",
       "    <tr>\n",
       "      <th>1</th>\n",
       "      <td>2381_9</td>\n",
       "      <td>1</td>\n",
       "      <td>\\The Classic War of the Worlds\\\" by Timothy Hi...</td>\n",
       "    </tr>\n",
       "    <tr>\n",
       "      <th>2</th>\n",
       "      <td>7759_3</td>\n",
       "      <td>0</td>\n",
       "      <td>The film starts with a manager (Nicholas Bell)...</td>\n",
       "    </tr>\n",
       "    <tr>\n",
       "      <th>3</th>\n",
       "      <td>3630_4</td>\n",
       "      <td>0</td>\n",
       "      <td>It must be assumed that those who praised this...</td>\n",
       "    </tr>\n",
       "    <tr>\n",
       "      <th>4</th>\n",
       "      <td>9495_8</td>\n",
       "      <td>1</td>\n",
       "      <td>Superbly trashy and wondrously unpretentious 8...</td>\n",
       "    </tr>\n",
       "  </tbody>\n",
       "</table>\n",
       "</div>"
      ],
      "text/plain": [
       "       id  sentiment                                             review\n",
       "0  5814_8          1  With all this stuff going down at the moment w...\n",
       "1  2381_9          1  \\The Classic War of the Worlds\\\" by Timothy Hi...\n",
       "2  7759_3          0  The film starts with a manager (Nicholas Bell)...\n",
       "3  3630_4          0  It must be assumed that those who praised this...\n",
       "4  9495_8          1  Superbly trashy and wondrously unpretentious 8..."
      ]
     },
     "execution_count": 3,
     "metadata": {},
     "output_type": "execute_result"
    }
   ],
   "source": [
    "## Lets check how the top 5 rows looks in dataset.\n",
    "\n",
    "Movie_Review_df.head(5)"
   ]
  },
  {
   "cell_type": "markdown",
   "id": "26e4bbf0-8785-45df-9c44-a01af4c3dcaa",
   "metadata": {},
   "source": [
    "### 2. How many of each positive and negative reviews are there?"
   ]
  },
  {
   "cell_type": "code",
   "execution_count": 4,
   "id": "c385f44f-5e72-4a1d-bb89-682effaa0261",
   "metadata": {},
   "outputs": [
    {
     "data": {
      "text/html": [
       "<div>\n",
       "<style scoped>\n",
       "    .dataframe tbody tr th:only-of-type {\n",
       "        vertical-align: middle;\n",
       "    }\n",
       "\n",
       "    .dataframe tbody tr th {\n",
       "        vertical-align: top;\n",
       "    }\n",
       "\n",
       "    .dataframe thead th {\n",
       "        text-align: right;\n",
       "    }\n",
       "</style>\n",
       "<table border=\"1\" class=\"dataframe\">\n",
       "  <thead>\n",
       "    <tr style=\"text-align: right;\">\n",
       "      <th></th>\n",
       "      <th>id</th>\n",
       "      <th>review</th>\n",
       "    </tr>\n",
       "    <tr>\n",
       "      <th>sentiment</th>\n",
       "      <th></th>\n",
       "      <th></th>\n",
       "    </tr>\n",
       "  </thead>\n",
       "  <tbody>\n",
       "    <tr>\n",
       "      <th>0</th>\n",
       "      <td>12500</td>\n",
       "      <td>12500</td>\n",
       "    </tr>\n",
       "    <tr>\n",
       "      <th>1</th>\n",
       "      <td>12500</td>\n",
       "      <td>12500</td>\n",
       "    </tr>\n",
       "  </tbody>\n",
       "</table>\n",
       "</div>"
      ],
      "text/plain": [
       "              id  review\n",
       "sentiment               \n",
       "0          12500   12500\n",
       "1          12500   12500"
      ]
     },
     "execution_count": 4,
     "metadata": {},
     "output_type": "execute_result"
    }
   ],
   "source": [
    "## Looking at the Kaggle website under data section we know \"Sentiment of the review; 1 for positive reviews and 0 for negative reviews\"\n",
    "## Using grouby function on sentiment column to get the total number of positive and negative reviews\n",
    "\n",
    "Movie_Review_pos_neg_df = Movie_Review_df.groupby('sentiment').count() \n",
    "Movie_Review_pos_neg_df"
   ]
  },
  {
   "cell_type": "markdown",
   "id": "fdeddda9-ed10-4af5-8414-811ff1a9a5c2",
   "metadata": {},
   "source": [
    "### From above numbers we can see that dataset have same numbers of positive and negative reviews for movies."
   ]
  },
  {
   "cell_type": "markdown",
   "id": "6d733e97-07d2-4671-b372-5c9eb2c8d336",
   "metadata": {},
   "source": [
    "### 3. Use TextBlob to classify each movie review as positive or negative. Assume that a polarity score greater than or equal to zero is a positive sentiment and less than 0 is a negative sentiment."
   ]
  },
  {
   "cell_type": "code",
   "execution_count": 5,
   "id": "f774c93e-684c-415d-a2e8-9775c3899b28",
   "metadata": {},
   "outputs": [
    {
     "name": "stdout",
     "output_type": "stream",
     "text": [
      "Requirement already satisfied: textblob in /Users/milindkumartandel/opt/anaconda3/lib/python3.9/site-packages (0.17.1)\n",
      "Requirement already satisfied: nltk>=3.1 in /Users/milindkumartandel/opt/anaconda3/lib/python3.9/site-packages (from textblob) (3.6.5)\n",
      "Requirement already satisfied: click in /Users/milindkumartandel/opt/anaconda3/lib/python3.9/site-packages (from nltk>=3.1->textblob) (8.0.3)\n",
      "Requirement already satisfied: joblib in /Users/milindkumartandel/opt/anaconda3/lib/python3.9/site-packages (from nltk>=3.1->textblob) (1.1.0)\n",
      "Requirement already satisfied: regex>=2021.8.3 in /Users/milindkumartandel/opt/anaconda3/lib/python3.9/site-packages (from nltk>=3.1->textblob) (2021.8.3)\n",
      "Requirement already satisfied: tqdm in /Users/milindkumartandel/opt/anaconda3/lib/python3.9/site-packages (from nltk>=3.1->textblob) (4.62.3)\n"
     ]
    }
   ],
   "source": [
    "## Installing the TextBlob library\n",
    "\n",
    "! pip install -U textblob"
   ]
  },
  {
   "cell_type": "code",
   "execution_count": 6,
   "id": "cea3107f-75c4-41c0-9e01-a6f0f59978c7",
   "metadata": {},
   "outputs": [],
   "source": [
    "from textblob import TextBlob"
   ]
  },
  {
   "cell_type": "code",
   "execution_count": 7,
   "id": "fe555fa5-3f53-43f5-a0e3-27d9bbf572ea",
   "metadata": {},
   "outputs": [],
   "source": [
    "## Assuming polarity score greather than or equal to zero is positive sentiment and less then 0 is negative sentiment.\n",
    "## Adding polarity and subjectivity column in data frame\n",
    "\n",
    "Movie_Review_df[['polarity', 'subjectivity']] = Movie_Review_df['review'].apply(lambda Text: pd.Series(TextBlob(Text).sentiment))"
   ]
  },
  {
   "cell_type": "code",
   "execution_count": 8,
   "id": "f8d6a337-ea7e-4e2b-8cd4-fae2e76d006d",
   "metadata": {},
   "outputs": [
    {
     "data": {
      "text/html": [
       "<div>\n",
       "<style scoped>\n",
       "    .dataframe tbody tr th:only-of-type {\n",
       "        vertical-align: middle;\n",
       "    }\n",
       "\n",
       "    .dataframe tbody tr th {\n",
       "        vertical-align: top;\n",
       "    }\n",
       "\n",
       "    .dataframe thead th {\n",
       "        text-align: right;\n",
       "    }\n",
       "</style>\n",
       "<table border=\"1\" class=\"dataframe\">\n",
       "  <thead>\n",
       "    <tr style=\"text-align: right;\">\n",
       "      <th></th>\n",
       "      <th>id</th>\n",
       "      <th>sentiment</th>\n",
       "      <th>review</th>\n",
       "      <th>polarity</th>\n",
       "      <th>subjectivity</th>\n",
       "    </tr>\n",
       "  </thead>\n",
       "  <tbody>\n",
       "    <tr>\n",
       "      <th>0</th>\n",
       "      <td>5814_8</td>\n",
       "      <td>1</td>\n",
       "      <td>With all this stuff going down at the moment w...</td>\n",
       "      <td>0.001277</td>\n",
       "      <td>0.606746</td>\n",
       "    </tr>\n",
       "    <tr>\n",
       "      <th>1</th>\n",
       "      <td>2381_9</td>\n",
       "      <td>1</td>\n",
       "      <td>\\The Classic War of the Worlds\\\" by Timothy Hi...</td>\n",
       "      <td>0.256349</td>\n",
       "      <td>0.531111</td>\n",
       "    </tr>\n",
       "    <tr>\n",
       "      <th>2</th>\n",
       "      <td>7759_3</td>\n",
       "      <td>0</td>\n",
       "      <td>The film starts with a manager (Nicholas Bell)...</td>\n",
       "      <td>-0.053941</td>\n",
       "      <td>0.562933</td>\n",
       "    </tr>\n",
       "    <tr>\n",
       "      <th>3</th>\n",
       "      <td>3630_4</td>\n",
       "      <td>0</td>\n",
       "      <td>It must be assumed that those who praised this...</td>\n",
       "      <td>0.134753</td>\n",
       "      <td>0.492901</td>\n",
       "    </tr>\n",
       "    <tr>\n",
       "      <th>4</th>\n",
       "      <td>9495_8</td>\n",
       "      <td>1</td>\n",
       "      <td>Superbly trashy and wondrously unpretentious 8...</td>\n",
       "      <td>-0.024842</td>\n",
       "      <td>0.459818</td>\n",
       "    </tr>\n",
       "  </tbody>\n",
       "</table>\n",
       "</div>"
      ],
      "text/plain": [
       "       id  sentiment                                             review  \\\n",
       "0  5814_8          1  With all this stuff going down at the moment w...   \n",
       "1  2381_9          1  \\The Classic War of the Worlds\\\" by Timothy Hi...   \n",
       "2  7759_3          0  The film starts with a manager (Nicholas Bell)...   \n",
       "3  3630_4          0  It must be assumed that those who praised this...   \n",
       "4  9495_8          1  Superbly trashy and wondrously unpretentious 8...   \n",
       "\n",
       "   polarity  subjectivity  \n",
       "0  0.001277      0.606746  \n",
       "1  0.256349      0.531111  \n",
       "2 -0.053941      0.562933  \n",
       "3  0.134753      0.492901  \n",
       "4 -0.024842      0.459818  "
      ]
     },
     "execution_count": 8,
     "metadata": {},
     "output_type": "execute_result"
    }
   ],
   "source": [
    "## Lets check the top 5 rows of the data frame\n",
    "\n",
    "Movie_Review_df.head(5)"
   ]
  },
  {
   "cell_type": "code",
   "execution_count": 9,
   "id": "e0d68020-2973-45a5-bcbb-ce10a805988a",
   "metadata": {},
   "outputs": [],
   "source": [
    "## Lets calculate the textblobe score using the polarity column\n",
    "\n",
    "Movie_Review_df['score'] = np.where(Movie_Review_df['polarity'] >= 0, 1, 0)"
   ]
  },
  {
   "cell_type": "code",
   "execution_count": 10,
   "id": "3c6ade0e-20e0-412b-904a-09513af180a3",
   "metadata": {},
   "outputs": [
    {
     "data": {
      "text/html": [
       "<div>\n",
       "<style scoped>\n",
       "    .dataframe tbody tr th:only-of-type {\n",
       "        vertical-align: middle;\n",
       "    }\n",
       "\n",
       "    .dataframe tbody tr th {\n",
       "        vertical-align: top;\n",
       "    }\n",
       "\n",
       "    .dataframe thead th {\n",
       "        text-align: right;\n",
       "    }\n",
       "</style>\n",
       "<table border=\"1\" class=\"dataframe\">\n",
       "  <thead>\n",
       "    <tr style=\"text-align: right;\">\n",
       "      <th></th>\n",
       "      <th>id</th>\n",
       "      <th>sentiment</th>\n",
       "      <th>review</th>\n",
       "      <th>polarity</th>\n",
       "      <th>subjectivity</th>\n",
       "      <th>score</th>\n",
       "    </tr>\n",
       "  </thead>\n",
       "  <tbody>\n",
       "    <tr>\n",
       "      <th>0</th>\n",
       "      <td>5814_8</td>\n",
       "      <td>1</td>\n",
       "      <td>With all this stuff going down at the moment w...</td>\n",
       "      <td>0.001277</td>\n",
       "      <td>0.606746</td>\n",
       "      <td>1</td>\n",
       "    </tr>\n",
       "    <tr>\n",
       "      <th>1</th>\n",
       "      <td>2381_9</td>\n",
       "      <td>1</td>\n",
       "      <td>\\The Classic War of the Worlds\\\" by Timothy Hi...</td>\n",
       "      <td>0.256349</td>\n",
       "      <td>0.531111</td>\n",
       "      <td>1</td>\n",
       "    </tr>\n",
       "    <tr>\n",
       "      <th>2</th>\n",
       "      <td>7759_3</td>\n",
       "      <td>0</td>\n",
       "      <td>The film starts with a manager (Nicholas Bell)...</td>\n",
       "      <td>-0.053941</td>\n",
       "      <td>0.562933</td>\n",
       "      <td>0</td>\n",
       "    </tr>\n",
       "    <tr>\n",
       "      <th>3</th>\n",
       "      <td>3630_4</td>\n",
       "      <td>0</td>\n",
       "      <td>It must be assumed that those who praised this...</td>\n",
       "      <td>0.134753</td>\n",
       "      <td>0.492901</td>\n",
       "      <td>1</td>\n",
       "    </tr>\n",
       "    <tr>\n",
       "      <th>4</th>\n",
       "      <td>9495_8</td>\n",
       "      <td>1</td>\n",
       "      <td>Superbly trashy and wondrously unpretentious 8...</td>\n",
       "      <td>-0.024842</td>\n",
       "      <td>0.459818</td>\n",
       "      <td>0</td>\n",
       "    </tr>\n",
       "  </tbody>\n",
       "</table>\n",
       "</div>"
      ],
      "text/plain": [
       "       id  sentiment                                             review  \\\n",
       "0  5814_8          1  With all this stuff going down at the moment w...   \n",
       "1  2381_9          1  \\The Classic War of the Worlds\\\" by Timothy Hi...   \n",
       "2  7759_3          0  The film starts with a manager (Nicholas Bell)...   \n",
       "3  3630_4          0  It must be assumed that those who praised this...   \n",
       "4  9495_8          1  Superbly trashy and wondrously unpretentious 8...   \n",
       "\n",
       "   polarity  subjectivity  score  \n",
       "0  0.001277      0.606746      1  \n",
       "1  0.256349      0.531111      1  \n",
       "2 -0.053941      0.562933      0  \n",
       "3  0.134753      0.492901      1  \n",
       "4 -0.024842      0.459818      0  "
      ]
     },
     "execution_count": 10,
     "metadata": {},
     "output_type": "execute_result"
    }
   ],
   "source": [
    "## Lets check the top 5 rows of the dataframe to check if it is calculating the score correctly.\n",
    "\n",
    "Movie_Review_df.head(5)"
   ]
  },
  {
   "cell_type": "markdown",
   "id": "f3cb492e-d43c-4229-baa8-421a69d1266f",
   "metadata": {},
   "source": [
    "### 4. Check the accuracy of this model. Is this model better than random guessing?"
   ]
  },
  {
   "cell_type": "code",
   "execution_count": 11,
   "id": "a52e2b91-0f07-4d14-8051-36d82eb66228",
   "metadata": {},
   "outputs": [],
   "source": [
    "## Lets create column accuracy. Using score and sentiment to calculate the accuracy column.\n",
    "\n",
    "Movie_Review_df['accuracy'] = np.where(Movie_Review_df['score'] == Movie_Review_df['sentiment'], 1, 0)"
   ]
  },
  {
   "cell_type": "code",
   "execution_count": 12,
   "id": "f7956923-4c0a-4b6f-ae40-abff6b6adab2",
   "metadata": {},
   "outputs": [
    {
     "data": {
      "text/html": [
       "<div>\n",
       "<style scoped>\n",
       "    .dataframe tbody tr th:only-of-type {\n",
       "        vertical-align: middle;\n",
       "    }\n",
       "\n",
       "    .dataframe tbody tr th {\n",
       "        vertical-align: top;\n",
       "    }\n",
       "\n",
       "    .dataframe thead th {\n",
       "        text-align: right;\n",
       "    }\n",
       "</style>\n",
       "<table border=\"1\" class=\"dataframe\">\n",
       "  <thead>\n",
       "    <tr style=\"text-align: right;\">\n",
       "      <th></th>\n",
       "      <th>id</th>\n",
       "      <th>sentiment</th>\n",
       "      <th>review</th>\n",
       "      <th>polarity</th>\n",
       "      <th>subjectivity</th>\n",
       "      <th>score</th>\n",
       "      <th>accuracy</th>\n",
       "    </tr>\n",
       "  </thead>\n",
       "  <tbody>\n",
       "    <tr>\n",
       "      <th>0</th>\n",
       "      <td>5814_8</td>\n",
       "      <td>1</td>\n",
       "      <td>With all this stuff going down at the moment w...</td>\n",
       "      <td>0.001277</td>\n",
       "      <td>0.606746</td>\n",
       "      <td>1</td>\n",
       "      <td>1</td>\n",
       "    </tr>\n",
       "    <tr>\n",
       "      <th>1</th>\n",
       "      <td>2381_9</td>\n",
       "      <td>1</td>\n",
       "      <td>\\The Classic War of the Worlds\\\" by Timothy Hi...</td>\n",
       "      <td>0.256349</td>\n",
       "      <td>0.531111</td>\n",
       "      <td>1</td>\n",
       "      <td>1</td>\n",
       "    </tr>\n",
       "    <tr>\n",
       "      <th>2</th>\n",
       "      <td>7759_3</td>\n",
       "      <td>0</td>\n",
       "      <td>The film starts with a manager (Nicholas Bell)...</td>\n",
       "      <td>-0.053941</td>\n",
       "      <td>0.562933</td>\n",
       "      <td>0</td>\n",
       "      <td>1</td>\n",
       "    </tr>\n",
       "    <tr>\n",
       "      <th>3</th>\n",
       "      <td>3630_4</td>\n",
       "      <td>0</td>\n",
       "      <td>It must be assumed that those who praised this...</td>\n",
       "      <td>0.134753</td>\n",
       "      <td>0.492901</td>\n",
       "      <td>1</td>\n",
       "      <td>0</td>\n",
       "    </tr>\n",
       "    <tr>\n",
       "      <th>4</th>\n",
       "      <td>9495_8</td>\n",
       "      <td>1</td>\n",
       "      <td>Superbly trashy and wondrously unpretentious 8...</td>\n",
       "      <td>-0.024842</td>\n",
       "      <td>0.459818</td>\n",
       "      <td>0</td>\n",
       "      <td>0</td>\n",
       "    </tr>\n",
       "  </tbody>\n",
       "</table>\n",
       "</div>"
      ],
      "text/plain": [
       "       id  sentiment                                             review  \\\n",
       "0  5814_8          1  With all this stuff going down at the moment w...   \n",
       "1  2381_9          1  \\The Classic War of the Worlds\\\" by Timothy Hi...   \n",
       "2  7759_3          0  The film starts with a manager (Nicholas Bell)...   \n",
       "3  3630_4          0  It must be assumed that those who praised this...   \n",
       "4  9495_8          1  Superbly trashy and wondrously unpretentious 8...   \n",
       "\n",
       "   polarity  subjectivity  score  accuracy  \n",
       "0  0.001277      0.606746      1         1  \n",
       "1  0.256349      0.531111      1         1  \n",
       "2 -0.053941      0.562933      0         1  \n",
       "3  0.134753      0.492901      1         0  \n",
       "4 -0.024842      0.459818      0         0  "
      ]
     },
     "execution_count": 12,
     "metadata": {},
     "output_type": "execute_result"
    }
   ],
   "source": [
    "## Lets check the top 5 rows of the dataframe to check if it is calculating the accuracy correctly.\n",
    "\n",
    "Movie_Review_df.head(5)"
   ]
  },
  {
   "cell_type": "code",
   "execution_count": 13,
   "id": "1df43108-2653-49a8-9e8e-dd145f923b9a",
   "metadata": {
    "tags": []
   },
   "outputs": [
    {
     "data": {
      "text/plain": [
       "0.68524"
      ]
     },
     "execution_count": 13,
     "metadata": {},
     "output_type": "execute_result"
    }
   ],
   "source": [
    "## Lets calculate the mean of the newly created accuracy column to see if it is better than random guessing.\n",
    "## using mean function for the same.\n",
    "\n",
    "Movie_Review_df[\"accuracy\"].mean() "
   ]
  },
  {
   "cell_type": "markdown",
   "id": "e79b8bf3-9d22-4a3d-a134-b2a6054039ab",
   "metadata": {},
   "source": [
    "### Looking at the above result we can clearly say model is better than random guessing as the result is 68% more than to 50%."
   ]
  },
  {
   "cell_type": "markdown",
   "id": "1b8e4264-8505-4796-ba25-a776093dc00a",
   "metadata": {},
   "source": [
    "### 5. For up to five points extra credit, use another prebuilt text sentiment analyzer, e.g., VADER, and repeat steps (3) and (4)."
   ]
  },
  {
   "cell_type": "code",
   "execution_count": 14,
   "id": "46d327de-3d0d-428e-80a6-34700ecd0939",
   "metadata": {},
   "outputs": [
    {
     "name": "stdout",
     "output_type": "stream",
     "text": [
      "Requirement already satisfied: vaderSentiment in /Users/milindkumartandel/opt/anaconda3/lib/python3.9/site-packages (3.3.2)\n",
      "Requirement already satisfied: requests in /Users/milindkumartandel/opt/anaconda3/lib/python3.9/site-packages (from vaderSentiment) (2.27.1)\n",
      "Requirement already satisfied: urllib3<1.27,>=1.21.1 in /Users/milindkumartandel/opt/anaconda3/lib/python3.9/site-packages (from requests->vaderSentiment) (1.26.7)\n",
      "Requirement already satisfied: certifi>=2017.4.17 in /Users/milindkumartandel/opt/anaconda3/lib/python3.9/site-packages (from requests->vaderSentiment) (2021.10.8)\n",
      "Requirement already satisfied: charset-normalizer~=2.0.0 in /Users/milindkumartandel/opt/anaconda3/lib/python3.9/site-packages (from requests->vaderSentiment) (2.0.4)\n",
      "Requirement already satisfied: idna<4,>=2.5 in /Users/milindkumartandel/opt/anaconda3/lib/python3.9/site-packages (from requests->vaderSentiment) (3.2)\n"
     ]
    }
   ],
   "source": [
    "## Installing VADER library\n",
    "\n",
    "!pip install vaderSentiment"
   ]
  },
  {
   "cell_type": "code",
   "execution_count": 15,
   "id": "30b28f47-75c7-4821-9d41-7c2c9e07595d",
   "metadata": {},
   "outputs": [],
   "source": [
    "## Lets import VADER sentiment library\n",
    "\n",
    "from vaderSentiment.vaderSentiment import SentimentIntensityAnalyzer\n"
   ]
  },
  {
   "cell_type": "code",
   "execution_count": 16,
   "id": "924300d8-9b7e-41ff-aedc-55d14842b33f",
   "metadata": {},
   "outputs": [
    {
     "name": "stderr",
     "output_type": "stream",
     "text": [
      "[nltk_data] Downloading package vader_lexicon to\n",
      "[nltk_data]     /Users/milindkumartandel/nltk_data...\n",
      "[nltk_data]   Package vader_lexicon is already up-to-date!\n"
     ]
    },
    {
     "data": {
      "text/plain": [
       "True"
      ]
     },
     "execution_count": 16,
     "metadata": {},
     "output_type": "execute_result"
    }
   ],
   "source": [
    "## Importing libraries\n",
    "\n",
    "import nltk\n",
    "\n",
    "nltk.download('vader_lexicon')"
   ]
  },
  {
   "cell_type": "code",
   "execution_count": 17,
   "id": "ebe68144-86d0-4057-8335-257130bf0507",
   "metadata": {},
   "outputs": [],
   "source": [
    "## SentimentIntensityAnalyzer()takes in a string and returns a dictionary of scores in 4 categories: negative, neutral, positive and compound.\n",
    "\n",
    "from nltk.sentiment.vader import SentimentIntensityAnalyzer\n",
    "\n",
    "sir = SentimentIntensityAnalyzer()"
   ]
  },
  {
   "cell_type": "code",
   "execution_count": 18,
   "id": "ad461a15-a463-4c7a-84f3-585f4c9bece0",
   "metadata": {},
   "outputs": [],
   "source": [
    "## Creating new column to calculate the compound using the review column\n",
    "\n",
    "Movie_Review_df['vcompound'] = Movie_Review_df['review'].apply(lambda review: sir.polarity_scores(review)['compound'])"
   ]
  },
  {
   "cell_type": "code",
   "execution_count": 19,
   "id": "e03cc311-4415-4d6e-aedf-3e2a8d22608f",
   "metadata": {},
   "outputs": [],
   "source": [
    "## Let create the column to calculate vader sentiment column using the vader compound.\n",
    "\n",
    "Movie_Review_df['vsentiment'] = np.where(Movie_Review_df['vcompound'] >= 0.05, 1,\n",
    "                                np.where(Movie_Review_df['vcompound'] <= -0.05, 0, 1))\n"
   ]
  },
  {
   "cell_type": "code",
   "execution_count": 20,
   "id": "297cb627-b0c2-4c57-b470-30cb1cf11b90",
   "metadata": {},
   "outputs": [
    {
     "data": {
      "text/html": [
       "<div>\n",
       "<style scoped>\n",
       "    .dataframe tbody tr th:only-of-type {\n",
       "        vertical-align: middle;\n",
       "    }\n",
       "\n",
       "    .dataframe tbody tr th {\n",
       "        vertical-align: top;\n",
       "    }\n",
       "\n",
       "    .dataframe thead th {\n",
       "        text-align: right;\n",
       "    }\n",
       "</style>\n",
       "<table border=\"1\" class=\"dataframe\">\n",
       "  <thead>\n",
       "    <tr style=\"text-align: right;\">\n",
       "      <th></th>\n",
       "      <th>id</th>\n",
       "      <th>sentiment</th>\n",
       "      <th>review</th>\n",
       "      <th>polarity</th>\n",
       "      <th>subjectivity</th>\n",
       "      <th>score</th>\n",
       "      <th>accuracy</th>\n",
       "      <th>vcompound</th>\n",
       "      <th>vsentiment</th>\n",
       "    </tr>\n",
       "  </thead>\n",
       "  <tbody>\n",
       "    <tr>\n",
       "      <th>0</th>\n",
       "      <td>5814_8</td>\n",
       "      <td>1</td>\n",
       "      <td>With all this stuff going down at the moment w...</td>\n",
       "      <td>0.001277</td>\n",
       "      <td>0.606746</td>\n",
       "      <td>1</td>\n",
       "      <td>1</td>\n",
       "      <td>-0.8278</td>\n",
       "      <td>0</td>\n",
       "    </tr>\n",
       "    <tr>\n",
       "      <th>1</th>\n",
       "      <td>2381_9</td>\n",
       "      <td>1</td>\n",
       "      <td>\\The Classic War of the Worlds\\\" by Timothy Hi...</td>\n",
       "      <td>0.256349</td>\n",
       "      <td>0.531111</td>\n",
       "      <td>1</td>\n",
       "      <td>1</td>\n",
       "      <td>0.9819</td>\n",
       "      <td>1</td>\n",
       "    </tr>\n",
       "    <tr>\n",
       "      <th>2</th>\n",
       "      <td>7759_3</td>\n",
       "      <td>0</td>\n",
       "      <td>The film starts with a manager (Nicholas Bell)...</td>\n",
       "      <td>-0.053941</td>\n",
       "      <td>0.562933</td>\n",
       "      <td>0</td>\n",
       "      <td>1</td>\n",
       "      <td>-0.9883</td>\n",
       "      <td>0</td>\n",
       "    </tr>\n",
       "    <tr>\n",
       "      <th>3</th>\n",
       "      <td>3630_4</td>\n",
       "      <td>0</td>\n",
       "      <td>It must be assumed that those who praised this...</td>\n",
       "      <td>0.134753</td>\n",
       "      <td>0.492901</td>\n",
       "      <td>1</td>\n",
       "      <td>0</td>\n",
       "      <td>-0.2189</td>\n",
       "      <td>0</td>\n",
       "    </tr>\n",
       "    <tr>\n",
       "      <th>4</th>\n",
       "      <td>9495_8</td>\n",
       "      <td>1</td>\n",
       "      <td>Superbly trashy and wondrously unpretentious 8...</td>\n",
       "      <td>-0.024842</td>\n",
       "      <td>0.459818</td>\n",
       "      <td>0</td>\n",
       "      <td>0</td>\n",
       "      <td>0.7960</td>\n",
       "      <td>1</td>\n",
       "    </tr>\n",
       "  </tbody>\n",
       "</table>\n",
       "</div>"
      ],
      "text/plain": [
       "       id  sentiment                                             review  \\\n",
       "0  5814_8          1  With all this stuff going down at the moment w...   \n",
       "1  2381_9          1  \\The Classic War of the Worlds\\\" by Timothy Hi...   \n",
       "2  7759_3          0  The film starts with a manager (Nicholas Bell)...   \n",
       "3  3630_4          0  It must be assumed that those who praised this...   \n",
       "4  9495_8          1  Superbly trashy and wondrously unpretentious 8...   \n",
       "\n",
       "   polarity  subjectivity  score  accuracy  vcompound  vsentiment  \n",
       "0  0.001277      0.606746      1         1    -0.8278           0  \n",
       "1  0.256349      0.531111      1         1     0.9819           1  \n",
       "2 -0.053941      0.562933      0         1    -0.9883           0  \n",
       "3  0.134753      0.492901      1         0    -0.2189           0  \n",
       "4 -0.024842      0.459818      0         0     0.7960           1  "
      ]
     },
     "execution_count": 20,
     "metadata": {},
     "output_type": "execute_result"
    }
   ],
   "source": [
    "## Lets check top 5 rows to see how the data looks now with new vader compund and vader sentiment columns.\n",
    "\n",
    "Movie_Review_df.head(5)"
   ]
  },
  {
   "cell_type": "code",
   "execution_count": 21,
   "id": "835de972-186a-4c27-b746-abc70c8bf9d0",
   "metadata": {},
   "outputs": [],
   "source": [
    "## Lets create the accuracy column to check model accuracy when using vader sentiment analysis.\n",
    "\n",
    "Movie_Review_df['vaccuracy'] = np.where(Movie_Review_df['sentiment'] == Movie_Review_df['vsentiment'], 1, 0)"
   ]
  },
  {
   "cell_type": "code",
   "execution_count": 22,
   "id": "64965f0a-b733-4537-9b00-6a2f03e84996",
   "metadata": {},
   "outputs": [
    {
     "data": {
      "text/html": [
       "<div>\n",
       "<style scoped>\n",
       "    .dataframe tbody tr th:only-of-type {\n",
       "        vertical-align: middle;\n",
       "    }\n",
       "\n",
       "    .dataframe tbody tr th {\n",
       "        vertical-align: top;\n",
       "    }\n",
       "\n",
       "    .dataframe thead th {\n",
       "        text-align: right;\n",
       "    }\n",
       "</style>\n",
       "<table border=\"1\" class=\"dataframe\">\n",
       "  <thead>\n",
       "    <tr style=\"text-align: right;\">\n",
       "      <th></th>\n",
       "      <th>id</th>\n",
       "      <th>sentiment</th>\n",
       "      <th>review</th>\n",
       "      <th>polarity</th>\n",
       "      <th>subjectivity</th>\n",
       "      <th>score</th>\n",
       "      <th>accuracy</th>\n",
       "      <th>vcompound</th>\n",
       "      <th>vsentiment</th>\n",
       "      <th>vaccuracy</th>\n",
       "    </tr>\n",
       "  </thead>\n",
       "  <tbody>\n",
       "    <tr>\n",
       "      <th>0</th>\n",
       "      <td>5814_8</td>\n",
       "      <td>1</td>\n",
       "      <td>With all this stuff going down at the moment w...</td>\n",
       "      <td>0.001277</td>\n",
       "      <td>0.606746</td>\n",
       "      <td>1</td>\n",
       "      <td>1</td>\n",
       "      <td>-0.8278</td>\n",
       "      <td>0</td>\n",
       "      <td>0</td>\n",
       "    </tr>\n",
       "    <tr>\n",
       "      <th>1</th>\n",
       "      <td>2381_9</td>\n",
       "      <td>1</td>\n",
       "      <td>\\The Classic War of the Worlds\\\" by Timothy Hi...</td>\n",
       "      <td>0.256349</td>\n",
       "      <td>0.531111</td>\n",
       "      <td>1</td>\n",
       "      <td>1</td>\n",
       "      <td>0.9819</td>\n",
       "      <td>1</td>\n",
       "      <td>1</td>\n",
       "    </tr>\n",
       "    <tr>\n",
       "      <th>2</th>\n",
       "      <td>7759_3</td>\n",
       "      <td>0</td>\n",
       "      <td>The film starts with a manager (Nicholas Bell)...</td>\n",
       "      <td>-0.053941</td>\n",
       "      <td>0.562933</td>\n",
       "      <td>0</td>\n",
       "      <td>1</td>\n",
       "      <td>-0.9883</td>\n",
       "      <td>0</td>\n",
       "      <td>1</td>\n",
       "    </tr>\n",
       "    <tr>\n",
       "      <th>3</th>\n",
       "      <td>3630_4</td>\n",
       "      <td>0</td>\n",
       "      <td>It must be assumed that those who praised this...</td>\n",
       "      <td>0.134753</td>\n",
       "      <td>0.492901</td>\n",
       "      <td>1</td>\n",
       "      <td>0</td>\n",
       "      <td>-0.2189</td>\n",
       "      <td>0</td>\n",
       "      <td>1</td>\n",
       "    </tr>\n",
       "    <tr>\n",
       "      <th>4</th>\n",
       "      <td>9495_8</td>\n",
       "      <td>1</td>\n",
       "      <td>Superbly trashy and wondrously unpretentious 8...</td>\n",
       "      <td>-0.024842</td>\n",
       "      <td>0.459818</td>\n",
       "      <td>0</td>\n",
       "      <td>0</td>\n",
       "      <td>0.7960</td>\n",
       "      <td>1</td>\n",
       "      <td>1</td>\n",
       "    </tr>\n",
       "  </tbody>\n",
       "</table>\n",
       "</div>"
      ],
      "text/plain": [
       "       id  sentiment                                             review  \\\n",
       "0  5814_8          1  With all this stuff going down at the moment w...   \n",
       "1  2381_9          1  \\The Classic War of the Worlds\\\" by Timothy Hi...   \n",
       "2  7759_3          0  The film starts with a manager (Nicholas Bell)...   \n",
       "3  3630_4          0  It must be assumed that those who praised this...   \n",
       "4  9495_8          1  Superbly trashy and wondrously unpretentious 8...   \n",
       "\n",
       "   polarity  subjectivity  score  accuracy  vcompound  vsentiment  vaccuracy  \n",
       "0  0.001277      0.606746      1         1    -0.8278           0          0  \n",
       "1  0.256349      0.531111      1         1     0.9819           1          1  \n",
       "2 -0.053941      0.562933      0         1    -0.9883           0          1  \n",
       "3  0.134753      0.492901      1         0    -0.2189           0          1  \n",
       "4 -0.024842      0.459818      0         0     0.7960           1          1  "
      ]
     },
     "execution_count": 22,
     "metadata": {},
     "output_type": "execute_result"
    }
   ],
   "source": [
    "## Lets check top 5 rows of the data frame\n",
    "\n",
    "Movie_Review_df.head(5)"
   ]
  },
  {
   "cell_type": "code",
   "execution_count": 23,
   "id": "1d229151-9b18-4fcd-8a3c-6c08b489ae3c",
   "metadata": {},
   "outputs": [
    {
     "data": {
      "text/plain": [
       "0.6926"
      ]
     },
     "execution_count": 23,
     "metadata": {},
     "output_type": "execute_result"
    }
   ],
   "source": [
    "## Lets calculate the mean of the newly created vader accuracy column to see if it is better than random guessing.\n",
    "## using mean function for the same.\n",
    "\n",
    "Movie_Review_df[\"vaccuracy\"].mean() "
   ]
  },
  {
   "cell_type": "markdown",
   "id": "c9bbf3e3-c728-4586-8127-a3788cec0f32",
   "metadata": {},
   "source": [
    "#### As we can see that using vader sentiment analysis the accuracy for positive sentiment is 69% which is almost similar to the percentage we get from using the Textblob sentiment analysis. Hence Accuracy of the model is better than random guessing."
   ]
  },
  {
   "cell_type": "markdown",
   "id": "0f1ab845-2952-498e-baf9-48c443e0598c",
   "metadata": {},
   "source": [
    "## Part 2: Prepping Text for a Custom Model"
   ]
  },
  {
   "cell_type": "markdown",
   "id": "5e7ff373-d9f8-4c28-aaaf-3fa2821edd4c",
   "metadata": {},
   "source": [
    "#### If you want to run your own model to classify text, it needs to be in proper form to do so. The following steps will outline a procedure to do this on the movie reviews text."
   ]
  },
  {
   "cell_type": "markdown",
   "id": "c8412c77-f10b-4712-97cc-9bead6ecd856",
   "metadata": {},
   "source": [
    "### 1. Convert all text to lowercase letters."
   ]
  },
  {
   "cell_type": "code",
   "execution_count": 24,
   "id": "10e1fead-3c5a-4190-a5ec-7cbf4785973e",
   "metadata": {},
   "outputs": [],
   "source": [
    "## using str.lower() function to convert text to lowercase leters.\n",
    "\n",
    "Movie_Review_df['review'] = Movie_Review_df['review'].str.lower()"
   ]
  },
  {
   "cell_type": "code",
   "execution_count": 25,
   "id": "04a01922-c434-4dbe-b79c-35d7306d8ac1",
   "metadata": {},
   "outputs": [
    {
     "data": {
      "text/html": [
       "<div>\n",
       "<style scoped>\n",
       "    .dataframe tbody tr th:only-of-type {\n",
       "        vertical-align: middle;\n",
       "    }\n",
       "\n",
       "    .dataframe tbody tr th {\n",
       "        vertical-align: top;\n",
       "    }\n",
       "\n",
       "    .dataframe thead th {\n",
       "        text-align: right;\n",
       "    }\n",
       "</style>\n",
       "<table border=\"1\" class=\"dataframe\">\n",
       "  <thead>\n",
       "    <tr style=\"text-align: right;\">\n",
       "      <th></th>\n",
       "      <th>id</th>\n",
       "      <th>sentiment</th>\n",
       "      <th>review</th>\n",
       "      <th>polarity</th>\n",
       "      <th>subjectivity</th>\n",
       "      <th>score</th>\n",
       "      <th>accuracy</th>\n",
       "      <th>vcompound</th>\n",
       "      <th>vsentiment</th>\n",
       "      <th>vaccuracy</th>\n",
       "    </tr>\n",
       "  </thead>\n",
       "  <tbody>\n",
       "    <tr>\n",
       "      <th>0</th>\n",
       "      <td>5814_8</td>\n",
       "      <td>1</td>\n",
       "      <td>with all this stuff going down at the moment w...</td>\n",
       "      <td>0.001277</td>\n",
       "      <td>0.606746</td>\n",
       "      <td>1</td>\n",
       "      <td>1</td>\n",
       "      <td>-0.8278</td>\n",
       "      <td>0</td>\n",
       "      <td>0</td>\n",
       "    </tr>\n",
       "    <tr>\n",
       "      <th>1</th>\n",
       "      <td>2381_9</td>\n",
       "      <td>1</td>\n",
       "      <td>\\the classic war of the worlds\\\" by timothy hi...</td>\n",
       "      <td>0.256349</td>\n",
       "      <td>0.531111</td>\n",
       "      <td>1</td>\n",
       "      <td>1</td>\n",
       "      <td>0.9819</td>\n",
       "      <td>1</td>\n",
       "      <td>1</td>\n",
       "    </tr>\n",
       "    <tr>\n",
       "      <th>2</th>\n",
       "      <td>7759_3</td>\n",
       "      <td>0</td>\n",
       "      <td>the film starts with a manager (nicholas bell)...</td>\n",
       "      <td>-0.053941</td>\n",
       "      <td>0.562933</td>\n",
       "      <td>0</td>\n",
       "      <td>1</td>\n",
       "      <td>-0.9883</td>\n",
       "      <td>0</td>\n",
       "      <td>1</td>\n",
       "    </tr>\n",
       "    <tr>\n",
       "      <th>3</th>\n",
       "      <td>3630_4</td>\n",
       "      <td>0</td>\n",
       "      <td>it must be assumed that those who praised this...</td>\n",
       "      <td>0.134753</td>\n",
       "      <td>0.492901</td>\n",
       "      <td>1</td>\n",
       "      <td>0</td>\n",
       "      <td>-0.2189</td>\n",
       "      <td>0</td>\n",
       "      <td>1</td>\n",
       "    </tr>\n",
       "    <tr>\n",
       "      <th>4</th>\n",
       "      <td>9495_8</td>\n",
       "      <td>1</td>\n",
       "      <td>superbly trashy and wondrously unpretentious 8...</td>\n",
       "      <td>-0.024842</td>\n",
       "      <td>0.459818</td>\n",
       "      <td>0</td>\n",
       "      <td>0</td>\n",
       "      <td>0.7960</td>\n",
       "      <td>1</td>\n",
       "      <td>1</td>\n",
       "    </tr>\n",
       "  </tbody>\n",
       "</table>\n",
       "</div>"
      ],
      "text/plain": [
       "       id  sentiment                                             review  \\\n",
       "0  5814_8          1  with all this stuff going down at the moment w...   \n",
       "1  2381_9          1  \\the classic war of the worlds\\\" by timothy hi...   \n",
       "2  7759_3          0  the film starts with a manager (nicholas bell)...   \n",
       "3  3630_4          0  it must be assumed that those who praised this...   \n",
       "4  9495_8          1  superbly trashy and wondrously unpretentious 8...   \n",
       "\n",
       "   polarity  subjectivity  score  accuracy  vcompound  vsentiment  vaccuracy  \n",
       "0  0.001277      0.606746      1         1    -0.8278           0          0  \n",
       "1  0.256349      0.531111      1         1     0.9819           1          1  \n",
       "2 -0.053941      0.562933      0         1    -0.9883           0          1  \n",
       "3  0.134753      0.492901      1         0    -0.2189           0          1  \n",
       "4 -0.024842      0.459818      0         0     0.7960           1          1  "
      ]
     },
     "execution_count": 25,
     "metadata": {},
     "output_type": "execute_result"
    }
   ],
   "source": [
    "## Lets check the top five rows of the data frame.\n",
    "\n",
    "Movie_Review_df.head(5)"
   ]
  },
  {
   "cell_type": "markdown",
   "id": "3f8ffd21-d179-47be-8fc7-71a854eeeeca",
   "metadata": {},
   "source": [
    "### 2. Remove punctuation and special characters from the text."
   ]
  },
  {
   "cell_type": "code",
   "execution_count": 26,
   "id": "0ad11fb7-9d6d-4204-9825-9a22e462177f",
   "metadata": {},
   "outputs": [
    {
     "name": "stderr",
     "output_type": "stream",
     "text": [
      "/var/folders/k0/kqs3mw2j4pl9s5fvm4jvh09h0000gn/T/ipykernel_38539/857249495.py:3: FutureWarning: The default value of regex will change from True to False in a future version.\n",
      "  Movie_Review_df['review'] = Movie_Review_df['review'].str.replace(r'[^\\w\\s]+', '')\n"
     ]
    }
   ],
   "source": [
    "## Using str.replace to replace punctuation and special character from text.\n",
    "\n",
    "Movie_Review_df['review'] = Movie_Review_df['review'].str.replace(r'[^\\w\\s]+', '')"
   ]
  },
  {
   "cell_type": "code",
   "execution_count": 27,
   "id": "6775607d-6d6e-4d41-864b-8db92348028f",
   "metadata": {},
   "outputs": [
    {
     "data": {
      "text/plain": [
       "0        with all this stuff going down at the moment w...\n",
       "1        the classic war of the worlds by timothy hines...\n",
       "2        the film starts with a manager nicholas bell g...\n",
       "3        it must be assumed that those who praised this...\n",
       "4        superbly trashy and wondrously unpretentious 8...\n",
       "                               ...                        \n",
       "24995    it seems like more consideration has gone into...\n",
       "24996    i dont believe they made this film completely ...\n",
       "24997    guy is a loser cant get girls needs to build u...\n",
       "24998    this 30 minute documentary buñuel made in the ...\n",
       "24999    i saw this movie as a child and it broke my he...\n",
       "Name: review, Length: 25000, dtype: object"
      ]
     },
     "execution_count": 27,
     "metadata": {},
     "output_type": "execute_result"
    }
   ],
   "source": [
    "## Lets check the review column after removing puntuation and special characters.\n",
    "\n",
    "Movie_Review_df['review']"
   ]
  },
  {
   "cell_type": "code",
   "execution_count": 28,
   "id": "c002462b-fad8-4a45-b32f-a1c4002d1d5a",
   "metadata": {},
   "outputs": [
    {
     "data": {
      "text/html": [
       "<div>\n",
       "<style scoped>\n",
       "    .dataframe tbody tr th:only-of-type {\n",
       "        vertical-align: middle;\n",
       "    }\n",
       "\n",
       "    .dataframe tbody tr th {\n",
       "        vertical-align: top;\n",
       "    }\n",
       "\n",
       "    .dataframe thead th {\n",
       "        text-align: right;\n",
       "    }\n",
       "</style>\n",
       "<table border=\"1\" class=\"dataframe\">\n",
       "  <thead>\n",
       "    <tr style=\"text-align: right;\">\n",
       "      <th></th>\n",
       "      <th>id</th>\n",
       "      <th>sentiment</th>\n",
       "      <th>review</th>\n",
       "      <th>polarity</th>\n",
       "      <th>subjectivity</th>\n",
       "      <th>score</th>\n",
       "      <th>accuracy</th>\n",
       "      <th>vcompound</th>\n",
       "      <th>vsentiment</th>\n",
       "      <th>vaccuracy</th>\n",
       "    </tr>\n",
       "  </thead>\n",
       "  <tbody>\n",
       "    <tr>\n",
       "      <th>0</th>\n",
       "      <td>5814_8</td>\n",
       "      <td>1</td>\n",
       "      <td>with all this stuff going down at the moment w...</td>\n",
       "      <td>0.001277</td>\n",
       "      <td>0.606746</td>\n",
       "      <td>1</td>\n",
       "      <td>1</td>\n",
       "      <td>-0.8278</td>\n",
       "      <td>0</td>\n",
       "      <td>0</td>\n",
       "    </tr>\n",
       "    <tr>\n",
       "      <th>1</th>\n",
       "      <td>2381_9</td>\n",
       "      <td>1</td>\n",
       "      <td>the classic war of the worlds by timothy hines...</td>\n",
       "      <td>0.256349</td>\n",
       "      <td>0.531111</td>\n",
       "      <td>1</td>\n",
       "      <td>1</td>\n",
       "      <td>0.9819</td>\n",
       "      <td>1</td>\n",
       "      <td>1</td>\n",
       "    </tr>\n",
       "    <tr>\n",
       "      <th>2</th>\n",
       "      <td>7759_3</td>\n",
       "      <td>0</td>\n",
       "      <td>the film starts with a manager nicholas bell g...</td>\n",
       "      <td>-0.053941</td>\n",
       "      <td>0.562933</td>\n",
       "      <td>0</td>\n",
       "      <td>1</td>\n",
       "      <td>-0.9883</td>\n",
       "      <td>0</td>\n",
       "      <td>1</td>\n",
       "    </tr>\n",
       "    <tr>\n",
       "      <th>3</th>\n",
       "      <td>3630_4</td>\n",
       "      <td>0</td>\n",
       "      <td>it must be assumed that those who praised this...</td>\n",
       "      <td>0.134753</td>\n",
       "      <td>0.492901</td>\n",
       "      <td>1</td>\n",
       "      <td>0</td>\n",
       "      <td>-0.2189</td>\n",
       "      <td>0</td>\n",
       "      <td>1</td>\n",
       "    </tr>\n",
       "    <tr>\n",
       "      <th>4</th>\n",
       "      <td>9495_8</td>\n",
       "      <td>1</td>\n",
       "      <td>superbly trashy and wondrously unpretentious 8...</td>\n",
       "      <td>-0.024842</td>\n",
       "      <td>0.459818</td>\n",
       "      <td>0</td>\n",
       "      <td>0</td>\n",
       "      <td>0.7960</td>\n",
       "      <td>1</td>\n",
       "      <td>1</td>\n",
       "    </tr>\n",
       "  </tbody>\n",
       "</table>\n",
       "</div>"
      ],
      "text/plain": [
       "       id  sentiment                                             review  \\\n",
       "0  5814_8          1  with all this stuff going down at the moment w...   \n",
       "1  2381_9          1  the classic war of the worlds by timothy hines...   \n",
       "2  7759_3          0  the film starts with a manager nicholas bell g...   \n",
       "3  3630_4          0  it must be assumed that those who praised this...   \n",
       "4  9495_8          1  superbly trashy and wondrously unpretentious 8...   \n",
       "\n",
       "   polarity  subjectivity  score  accuracy  vcompound  vsentiment  vaccuracy  \n",
       "0  0.001277      0.606746      1         1    -0.8278           0          0  \n",
       "1  0.256349      0.531111      1         1     0.9819           1          1  \n",
       "2 -0.053941      0.562933      0         1    -0.9883           0          1  \n",
       "3  0.134753      0.492901      1         0    -0.2189           0          1  \n",
       "4 -0.024842      0.459818      0         0     0.7960           1          1  "
      ]
     },
     "execution_count": 28,
     "metadata": {},
     "output_type": "execute_result"
    }
   ],
   "source": [
    "## Lets check the top five rows of the data frame.\n",
    "\n",
    "Movie_Review_df.head(5)"
   ]
  },
  {
   "cell_type": "markdown",
   "id": "45f464af-1874-4419-8d89-ecbd17623152",
   "metadata": {},
   "source": [
    "### 3. Remove stop words."
   ]
  },
  {
   "cell_type": "code",
   "execution_count": 29,
   "id": "9bee7ba3-2970-4520-b1a7-5716080a663e",
   "metadata": {},
   "outputs": [],
   "source": [
    "## Lets import nltk module and import stopwords and word_tokenize\n",
    "\n",
    "import nltk\n",
    "from nltk.corpus import stopwords\n",
    "from nltk.tokenize import word_tokenize"
   ]
  },
  {
   "cell_type": "code",
   "execution_count": 30,
   "id": "c3809509-b237-4180-b0fb-8b65ba358b21",
   "metadata": {
    "tags": []
   },
   "outputs": [],
   "source": [
    "## Lets import the stopwords using nltk module\n",
    "\n",
    "stop = stopwords.words('english')"
   ]
  },
  {
   "cell_type": "code",
   "execution_count": 31,
   "id": "0f0e8968-09fa-491c-9154-dee857e8d879",
   "metadata": {},
   "outputs": [],
   "source": [
    "## removing the stopwords from review column in data frame.\n",
    "\n",
    "Movie_Review_df['review'] = Movie_Review_df['review'].apply(lambda review: ' '.join([word for word in review.split() if word not in (stop)]))"
   ]
  },
  {
   "cell_type": "code",
   "execution_count": 32,
   "id": "abb1fbc8-f827-425e-bc5e-5cf523ec0dcf",
   "metadata": {},
   "outputs": [
    {
     "data": {
      "text/html": [
       "<div>\n",
       "<style scoped>\n",
       "    .dataframe tbody tr th:only-of-type {\n",
       "        vertical-align: middle;\n",
       "    }\n",
       "\n",
       "    .dataframe tbody tr th {\n",
       "        vertical-align: top;\n",
       "    }\n",
       "\n",
       "    .dataframe thead th {\n",
       "        text-align: right;\n",
       "    }\n",
       "</style>\n",
       "<table border=\"1\" class=\"dataframe\">\n",
       "  <thead>\n",
       "    <tr style=\"text-align: right;\">\n",
       "      <th></th>\n",
       "      <th>id</th>\n",
       "      <th>sentiment</th>\n",
       "      <th>review</th>\n",
       "      <th>polarity</th>\n",
       "      <th>subjectivity</th>\n",
       "      <th>score</th>\n",
       "      <th>accuracy</th>\n",
       "      <th>vcompound</th>\n",
       "      <th>vsentiment</th>\n",
       "      <th>vaccuracy</th>\n",
       "    </tr>\n",
       "  </thead>\n",
       "  <tbody>\n",
       "    <tr>\n",
       "      <th>0</th>\n",
       "      <td>5814_8</td>\n",
       "      <td>1</td>\n",
       "      <td>stuff going moment mj ive started listening mu...</td>\n",
       "      <td>0.001277</td>\n",
       "      <td>0.606746</td>\n",
       "      <td>1</td>\n",
       "      <td>1</td>\n",
       "      <td>-0.8278</td>\n",
       "      <td>0</td>\n",
       "      <td>0</td>\n",
       "    </tr>\n",
       "    <tr>\n",
       "      <th>1</th>\n",
       "      <td>2381_9</td>\n",
       "      <td>1</td>\n",
       "      <td>classic war worlds timothy hines entertaining ...</td>\n",
       "      <td>0.256349</td>\n",
       "      <td>0.531111</td>\n",
       "      <td>1</td>\n",
       "      <td>1</td>\n",
       "      <td>0.9819</td>\n",
       "      <td>1</td>\n",
       "      <td>1</td>\n",
       "    </tr>\n",
       "    <tr>\n",
       "      <th>2</th>\n",
       "      <td>7759_3</td>\n",
       "      <td>0</td>\n",
       "      <td>film starts manager nicholas bell giving welco...</td>\n",
       "      <td>-0.053941</td>\n",
       "      <td>0.562933</td>\n",
       "      <td>0</td>\n",
       "      <td>1</td>\n",
       "      <td>-0.9883</td>\n",
       "      <td>0</td>\n",
       "      <td>1</td>\n",
       "    </tr>\n",
       "    <tr>\n",
       "      <th>3</th>\n",
       "      <td>3630_4</td>\n",
       "      <td>0</td>\n",
       "      <td>must assumed praised film greatest filmed oper...</td>\n",
       "      <td>0.134753</td>\n",
       "      <td>0.492901</td>\n",
       "      <td>1</td>\n",
       "      <td>0</td>\n",
       "      <td>-0.2189</td>\n",
       "      <td>0</td>\n",
       "      <td>1</td>\n",
       "    </tr>\n",
       "    <tr>\n",
       "      <th>4</th>\n",
       "      <td>9495_8</td>\n",
       "      <td>1</td>\n",
       "      <td>superbly trashy wondrously unpretentious 80s e...</td>\n",
       "      <td>-0.024842</td>\n",
       "      <td>0.459818</td>\n",
       "      <td>0</td>\n",
       "      <td>0</td>\n",
       "      <td>0.7960</td>\n",
       "      <td>1</td>\n",
       "      <td>1</td>\n",
       "    </tr>\n",
       "  </tbody>\n",
       "</table>\n",
       "</div>"
      ],
      "text/plain": [
       "       id  sentiment                                             review  \\\n",
       "0  5814_8          1  stuff going moment mj ive started listening mu...   \n",
       "1  2381_9          1  classic war worlds timothy hines entertaining ...   \n",
       "2  7759_3          0  film starts manager nicholas bell giving welco...   \n",
       "3  3630_4          0  must assumed praised film greatest filmed oper...   \n",
       "4  9495_8          1  superbly trashy wondrously unpretentious 80s e...   \n",
       "\n",
       "   polarity  subjectivity  score  accuracy  vcompound  vsentiment  vaccuracy  \n",
       "0  0.001277      0.606746      1         1    -0.8278           0          0  \n",
       "1  0.256349      0.531111      1         1     0.9819           1          1  \n",
       "2 -0.053941      0.562933      0         1    -0.9883           0          1  \n",
       "3  0.134753      0.492901      1         0    -0.2189           0          1  \n",
       "4 -0.024842      0.459818      0         0     0.7960           1          1  "
      ]
     },
     "execution_count": 32,
     "metadata": {},
     "output_type": "execute_result"
    }
   ],
   "source": [
    "## Lets check the top 5 rows of the data frame\n",
    "\n",
    "Movie_Review_df.head(5)"
   ]
  },
  {
   "cell_type": "markdown",
   "id": "a8e0188f-f217-4d57-aca5-b020bae2fed6",
   "metadata": {},
   "source": [
    "### 4. Apply NLTK’s PorterStemmer."
   ]
  },
  {
   "cell_type": "code",
   "execution_count": 33,
   "id": "af77ae08-4fb7-4cc5-8acb-1a1ac5d09d67",
   "metadata": {},
   "outputs": [],
   "source": [
    "## lets import PorterStemmer using nltk module.\n",
    "\n",
    "from nltk.stem import PorterStemmer"
   ]
  },
  {
   "cell_type": "code",
   "execution_count": 34,
   "id": "099693ce-02d4-4471-8e9c-04a0154de4d5",
   "metadata": {},
   "outputs": [],
   "source": [
    "## Lets create Pstemmer variable\n",
    "\n",
    "Pstemmer = PorterStemmer()"
   ]
  },
  {
   "cell_type": "code",
   "execution_count": 35,
   "id": "82da522a-b47f-4161-8196-53775e6e63fa",
   "metadata": {},
   "outputs": [],
   "source": [
    "## Lets create a new column and tokenize the review column\n",
    "\n",
    "Movie_Review_df['review_PStemmer'] = Movie_Review_df['review'].apply(lambda review : filter(None,review.split(\" \")))"
   ]
  },
  {
   "cell_type": "code",
   "execution_count": 36,
   "id": "dd8cf1e0-d6dd-4450-9988-e8d60e1ab856",
   "metadata": {},
   "outputs": [],
   "source": [
    "## Now apply the stemmer to the newly created tikenize column.\n",
    "\n",
    "Movie_Review_df['review_PStemmer'] = Movie_Review_df['review_PStemmer'].apply(lambda reviewPS : [Pstemmer.stem(y) for y in reviewPS])"
   ]
  },
  {
   "cell_type": "code",
   "execution_count": 37,
   "id": "f6e17cd2-57e2-44d5-8a45-3a5f8f6a0a95",
   "metadata": {},
   "outputs": [],
   "source": [
    "## create sentence using stemmer column\n",
    "\n",
    "Movie_Review_df['review_PStemmer_new'] = Movie_Review_df['review_PStemmer'].apply(lambda reviewPS : \" \".join(reviewPS))"
   ]
  },
  {
   "cell_type": "code",
   "execution_count": 38,
   "id": "c7396317-f3c6-49dd-81ec-fa90fa268ec2",
   "metadata": {},
   "outputs": [
    {
     "data": {
      "text/html": [
       "<div>\n",
       "<style scoped>\n",
       "    .dataframe tbody tr th:only-of-type {\n",
       "        vertical-align: middle;\n",
       "    }\n",
       "\n",
       "    .dataframe tbody tr th {\n",
       "        vertical-align: top;\n",
       "    }\n",
       "\n",
       "    .dataframe thead th {\n",
       "        text-align: right;\n",
       "    }\n",
       "</style>\n",
       "<table border=\"1\" class=\"dataframe\">\n",
       "  <thead>\n",
       "    <tr style=\"text-align: right;\">\n",
       "      <th></th>\n",
       "      <th>id</th>\n",
       "      <th>sentiment</th>\n",
       "      <th>review</th>\n",
       "      <th>polarity</th>\n",
       "      <th>subjectivity</th>\n",
       "      <th>score</th>\n",
       "      <th>accuracy</th>\n",
       "      <th>vcompound</th>\n",
       "      <th>vsentiment</th>\n",
       "      <th>vaccuracy</th>\n",
       "      <th>review_PStemmer</th>\n",
       "      <th>review_PStemmer_new</th>\n",
       "    </tr>\n",
       "  </thead>\n",
       "  <tbody>\n",
       "    <tr>\n",
       "      <th>0</th>\n",
       "      <td>5814_8</td>\n",
       "      <td>1</td>\n",
       "      <td>stuff going moment mj ive started listening mu...</td>\n",
       "      <td>0.001277</td>\n",
       "      <td>0.606746</td>\n",
       "      <td>1</td>\n",
       "      <td>1</td>\n",
       "      <td>-0.8278</td>\n",
       "      <td>0</td>\n",
       "      <td>0</td>\n",
       "      <td>[stuff, go, moment, mj, ive, start, listen, mu...</td>\n",
       "      <td>stuff go moment mj ive start listen music watc...</td>\n",
       "    </tr>\n",
       "    <tr>\n",
       "      <th>1</th>\n",
       "      <td>2381_9</td>\n",
       "      <td>1</td>\n",
       "      <td>classic war worlds timothy hines entertaining ...</td>\n",
       "      <td>0.256349</td>\n",
       "      <td>0.531111</td>\n",
       "      <td>1</td>\n",
       "      <td>1</td>\n",
       "      <td>0.9819</td>\n",
       "      <td>1</td>\n",
       "      <td>1</td>\n",
       "      <td>[classic, war, world, timothi, hine, entertain...</td>\n",
       "      <td>classic war world timothi hine entertain film ...</td>\n",
       "    </tr>\n",
       "    <tr>\n",
       "      <th>2</th>\n",
       "      <td>7759_3</td>\n",
       "      <td>0</td>\n",
       "      <td>film starts manager nicholas bell giving welco...</td>\n",
       "      <td>-0.053941</td>\n",
       "      <td>0.562933</td>\n",
       "      <td>0</td>\n",
       "      <td>1</td>\n",
       "      <td>-0.9883</td>\n",
       "      <td>0</td>\n",
       "      <td>1</td>\n",
       "      <td>[film, start, manag, nichola, bell, give, welc...</td>\n",
       "      <td>film start manag nichola bell give welcom inve...</td>\n",
       "    </tr>\n",
       "    <tr>\n",
       "      <th>3</th>\n",
       "      <td>3630_4</td>\n",
       "      <td>0</td>\n",
       "      <td>must assumed praised film greatest filmed oper...</td>\n",
       "      <td>0.134753</td>\n",
       "      <td>0.492901</td>\n",
       "      <td>1</td>\n",
       "      <td>0</td>\n",
       "      <td>-0.2189</td>\n",
       "      <td>0</td>\n",
       "      <td>1</td>\n",
       "      <td>[must, assum, prais, film, greatest, film, ope...</td>\n",
       "      <td>must assum prais film greatest film opera ever...</td>\n",
       "    </tr>\n",
       "    <tr>\n",
       "      <th>4</th>\n",
       "      <td>9495_8</td>\n",
       "      <td>1</td>\n",
       "      <td>superbly trashy wondrously unpretentious 80s e...</td>\n",
       "      <td>-0.024842</td>\n",
       "      <td>0.459818</td>\n",
       "      <td>0</td>\n",
       "      <td>0</td>\n",
       "      <td>0.7960</td>\n",
       "      <td>1</td>\n",
       "      <td>1</td>\n",
       "      <td>[superbl, trashi, wondrous, unpretenti, 80, ex...</td>\n",
       "      <td>superbl trashi wondrous unpretenti 80 exploit ...</td>\n",
       "    </tr>\n",
       "  </tbody>\n",
       "</table>\n",
       "</div>"
      ],
      "text/plain": [
       "       id  sentiment                                             review  \\\n",
       "0  5814_8          1  stuff going moment mj ive started listening mu...   \n",
       "1  2381_9          1  classic war worlds timothy hines entertaining ...   \n",
       "2  7759_3          0  film starts manager nicholas bell giving welco...   \n",
       "3  3630_4          0  must assumed praised film greatest filmed oper...   \n",
       "4  9495_8          1  superbly trashy wondrously unpretentious 80s e...   \n",
       "\n",
       "   polarity  subjectivity  score  accuracy  vcompound  vsentiment  vaccuracy  \\\n",
       "0  0.001277      0.606746      1         1    -0.8278           0          0   \n",
       "1  0.256349      0.531111      1         1     0.9819           1          1   \n",
       "2 -0.053941      0.562933      0         1    -0.9883           0          1   \n",
       "3  0.134753      0.492901      1         0    -0.2189           0          1   \n",
       "4 -0.024842      0.459818      0         0     0.7960           1          1   \n",
       "\n",
       "                                     review_PStemmer  \\\n",
       "0  [stuff, go, moment, mj, ive, start, listen, mu...   \n",
       "1  [classic, war, world, timothi, hine, entertain...   \n",
       "2  [film, start, manag, nichola, bell, give, welc...   \n",
       "3  [must, assum, prais, film, greatest, film, ope...   \n",
       "4  [superbl, trashi, wondrous, unpretenti, 80, ex...   \n",
       "\n",
       "                                 review_PStemmer_new  \n",
       "0  stuff go moment mj ive start listen music watc...  \n",
       "1  classic war world timothi hine entertain film ...  \n",
       "2  film start manag nichola bell give welcom inve...  \n",
       "3  must assum prais film greatest film opera ever...  \n",
       "4  superbl trashi wondrous unpretenti 80 exploit ...  "
      ]
     },
     "execution_count": 38,
     "metadata": {},
     "output_type": "execute_result"
    }
   ],
   "source": [
    "## Lets check the top five rows of the data frame\n",
    "\n",
    "Movie_Review_df.head(5)"
   ]
  },
  {
   "cell_type": "markdown",
   "id": "69019483-de95-43fb-b92b-2915d6d2db3b",
   "metadata": {},
   "source": [
    "### 5. Create a bag-of-words matrix from your stemmed text (output from (4)), where each row is a word-count vector for a single movie review (see sections 5.3 & 6.8 in the Machine Learning with Python Cookbook). Display the dimensions of your bag-of-words matrix. The number of rows in this matrix should be the same as the number of rows in your original data frame."
   ]
  },
  {
   "cell_type": "code",
   "execution_count": 39,
   "id": "62821df7-d33f-4bb0-a18e-a4142c4b4cdd",
   "metadata": {},
   "outputs": [],
   "source": [
    "## Lets create a bag-of-words matrix from stemmed text\n",
    "\n",
    "from sklearn.feature_extraction.text import CountVectorizer\n",
    "\n",
    "## Creating variable for word count vector\n",
    "\n",
    "countV = CountVectorizer()\n",
    "\n",
    "bag_of_words = countV.fit_transform(Movie_Review_df['review_PStemmer_new'])"
   ]
  },
  {
   "cell_type": "code",
   "execution_count": 40,
   "id": "5115f74b-9977-4b84-8f70-3cd3767789df",
   "metadata": {},
   "outputs": [
    {
     "name": "stdout",
     "output_type": "stream",
     "text": [
      "The total number of rows and columns of bag-of-words matrix: (25000, 92532)\n"
     ]
    }
   ],
   "source": [
    "## Using shape function to see the number of columns and rows of bag-of-words matrix\n",
    "\n",
    "print(\"The total number of rows and columns of bag-of-words matrix: {}\".format(bag_of_words.shape))"
   ]
  },
  {
   "cell_type": "code",
   "execution_count": 41,
   "id": "775d258b-e60b-4b9a-9761-e3dc6a060fb4",
   "metadata": {},
   "outputs": [
    {
     "name": "stdout",
     "output_type": "stream",
     "text": [
      "The total number of rows and columns of original data frame: (25000, 12)\n"
     ]
    }
   ],
   "source": [
    "## Using shape function again to se number of rows and columns of the original data frame\n",
    "\n",
    "print(\"The total number of rows and columns of original data frame: {}\".format(Movie_Review_df.shape))"
   ]
  },
  {
   "cell_type": "markdown",
   "id": "f32f228c-9c86-419f-bcf5-bb086e493c6a",
   "metadata": {},
   "source": [
    "### As we can see the number of rows in both newly created bag-of-words matrix and in original data frame is same which is 25000."
   ]
  },
  {
   "cell_type": "markdown",
   "id": "6f7caf1b-6f7d-4ab4-89df-61afc9712d28",
   "metadata": {},
   "source": [
    "### 6. Create a term frequency-inverse document frequency (tf-idf) matrix from your stemmed text, for your movie reviews (see section 6.9 in the Machine Learning with Python Cookbook). Display the dimensions of your tf-idf matrix. These dimensions should be the same as your bag-of-words matrix."
   ]
  },
  {
   "cell_type": "code",
   "execution_count": 42,
   "id": "73bb92f1-a52b-4132-9871-3e6c2f275911",
   "metadata": {},
   "outputs": [],
   "source": [
    "## lets create a tf-idf matrix using stemmed text.\n",
    "\n",
    "from sklearn.feature_extraction.text import TfidfVectorizer\n",
    "\n",
    "## Creating variable for tf-idf vector\n",
    "\n",
    "matrixV = TfidfVectorizer()\n",
    "\n",
    "bag_of_words_tfidf = matrixV.fit_transform(Movie_Review_df['review_PStemmer_new'])"
   ]
  },
  {
   "cell_type": "code",
   "execution_count": 43,
   "id": "1142ceb0-b99f-481c-a496-81d642fe53eb",
   "metadata": {},
   "outputs": [
    {
     "name": "stdout",
     "output_type": "stream",
     "text": [
      "The total number of rows and columns of bag-of-words tf-idf matrix: (25000, 92532)\n"
     ]
    }
   ],
   "source": [
    "## Using shape function to see the number of rows and column of bag-of-words tf-idf matrix\n",
    "\n",
    "print(\"The total number of rows and columns of bag-of-words tf-idf matrix: {}\".format(bag_of_words_tfidf.shape))"
   ]
  },
  {
   "cell_type": "markdown",
   "id": "b96375fc-27b9-48ef-b200-9c450d4f3452",
   "metadata": {},
   "source": [
    "### As we can see the total number of rows and column for both matrix is exactly same as 25000 rows and 91741 columns."
   ]
  },
  {
   "cell_type": "code",
   "execution_count": null,
   "id": "17d62bfe-f8b5-4aed-bff0-ebb6817d69bb",
   "metadata": {},
   "outputs": [],
   "source": []
  }
 ],
 "metadata": {
  "kernelspec": {
   "display_name": "Python 3 (ipykernel)",
   "language": "python",
   "name": "python3"
  },
  "language_info": {
   "codemirror_mode": {
    "name": "ipython",
    "version": 3
   },
   "file_extension": ".py",
   "mimetype": "text/x-python",
   "name": "python",
   "nbconvert_exporter": "python",
   "pygments_lexer": "ipython3",
   "version": "3.9.7"
  }
 },
 "nbformat": 4,
 "nbformat_minor": 5
}
