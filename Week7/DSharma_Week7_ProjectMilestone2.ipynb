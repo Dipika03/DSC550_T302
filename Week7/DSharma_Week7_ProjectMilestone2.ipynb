{
 "cells": [
  {
   "cell_type": "markdown",
   "id": "bea4e08d-25e5-4c2a-8b70-2f1e5e0396b8",
   "metadata": {},
   "source": [
    "#### Name Dipika Sharma\n",
    "#### DSC 550 T302 Data Mining\n",
    "#### Week 5, Week 7"
   ]
  },
  {
   "cell_type": "markdown",
   "id": "f26d7c92-7c6c-4f19-85f5-189478836713",
   "metadata": {},
   "source": [
    "### Term project Milestone 1: Data Selection and EDA"
   ]
  },
  {
   "cell_type": "markdown",
   "id": "9f90a9df-4c71-49ec-933a-7ace7afcbaef",
   "metadata": {},
   "source": [
    "#### Introduction to problem: <br>The world we are living in, is undeniably digital. Since covid 19 there is a tremendous increase in the number of users who prefer online shopping as it is convenient and easy. Most of the people use credit cards for online purchase. Credit Card offers lot of the benefits to users and one of the advantages of credit card is - it allow users to buy something even if they do not have money at that time. This feature has also increased the financial fraud. Although cybersecurity is there and plays and important role in providing digital security, but it is not easy to track down the unusual activity.\n",
    "\n",
    "#### Solution: <br>The solution for the problem above is to find the pattern in the abnormal activity and whenever any such pattern occurs, the system will automatically abort the online transaction.\n",
    "\n",
    "#### I am using the credit card data from Kaggle site and using the data set I will try to see if we can find any pattern. While exploring the data We will try to achieve the following <br> &emsp; a) If there is any significant correlation between the different features of the data frame. It will be nice to know if any feature has some dependency on other features. <br> &emsp; b) Will check the dataset for fraudulent transaction. It will be beneficial to know the number of fraudulent transactions out of total transaction in the dataset. <br> &emsp; c) Will try to see if there is any unbalance in credit card data with respect to target variable Class. <br> &emsp; d) We will also be exploring data for any outliers. If yes, then we will remove the outliers from the data frame so that it will not effect the credit card fraud detection model <br> &emsp; e) Will see How frequently the fraudulent transactions are happening in this dataset compare to Non fraudulent transactions.\n",
    "\n",
    "####  Once we explore the above it will help me to build and evaluate a logistic regression model to identify fraudulent activity. This predictive model can benefit users by saving them from cyber attackers and provide secure digital world.\n",
    "\n",
    "#### Dataset:  <br>I found the credit card dataset at below location in Kaggle website:  <br> https://www.kaggle.com/datasets/jacklizhi/creditcard  <br>This data set contained 284807 rows and 31 columns. I understand for security purpose the dataset has column names v1, v2, … v28. We have 28 features with these name. The remaining three features Time, Amount and Class using the original names. Class is the target columns when class labels is 0 then it is non-fraudulent and when it is 1 then it is fraudulent.\n"
   ]
  },
  {
   "cell_type": "code",
   "execution_count": 1,
   "id": "713e76f5-2857-4aa0-ba45-e1a71f018ec4",
   "metadata": {},
   "outputs": [],
   "source": [
    "## import required libraries\n",
    "\n",
    "import pandas as pd\n",
    "import numpy as np\n",
    "import matplotlib.pyplot as plt\n",
    "\n",
    "from pandas import Series, DataFrame"
   ]
  },
  {
   "cell_type": "code",
   "execution_count": 2,
   "id": "4edf894c-7b4e-4589-b425-139197160203",
   "metadata": {},
   "outputs": [
    {
     "name": "stdout",
     "output_type": "stream",
     "text": [
      "pandas version: 1.3.4\n",
      "numpy version: 1.20.3\n"
     ]
    }
   ],
   "source": [
    "## Lets check the versions of packages\n",
    "\n",
    "print('pandas version:', pd.__version__)\n",
    "print('numpy version:', np.__version__)"
   ]
  },
  {
   "cell_type": "markdown",
   "id": "09dff22e-b352-48a0-b57d-2fdf9e62dc7b",
   "metadata": {},
   "source": [
    "## Exploring the Data"
   ]
  },
  {
   "cell_type": "code",
   "execution_count": 3,
   "id": "bfb15df2-9f99-4943-9f57-a629fb974bbe",
   "metadata": {},
   "outputs": [
    {
     "data": {
      "text/html": [
       "<div>\n",
       "<style scoped>\n",
       "    .dataframe tbody tr th:only-of-type {\n",
       "        vertical-align: middle;\n",
       "    }\n",
       "\n",
       "    .dataframe tbody tr th {\n",
       "        vertical-align: top;\n",
       "    }\n",
       "\n",
       "    .dataframe thead th {\n",
       "        text-align: right;\n",
       "    }\n",
       "</style>\n",
       "<table border=\"1\" class=\"dataframe\">\n",
       "  <thead>\n",
       "    <tr style=\"text-align: right;\">\n",
       "      <th></th>\n",
       "      <th>Time</th>\n",
       "      <th>V1</th>\n",
       "      <th>V2</th>\n",
       "      <th>V3</th>\n",
       "      <th>V4</th>\n",
       "      <th>V5</th>\n",
       "      <th>V6</th>\n",
       "      <th>V7</th>\n",
       "      <th>V8</th>\n",
       "      <th>V9</th>\n",
       "      <th>...</th>\n",
       "      <th>V21</th>\n",
       "      <th>V22</th>\n",
       "      <th>V23</th>\n",
       "      <th>V24</th>\n",
       "      <th>V25</th>\n",
       "      <th>V26</th>\n",
       "      <th>V27</th>\n",
       "      <th>V28</th>\n",
       "      <th>Amount</th>\n",
       "      <th>Class</th>\n",
       "    </tr>\n",
       "  </thead>\n",
       "  <tbody>\n",
       "    <tr>\n",
       "      <th>0</th>\n",
       "      <td>0.0</td>\n",
       "      <td>-1.359807</td>\n",
       "      <td>-0.072781</td>\n",
       "      <td>2.536347</td>\n",
       "      <td>1.378155</td>\n",
       "      <td>-0.338321</td>\n",
       "      <td>0.462388</td>\n",
       "      <td>0.239599</td>\n",
       "      <td>0.098698</td>\n",
       "      <td>0.363787</td>\n",
       "      <td>...</td>\n",
       "      <td>-0.018307</td>\n",
       "      <td>0.277838</td>\n",
       "      <td>-0.110474</td>\n",
       "      <td>0.066928</td>\n",
       "      <td>0.128539</td>\n",
       "      <td>-0.189115</td>\n",
       "      <td>0.133558</td>\n",
       "      <td>-0.021053</td>\n",
       "      <td>149.62</td>\n",
       "      <td>0</td>\n",
       "    </tr>\n",
       "    <tr>\n",
       "      <th>1</th>\n",
       "      <td>0.0</td>\n",
       "      <td>1.191857</td>\n",
       "      <td>0.266151</td>\n",
       "      <td>0.166480</td>\n",
       "      <td>0.448154</td>\n",
       "      <td>0.060018</td>\n",
       "      <td>-0.082361</td>\n",
       "      <td>-0.078803</td>\n",
       "      <td>0.085102</td>\n",
       "      <td>-0.255425</td>\n",
       "      <td>...</td>\n",
       "      <td>-0.225775</td>\n",
       "      <td>-0.638672</td>\n",
       "      <td>0.101288</td>\n",
       "      <td>-0.339846</td>\n",
       "      <td>0.167170</td>\n",
       "      <td>0.125895</td>\n",
       "      <td>-0.008983</td>\n",
       "      <td>0.014724</td>\n",
       "      <td>2.69</td>\n",
       "      <td>0</td>\n",
       "    </tr>\n",
       "    <tr>\n",
       "      <th>2</th>\n",
       "      <td>1.0</td>\n",
       "      <td>-1.358354</td>\n",
       "      <td>-1.340163</td>\n",
       "      <td>1.773209</td>\n",
       "      <td>0.379780</td>\n",
       "      <td>-0.503198</td>\n",
       "      <td>1.800499</td>\n",
       "      <td>0.791461</td>\n",
       "      <td>0.247676</td>\n",
       "      <td>-1.514654</td>\n",
       "      <td>...</td>\n",
       "      <td>0.247998</td>\n",
       "      <td>0.771679</td>\n",
       "      <td>0.909412</td>\n",
       "      <td>-0.689281</td>\n",
       "      <td>-0.327642</td>\n",
       "      <td>-0.139097</td>\n",
       "      <td>-0.055353</td>\n",
       "      <td>-0.059752</td>\n",
       "      <td>378.66</td>\n",
       "      <td>0</td>\n",
       "    </tr>\n",
       "    <tr>\n",
       "      <th>3</th>\n",
       "      <td>1.0</td>\n",
       "      <td>-0.966272</td>\n",
       "      <td>-0.185226</td>\n",
       "      <td>1.792993</td>\n",
       "      <td>-0.863291</td>\n",
       "      <td>-0.010309</td>\n",
       "      <td>1.247203</td>\n",
       "      <td>0.237609</td>\n",
       "      <td>0.377436</td>\n",
       "      <td>-1.387024</td>\n",
       "      <td>...</td>\n",
       "      <td>-0.108300</td>\n",
       "      <td>0.005274</td>\n",
       "      <td>-0.190321</td>\n",
       "      <td>-1.175575</td>\n",
       "      <td>0.647376</td>\n",
       "      <td>-0.221929</td>\n",
       "      <td>0.062723</td>\n",
       "      <td>0.061458</td>\n",
       "      <td>123.50</td>\n",
       "      <td>0</td>\n",
       "    </tr>\n",
       "    <tr>\n",
       "      <th>4</th>\n",
       "      <td>2.0</td>\n",
       "      <td>-1.158233</td>\n",
       "      <td>0.877737</td>\n",
       "      <td>1.548718</td>\n",
       "      <td>0.403034</td>\n",
       "      <td>-0.407193</td>\n",
       "      <td>0.095921</td>\n",
       "      <td>0.592941</td>\n",
       "      <td>-0.270533</td>\n",
       "      <td>0.817739</td>\n",
       "      <td>...</td>\n",
       "      <td>-0.009431</td>\n",
       "      <td>0.798278</td>\n",
       "      <td>-0.137458</td>\n",
       "      <td>0.141267</td>\n",
       "      <td>-0.206010</td>\n",
       "      <td>0.502292</td>\n",
       "      <td>0.219422</td>\n",
       "      <td>0.215153</td>\n",
       "      <td>69.99</td>\n",
       "      <td>0</td>\n",
       "    </tr>\n",
       "  </tbody>\n",
       "</table>\n",
       "<p>5 rows × 31 columns</p>\n",
       "</div>"
      ],
      "text/plain": [
       "   Time        V1        V2        V3        V4        V5        V6        V7  \\\n",
       "0   0.0 -1.359807 -0.072781  2.536347  1.378155 -0.338321  0.462388  0.239599   \n",
       "1   0.0  1.191857  0.266151  0.166480  0.448154  0.060018 -0.082361 -0.078803   \n",
       "2   1.0 -1.358354 -1.340163  1.773209  0.379780 -0.503198  1.800499  0.791461   \n",
       "3   1.0 -0.966272 -0.185226  1.792993 -0.863291 -0.010309  1.247203  0.237609   \n",
       "4   2.0 -1.158233  0.877737  1.548718  0.403034 -0.407193  0.095921  0.592941   \n",
       "\n",
       "         V8        V9  ...       V21       V22       V23       V24       V25  \\\n",
       "0  0.098698  0.363787  ... -0.018307  0.277838 -0.110474  0.066928  0.128539   \n",
       "1  0.085102 -0.255425  ... -0.225775 -0.638672  0.101288 -0.339846  0.167170   \n",
       "2  0.247676 -1.514654  ...  0.247998  0.771679  0.909412 -0.689281 -0.327642   \n",
       "3  0.377436 -1.387024  ... -0.108300  0.005274 -0.190321 -1.175575  0.647376   \n",
       "4 -0.270533  0.817739  ... -0.009431  0.798278 -0.137458  0.141267 -0.206010   \n",
       "\n",
       "        V26       V27       V28  Amount  Class  \n",
       "0 -0.189115  0.133558 -0.021053  149.62      0  \n",
       "1  0.125895 -0.008983  0.014724    2.69      0  \n",
       "2 -0.139097 -0.055353 -0.059752  378.66      0  \n",
       "3 -0.221929  0.062723  0.061458  123.50      0  \n",
       "4  0.502292  0.219422  0.215153   69.99      0  \n",
       "\n",
       "[5 rows x 31 columns]"
      ]
     },
     "execution_count": 3,
     "metadata": {},
     "output_type": "execute_result"
    }
   ],
   "source": [
    "## Lets load the Credit card data into a dataframe.\n",
    "credit_card_df = pd.read_csv('creditcard.csv')\n",
    "\n",
    "## Lets check the first five rows of the data frame.\n",
    "credit_card_df.head(5)"
   ]
  },
  {
   "cell_type": "markdown",
   "id": "9fc0f3ef-93b7-413b-a43f-01c6b461c780",
   "metadata": {},
   "source": [
    "#### As we can see that the credit card data transactions are coming from the real bank. This data set has 31 features and I understand for some security reason the original variables are not shared for 28 features and have renamed as v1, v2,... and v28. but the rest of the features Time, class and Amount are original variables of the data set."
   ]
  },
  {
   "cell_type": "code",
   "execution_count": 4,
   "id": "bb6ee008-bf87-4a61-8799-47ddac5bf05b",
   "metadata": {},
   "outputs": [
    {
     "data": {
      "text/plain": [
       "(284807, 31)"
      ]
     },
     "execution_count": 4,
     "metadata": {},
     "output_type": "execute_result"
    }
   ],
   "source": [
    "## Lets check the dimensons of the data frame.\n",
    "\n",
    "credit_card_df.shape"
   ]
  },
  {
   "cell_type": "markdown",
   "id": "577dd4bc-4524-496e-889e-db27a7508f82",
   "metadata": {},
   "source": [
    "#### We can see that the credt card data frame contained 284807 rows and 31 columns."
   ]
  },
  {
   "cell_type": "code",
   "execution_count": 5,
   "id": "9890b168-140f-4d13-8602-b1a0f0d7e22b",
   "metadata": {},
   "outputs": [
    {
     "data": {
      "text/plain": [
       "Time      float64\n",
       "V1        float64\n",
       "V2        float64\n",
       "V3        float64\n",
       "V4        float64\n",
       "V5        float64\n",
       "V6        float64\n",
       "V7        float64\n",
       "V8        float64\n",
       "V9        float64\n",
       "V10       float64\n",
       "V11       float64\n",
       "V12       float64\n",
       "V13       float64\n",
       "V14       float64\n",
       "V15       float64\n",
       "V16       float64\n",
       "V17       float64\n",
       "V18       float64\n",
       "V19       float64\n",
       "V20       float64\n",
       "V21       float64\n",
       "V22       float64\n",
       "V23       float64\n",
       "V24       float64\n",
       "V25       float64\n",
       "V26       float64\n",
       "V27       float64\n",
       "V28       float64\n",
       "Amount    float64\n",
       "Class       int64\n",
       "dtype: object"
      ]
     },
     "execution_count": 5,
     "metadata": {},
     "output_type": "execute_result"
    }
   ],
   "source": [
    "## Lets look at the column data types\n",
    "\n",
    "credit_card_df.dtypes"
   ]
  },
  {
   "cell_type": "code",
   "execution_count": 6,
   "id": "696cfbdb-d196-49e3-acda-a468592f071b",
   "metadata": {},
   "outputs": [
    {
     "data": {
      "text/html": [
       "<div>\n",
       "<style scoped>\n",
       "    .dataframe tbody tr th:only-of-type {\n",
       "        vertical-align: middle;\n",
       "    }\n",
       "\n",
       "    .dataframe tbody tr th {\n",
       "        vertical-align: top;\n",
       "    }\n",
       "\n",
       "    .dataframe thead th {\n",
       "        text-align: right;\n",
       "    }\n",
       "</style>\n",
       "<table border=\"1\" class=\"dataframe\">\n",
       "  <thead>\n",
       "    <tr style=\"text-align: right;\">\n",
       "      <th></th>\n",
       "      <th>Time</th>\n",
       "      <th>V1</th>\n",
       "      <th>V2</th>\n",
       "      <th>V3</th>\n",
       "      <th>V4</th>\n",
       "      <th>V5</th>\n",
       "      <th>V6</th>\n",
       "      <th>V7</th>\n",
       "      <th>V8</th>\n",
       "      <th>V9</th>\n",
       "      <th>...</th>\n",
       "      <th>V21</th>\n",
       "      <th>V22</th>\n",
       "      <th>V23</th>\n",
       "      <th>V24</th>\n",
       "      <th>V25</th>\n",
       "      <th>V26</th>\n",
       "      <th>V27</th>\n",
       "      <th>V28</th>\n",
       "      <th>Amount</th>\n",
       "      <th>Class</th>\n",
       "    </tr>\n",
       "  </thead>\n",
       "  <tbody>\n",
       "    <tr>\n",
       "      <th>count</th>\n",
       "      <td>284807.000000</td>\n",
       "      <td>2.848070e+05</td>\n",
       "      <td>2.848070e+05</td>\n",
       "      <td>2.848070e+05</td>\n",
       "      <td>2.848070e+05</td>\n",
       "      <td>2.848070e+05</td>\n",
       "      <td>2.848070e+05</td>\n",
       "      <td>2.848070e+05</td>\n",
       "      <td>2.848070e+05</td>\n",
       "      <td>2.848070e+05</td>\n",
       "      <td>...</td>\n",
       "      <td>2.848070e+05</td>\n",
       "      <td>2.848070e+05</td>\n",
       "      <td>2.848070e+05</td>\n",
       "      <td>2.848070e+05</td>\n",
       "      <td>2.848070e+05</td>\n",
       "      <td>2.848070e+05</td>\n",
       "      <td>2.848070e+05</td>\n",
       "      <td>2.848070e+05</td>\n",
       "      <td>284807.000000</td>\n",
       "      <td>284807.000000</td>\n",
       "    </tr>\n",
       "    <tr>\n",
       "      <th>mean</th>\n",
       "      <td>94813.859575</td>\n",
       "      <td>3.918649e-15</td>\n",
       "      <td>5.682686e-16</td>\n",
       "      <td>-8.761736e-15</td>\n",
       "      <td>2.811118e-15</td>\n",
       "      <td>-1.552103e-15</td>\n",
       "      <td>2.040130e-15</td>\n",
       "      <td>-1.698953e-15</td>\n",
       "      <td>-1.893285e-16</td>\n",
       "      <td>-3.147640e-15</td>\n",
       "      <td>...</td>\n",
       "      <td>1.473120e-16</td>\n",
       "      <td>8.042109e-16</td>\n",
       "      <td>5.282512e-16</td>\n",
       "      <td>4.456271e-15</td>\n",
       "      <td>1.426896e-15</td>\n",
       "      <td>1.701640e-15</td>\n",
       "      <td>-3.662252e-16</td>\n",
       "      <td>-1.217809e-16</td>\n",
       "      <td>88.349619</td>\n",
       "      <td>0.001727</td>\n",
       "    </tr>\n",
       "    <tr>\n",
       "      <th>std</th>\n",
       "      <td>47488.145955</td>\n",
       "      <td>1.958696e+00</td>\n",
       "      <td>1.651309e+00</td>\n",
       "      <td>1.516255e+00</td>\n",
       "      <td>1.415869e+00</td>\n",
       "      <td>1.380247e+00</td>\n",
       "      <td>1.332271e+00</td>\n",
       "      <td>1.237094e+00</td>\n",
       "      <td>1.194353e+00</td>\n",
       "      <td>1.098632e+00</td>\n",
       "      <td>...</td>\n",
       "      <td>7.345240e-01</td>\n",
       "      <td>7.257016e-01</td>\n",
       "      <td>6.244603e-01</td>\n",
       "      <td>6.056471e-01</td>\n",
       "      <td>5.212781e-01</td>\n",
       "      <td>4.822270e-01</td>\n",
       "      <td>4.036325e-01</td>\n",
       "      <td>3.300833e-01</td>\n",
       "      <td>250.120109</td>\n",
       "      <td>0.041527</td>\n",
       "    </tr>\n",
       "    <tr>\n",
       "      <th>min</th>\n",
       "      <td>0.000000</td>\n",
       "      <td>-5.640751e+01</td>\n",
       "      <td>-7.271573e+01</td>\n",
       "      <td>-4.832559e+01</td>\n",
       "      <td>-5.683171e+00</td>\n",
       "      <td>-1.137433e+02</td>\n",
       "      <td>-2.616051e+01</td>\n",
       "      <td>-4.355724e+01</td>\n",
       "      <td>-7.321672e+01</td>\n",
       "      <td>-1.343407e+01</td>\n",
       "      <td>...</td>\n",
       "      <td>-3.483038e+01</td>\n",
       "      <td>-1.093314e+01</td>\n",
       "      <td>-4.480774e+01</td>\n",
       "      <td>-2.836627e+00</td>\n",
       "      <td>-1.029540e+01</td>\n",
       "      <td>-2.604551e+00</td>\n",
       "      <td>-2.256568e+01</td>\n",
       "      <td>-1.543008e+01</td>\n",
       "      <td>0.000000</td>\n",
       "      <td>0.000000</td>\n",
       "    </tr>\n",
       "    <tr>\n",
       "      <th>25%</th>\n",
       "      <td>54201.500000</td>\n",
       "      <td>-9.203734e-01</td>\n",
       "      <td>-5.985499e-01</td>\n",
       "      <td>-8.903648e-01</td>\n",
       "      <td>-8.486401e-01</td>\n",
       "      <td>-6.915971e-01</td>\n",
       "      <td>-7.682956e-01</td>\n",
       "      <td>-5.540759e-01</td>\n",
       "      <td>-2.086297e-01</td>\n",
       "      <td>-6.430976e-01</td>\n",
       "      <td>...</td>\n",
       "      <td>-2.283949e-01</td>\n",
       "      <td>-5.423504e-01</td>\n",
       "      <td>-1.618463e-01</td>\n",
       "      <td>-3.545861e-01</td>\n",
       "      <td>-3.171451e-01</td>\n",
       "      <td>-3.269839e-01</td>\n",
       "      <td>-7.083953e-02</td>\n",
       "      <td>-5.295979e-02</td>\n",
       "      <td>5.600000</td>\n",
       "      <td>0.000000</td>\n",
       "    </tr>\n",
       "    <tr>\n",
       "      <th>50%</th>\n",
       "      <td>84692.000000</td>\n",
       "      <td>1.810880e-02</td>\n",
       "      <td>6.548556e-02</td>\n",
       "      <td>1.798463e-01</td>\n",
       "      <td>-1.984653e-02</td>\n",
       "      <td>-5.433583e-02</td>\n",
       "      <td>-2.741871e-01</td>\n",
       "      <td>4.010308e-02</td>\n",
       "      <td>2.235804e-02</td>\n",
       "      <td>-5.142873e-02</td>\n",
       "      <td>...</td>\n",
       "      <td>-2.945017e-02</td>\n",
       "      <td>6.781943e-03</td>\n",
       "      <td>-1.119293e-02</td>\n",
       "      <td>4.097606e-02</td>\n",
       "      <td>1.659350e-02</td>\n",
       "      <td>-5.213911e-02</td>\n",
       "      <td>1.342146e-03</td>\n",
       "      <td>1.124383e-02</td>\n",
       "      <td>22.000000</td>\n",
       "      <td>0.000000</td>\n",
       "    </tr>\n",
       "    <tr>\n",
       "      <th>75%</th>\n",
       "      <td>139320.500000</td>\n",
       "      <td>1.315642e+00</td>\n",
       "      <td>8.037239e-01</td>\n",
       "      <td>1.027196e+00</td>\n",
       "      <td>7.433413e-01</td>\n",
       "      <td>6.119264e-01</td>\n",
       "      <td>3.985649e-01</td>\n",
       "      <td>5.704361e-01</td>\n",
       "      <td>3.273459e-01</td>\n",
       "      <td>5.971390e-01</td>\n",
       "      <td>...</td>\n",
       "      <td>1.863772e-01</td>\n",
       "      <td>5.285536e-01</td>\n",
       "      <td>1.476421e-01</td>\n",
       "      <td>4.395266e-01</td>\n",
       "      <td>3.507156e-01</td>\n",
       "      <td>2.409522e-01</td>\n",
       "      <td>9.104512e-02</td>\n",
       "      <td>7.827995e-02</td>\n",
       "      <td>77.165000</td>\n",
       "      <td>0.000000</td>\n",
       "    </tr>\n",
       "    <tr>\n",
       "      <th>max</th>\n",
       "      <td>172792.000000</td>\n",
       "      <td>2.454930e+00</td>\n",
       "      <td>2.205773e+01</td>\n",
       "      <td>9.382558e+00</td>\n",
       "      <td>1.687534e+01</td>\n",
       "      <td>3.480167e+01</td>\n",
       "      <td>7.330163e+01</td>\n",
       "      <td>1.205895e+02</td>\n",
       "      <td>2.000721e+01</td>\n",
       "      <td>1.559499e+01</td>\n",
       "      <td>...</td>\n",
       "      <td>2.720284e+01</td>\n",
       "      <td>1.050309e+01</td>\n",
       "      <td>2.252841e+01</td>\n",
       "      <td>4.584549e+00</td>\n",
       "      <td>7.519589e+00</td>\n",
       "      <td>3.517346e+00</td>\n",
       "      <td>3.161220e+01</td>\n",
       "      <td>3.384781e+01</td>\n",
       "      <td>25691.160000</td>\n",
       "      <td>1.000000</td>\n",
       "    </tr>\n",
       "  </tbody>\n",
       "</table>\n",
       "<p>8 rows × 31 columns</p>\n",
       "</div>"
      ],
      "text/plain": [
       "                Time            V1            V2            V3            V4  \\\n",
       "count  284807.000000  2.848070e+05  2.848070e+05  2.848070e+05  2.848070e+05   \n",
       "mean    94813.859575  3.918649e-15  5.682686e-16 -8.761736e-15  2.811118e-15   \n",
       "std     47488.145955  1.958696e+00  1.651309e+00  1.516255e+00  1.415869e+00   \n",
       "min         0.000000 -5.640751e+01 -7.271573e+01 -4.832559e+01 -5.683171e+00   \n",
       "25%     54201.500000 -9.203734e-01 -5.985499e-01 -8.903648e-01 -8.486401e-01   \n",
       "50%     84692.000000  1.810880e-02  6.548556e-02  1.798463e-01 -1.984653e-02   \n",
       "75%    139320.500000  1.315642e+00  8.037239e-01  1.027196e+00  7.433413e-01   \n",
       "max    172792.000000  2.454930e+00  2.205773e+01  9.382558e+00  1.687534e+01   \n",
       "\n",
       "                 V5            V6            V7            V8            V9  \\\n",
       "count  2.848070e+05  2.848070e+05  2.848070e+05  2.848070e+05  2.848070e+05   \n",
       "mean  -1.552103e-15  2.040130e-15 -1.698953e-15 -1.893285e-16 -3.147640e-15   \n",
       "std    1.380247e+00  1.332271e+00  1.237094e+00  1.194353e+00  1.098632e+00   \n",
       "min   -1.137433e+02 -2.616051e+01 -4.355724e+01 -7.321672e+01 -1.343407e+01   \n",
       "25%   -6.915971e-01 -7.682956e-01 -5.540759e-01 -2.086297e-01 -6.430976e-01   \n",
       "50%   -5.433583e-02 -2.741871e-01  4.010308e-02  2.235804e-02 -5.142873e-02   \n",
       "75%    6.119264e-01  3.985649e-01  5.704361e-01  3.273459e-01  5.971390e-01   \n",
       "max    3.480167e+01  7.330163e+01  1.205895e+02  2.000721e+01  1.559499e+01   \n",
       "\n",
       "       ...           V21           V22           V23           V24  \\\n",
       "count  ...  2.848070e+05  2.848070e+05  2.848070e+05  2.848070e+05   \n",
       "mean   ...  1.473120e-16  8.042109e-16  5.282512e-16  4.456271e-15   \n",
       "std    ...  7.345240e-01  7.257016e-01  6.244603e-01  6.056471e-01   \n",
       "min    ... -3.483038e+01 -1.093314e+01 -4.480774e+01 -2.836627e+00   \n",
       "25%    ... -2.283949e-01 -5.423504e-01 -1.618463e-01 -3.545861e-01   \n",
       "50%    ... -2.945017e-02  6.781943e-03 -1.119293e-02  4.097606e-02   \n",
       "75%    ...  1.863772e-01  5.285536e-01  1.476421e-01  4.395266e-01   \n",
       "max    ...  2.720284e+01  1.050309e+01  2.252841e+01  4.584549e+00   \n",
       "\n",
       "                V25           V26           V27           V28         Amount  \\\n",
       "count  2.848070e+05  2.848070e+05  2.848070e+05  2.848070e+05  284807.000000   \n",
       "mean   1.426896e-15  1.701640e-15 -3.662252e-16 -1.217809e-16      88.349619   \n",
       "std    5.212781e-01  4.822270e-01  4.036325e-01  3.300833e-01     250.120109   \n",
       "min   -1.029540e+01 -2.604551e+00 -2.256568e+01 -1.543008e+01       0.000000   \n",
       "25%   -3.171451e-01 -3.269839e-01 -7.083953e-02 -5.295979e-02       5.600000   \n",
       "50%    1.659350e-02 -5.213911e-02  1.342146e-03  1.124383e-02      22.000000   \n",
       "75%    3.507156e-01  2.409522e-01  9.104512e-02  7.827995e-02      77.165000   \n",
       "max    7.519589e+00  3.517346e+00  3.161220e+01  3.384781e+01   25691.160000   \n",
       "\n",
       "               Class  \n",
       "count  284807.000000  \n",
       "mean        0.001727  \n",
       "std         0.041527  \n",
       "min         0.000000  \n",
       "25%         0.000000  \n",
       "50%         0.000000  \n",
       "75%         0.000000  \n",
       "max         1.000000  \n",
       "\n",
       "[8 rows x 31 columns]"
      ]
     },
     "execution_count": 6,
     "metadata": {},
     "output_type": "execute_result"
    }
   ],
   "source": [
    "## Lets get the summary statistics of the numerical data of the credit card data frame.\n",
    "\n",
    "credit_card_df.describe()"
   ]
  },
  {
   "cell_type": "markdown",
   "id": "e8569a3b-d40f-4ada-ac14-15f6e149b27b",
   "metadata": {},
   "source": [
    "#### As we can see we do not have any non numerical column in data frame. Since the count for all the columns is 284807 that means we do not have any mssing values in the data frames."
   ]
  },
  {
   "cell_type": "code",
   "execution_count": 7,
   "id": "a2673357-e0ce-4327-8579-b8567d6f5c61",
   "metadata": {},
   "outputs": [
    {
     "name": "stdout",
     "output_type": "stream",
     "text": [
      "<class 'pandas.core.frame.DataFrame'>\n",
      "RangeIndex: 284807 entries, 0 to 284806\n",
      "Data columns (total 31 columns):\n",
      " #   Column  Non-Null Count   Dtype  \n",
      "---  ------  --------------   -----  \n",
      " 0   Time    284807 non-null  float64\n",
      " 1   V1      284807 non-null  float64\n",
      " 2   V2      284807 non-null  float64\n",
      " 3   V3      284807 non-null  float64\n",
      " 4   V4      284807 non-null  float64\n",
      " 5   V5      284807 non-null  float64\n",
      " 6   V6      284807 non-null  float64\n",
      " 7   V7      284807 non-null  float64\n",
      " 8   V8      284807 non-null  float64\n",
      " 9   V9      284807 non-null  float64\n",
      " 10  V10     284807 non-null  float64\n",
      " 11  V11     284807 non-null  float64\n",
      " 12  V12     284807 non-null  float64\n",
      " 13  V13     284807 non-null  float64\n",
      " 14  V14     284807 non-null  float64\n",
      " 15  V15     284807 non-null  float64\n",
      " 16  V16     284807 non-null  float64\n",
      " 17  V17     284807 non-null  float64\n",
      " 18  V18     284807 non-null  float64\n",
      " 19  V19     284807 non-null  float64\n",
      " 20  V20     284807 non-null  float64\n",
      " 21  V21     284807 non-null  float64\n",
      " 22  V22     284807 non-null  float64\n",
      " 23  V23     284807 non-null  float64\n",
      " 24  V24     284807 non-null  float64\n",
      " 25  V25     284807 non-null  float64\n",
      " 26  V26     284807 non-null  float64\n",
      " 27  V27     284807 non-null  float64\n",
      " 28  V28     284807 non-null  float64\n",
      " 29  Amount  284807 non-null  float64\n",
      " 30  Class   284807 non-null  int64  \n",
      "dtypes: float64(30), int64(1)\n",
      "memory usage: 67.4 MB\n"
     ]
    }
   ],
   "source": [
    "## Using info function to make sure that the data frame do not have any missing values.\n",
    "\n",
    "credit_card_df.info()"
   ]
  },
  {
   "cell_type": "markdown",
   "id": "1d505579-fbca-4838-9af5-b5533a6f823e",
   "metadata": {},
   "source": [
    "#### As we can see that all the columns have count as 284807 indicating no null values in the dataset."
   ]
  },
  {
   "cell_type": "markdown",
   "id": "d838e87c-c050-453f-ac9c-afad09d6fa19",
   "metadata": {},
   "source": [
    "## Correlation between the features"
   ]
  },
  {
   "cell_type": "code",
   "execution_count": 8,
   "id": "36fbc48a-22ba-41eb-8be4-2f749864cee3",
   "metadata": {},
   "outputs": [],
   "source": [
    "import seaborn as sns\n",
    "from matplotlib import gridspec"
   ]
  },
  {
   "cell_type": "code",
   "execution_count": 9,
   "id": "4e0dbff5-4882-4e75-ab65-4e08ffd84c39",
   "metadata": {},
   "outputs": [
    {
     "data": {
      "image/png": "[encoded data removed]",
      "text/plain": [
       "<Figure size 720x576 with 2 Axes>"
      ]
     },
     "metadata": {
      "needs_background": "light"
     },
     "output_type": "display_data"
    }
   ],
   "source": [
    "## next step is to see how the features in data frame are related to each other.\n",
    "## Using heatmap to understand the relationship.\n",
    "\n",
    "corr_matrix = credit_card_df.corr()\n",
    "fig = plt.figure(figsize = (10, 8))\n",
    "\n",
    "## Creating heatmap\n",
    "sns.heatmap(corr_matrix, vmax = .8, square = True)\n",
    "plt.show()"
   ]
  },
  {
   "cell_type": "markdown",
   "id": "bd90a1f8-05f2-4cf8-9674-f4e04a8e3e7b",
   "metadata": {},
   "source": [
    "#### Looking at the heatmap above we can clearly say that v7 and v20 features are positively correlated to Amount. Class and Amount is negatively correlated to v3. Also we can see that V2 and V5 are negatively correlated to Amount. The features V1, V2, ... and V28 are weakly correlated to each other. Class is negatively correlated to v14, v17 and v12."
   ]
  },
  {
   "cell_type": "markdown",
   "id": "5d57c178-c66d-4b75-b3cc-01653356222d",
   "metadata": {},
   "source": [
    "## Class Distribution"
   ]
  },
  {
   "cell_type": "code",
   "execution_count": 10,
   "id": "97c96e4e-d05b-4ec4-aaf4-e0e1df472f7c",
   "metadata": {},
   "outputs": [
    {
     "data": {
      "image/png": "[encoded data removed]",
      "text/plain": [
       "<Figure size 720x576 with 1 Axes>"
      ]
     },
     "metadata": {
      "needs_background": "light"
     },
     "output_type": "display_data"
    }
   ],
   "source": [
    "## Lets plot the categorical feature Class.\n",
    "## class labels as 0 then it is non-fraudulent and when it is 1 then it is fraudulent\n",
    "\n",
    "fig = plt.figure(figsize = (10, 8))\n",
    "\n",
    "credit_card_df['Class'].value_counts().plot(kind='bar')\n",
    "\n",
    "## Adding title to the plot\n",
    "plt.title('Credit card Transaction Fraud or non-Fraud', fontsize=14) \n",
    "# Add x-axis label with font size of 14\n",
    "plt.xlabel('Class', fontsize=14)\n",
    "# change rotation of x-axis labels\n",
    "plt.xticks(rotation=90) \n",
    "# Add y-axis label with font size of 14\n",
    "plt.ylabel('Total Transaction', fontsize=14) \n",
    "\n",
    "plt.show()"
   ]
  },
  {
   "cell_type": "markdown",
   "id": "c6754942-ab0c-4633-8c05-b321c4885971",
   "metadata": {
    "tags": []
   },
   "source": [
    "#### The above graph show unstability in the transaction data, the Fraud transaction are very less compare to non-Fraud transactions."
   ]
  },
  {
   "cell_type": "markdown",
   "id": "646d4b9b-da3b-4681-b83c-6c8c370bfcc8",
   "metadata": {
    "tags": []
   },
   "source": [
    "## Boxplot distribution to detect outliers"
   ]
  },
  {
   "cell_type": "code",
   "execution_count": 11,
   "id": "02a6ea49-b1d9-424d-95f7-3e487f951374",
   "metadata": {},
   "outputs": [
    {
     "data": {
      "image/png": "[encoded data removed]",
      "text/plain": [
       "<Figure size 1440x432 with 1 Axes>"
      ]
     },
     "metadata": {
      "needs_background": "light"
     },
     "output_type": "display_data"
    }
   ],
   "source": [
    "## Lets create the boxplot to detect the outliers in credit card transaction dataset.\n",
    "fig, (ax1) = plt.subplots(1, sharex=True, figsize=(20,6))\n",
    "\n",
    "## Boxplot for Trasaction amount\n",
    "sns.boxplot(x=credit_card_df['Amount'], ax=ax1)\n",
    "\n",
    "plt.show()"
   ]
  },
  {
   "cell_type": "markdown",
   "id": "a17bd45c-99b1-4eea-b64b-b415e4ebe8c9",
   "metadata": {},
   "source": [
    "#### The above boxplot shows the prsence of lot of outliers in data which might can lead to Credit card fraud detection model to failure."
   ]
  },
  {
   "cell_type": "code",
   "execution_count": 12,
   "id": "e02d0ab7-10cf-40fc-9019-6d80f9973742",
   "metadata": {},
   "outputs": [
    {
     "name": "stdout",
     "output_type": "stream",
     "text": [
      "The total number of Transactions in the credit card data frame is 284807\n",
      "The number of Non-Fraud transactions in the credit card data frame is 284315\n",
      "The number of Fraud transactions in the credit card data frame is 492\n"
     ]
    }
   ],
   "source": [
    "## Lets calculate the non-Fraud and Fraud transaction in the data frame using Class columns\n",
    "\n",
    "## Calculating the total transaction in the data frame.\n",
    "Total = len(credit_card_df)\n",
    "\n",
    "## class labels as 0 then it is non-fraudulent and when it is 1 then it is fraudulent\n",
    "\n",
    "## Using filter Class==0 to calculate non-fraud transaction in the data frame.\n",
    "non_Fraud = len(credit_card_df[credit_card_df.Class == 0])\n",
    "\n",
    "## Using filter Class==1 to calculate fraud transaction in the data frame.\n",
    "Fraud = len(credit_card_df[credit_card_df.Class == 1])\n",
    "\n",
    "print('The total number of Transactions in the credit card data frame is {}'.format(Total))\n",
    "print('The number of Non-Fraud transactions in the credit card data frame is {}'.format(non_Fraud))\n",
    "print('The number of Fraud transactions in the credit card data frame is {}'.format(Fraud))"
   ]
  },
  {
   "cell_type": "code",
   "execution_count": 13,
   "id": "9cf0f13f-b6aa-43a7-b514-e117b07fd3cd",
   "metadata": {
    "tags": []
   },
   "outputs": [
    {
     "name": "stdout",
     "output_type": "stream",
     "text": [
      "The percentage of Fraud transactions out of the total transactions is 0.17\n"
     ]
    }
   ],
   "source": [
    "## Lets calculate the percentage of the fraud transactions out of the total transactions.\n",
    "\n",
    "Fraud_percentage = round(Fraud/non_Fraud*100, 2)\n",
    "print('The percentage of Fraud transactions out of the total transactions is {}'.format(Fraud_percentage))"
   ]
  },
  {
   "cell_type": "markdown",
   "id": "baebf24c-5e40-49d0-8ec3-22eca2fa0976",
   "metadata": {},
   "source": [
    "#### 17% of the total transaction are fraud."
   ]
  },
  {
   "cell_type": "markdown",
   "id": "4b6fd7ac-7f92-4208-96e0-451ef68666df",
   "metadata": {},
   "source": [
    "#### We can clearly see that out of 284807 transactions, 492 are fraud and 284315 are non-fraud transactions. The Fraud transaction are very less compare to non fraud transaction, if we simply go ahead and removed the outliers there is a chance that we might loss some fraudulent transaction which we cannot afford if we need to build predictive model."
   ]
  },
  {
   "cell_type": "code",
   "execution_count": 14,
   "id": "635c634a-7fa3-41aa-8a12-1d6340930a1a",
   "metadata": {},
   "outputs": [
    {
     "data": {
      "text/plain": [
       "(array([1.e-02, 1.e-01, 1.e+00, 1.e+01, 1.e+02, 1.e+03, 1.e+04, 1.e+05,\n",
       "        1.e+06]),\n",
       " [Text(0, 0, ''),\n",
       "  Text(0, 0, ''),\n",
       "  Text(0, 0, ''),\n",
       "  Text(0, 0, ''),\n",
       "  Text(0, 0, ''),\n",
       "  Text(0, 0, ''),\n",
       "  Text(0, 0, ''),\n",
       "  Text(0, 0, ''),\n",
       "  Text(0, 0, '')])"
      ]
     },
     "execution_count": 14,
     "metadata": {},
     "output_type": "execute_result"
    },
    {
     "data": {
      "image/png": "[encoded data removed]",
      "text/plain": [
       "<Figure size 432x288 with 1 Axes>"
      ]
     },
     "metadata": {
      "needs_background": "light"
     },
     "output_type": "display_data"
    }
   ],
   "source": [
    "## Lets create the boxplot to understand the distribution of Transaction amount by class\n",
    "\n",
    "plt.figure()\n",
    "plt.yscale('log')\n",
    "sns.set_context({\"figure.figsize\": (10, 8)})\n",
    "\n",
    "## Creating boxplot\n",
    "dist = sns.boxplot(data = credit_card_df, x = 'Class', y = 'Amount')\n",
    "\n",
    "## Setting the title fo the boxplot\n",
    "plt.title(\"Transaction Amount distribution by Class\", fontsize=25)\n",
    "\n",
    "## Setting the x axis and y axis label for the boxplot\n",
    "plt.xlabel('Class', fontsize=20); plt.xticks(fontsize=15)\n",
    "plt.ylabel('Amount', fontsize=20); plt.yticks(fontsize=15)"
   ]
  },
  {
   "cell_type": "markdown",
   "id": "43d3bc3a-f4e2-4cea-b756-1c033b351909",
   "metadata": {},
   "source": [
    "#### Boxplot helps us to identfy the outliers and gave us better understanding of outliers that whether it is require to remove outliers from the data or not. Outliers are considered to be any value coming outside of the 1.5 times of the Inter-Quartile range. But with credit card data set where the fraud transaction are only 17% compare to the total transactions it would be not a good idea to remove all the outliers of the data. So instead of removing all the outliers data points we will be focusing only on the extreme outliers."
   ]
  },
  {
   "cell_type": "markdown",
   "id": "77a9a845-6213-422d-b45e-9fe671b961c9",
   "metadata": {},
   "source": [
    "#### Looking at the box plot we can cleary see that we do not have outliers for fraud transactions after 3000 but outliers in non fraud transaction is quite visible and present even after 10000. Lets consider any amount beyond to 10000 as extreme outliers and we will be creating the dataset after removing the extreme outliers."
   ]
  },
  {
   "cell_type": "code",
   "execution_count": 15,
   "id": "8e3468a3-4e0f-41ed-9f22-108ca8fdecf2",
   "metadata": {},
   "outputs": [],
   "source": [
    "## Lets build the dataframe after removing outliers that have transaction amount beyond 10000.\n",
    "\n",
    "credit_card_df = credit_card_df[credit_card_df.Amount <= 10000]"
   ]
  },
  {
   "cell_type": "code",
   "execution_count": 16,
   "id": "611303d4-c575-4453-bc37-2ca84ed3d54c",
   "metadata": {},
   "outputs": [
    {
     "name": "stdout",
     "output_type": "stream",
     "text": [
      "The total number of Transactions in the credit card data frame is 284800\n",
      "The number of Non-Fraud transactions in the credit card data frame is 284308\n",
      "The number of Fraud transactions in the credit card data frame is 492\n",
      "The percentage of Fraud transactions out of the total transactions is 0.17\n"
     ]
    }
   ],
   "source": [
    "## Lets calculate the non-Fraud and Fraud transaction in the data frame using Class columns again after removing the outliers.\n",
    "\n",
    "## Calculating the total , fraud, non fraud transaction in the data frame.\n",
    "print('The total number of Transactions in the credit card data frame is {}'.format(len(credit_card_df)))\n",
    "print('The number of Non-Fraud transactions in the credit card data frame is {}'.format(len(credit_card_df[credit_card_df.Class == 0])))\n",
    "print('The number of Fraud transactions in the credit card data frame is {}'.format(len(credit_card_df[credit_card_df.Class == 1])))\n",
    "\n",
    "## Checking the percentage of fraud transaction against total transaction again after removing outliers.\n",
    "print('The percentage of Fraud transactions out of the total transactions is {}'.format(round(len(credit_card_df[credit_card_df.Class == 1])/len(credit_card_df[credit_card_df.Class == 0])*100, 2)))"
   ]
  },
  {
   "cell_type": "markdown",
   "id": "fad7fc59-d508-46c7-b309-4fce730697ae",
   "metadata": {},
   "source": [
    "#### As expected we not seeing much changes in the non fraud transaction and fraud transaction after removing outliers from the data frame."
   ]
  },
  {
   "cell_type": "markdown",
   "id": "92f071cb-ad0a-46b3-ad42-3d7669a6be8c",
   "metadata": {},
   "source": [
    "## Credit card transaction time by Class"
   ]
  },
  {
   "cell_type": "code",
   "execution_count": 17,
   "id": "d80ab452-90a2-48db-b16c-e2c1596b1b6c",
   "metadata": {},
   "outputs": [
    {
     "data": {
      "text/html": [
       "        <script type=\"text/javascript\">\n",
       "        window.PlotlyConfig = {MathJaxConfig: 'local'};\n",
       "        if (window.MathJax && window.MathJax.Hub && window.MathJax.Hub.Config) {window.MathJax.Hub.Config({SVG: {font: \"STIX-Web\"}});}\n",
       "        if (typeof require !== 'undefined') {\n",
       "        require.undef(\"plotly\");\n",
       "        requirejs.config({\n",
       "            paths: {\n",
       "                'plotly': ['https://cdn.plot.ly/plotly-2.12.1.min']\n",
       "            }\n",
       "        });\n",
       "        require(['plotly'], function(Plotly) {\n",
       "            window._Plotly = Plotly;\n",
       "        });\n",
       "        }\n",
       "        </script>\n",
       "        "
      ]
     },
     "metadata": {},
     "output_type": "display_data"
    }
   ],
   "source": [
    "## Lets import the required libraries\n",
    "\n",
    "import plotly.figure_factory as ff\n",
    "from plotly import tools\n",
    "from plotly.offline import download_plotlyjs, init_notebook_mode, plot, iplot\n",
    "init_notebook_mode(connected=True)"
   ]
  },
  {
   "cell_type": "code",
   "execution_count": 18,
   "id": "9b1b7c2a-c3d6-4eb3-af51-285fba7826ae",
   "metadata": {},
   "outputs": [
    {
     "data": {
      "application/vnd.plotly.v1+json": {
       "config": {
        "plotlyServerURL": "https://plot.ly"
       },
       "data": [
        {
         "legendgroup": "Non-Fraudulent",
         "marker": {
          "color": "rgb(31, 119, 180)"
         },
         "mode": "lines",
         "name": "Non-Fraudulent",
         "showlegend": true,
         "type": "scatter",
         "x": [
          0,
          345.584,
          691.168,
          1036.752,
          1382.336,
          1727.92,
          2073.504,
          2419.088,
          2764.672,
          3110.256,
          3455.84,
          3801.424,
          4147.008,
          4492.592,
          4838.176,
          5183.76,
          5529.344,
          5874.928,
          6220.512,
          6566.096,
          6911.68,
          7257.264,
          7602.848,
          7948.432,
          8294.016,
          8639.6,
          8985.184,
          9330.768,
          9676.352,
          10021.936,
          10367.52,
          10713.104,
          11058.688,
          11404.272,
          11749.856,
          12095.44,
          12441.024,
          12786.608,
          13132.192,
          13477.776,
          13823.36,
          14168.944,
          14514.528,
          14860.112,
          15205.696,
          15551.28,
          15896.864,
          16242.448,
          16588.032,
          16933.616,
          17279.2,
          17624.784,
          17970.368,
          18315.952,
          18661.536,
          19007.12,
          19352.704,
          19698.288,
          20043.872,
          20389.456,
          20735.04,
          21080.624,
          21426.208,
          21771.792,
          22117.376,
          22462.96,
          22808.544,
          23154.128,
          23499.712,
          23845.296,
          24190.88,
          24536.464,
          24882.048,
          25227.632,
          25573.216,
          25918.8,
          26264.384,
          26609.968,
          26955.552,
          27301.136,
          27646.72,
          27992.304,
          28337.888,
          28683.472,
          29029.056,
          29374.64,
          29720.224,
          30065.808,
          30411.392,
          30756.976,
          31102.56,
          31448.144,
          31793.728,
          32139.312,
          32484.896,
          32830.48,
          33176.064,
          33521.648,
          33867.232,
          34212.816,
          34558.4,
          34903.984,
          35249.568,
          35595.152,
          35940.736,
          36286.32,
          36631.904,
          36977.488,
          37323.072,
          37668.656,
          38014.24,
          38359.824,
          38705.408,
          39050.992,
          39396.576,
          39742.16,
          40087.744,
          40433.328,
          40778.912,
          41124.496,
          41470.08,
          41815.664,
          42161.248,
          42506.832,
          42852.416,
          43198,
          43543.584,
          43889.168,
          44234.752,
          44580.336,
          44925.92,
          45271.504,
          45617.088,
          45962.672,
          46308.256,
          46653.84,
          46999.424,
          47345.008,
          47690.592,
          48036.176,
          48381.76,
          48727.344,
          49072.928,
          49418.512,
          49764.096,
          50109.68,
          50455.264,
          50800.848,
          51146.432,
          51492.016,
          51837.6,
          52183.184,
          52528.768,
          52874.352,
          53219.936,
          53565.52,
          53911.104,
          54256.688,
          54602.272,
          54947.856,
          55293.44,
          55639.024,
          55984.608,
          56330.192,
          56675.776,
          57021.36,
          57366.944,
          57712.528,
          58058.112,
          58403.696,
          58749.28,
          59094.864,
          59440.448,
          59786.032,
          60131.616,
          60477.2,
          60822.784,
          61168.368,
          61513.952,
          61859.536,
          62205.12,
          62550.704,
          62896.288,
          63241.872,
          63587.456,
          63933.04,
          64278.624,
          64624.208,
          64969.792,
          65315.376,
          65660.96,
          66006.544,
          66352.128,
          66697.712,
          67043.296,
          67388.88,
          67734.464,
          68080.048,
          68425.632,
          68771.216,
          69116.8,
          69462.384,
          69807.968,
          70153.552,
          70499.136,
          70844.72,
          71190.304,
          71535.888,
          71881.472,
          72227.056,
          72572.64,
          72918.224,
          73263.808,
          73609.392,
          73954.976,
          74300.56,
          74646.144,
          74991.728,
          75337.312,
          75682.896,
          76028.48,
          76374.064,
          76719.648,
          77065.232,
          77410.816,
          77756.4,
          78101.984,
          78447.568,
          78793.152,
          79138.736,
          79484.32,
          79829.904,
          80175.488,
          80521.072,
          80866.656,
          81212.24,
          81557.824,
          81903.408,
          82248.992,
          82594.576,
          82940.16,
          83285.744,
          83631.328,
          83976.912,
          84322.496,
          84668.08,
          85013.664,
          85359.248,
          85704.832,
          86050.416,
          86396,
          86741.584,
          87087.168,
          87432.752,
          87778.336,
          88123.92,
          88469.504,
          88815.088,
          89160.672,
          89506.256,
          89851.84,
          90197.424,
          90543.008,
          90888.592,
          91234.176,
          91579.76,
          91925.344,
          92270.928,
          92616.512,
          92962.096,
          93307.68,
          93653.264,
          93998.848,
          94344.432,
          94690.016,
          95035.6,
          95381.184,
          95726.768,
          96072.352,
          96417.936,
          96763.52,
          97109.104,
          97454.688,
          97800.272,
          98145.856,
          98491.44,
          98837.024,
          99182.608,
          99528.192,
          99873.776,
          100219.36,
          100564.944,
          100910.528,
          101256.112,
          101601.696,
          101947.28,
          102292.864,
          102638.448,
          102984.032,
          103329.616,
          103675.2,
          104020.784,
          104366.368,
          104711.952,
          105057.536,
          105403.12,
          105748.704,
          106094.288,
          106439.872,
          106785.456,
          107131.04,
          107476.624,
          107822.208,
          108167.792,
          108513.376,
          108858.96,
          109204.544,
          109550.128,
          109895.712,
          110241.296,
          110586.88,
          110932.464,
          111278.048,
          111623.632,
          111969.216,
          112314.8,
          112660.384,
          113005.968,
          113351.552,
          113697.136,
          114042.72,
          114388.304,
          114733.888,
          115079.472,
          115425.056,
          115770.64,
          116116.224,
          116461.808,
          116807.392,
          117152.976,
          117498.56,
          117844.144,
          118189.728,
          118535.312,
          118880.896,
          119226.48,
          119572.064,
          119917.648,
          120263.232,
          120608.816,
          120954.4,
          121299.984,
          121645.568,
          121991.152,
          122336.736,
          122682.32,
          123027.904,
          123373.488,
          123719.072,
          124064.656,
          124410.24,
          124755.824,
          125101.408,
          125446.992,
          125792.576,
          126138.16,
          126483.744,
          126829.328,
          127174.912,
          127520.496,
          127866.08,
          128211.664,
          128557.248,
          128902.832,
          129248.416,
          129594,
          129939.584,
          130285.168,
          130630.752,
          130976.336,
          131321.92,
          131667.504,
          132013.088,
          132358.672,
          132704.256,
          133049.84,
          133395.424,
          133741.008,
          134086.592,
          134432.176,
          134777.76,
          135123.344,
          135468.928,
          135814.512,
          136160.096,
          136505.68,
          136851.264,
          137196.848,
          137542.432,
          137888.016,
          138233.6,
          138579.184,
          138924.768,
          139270.352,
          139615.936,
          139961.52,
          140307.104,
          140652.688,
          140998.272,
          141343.856,
          141689.44,
          142035.024,
          142380.608,
          142726.192,
          143071.776,
          143417.36,
          143762.944,
          144108.528,
          144454.112,
          144799.696,
          145145.28,
          145490.864,
          145836.448,
          146182.032,
          146527.616,
          146873.2,
          147218.784,
          147564.368,
          147909.952,
          148255.536,
          148601.12,
          148946.704,
          149292.288,
          149637.872,
          149983.456,
          150329.04,
          150674.624,
          151020.208,
          151365.792,
          151711.376,
          152056.96,
          152402.544,
          152748.128,
          153093.712,
          153439.296,
          153784.88,
          154130.464,
          154476.048,
          154821.632,
          155167.216,
          155512.8,
          155858.384,
          156203.968,
          156549.552,
          156895.136,
          157240.72,
          157586.304,
          157931.888,
          158277.472,
          158623.056,
          158968.64,
          159314.224,
          159659.808,
          160005.392,
          160350.976,
          160696.56,
          161042.144,
          161387.728,
          161733.312,
          162078.896,
          162424.48,
          162770.064,
          163115.648,
          163461.232,
          163806.816,
          164152.4,
          164497.984,
          164843.568,
          165189.152,
          165534.736,
          165880.32,
          166225.904,
          166571.488,
          166917.072,
          167262.656,
          167608.24,
          167953.824,
          168299.408,
          168644.992,
          168990.576,
          169336.16,
          169681.744,
          170027.328,
          170372.912,
          170718.496,
          171064.08,
          171409.664,
          171755.248,
          172100.832,
          172446.416
         ],
         "xaxis": "x",
         "y": [
          1.6973877363280586e-06,
          1.7892828782758112e-06,
          1.875150652944944e-06,
          1.953969681034018e-06,
          2.024861973730794e-06,
          2.087118558483396e-06,
          2.140219119546816e-06,
          2.1838447539385927e-06,
          2.2178832769856942e-06,
          2.2424268783888955e-06,
          2.2577623076183882e-06,
          2.264354133835428e-06,
          2.262821958773455e-06,
          2.2539127419571596e-06,
          2.2384696108455366e-06,
          2.217398663176729e-06,
          2.1916353193567332e-06,
          2.1621117489289777e-06,
          2.1297267818456495e-06,
          2.0953195318782464e-06,
          2.0596477192018845e-06,
          2.0233713978568753e-06,
          1.987042488867491e-06,
          1.9511002091946343e-06,
          1.9158721876306742e-06,
          1.8815807868455872e-06,
          1.8483539192265396e-06,
          1.8162394631085824e-06,
          1.7852222622240903e-06,
          1.7552426279516782e-06,
          1.7262152609622758e-06,
          1.6980475626646352e-06,
          1.6706564111548039e-06,
          1.6439826226015231e-06,
          1.6180024969098476e-06,
          1.5927360448585923e-06,
          1.5682517011002714e-06,
          1.5446675321153637e-06,
          1.5221491399189467e-06,
          1.5009046318018406e-06,
          1.4811771660963376e-06,
          1.463235688215294e-06,
          1.4473645364502027e-06,
          1.4338526217297237e-06,
          1.422982870332275e-06,
          1.4150225659476876e-06,
          1.4102151418021491e-06,
          1.4087738606046428e-06,
          1.4108776868896396e-06,
          1.4166695108144966e-06,
          1.4262567330373964e-06,
          1.4397140754125998e-06,
          1.4570883500340851e-06,
          1.4784048069576768e-06,
          1.5036745948620647e-06,
          1.5329028135210778e-06,
          1.5660966149071781e-06,
          1.6032728216229872e-06,
          1.6444645755986122e-06,
          1.6897266029490693e-06,
          1.7391387770646449e-06,
          1.7928077744147523e-06,
          1.8508667381857975e-06,
          1.9134729853444545e-06,
          1.9808039048139126e-06,
          2.053051290813769e-06,
          2.130414430091056e-06,
          2.2130923106685024e-06,
          2.301275340937298e-06,
          2.3951369618079228e-06,
          2.494825503796565e-06,
          2.6004565898938128e-06,
          2.7121063198984063e-06,
          2.8298053995141437e-06,
          2.9535343051295795e-06,
          3.083219509543555e-06,
          3.218730740654431e-06,
          3.3598792083050087e-06,
          3.5064167161265362e-06,
          3.658035575221312e-06,
          3.814369252607404e-06,
          3.974993715455708e-06,
          4.139429466787549e-06,
          4.3071443032689864e-06,
          4.477556854742125e-06,
          4.6500409825593435e-06,
          4.823931115334394e-06,
          4.998528583903933e-06,
          5.173108981806105e-06,
          5.346930525340336e-06,
          5.519243322305002e-06,
          5.689299386564354e-06,
          5.856363163546392e-06,
          6.019722266952303e-06,
          6.1786980763837365e-06,
          6.332655815230209e-06,
          6.481013722326355e-06,
          6.6232509517610975e-06,
          6.758913882646392e-06,
          6.887620592084629e-06,
          7.0090633353466855e-06,
          7.123008981019926e-06,
          7.229297458091605e-06,
          7.327838378622519e-06,
          7.418606096135076e-06,
          7.501633539126348e-06,
          7.577005215809036e-06,
          7.644849816514986e-06,
          7.705332842473645e-06,
          7.758649664237072e-06,
          7.80501936213571e-06,
          7.844679628724626e-06,
          7.877882924539522e-06,
          7.904893979729038e-06,
          7.925988631950876e-06,
          7.941453891896749e-06,
          7.951589038268042e-06,
          7.956707469352686e-06,
          7.957138983114116e-06,
          7.953232125005979e-06,
          7.945356234326083e-06,
          7.933902836164733e-06,
          7.919286065607718e-06,
          7.901941871263663e-06,
          7.882325822555265e-06,
          7.860909434712043e-06,
          7.838175021443781e-06,
          7.814609181960483e-06,
          7.7906951203869e-06,
          7.766904076106836e-06,
          7.743686208405376e-06,
          7.721461324077076e-06,
          7.700609860044454e-06,
          7.68146453330089e-06,
          7.664303048169141e-06,
          7.649342207677095e-06,
          7.636733714812207e-06,
          7.6265618745285735e-06,
          7.618843323190387e-06,
          7.613528823519527e-06,
          7.6105070748142065e-06,
          7.609610404659842e-06,
          7.610622133237139e-06,
          7.613285337668348e-06,
          7.617312693657637e-06,
          7.622397036244754e-06,
          7.628222261258013e-06,
          7.634474183832184e-06,
          7.640850979499452e-06,
          7.647072855842437e-06,
          7.652890637310703e-06,
          7.658092991107233e-06,
          7.662512076527503e-06,
          7.666027462163935e-06,
          7.668568222940289e-06,
          7.670113199987616e-06,
          7.670689478349449e-06,
          7.670369207644402e-06,
          7.6692649560729e-06,
          7.667523845294883e-06,
          7.665320759634301e-06,
          7.662850954870488e-06,
          7.66032240729365e-06,
          7.657948241282959e-06,
          7.655939552993612e-06,
          7.654498909739602e-06,
          7.65381475140071e-06,
          7.654056855177594e-06,
          7.65537295262983e-06,
          7.65788651347832e-06,
          7.661695639619548e-06,
          7.66687295066764e-06,
          7.673466293966617e-06,
          7.68150008108315e-06,
          7.69097704163505e-06,
          7.701880194473928e-06,
          7.714174864326301e-06,
          7.727810616023513e-06,
          7.742723033512062e-06,
          7.758835331238433e-06,
          7.776059844505832e-06,
          7.794299496470398e-06,
          7.813449376523522e-06,
          7.833398582981327e-06,
          7.854032479260283e-06,
          7.875235485915656e-06,
          7.896894482455997e-06,
          7.91890282616699e-06,
          7.941164915968716e-06,
          7.963601144644495e-06,
          7.98615300073199e-06,
          8.008788010257826e-06,
          8.031504155929284e-06,
          8.054333383724188e-06,
          8.077343808383245e-06,
          8.100640261926542e-06,
          8.124362892272686e-06,
          8.148683608848511e-06,
          8.173800283030167e-06,
          8.199928735772889e-06,
          8.227292674172325e-06,
          8.256111864001962e-06,
          8.286588937874785e-06,
          8.318895331375065e-06,
          8.353156906560183e-06,
          8.38943986040445e-06,
          8.427737523667922e-06,
          8.467958634399945e-06,
          8.509917622528948e-06,
          8.553327371829414e-06,
          8.59779483796186e-06,
          8.642819801269089e-06,
          8.687796925533656e-06,
          8.732021183174847e-06,
          8.7746965968502e-06,
          8.814948139841244e-06,
          8.851836534828125e-06,
          8.884375594454913e-06,
          8.911551658778318e-06,
          8.932344606186455e-06,
          8.945749847731667e-06,
          8.950800662776492e-06,
          8.94659019962632e-06,
          8.932292451739554e-06,
          8.90718153146026e-06,
          8.87064860155356e-06,
          8.822215891633709e-06,
          8.76154732160385e-06,
          8.688455375376359e-06,
          8.60290401113989e-06,
          8.50500755292243e-06,
          8.395025674144988e-06,
          8.273354747955427e-06,
          8.14051599156321e-06,
          7.997140963102046e-06,
          7.843955071245628e-06,
          7.681759823438153e-06,
          7.511414564016171e-06,
          7.333818437478063e-06,
          7.149893256343733e-06,
          6.960567861899963e-06,
          6.766764446491492e-06,
          6.569387166457824e-06,
          6.369313224980165e-06,
          6.167386453840762e-06,
          5.964413281745307e-06,
          5.761160852550052e-06,
          5.558356955916059e-06,
          5.3566913599485265e-06,
          5.156818092563036e-06,
          4.959358205760813e-06,
          4.7649025730209994e-06,
          4.574014311379096e-06,
          4.387230482124776e-06,
          4.205062802375439e-06,
          4.027997188739512e-06,
          3.856492048606896e-06,
          3.690975329306246e-06,
          3.5318404260000675e-06,
          3.3794411318371942e-06,
          3.2340858852967563e-06,
          3.096031627187386e-06,
          2.9654776213486572e-06,
          2.8425596172418716e-06,
          2.7273447383649103e-06,
          2.619827467400672e-06,
          2.5199270674245984e-06,
          2.427486729242968e-06,
          2.3422746695972915e-06,
          2.26398732593362e-06,
          2.192254703819554e-06,
          2.126647836782541e-06,
          2.0666882198192547e-06,
          2.011858982020629e-06,
          1.96161747577178e-06,
          1.9154088848223584e-06,
          1.872680395682351e-06,
          1.8328954400207439e-06,
          1.7955475026086613e-06,
          1.7601730010951234e-06,
          1.726362780247861e-06,
          1.6937718223846278e-06,
          1.6621268542598847e-06,
          1.631231624099899e-06,
          1.6009697252959795e-06,
          1.5713049494511536e-06,
          1.5422792549050828e-06,
          1.5140085317659621e-06,
          1.4866764258442668e-06,
          1.4605265477739354e-06,
          1.4358534374228641e-06,
          1.4129926762336127e-06,
          1.3923105416631118e-06,
          1.3741935799551645e-06,
          1.3590384387628437e-06,
          1.3472422531604597e-06,
          1.3391938214139816e-06,
          1.3352657448004008e-06,
          1.3358076430117084e-06,
          1.3411404971208005e-06,
          1.351552119064743e-06,
          1.3672937027093317e-06,
          1.3885773785832722e-06,
          1.4155746731822707e-06,
          1.4484157643395456e-06,
          1.4871894256719855e-06,
          1.5319435639004139e-06,
          1.5826862706374824e-06,
          1.6393873322644068e-06,
          1.7019801647293818e-06,
          1.7703641613669465e-06,
          1.8444074581955895e-06,
          1.9239501300351314e-06,
          2.008807830270519e-06,
          2.0987758760662954e-06,
          2.1936337591993706e-06,
          2.293150031370259e-06,
          2.3970874739280644e-06,
          2.5052084184226334e-06,
          2.6172800401582494e-06,
          2.7330794063835676e-06,
          2.8523980285688246e-06,
          2.9750456488813643e-06,
          3.1008529883739087e-06,
          3.229673201469079e-06,
          3.3613818196190595e-06,
          3.4958750265125554e-06,
          3.6330661860437013e-06,
          3.7728806388647027e-06,
          3.915248888432085e-06,
          4.060098406421738e-06,
          4.207344392681541e-06,
          4.356879918617047e-06,
          4.508565957369132e-06,
          4.662221852604008e-06,
          4.817616794857717e-06,
          4.9744628568908994e-06,
          5.132410086507625e-06,
          5.2910440684000325e-06,
          5.449886250040056e-06,
          5.6083971870041806e-06,
          5.765982708836961e-06,
          5.922002847461334e-06,
          6.075783216616931e-06,
          6.226628393084966e-06,
          6.373836737849139e-06,
          6.5167160154076295e-06,
          6.654599127595618e-06,
          6.786859277116622e-06,
          6.912923915336145e-06,
          7.0322869056826686e-06,
          7.144518442560688e-06,
          7.249272398189473e-06,
          7.346290916900457e-06,
          7.435406228040675e-06,
          7.516539794521891e-06,
          7.589699044923489e-06,
          7.654972044809866e-06,
          7.71252054166719e-06,
          7.762571863863854e-06,
          7.80541016625673e-06,
          7.841367494793861e-06,
          7.870815093410548e-06,
          7.894155304130048e-06,
          7.911814322425828e-06,
          7.924235972173678e-06,
          7.931876565561582e-06,
          7.935200820419086e-06,
          7.934678726692156e-06,
          7.930783190154757e-06,
          7.92398823790883e-06,
          7.914767548312093e-06,
          7.903593067272759e-06,
          7.890933491448392e-06,
          7.877252433773518e-06,
          7.863006133781597e-06,
          7.848640629931402e-06,
          7.834588369061266e-06,
          7.82126428474208e-06,
          7.809061428088474e-06,
          7.79834627844205e-06,
          7.789453895250528e-06,
          7.782683095313193e-06,
          7.77829185095437e-06,
          7.776493105194513e-06,
          7.777451190486807e-06,
          7.781279019479915e-06,
          7.788036191106907e-06,
          7.797728124661896e-06,
          7.81030629987066e-06,
          7.82566964373308e-06,
          7.843667066258975e-06,
          7.864101108300343e-06,
          7.886732626458901e-06,
          7.911286403623619e-06,
          7.937457540051321e-06,
          7.96491845031127e-06,
          7.993326266942823e-06,
          8.022330433772882e-06,
          8.051580261527172e-06,
          8.080732216830163e-06,
          8.109456723580323e-06,
          8.137444273374938e-06,
          8.164410668920717e-06,
          8.190101260316743e-06,
          8.214294077368781e-06,
          8.236801809454075e-06,
          8.257472635466531e-06,
          8.276189956931754e-06,
          8.292871134484167e-06,
          8.307465368458757e-06,
          8.319950895687436e-06,
          8.330331694600876e-06,
          8.338633898067018e-06,
          8.344902107683759e-06,
          8.349195785105582e-06,
          8.351585867079344e-06,
          8.352151713794795e-06,
          8.350978458177499e-06,
          8.348154780724116e-06,
          8.343771094233949e-06,
          8.337918089053096e-06,
          8.330685565341534e-06,
          8.32216146647208e-06,
          8.312431028145751e-06,
          8.301575970639937e-06,
          8.289673685328089e-06,
          8.276796398178944e-06,
          8.263010328542321e-06,
          8.248374896682506e-06,
          8.23294206354637e-06,
          8.216755906902873e-06,
          8.19985254575153e-06,
          8.182260517625346e-06,
          8.164001690406235e-06,
          8.145092752644379e-06,
          8.125547276863934e-06,
          8.105378293149336e-06,
          8.084601250801892e-06,
          8.063237189892185e-06,
          8.041315897964987e-06,
          8.018878795313226e-06,
          7.995981279158938e-06,
          7.972694265251248e-06,
          7.949104695474407e-06,
          7.925314830588006e-06,
          7.901440215051245e-06,
          7.877606281147071e-06,
          7.8539436464298e-06,
          7.830582245392936e-06,
          7.80764451665223e-06,
          7.785237935050346e-06,
          7.763447228932302e-06,
          7.742326653122353e-06,
          7.721892695892148e-06,
          7.702117583445185e-06,
          7.682923909494897e-06,
          7.664180663263095e-06,
          7.64570086046414e-06,
          7.627240903155112e-06,
          7.6085017105786325e-06,
          7.589131579163998e-06,
          7.568730650274565e-06,
          7.546856793166979e-06,
          7.523032651406222e-06,
          7.496753556358493e-06,
          7.467495983329711e-06,
          7.434726215601897e-06,
          7.3979088894793845e-06,
          7.356515119140486e-06,
          7.31002994248001e-06,
          7.257958886335617e-06,
          7.1998335187730886e-06,
          7.135215933976632e-06,
          7.063702197459115e-06,
          6.9849248608436e-06,
          6.898554730990978e-06,
          6.804302142113178e-06,
          6.701918026281206e-06,
          6.591195102474047e-06,
          6.471969503111548e-06,
          6.344123127464243e-06,
          6.207586952830056e-06,
          6.0623454485933534e-06,
          5.908442129175984e-06,
          5.745986155767177e-06,
          5.575159761964342e-06,
          5.3962261450338055e-06,
          5.2095373433417095e-06,
          5.015541522619496e-06,
          4.814789029264707e-06,
          4.607936546220065e-06,
          4.395748711767643e-06,
          4.179096636110795e-06,
          3.958952873299063e-06,
          3.736382571306475e-06,
          3.512530721558793e-06,
          3.2886056483824213e-06,
          3.065859103915959e-06,
          2.84556354903535e-06
         ],
         "yaxis": "y"
        },
        {
         "legendgroup": "Fraudulent",
         "marker": {
          "color": "rgb(255, 127, 14)"
         },
         "mode": "lines",
         "name": "Fraudulent",
         "showlegend": true,
         "type": "scatter",
         "x": [
          406,
          745.884,
          1085.768,
          1425.652,
          1765.536,
          2105.42,
          2445.304,
          2785.188,
          3125.072,
          3464.956,
          3804.84,
          4144.724,
          4484.608,
          4824.492,
          5164.376,
          5504.26,
          5844.144,
          6184.028,
          6523.912,
          6863.796,
          7203.68,
          7543.564,
          7883.448,
          8223.332,
          8563.216,
          8903.1,
          9242.984,
          9582.868,
          9922.752,
          10262.636,
          10602.52,
          10942.404,
          11282.288,
          11622.172,
          11962.056,
          12301.94,
          12641.824,
          12981.708,
          13321.592,
          13661.476,
          14001.36,
          14341.244,
          14681.128,
          15021.012,
          15360.896,
          15700.78,
          16040.664,
          16380.548,
          16720.432,
          17060.316,
          17400.2,
          17740.084,
          18079.968,
          18419.852,
          18759.736,
          19099.62,
          19439.504,
          19779.388,
          20119.272,
          20459.156,
          20799.04,
          21138.924,
          21478.808,
          21818.692,
          22158.576,
          22498.46,
          22838.344,
          23178.228,
          23518.112,
          23857.996,
          24197.88,
          24537.764,
          24877.648,
          25217.532,
          25557.416,
          25897.3,
          26237.184,
          26577.068,
          26916.952,
          27256.836,
          27596.72,
          27936.604,
          28276.488,
          28616.372,
          28956.256,
          29296.14,
          29636.024,
          29975.908,
          30315.792,
          30655.676,
          30995.56,
          31335.444,
          31675.328,
          32015.212,
          32355.096,
          32694.98,
          33034.864,
          33374.748,
          33714.632,
          34054.516,
          34394.4,
          34734.284,
          35074.168,
          35414.052,
          35753.936,
          36093.82,
          36433.704,
          36773.588,
          37113.472,
          37453.356,
          37793.24,
          38133.124,
          38473.008,
          38812.892,
          39152.776,
          39492.66,
          39832.544,
          40172.428,
          40512.312,
          40852.196,
          41192.08,
          41531.964,
          41871.848,
          42211.732,
          42551.616,
          42891.5,
          43231.384,
          43571.268,
          43911.152,
          44251.036,
          44590.92,
          44930.804,
          45270.688,
          45610.572,
          45950.456,
          46290.34,
          46630.224,
          46970.108,
          47309.992,
          47649.876,
          47989.76,
          48329.644,
          48669.528,
          49009.412,
          49349.296,
          49689.18,
          50029.064,
          50368.948,
          50708.832,
          51048.716,
          51388.6,
          51728.484,
          52068.368,
          52408.252,
          52748.136,
          53088.02,
          53427.904,
          53767.788,
          54107.672,
          54447.556,
          54787.44,
          55127.324,
          55467.208,
          55807.092,
          56146.976,
          56486.86,
          56826.744,
          57166.628,
          57506.512,
          57846.396,
          58186.28,
          58526.164,
          58866.048,
          59205.932,
          59545.816,
          59885.7,
          60225.584,
          60565.468,
          60905.352,
          61245.236,
          61585.12,
          61925.004,
          62264.888,
          62604.772,
          62944.656,
          63284.54,
          63624.424,
          63964.308,
          64304.192,
          64644.076,
          64983.96,
          65323.844,
          65663.728,
          66003.612,
          66343.496,
          66683.38,
          67023.264,
          67363.148,
          67703.032,
          68042.916,
          68382.8,
          68722.684,
          69062.568,
          69402.452,
          69742.336,
          70082.22,
          70422.104,
          70761.988,
          71101.872,
          71441.756,
          71781.64,
          72121.524,
          72461.408,
          72801.292,
          73141.176,
          73481.06,
          73820.944,
          74160.828,
          74500.712,
          74840.596,
          75180.48,
          75520.364,
          75860.248,
          76200.132,
          76540.016,
          76879.9,
          77219.784,
          77559.668,
          77899.552,
          78239.436,
          78579.32,
          78919.204,
          79259.088,
          79598.972,
          79938.856,
          80278.74,
          80618.624,
          80958.508,
          81298.392,
          81638.276,
          81978.16,
          82318.044,
          82657.928,
          82997.812,
          83337.696,
          83677.58,
          84017.464,
          84357.348,
          84697.232,
          85037.116,
          85377,
          85716.884,
          86056.768,
          86396.652,
          86736.536,
          87076.42,
          87416.304,
          87756.188,
          88096.072,
          88435.956,
          88775.84,
          89115.724,
          89455.608,
          89795.492,
          90135.376,
          90475.26,
          90815.144,
          91155.028,
          91494.912,
          91834.796,
          92174.68,
          92514.564,
          92854.448,
          93194.332,
          93534.216,
          93874.1,
          94213.984,
          94553.868,
          94893.752,
          95233.636,
          95573.52,
          95913.404,
          96253.288,
          96593.172,
          96933.056,
          97272.94,
          97612.824,
          97952.708,
          98292.592,
          98632.476,
          98972.36,
          99312.244,
          99652.128,
          99992.012,
          100331.896,
          100671.78,
          101011.664,
          101351.548,
          101691.432,
          102031.316,
          102371.2,
          102711.084,
          103050.968,
          103390.852,
          103730.736,
          104070.62,
          104410.504,
          104750.388,
          105090.272,
          105430.156,
          105770.04,
          106109.924,
          106449.808,
          106789.692,
          107129.576,
          107469.46,
          107809.344,
          108149.228,
          108489.112,
          108828.996,
          109168.88,
          109508.764,
          109848.648,
          110188.532,
          110528.416,
          110868.3,
          111208.184,
          111548.068,
          111887.952,
          112227.836,
          112567.72,
          112907.604,
          113247.488,
          113587.372,
          113927.256,
          114267.14,
          114607.024,
          114946.908,
          115286.792,
          115626.676,
          115966.56,
          116306.444,
          116646.328,
          116986.212,
          117326.096,
          117665.98,
          118005.864,
          118345.748,
          118685.632,
          119025.516,
          119365.4,
          119705.284,
          120045.168,
          120385.052,
          120724.936,
          121064.82,
          121404.704,
          121744.588,
          122084.472,
          122424.356,
          122764.24,
          123104.124,
          123444.008,
          123783.892,
          124123.776,
          124463.66,
          124803.544,
          125143.428,
          125483.312,
          125823.196,
          126163.08,
          126502.964,
          126842.848,
          127182.732,
          127522.616,
          127862.5,
          128202.384,
          128542.268,
          128882.152,
          129222.036,
          129561.92,
          129901.804,
          130241.688,
          130581.572,
          130921.456,
          131261.34,
          131601.224,
          131941.108,
          132280.992,
          132620.876,
          132960.76,
          133300.644,
          133640.528,
          133980.412,
          134320.296,
          134660.18,
          135000.064,
          135339.948,
          135679.832,
          136019.716,
          136359.6,
          136699.484,
          137039.368,
          137379.252,
          137719.136,
          138059.02,
          138398.904,
          138738.788,
          139078.672,
          139418.556,
          139758.44,
          140098.324,
          140438.208,
          140778.092,
          141117.976,
          141457.86,
          141797.744,
          142137.628,
          142477.512,
          142817.396,
          143157.28,
          143497.164,
          143837.048,
          144176.932,
          144516.816,
          144856.7,
          145196.584,
          145536.468,
          145876.352,
          146216.236,
          146556.12,
          146896.004,
          147235.888,
          147575.772,
          147915.656,
          148255.54,
          148595.424,
          148935.308,
          149275.192,
          149615.076,
          149954.96,
          150294.844,
          150634.728,
          150974.612,
          151314.496,
          151654.38,
          151994.264,
          152334.148,
          152674.032,
          153013.916,
          153353.8,
          153693.684,
          154033.568,
          154373.452,
          154713.336,
          155053.22,
          155393.104,
          155732.988,
          156072.872,
          156412.756,
          156752.64,
          157092.524,
          157432.408,
          157772.292,
          158112.176,
          158452.06,
          158791.944,
          159131.828,
          159471.712,
          159811.596,
          160151.48,
          160491.364,
          160831.248,
          161171.132,
          161511.016,
          161850.9,
          162190.784,
          162530.668,
          162870.552,
          163210.436,
          163550.32,
          163890.204,
          164230.088,
          164569.972,
          164909.856,
          165249.74,
          165589.624,
          165929.508,
          166269.392,
          166609.276,
          166949.16,
          167289.044,
          167628.928,
          167968.812,
          168308.696,
          168648.58,
          168988.464,
          169328.348,
          169668.232,
          170008.116
         ],
         "xaxis": "x",
         "y": [
          2.5725270199184186e-06,
          2.6310058058129383e-06,
          2.6897686304363113e-06,
          2.748786647363209e-06,
          2.8080309928186178e-06,
          2.8674728524427232e-06,
          2.927083527927629e-06,
          2.9868345032672523e-06,
          3.046697510360476e-06,
          3.106644593707739e-06,
          3.1666481739421243e-06,
          3.2266811099387665e-06,
          3.286716759249754e-06,
          3.3467290366169334e-06,
          3.4066924703207853e-06,
          3.4665822561312503e-06,
          3.5263743086346612e-06,
          3.586045309720728e-06,
          3.6455727540243725e-06,
          3.704934991128807e-06,
          3.764111264349627e-06,
          3.823081745932931e-06,
          3.8818275685156236e-06,
          3.940330852711665e-06,
          3.998574730703817e-06,
          4.056543365738184e-06,
          4.114221967435875e-06,
          4.171596802854251e-06,
          4.22865520324932e-06,
          4.2853855665086814e-06,
          4.341777355244726e-06,
          4.397821090555965e-06,
          4.4535083414842744e-06,
          4.508831710215101e-06,
          4.5637848130863e-06,
          4.618362257490829e-06,
          4.672559614776593e-06,
          4.726373389264856e-06,
          4.7798009835267726e-06,
          4.832840660073918e-06,
          4.8854914996356455e-06,
          4.937753356211278e-06,
          4.989626809100186e-06,
          5.04111311212635e-06,
          5.0922141402872045e-06,
          5.142932334068026e-06,
          5.193270641674184e-06,
          5.2432324594427434e-06,
          5.2928215707039586e-06,
          5.342042083369238e-06,
          5.390898366529312e-06,
          5.439394986349832e-06,
          5.487536641555415e-06,
          5.5353280987949695e-06,
          5.582774128181599e-06,
          5.629879439299518e-06,
          5.676648617968544e-06,
          5.723086064053026e-06,
          5.769195930597303e-06,
          5.814982064563845e-06,
          5.860447949442463e-06,
          5.905596649991412e-06,
          5.950430759359787e-06,
          5.994952348831379e-06,
          6.039162920417333e-06,
          6.0830633625115504e-06,
          6.126653908809836e-06,
          6.169934100677941e-06,
          6.212902753138355e-06,
          6.255557924628917e-06,
          6.297896890669671e-06,
          6.339916121555685e-06,
          6.381611264176304e-06,
          6.422977128041518e-06,
          6.464007675577935e-06,
          6.504696016736771e-06,
          6.545034407937351e-06,
          6.585014255349519e-06,
          6.6246261224990165e-06,
          6.663859742160641e-06,
          6.702704032484233e-06,
          6.741147117280074e-06,
          6.779176350371278e-06,
          6.8167783439031485e-06,
          6.8539390004813194e-06,
          6.890643548994117e-06,
          6.9268765839581094e-06,
          6.962622108210547e-06,
          6.997863578757841e-06,
          7.032583955575587e-06,
          7.066765753143314e-06,
          7.100391094485442e-06,
          7.13344176747952e-06,
          7.165899283183912e-06,
          7.197744935928862e-06,
          7.228959864908295e-06,
          7.2595251170041e-06,
          7.2894217105707835e-06,
          7.318630699905537e-06,
          7.347133240126908e-06,
          7.374910652185972e-06,
          7.401944487734288e-06,
          7.428216593576158e-06,
          7.453709175436182e-06,
          7.478404860778611e-06,
          7.502286760421194e-06,
          7.525338528694e-06,
          7.547544421902765e-06,
          7.568889354865974e-06,
          7.589358955305963e-06,
          7.6089396158869455e-06,
          7.6276185437049614e-06,
          7.645383807049724e-06,
          7.662224379271765e-06,
          7.678130179605082e-06,
          7.693092110809923e-06,
          7.707102093518343e-06,
          7.720153097180765e-06,
          7.73223916753028e-06,
          7.74335545049777e-06,
          7.753498212529612e-06,
          7.762664857276409e-06,
          7.770853938639617e-06,
          7.778065170179877e-06,
          7.784299430908184e-06,
          7.789558767497564e-06,
          7.793846392970039e-06,
          7.79716668192795e-06,
          7.799525162415756e-06,
          7.800928504511102e-06,
          7.801384505758749e-06,
          7.800902073572752e-06,
          7.79949120474543e-06,
          7.797162962210432e-06,
          7.793929449219127e-06,
          7.789803781096399e-06,
          7.784800054750648e-06,
          7.778933316118147e-06,
          7.772219525727597e-06,
          7.764675522574614e-06,
          7.75631898649779e-06,
          7.747168399250416e-06,
          7.737243004461252e-06,
          7.726562766677172e-06,
          7.715148329678115e-06,
          7.703020974251558e-06,
          7.690202575608858e-06,
          7.67671556062078e-06,
          7.662582865042432e-06,
          7.647827890890533e-06,
          7.63247446412764e-06,
          7.6165467927982415e-06,
          7.600069425751878e-06,
          7.583067212077927e-06,
          7.565565261364991e-06,
          7.547588904886183e-06,
          7.529163657799741e-06,
          7.510315182441231e-06,
          7.491069252771464e-06,
          7.471451720031027e-06,
          7.451488479639303e-06,
          7.431205439363626e-06,
          7.410628488770476e-06,
          7.3897834699591784e-06,
          7.368696149565699e-06,
          7.347392192012733e-06,
          7.325897133970948e-06,
          7.30423635998556e-06,
          7.282435079212543e-06,
          7.260518303199246e-06,
          7.238510824635931e-06,
          7.216437196996779e-06,
          7.194321714982592e-06,
          7.172188395671026e-06,
          7.15006096027575e-06,
          7.1279628164118935e-06,
          7.105917040762377e-06,
          7.083946362037863e-06,
          7.06207314412266e-06,
          7.040319369298783e-06,
          7.018706621442342e-06,
          6.997256069088546e-06,
          6.975988448265334e-06,
          6.954924045000071e-06,
          6.934082677409288e-06,
          6.9134836772881e-06,
          6.893145871122829e-06,
          6.873087560459115e-06,
          6.8533265015665985e-06,
          6.833879884350618e-06,
          6.8147643104725706e-06,
          6.795995770650816e-06,
          6.777589621125901e-06,
          6.759560559286022e-06,
          6.741922598460666e-06,
          6.724689041902917e-06,
          6.707872455994472e-06,
          6.6914846427192735e-06,
          6.675536611465735e-06,
          6.66003855022945e-06,
          6.644999796301857e-06,
          6.630428806542279e-06,
          6.616333127343136e-06,
          6.60271936441016e-06,
          6.589593152489992e-06,
          6.576959125189144e-06,
          6.564820885037666e-06,
          6.553180973960314e-06,
          6.542040844326773e-06,
          6.531400830759609e-06,
          6.521260122885779e-06,
          6.511616739222865e-06,
          6.502467502396011e-06,
          6.4938080158847915e-06,
          6.485632642502066e-06,
          6.477934484807599e-06,
          6.470705367659423e-06,
          6.463935823104737e-06,
          6.457615077809518e-06,
          6.4517310432223365e-06,
          6.446270308662627e-06,
          6.441218137517905e-06,
          6.43655846672634e-06,
          6.432273909712533e-06,
          6.428345762934644e-06,
          6.424754016189525e-06,
          6.4214773668104815e-06,
          6.418493237878816e-06,
          6.415777800556125e-06,
          6.413306000628759e-06,
          6.4110515893397576e-06,
          6.408987158566516e-06,
          6.407084180384325e-06,
          6.405313051037887e-06,
          6.4036431393233005e-06,
          6.402042839363787e-06,
          6.400479627742147e-06,
          6.398920124932858e-06,
          6.397330160956057e-06,
          6.395674845154959e-06,
          6.3939186399780624e-06,
          6.3920254386263285e-06,
          6.38995864640597e-06,
          6.38768126560702e-06,
          6.385155983708638e-06,
          6.382345264692887e-06,
          6.379211443230842e-06,
          6.375716821486896e-06,
          6.371823768270629e-06,
          6.367494820249907e-06,
          6.362692784924035e-06,
          6.357380845042472e-06,
          6.3515226641418096e-06,
          6.345082492863202e-06,
          6.338025275702306e-06,
          6.33031675783569e-06,
          6.321923591660976e-06,
          6.312813442682563e-06,
          6.302955094371123e-06,
          6.292318551623299e-06,
          6.280875142447134e-06,
          6.268597617500529e-06,
          6.2554602471125774e-06,
          6.2414389154223915e-06,
          6.226511211276388e-06,
          6.210656515532497e-06,
          6.1938560844299705e-06,
          6.176093128693816e-06,
          6.1573528880561844e-06,
          6.137622700890801e-06,
          6.1168920686722895e-06,
          6.09515271498915e-06,
          6.0723986388573735e-06,
          6.048626162101344e-06,
          6.023833970588853e-06,
          5.998023149129174e-06,
          5.971197209865401e-06,
          5.943362114015651e-06,
          5.914526286842008e-06,
          5.884700625750639e-06,
          5.853898501451924e-06,
          5.822135752134675e-06,
          5.7894306706348915e-06,
          5.7558039846049595e-06,
          5.721278829715635e-06,
          5.685880715948571e-06,
          5.649637487063369e-06,
          5.612579273347977e-06,
          5.574738437786229e-06,
          5.536149515800898e-06,
          5.49684914875355e-06,
          5.456876011406088e-06,
          5.4162707335700106e-06,
          5.3750758161907535e-06,
          5.333335542134214e-06,
          5.291095881960868e-06,
          5.248404394990797e-06,
          5.205310125978372e-06,
          5.161863497730501e-06,
          5.118116200015251e-06,
          5.074121075119351e-06,
          5.029932000423422e-06,
          4.985603768372088e-06,
          4.941191964223304e-06,
          4.896752841966393e-06,
          4.85234319880216e-06,
          4.808020248580191e-06,
          4.763841494589364e-06,
          4.719864602095872e-06,
          4.676147271020593e-06,
          4.632747109143135e-06,
          4.589721506214109e-06,
          4.547127509349559e-06,
          4.505021700072854e-06,
          4.463460073358997e-06,
          4.4224979190248335e-06,
          4.382189705795714e-06,
          4.342588968365247e-06,
          4.303748197749751e-06,
          4.265718735222607e-06,
          4.228550670097034e-06,
          4.192292741607468e-06,
          4.156992245121314e-06,
          4.122694942893464e-06,
          4.089444979555856e-06,
          4.057284802514108e-06,
          4.026255087402529e-06,
          3.996394668727529e-06,
          3.967740475808403e-06,
          3.940327474103151e-06,
          3.914188611985556e-06,
          3.889354773018637e-06,
          3.865854733748632e-06,
          3.843715127022968e-06,
          3.822960410815293e-06,
          3.8036128425209813e-06,
          3.785692458667052e-06,
          3.769217059961994e-06,
          3.754202201592922e-06,
          3.7406611886604264e-06,
          3.728605076625154e-06,
          3.7180426766247457e-06,
          3.708980565505328e-06,
          3.70142310039843e-06,
          3.695372437661674e-06,
          3.6908285559905345e-06,
          3.687789283498205e-06,
          3.686250328551705e-06,
          3.686205314144638e-06,
          3.6876458155803856e-06,
          3.6905614012342007e-06,
          3.6949396761586576e-06,
          3.7007663282937523e-06,
          3.7080251770415627e-06,
          3.716698223964658e-06,
          3.72676570536829e-06,
          3.7382061465281578e-06,
          3.750996417328555e-06,
          3.7651117890798223e-06,
          3.7805259922891007e-06,
          3.7972112751645694e-06,
          3.815138462640425e-06,
          3.834277015717924e-06,
          3.85459509092663e-06,
          3.876059599719658e-06,
          3.898636267627168e-06,
          3.922289693003299e-06,
          3.946983405213356e-06,
          3.9726799221203845e-06,
          3.99934080674246e-06,
          4.026926722965422e-06,
          4.055397490208563e-06,
          4.084712136954444e-06,
          4.1148289530674665e-06,
          4.14570554083936e-06,
          4.177298864713326e-06,
          4.209565299651933e-06,
          4.2424606781271595e-06,
          4.275940335723666e-06,
          4.309959155359336e-06,
          4.344471610138979e-06,
          4.37943180486875e-06,
          4.4147935162702665e-06,
          4.450510231943434e-06,
          4.486535188137169e-06,
          4.522821406396071e-06,
          4.559321729159453e-06,
          4.595988854396512e-06,
          4.632775369368175e-06,
          4.669633783611571e-06,
          4.706516561248101e-06,
          4.743376152719514e-06,
          4.780165026059656e-06,
          4.816835697810895e-06,
          4.8533407636952975e-06,
          4.889632929150575e-06,
          4.925665039839297e-06,
          4.961390112238059e-06,
          4.996761364410147e-06,
          5.031732247060993e-06,
          5.066256474971185e-06,
          5.10028805889563e-06,
          5.133781338011263e-06,
          5.1666910129878835e-06,
          5.1989721797491105e-06,
          5.230580363981222e-06,
          5.26147155643864e-06,
          5.291602249084776e-06,
          5.320929472096579e-06,
          5.349410831750429e-06,
          5.377004549195869e-06,
          5.403669500112424e-06,
          5.429365255233112e-06,
          5.454052121706752e-06,
          5.47769118525958e-06,
          5.50024435310493e-06,
          5.5216743975386395e-06,
          5.541945000146369e-06,
          5.561020796538229e-06,
          5.578867421515788e-06,
          5.595451554565916e-06,
          5.610740965567116e-06,
          5.624704560584352e-06,
          5.6373124276203065e-06,
          5.648535882183501e-06,
          5.658347512526507e-06,
          5.666721224401678e-06,
          5.6736322851763365e-06,
          5.679057367145257e-06,
          5.682974589874614e-06,
          5.68536356140919e-06,
          5.686205418173049e-06,
          5.685482863393367e-06,
          5.683180203877497e-06,
          5.679283384974734e-06,
          5.673780023556718e-06,
          5.666659438853747e-06,
          5.657912680988523e-06,
          5.647532557054241e-06,
          5.63551365459e-06,
          5.621852362313586e-06,
          5.606546887979509e-06,
          5.589597273238929e-06,
          5.571005405387347e-06,
          5.550775025896202e-06,
          5.528911735635079e-06,
          5.505422996702589e-06,
          5.480318130795817e-06,
          5.453608314060394e-06,
          5.425306568375871e-06,
          5.395427749044038e-06,
          5.363988528860966e-06,
          5.331007378566766e-06,
          5.296504543680576e-06,
          5.2605020177416475e-06,
          5.2230235119907465e-06,
          5.184094421539271e-06,
          5.143741788086644e-06,
          5.101994259259249e-06,
          5.05888204465646e-06,
          5.0144368687017364e-06,
          4.968691920407994e-06,
          4.921681800177755e-06,
          4.873442463769114e-06,
          4.824011163568484e-06,
          4.773426387320357e-06,
          4.721727794472902e-06,
          4.668956150306307e-06,
          4.615153258017563e-06,
          4.560361888942082e-06,
          4.504625711097861e-06,
          4.447989216242829e-06,
          4.39049764563976e-06,
          4.332196914726348e-06,
          4.27313353689029e-06,
          4.213354546550483e-06,
          4.152907421746282e-06,
          4.091840006436426e-06,
          4.030200432708102e-06,
          3.968037043095123e-06,
          3.905398313201444e-06,
          3.842332774823002e-06,
          3.778888939757e-06,
          3.715115224483064e-06,
          3.6510598758955166e-06,
          3.5867708982600254e-06,
          3.5222959815618283e-06,
          3.4576824314054783e-06,
          3.3929771006189387e-06,
          3.328226322707072e-06,
          3.263475847291372e-06,
          3.1987707776643126e-06,
          3.134155510578029e-06,
          3.0696736783780304e-06,
          3.005368093583349e-06,
          2.9412806960054663e-06,
          2.877452502488683e-06,
          2.8139235593453073e-06,
          2.7507328975493902e-06,
          2.6879184907434146e-06
         ],
         "yaxis": "y"
        }
       ],
       "layout": {
        "autosize": true,
        "barmode": "overlay",
        "hovermode": "closest",
        "legend": {
         "traceorder": "reversed"
        },
        "template": {
         "data": {
          "bar": [
           {
            "error_x": {
             "color": "#2a3f5f"
            },
            "error_y": {
             "color": "#2a3f5f"
            },
            "marker": {
             "line": {
              "color": "#E5ECF6",
              "width": 0.5
             },
             "pattern": {
              "fillmode": "overlay",
              "size": 10,
              "solidity": 0.2
             }
            },
            "type": "bar"
           }
          ],
          "barpolar": [
           {
            "marker": {
             "line": {
              "color": "#E5ECF6",
              "width": 0.5
             },
             "pattern": {
              "fillmode": "overlay",
              "size": 10,
              "solidity": 0.2
             }
            },
            "type": "barpolar"
           }
          ],
          "carpet": [
           {
            "aaxis": {
             "endlinecolor": "#2a3f5f",
             "gridcolor": "white",
             "linecolor": "white",
             "minorgridcolor": "white",
             "startlinecolor": "#2a3f5f"
            },
            "baxis": {
             "endlinecolor": "#2a3f5f",
             "gridcolor": "white",
             "linecolor": "white",
             "minorgridcolor": "white",
             "startlinecolor": "#2a3f5f"
            },
            "type": "carpet"
           }
          ],
          "choropleth": [
           {
            "colorbar": {
             "outlinewidth": 0,
             "ticks": ""
            },
            "type": "choropleth"
           }
          ],
          "contour": [
           {
            "colorbar": {
             "outlinewidth": 0,
             "ticks": ""
            },
            "colorscale": [
             [
              0,
              "#0d0887"
             ],
             [
              0.1111111111111111,
              "#46039f"
             ],
             [
              0.2222222222222222,
              "#7201a8"
             ],
             [
              0.3333333333333333,
              "#9c179e"
             ],
             [
              0.4444444444444444,
              "#bd3786"
             ],
             [
              0.5555555555555556,
              "#d8576b"
             ],
             [
              0.6666666666666666,
              "#ed7953"
             ],
             [
              0.7777777777777778,
              "#fb9f3a"
             ],
             [
              0.8888888888888888,
              "#fdca26"
             ],
             [
              1,
              "#f0f921"
             ]
            ],
            "type": "contour"
           }
          ],
          "contourcarpet": [
           {
            "colorbar": {
             "outlinewidth": 0,
             "ticks": ""
            },
            "type": "contourcarpet"
           }
          ],
          "heatmap": [
           {
            "colorbar": {
             "outlinewidth": 0,
             "ticks": ""
            },
            "colorscale": [
             [
              0,
              "#0d0887"
             ],
             [
              0.1111111111111111,
              "#46039f"
             ],
             [
              0.2222222222222222,
              "#7201a8"
             ],
             [
              0.3333333333333333,
              "#9c179e"
             ],
             [
              0.4444444444444444,
              "#bd3786"
             ],
             [
              0.5555555555555556,
              "#d8576b"
             ],
             [
              0.6666666666666666,
              "#ed7953"
             ],
             [
              0.7777777777777778,
              "#fb9f3a"
             ],
             [
              0.8888888888888888,
              "#fdca26"
             ],
             [
              1,
              "#f0f921"
             ]
            ],
            "type": "heatmap"
           }
          ],
          "heatmapgl": [
           {
            "colorbar": {
             "outlinewidth": 0,
             "ticks": ""
            },
            "colorscale": [
             [
              0,
              "#0d0887"
             ],
             [
              0.1111111111111111,
              "#46039f"
             ],
             [
              0.2222222222222222,
              "#7201a8"
             ],
             [
              0.3333333333333333,
              "#9c179e"
             ],
             [
              0.4444444444444444,
              "#bd3786"
             ],
             [
              0.5555555555555556,
              "#d8576b"
             ],
             [
              0.6666666666666666,
              "#ed7953"
             ],
             [
              0.7777777777777778,
              "#fb9f3a"
             ],
             [
              0.8888888888888888,
              "#fdca26"
             ],
             [
              1,
              "#f0f921"
             ]
            ],
            "type": "heatmapgl"
           }
          ],
          "histogram": [
           {
            "marker": {
             "pattern": {
              "fillmode": "overlay",
              "size": 10,
              "solidity": 0.2
             }
            },
            "type": "histogram"
           }
          ],
          "histogram2d": [
           {
            "colorbar": {
             "outlinewidth": 0,
             "ticks": ""
            },
            "colorscale": [
             [
              0,
              "#0d0887"
             ],
             [
              0.1111111111111111,
              "#46039f"
             ],
             [
              0.2222222222222222,
              "#7201a8"
             ],
             [
              0.3333333333333333,
              "#9c179e"
             ],
             [
              0.4444444444444444,
              "#bd3786"
             ],
             [
              0.5555555555555556,
              "#d8576b"
             ],
             [
              0.6666666666666666,
              "#ed7953"
             ],
             [
              0.7777777777777778,
              "#fb9f3a"
             ],
             [
              0.8888888888888888,
              "#fdca26"
             ],
             [
              1,
              "#f0f921"
             ]
            ],
            "type": "histogram2d"
           }
          ],
          "histogram2dcontour": [
           {
            "colorbar": {
             "outlinewidth": 0,
             "ticks": ""
            },
            "colorscale": [
             [
              0,
              "#0d0887"
             ],
             [
              0.1111111111111111,
              "#46039f"
             ],
             [
              0.2222222222222222,
              "#7201a8"
             ],
             [
              0.3333333333333333,
              "#9c179e"
             ],
             [
              0.4444444444444444,
              "#bd3786"
             ],
             [
              0.5555555555555556,
              "#d8576b"
             ],
             [
              0.6666666666666666,
              "#ed7953"
             ],
             [
              0.7777777777777778,
              "#fb9f3a"
             ],
             [
              0.8888888888888888,
              "#fdca26"
             ],
             [
              1,
              "#f0f921"
             ]
            ],
            "type": "histogram2dcontour"
           }
          ],
          "mesh3d": [
           {
            "colorbar": {
             "outlinewidth": 0,
             "ticks": ""
            },
            "type": "mesh3d"
           }
          ],
          "parcoords": [
           {
            "line": {
             "colorbar": {
              "outlinewidth": 0,
              "ticks": ""
             }
            },
            "type": "parcoords"
           }
          ],
          "pie": [
           {
            "automargin": true,
            "type": "pie"
           }
          ],
          "scatter": [
           {
            "fillpattern": {
             "fillmode": "overlay",
             "size": 10,
             "solidity": 0.2
            },
            "type": "scatter"
           }
          ],
          "scatter3d": [
           {
            "line": {
             "colorbar": {
              "outlinewidth": 0,
              "ticks": ""
             }
            },
            "marker": {
             "colorbar": {
              "outlinewidth": 0,
              "ticks": ""
             }
            },
            "type": "scatter3d"
           }
          ],
          "scattercarpet": [
           {
            "marker": {
             "colorbar": {
              "outlinewidth": 0,
              "ticks": ""
             }
            },
            "type": "scattercarpet"
           }
          ],
          "scattergeo": [
           {
            "marker": {
             "colorbar": {
              "outlinewidth": 0,
              "ticks": ""
             }
            },
            "type": "scattergeo"
           }
          ],
          "scattergl": [
           {
            "marker": {
             "colorbar": {
              "outlinewidth": 0,
              "ticks": ""
             }
            },
            "type": "scattergl"
           }
          ],
          "scattermapbox": [
           {
            "marker": {
             "colorbar": {
              "outlinewidth": 0,
              "ticks": ""
             }
            },
            "type": "scattermapbox"
           }
          ],
          "scatterpolar": [
           {
            "marker": {
             "colorbar": {
              "outlinewidth": 0,
              "ticks": ""
             }
            },
            "type": "scatterpolar"
           }
          ],
          "scatterpolargl": [
           {
            "marker": {
             "colorbar": {
              "outlinewidth": 0,
              "ticks": ""
             }
            },
            "type": "scatterpolargl"
           }
          ],
          "scatterternary": [
           {
            "marker": {
             "colorbar": {
              "outlinewidth": 0,
              "ticks": ""
             }
            },
            "type": "scatterternary"
           }
          ],
          "surface": [
           {
            "colorbar": {
             "outlinewidth": 0,
             "ticks": ""
            },
            "colorscale": [
             [
              0,
              "#0d0887"
             ],
             [
              0.1111111111111111,
              "#46039f"
             ],
             [
              0.2222222222222222,
              "#7201a8"
             ],
             [
              0.3333333333333333,
              "#9c179e"
             ],
             [
              0.4444444444444444,
              "#bd3786"
             ],
             [
              0.5555555555555556,
              "#d8576b"
             ],
             [
              0.6666666666666666,
              "#ed7953"
             ],
             [
              0.7777777777777778,
              "#fb9f3a"
             ],
             [
              0.8888888888888888,
              "#fdca26"
             ],
             [
              1,
              "#f0f921"
             ]
            ],
            "type": "surface"
           }
          ],
          "table": [
           {
            "cells": {
             "fill": {
              "color": "#EBF0F8"
             },
             "line": {
              "color": "white"
             }
            },
            "header": {
             "fill": {
              "color": "#C8D4E3"
             },
             "line": {
              "color": "white"
             }
            },
            "type": "table"
           }
          ]
         },
         "layout": {
          "annotationdefaults": {
           "arrowcolor": "#2a3f5f",
           "arrowhead": 0,
           "arrowwidth": 1
          },
          "autotypenumbers": "strict",
          "coloraxis": {
           "colorbar": {
            "outlinewidth": 0,
            "ticks": ""
           }
          },
          "colorscale": {
           "diverging": [
            [
             0,
             "#8e0152"
            ],
            [
             0.1,
             "#c51b7d"
            ],
            [
             0.2,
             "#de77ae"
            ],
            [
             0.3,
             "#f1b6da"
            ],
            [
             0.4,
             "#fde0ef"
            ],
            [
             0.5,
             "#f7f7f7"
            ],
            [
             0.6,
             "#e6f5d0"
            ],
            [
             0.7,
             "#b8e186"
            ],
            [
             0.8,
             "#7fbc41"
            ],
            [
             0.9,
             "#4d9221"
            ],
            [
             1,
             "#276419"
            ]
           ],
           "sequential": [
            [
             0,
             "#0d0887"
            ],
            [
             0.1111111111111111,
             "#46039f"
            ],
            [
             0.2222222222222222,
             "#7201a8"
            ],
            [
             0.3333333333333333,
             "#9c179e"
            ],
            [
             0.4444444444444444,
             "#bd3786"
            ],
            [
             0.5555555555555556,
             "#d8576b"
            ],
            [
             0.6666666666666666,
             "#ed7953"
            ],
            [
             0.7777777777777778,
             "#fb9f3a"
            ],
            [
             0.8888888888888888,
             "#fdca26"
            ],
            [
             1,
             "#f0f921"
            ]
           ],
           "sequentialminus": [
            [
             0,
             "#0d0887"
            ],
            [
             0.1111111111111111,
             "#46039f"
            ],
            [
             0.2222222222222222,
             "#7201a8"
            ],
            [
             0.3333333333333333,
             "#9c179e"
            ],
            [
             0.4444444444444444,
             "#bd3786"
            ],
            [
             0.5555555555555556,
             "#d8576b"
            ],
            [
             0.6666666666666666,
             "#ed7953"
            ],
            [
             0.7777777777777778,
             "#fb9f3a"
            ],
            [
             0.8888888888888888,
             "#fdca26"
            ],
            [
             1,
             "#f0f921"
            ]
           ]
          },
          "colorway": [
           "#636efa",
           "#EF553B",
           "#00cc96",
           "#ab63fa",
           "#FFA15A",
           "#19d3f3",
           "#FF6692",
           "#B6E880",
           "#FF97FF",
           "#FECB52"
          ],
          "font": {
           "color": "#2a3f5f"
          },
          "geo": {
           "bgcolor": "white",
           "lakecolor": "white",
           "landcolor": "#E5ECF6",
           "showlakes": true,
           "showland": true,
           "subunitcolor": "white"
          },
          "hoverlabel": {
           "align": "left"
          },
          "hovermode": "closest",
          "mapbox": {
           "style": "light"
          },
          "paper_bgcolor": "white",
          "plot_bgcolor": "#E5ECF6",
          "polar": {
           "angularaxis": {
            "gridcolor": "white",
            "linecolor": "white",
            "ticks": ""
           },
           "bgcolor": "#E5ECF6",
           "radialaxis": {
            "gridcolor": "white",
            "linecolor": "white",
            "ticks": ""
           }
          },
          "scene": {
           "xaxis": {
            "backgroundcolor": "#E5ECF6",
            "gridcolor": "white",
            "gridwidth": 2,
            "linecolor": "white",
            "showbackground": true,
            "ticks": "",
            "zerolinecolor": "white"
           },
           "yaxis": {
            "backgroundcolor": "#E5ECF6",
            "gridcolor": "white",
            "gridwidth": 2,
            "linecolor": "white",
            "showbackground": true,
            "ticks": "",
            "zerolinecolor": "white"
           },
           "zaxis": {
            "backgroundcolor": "#E5ECF6",
            "gridcolor": "white",
            "gridwidth": 2,
            "linecolor": "white",
            "showbackground": true,
            "ticks": "",
            "zerolinecolor": "white"
           }
          },
          "shapedefaults": {
           "line": {
            "color": "#2a3f5f"
           }
          },
          "ternary": {
           "aaxis": {
            "gridcolor": "white",
            "linecolor": "white",
            "ticks": ""
           },
           "baxis": {
            "gridcolor": "white",
            "linecolor": "white",
            "ticks": ""
           },
           "bgcolor": "#E5ECF6",
           "caxis": {
            "gridcolor": "white",
            "linecolor": "white",
            "ticks": ""
           }
          },
          "title": {
           "x": 0.05
          },
          "xaxis": {
           "automargin": true,
           "gridcolor": "white",
           "linecolor": "white",
           "ticks": "",
           "title": {
            "standoff": 15
           },
           "zerolinecolor": "white",
           "zerolinewidth": 2
          },
          "yaxis": {
           "automargin": true,
           "gridcolor": "white",
           "linecolor": "white",
           "ticks": "",
           "title": {
            "standoff": 15
           },
           "zerolinecolor": "white",
           "zerolinewidth": 2
          }
         }
        },
        "title": {
         "text": "Credit Card Transactions by Class"
        },
        "xaxis": {
         "anchor": "y2",
         "autorange": true,
         "domain": [
          0,
          1
         ],
         "range": [
          0,
          172446.416
         ],
         "title": {
          "text": "Time"
         },
         "type": "linear",
         "zeroline": false
        },
        "yaxis": {
         "anchor": "free",
         "autorange": true,
         "domain": [
          0,
          1
         ],
         "position": 0,
         "range": [
          9.121804715795068e-07,
          9.373885935997386e-06
         ],
         "title": {
          "text": "Transactions"
         },
         "type": "linear"
        }
       }
      },
      "image/png": "[encoded data removed]",
      "text/html": [
       "<div>                            <div id=\"bac767ba-5f3e-4003-b275-d2fffc0f2689\" class=\"plotly-graph-div\" style=\"height:525px; width:100%;\"></div>            <script type=\"text/javascript\">                require([\"plotly\"], function(Plotly) {                    window.PLOTLYENV=window.PLOTLYENV || {};                                    if (document.getElementById(\"bac767ba-5f3e-4003-b275-d2fffc0f2689\")) {                    Plotly.newPlot(                        \"bac767ba-5f3e-4003-b275-d2fffc0f2689\",                        [{\"legendgroup\":\"Non-Fraudulent\",\"marker\":{\"color\":\"rgb(31, 119, 180)\"},\"mode\":\"lines\",\"name\":\"Non-Fraudulent\",\"showlegend\":true,\"x\":[0.0,345.584,691.168,1036.752,1382.336,1727.92,2073.504,2419.088,2764.672,3110.256,3455.84,3801.424,4147.008,4492.592,4838.176,5183.76,5529.344,5874.928,6220.512,6566.096,6911.68,7257.264,7602.848,7948.432,8294.016,8639.6,8985.184,9330.768,9676.352,10021.936,10367.52,10713.104,11058.688,11404.272,11749.856,12095.44,12441.024,12786.608,13132.192,13477.776,13823.36,14168.944,14514.528,14860.112,15205.696,15551.28,15896.864,16242.448,16588.032,16933.616,17279.2,17624.784,17970.368,18315.952,18661.536,19007.12,19352.704,19698.288,20043.872,20389.456,20735.04,21080.624,21426.208,21771.792,22117.376,22462.96,22808.544,23154.128,23499.712,23845.296,24190.88,24536.464,24882.048,25227.632,25573.216,25918.8,26264.384,26609.968,26955.552,27301.136,27646.72,27992.304,28337.888,28683.472,29029.056,29374.64,29720.224,30065.808,30411.392,30756.976,31102.56,31448.144,31793.728,32139.312,32484.896,32830.48,33176.064,33521.648,33867.232,34212.816,34558.4,34903.984,35249.568,35595.152,35940.736,36286.32,36631.904,36977.488,37323.072,37668.656,38014.24,38359.824,38705.408,39050.992,39396.576,39742.16,40087.744,40433.328,40778.912,41124.496,41470.08,41815.664,42161.248,42506.832,42852.416,43198.0,43543.584,43889.168,44234.752,44580.336,44925.92,45271.504,45617.088,45962.672,46308.256,46653.84,46999.424,47345.008,47690.592,48036.176,48381.76,48727.344,49072.928,49418.512,49764.096,50109.68,50455.264,50800.848,51146.432,51492.016,51837.6,52183.184,52528.768,52874.352,53219.936,53565.52,53911.104,54256.688,54602.272,54947.856,55293.44,55639.024,55984.608,56330.192,56675.776,57021.36,57366.944,57712.528,58058.112,58403.696,58749.28,59094.864,59440.448,59786.032,60131.616,60477.2,60822.784,61168.368,61513.952,61859.536,62205.12,62550.704,62896.288,63241.872,63587.456,63933.04,64278.624,64624.208,64969.792,65315.376,65660.96,66006.544,66352.128,66697.712,67043.296,67388.88,67734.464,68080.048,68425.632,68771.216,69116.8,69462.384,69807.968,70153.552,70499.136,70844.72,71190.304,71535.888,71881.472,72227.056,72572.64,72918.224,73263.808,73609.392,73954.976,74300.56,74646.144,74991.728,75337.312,75682.896,76028.48,76374.064,76719.648,77065.232,77410.816,77756.4,78101.984,78447.568,78793.152,79138.736,79484.32,79829.904,80175.488,80521.072,80866.656,81212.24,81557.824,81903.408,82248.992,82594.576,82940.16,83285.744,83631.328,83976.912,84322.496,84668.08,85013.664,85359.248,85704.832,86050.416,86396.0,86741.584,87087.168,87432.752,87778.336,88123.92,88469.504,88815.088,89160.672,89506.256,89851.84,90197.424,90543.008,90888.592,91234.176,91579.76,91925.344,92270.928,92616.512,92962.096,93307.68,93653.264,93998.848,94344.432,94690.016,95035.6,95381.184,95726.768,96072.352,96417.936,96763.52,97109.104,97454.688,97800.272,98145.856,98491.44,98837.024,99182.608,99528.192,99873.776,100219.36,100564.944,100910.528,101256.112,101601.696,101947.28,102292.864,102638.448,102984.032,103329.616,103675.2,104020.784,104366.368,104711.952,105057.536,105403.12,105748.704,106094.288,106439.872,106785.456,107131.04,107476.624,107822.208,108167.792,108513.376,108858.96,109204.544,109550.128,109895.712,110241.296,110586.88,110932.464,111278.048,111623.632,111969.216,112314.8,112660.384,113005.968,113351.552,113697.136,114042.72,114388.304,114733.888,115079.472,115425.056,115770.64,116116.224,116461.808,116807.392,117152.976,117498.56,117844.144,118189.728,118535.312,118880.896,119226.48,119572.064,119917.648,120263.232,120608.816,120954.4,121299.984,121645.568,121991.152,122336.736,122682.32,123027.904,123373.488,123719.072,124064.656,124410.24,124755.824,125101.408,125446.992,125792.576,126138.16,126483.744,126829.328,127174.912,127520.496,127866.08,128211.664,128557.248,128902.832,129248.416,129594.0,129939.584,130285.168,130630.752,130976.336,131321.92,131667.504,132013.088,132358.672,132704.256,133049.84,133395.424,133741.008,134086.592,134432.176,134777.76,135123.344,135468.928,135814.512,136160.096,136505.68,136851.264,137196.848,137542.432,137888.016,138233.6,138579.184,138924.768,139270.352,139615.936,139961.52,140307.104,140652.688,140998.272,141343.856,141689.44,142035.024,142380.608,142726.192,143071.776,143417.36,143762.944,144108.528,144454.112,144799.696,145145.28,145490.864,145836.448,146182.032,146527.616,146873.2,147218.784,147564.368,147909.952,148255.536,148601.12,148946.704,149292.288,149637.872,149983.456,150329.04,150674.624,151020.208,151365.792,151711.376,152056.96,152402.544,152748.128,153093.712,153439.296,153784.88,154130.464,154476.048,154821.632,155167.216,155512.8,155858.384,156203.968,156549.552,156895.136,157240.72,157586.304,157931.888,158277.472,158623.056,158968.64,159314.224,159659.808,160005.392,160350.976,160696.56,161042.144,161387.728,161733.312,162078.896,162424.48,162770.064,163115.648,163461.232,163806.816,164152.4,164497.984,164843.568,165189.152,165534.736,165880.32,166225.904,166571.488,166917.072,167262.656,167608.24,167953.824,168299.408,168644.992,168990.576,169336.16,169681.744,170027.328,170372.912,170718.496,171064.08,171409.664,171755.248,172100.832,172446.416],\"xaxis\":\"x\",\"y\":[1.6973877363280586e-06,1.7892828782758112e-06,1.875150652944944e-06,1.953969681034018e-06,2.024861973730794e-06,2.087118558483396e-06,2.140219119546816e-06,2.1838447539385927e-06,2.2178832769856942e-06,2.2424268783888955e-06,2.2577623076183882e-06,2.264354133835428e-06,2.262821958773455e-06,2.2539127419571596e-06,2.2384696108455366e-06,2.217398663176729e-06,2.1916353193567332e-06,2.1621117489289777e-06,2.1297267818456495e-06,2.0953195318782464e-06,2.0596477192018845e-06,2.0233713978568753e-06,1.987042488867491e-06,1.9511002091946343e-06,1.9158721876306742e-06,1.8815807868455872e-06,1.8483539192265396e-06,1.8162394631085824e-06,1.7852222622240903e-06,1.7552426279516782e-06,1.7262152609622758e-06,1.6980475626646352e-06,1.6706564111548039e-06,1.6439826226015231e-06,1.6180024969098476e-06,1.5927360448585923e-06,1.5682517011002714e-06,1.5446675321153637e-06,1.5221491399189467e-06,1.5009046318018406e-06,1.4811771660963376e-06,1.463235688215294e-06,1.4473645364502027e-06,1.4338526217297237e-06,1.422982870332275e-06,1.4150225659476876e-06,1.4102151418021491e-06,1.4087738606046428e-06,1.4108776868896396e-06,1.4166695108144966e-06,1.4262567330373964e-06,1.4397140754125998e-06,1.4570883500340851e-06,1.4784048069576768e-06,1.5036745948620647e-06,1.5329028135210778e-06,1.5660966149071781e-06,1.6032728216229872e-06,1.6444645755986122e-06,1.6897266029490693e-06,1.7391387770646449e-06,1.7928077744147523e-06,1.8508667381857975e-06,1.9134729853444545e-06,1.9808039048139126e-06,2.053051290813769e-06,2.130414430091056e-06,2.2130923106685024e-06,2.301275340937298e-06,2.3951369618079228e-06,2.494825503796565e-06,2.6004565898938128e-06,2.7121063198984063e-06,2.8298053995141437e-06,2.9535343051295795e-06,3.083219509543555e-06,3.218730740654431e-06,3.3598792083050087e-06,3.5064167161265362e-06,3.658035575221312e-06,3.814369252607404e-06,3.974993715455708e-06,4.139429466787549e-06,4.3071443032689864e-06,4.477556854742125e-06,4.6500409825593435e-06,4.823931115334394e-06,4.998528583903933e-06,5.173108981806105e-06,5.346930525340336e-06,5.519243322305002e-06,5.689299386564354e-06,5.856363163546392e-06,6.019722266952303e-06,6.1786980763837365e-06,6.332655815230209e-06,6.481013722326355e-06,6.6232509517610975e-06,6.758913882646392e-06,6.887620592084629e-06,7.0090633353466855e-06,7.123008981019926e-06,7.229297458091605e-06,7.327838378622519e-06,7.418606096135076e-06,7.501633539126348e-06,7.577005215809036e-06,7.644849816514986e-06,7.705332842473645e-06,7.758649664237072e-06,7.80501936213571e-06,7.844679628724626e-06,7.877882924539522e-06,7.904893979729038e-06,7.925988631950876e-06,7.941453891896749e-06,7.951589038268042e-06,7.956707469352686e-06,7.957138983114116e-06,7.953232125005979e-06,7.945356234326083e-06,7.933902836164733e-06,7.919286065607718e-06,7.901941871263663e-06,7.882325822555265e-06,7.860909434712043e-06,7.838175021443781e-06,7.814609181960483e-06,7.7906951203869e-06,7.766904076106836e-06,7.743686208405376e-06,7.721461324077076e-06,7.700609860044454e-06,7.68146453330089e-06,7.664303048169141e-06,7.649342207677095e-06,7.636733714812207e-06,7.6265618745285735e-06,7.618843323190387e-06,7.613528823519527e-06,7.6105070748142065e-06,7.609610404659842e-06,7.610622133237139e-06,7.613285337668348e-06,7.617312693657637e-06,7.622397036244754e-06,7.628222261258013e-06,7.634474183832184e-06,7.640850979499452e-06,7.647072855842437e-06,7.652890637310703e-06,7.658092991107233e-06,7.662512076527503e-06,7.666027462163935e-06,7.668568222940289e-06,7.670113199987616e-06,7.670689478349449e-06,7.670369207644402e-06,7.6692649560729e-06,7.667523845294883e-06,7.665320759634301e-06,7.662850954870488e-06,7.66032240729365e-06,7.657948241282959e-06,7.655939552993612e-06,7.654498909739602e-06,7.65381475140071e-06,7.654056855177594e-06,7.65537295262983e-06,7.65788651347832e-06,7.661695639619548e-06,7.66687295066764e-06,7.673466293966617e-06,7.68150008108315e-06,7.69097704163505e-06,7.701880194473928e-06,7.714174864326301e-06,7.727810616023513e-06,7.742723033512062e-06,7.758835331238433e-06,7.776059844505832e-06,7.794299496470398e-06,7.813449376523522e-06,7.833398582981327e-06,7.854032479260283e-06,7.875235485915656e-06,7.896894482455997e-06,7.91890282616699e-06,7.941164915968716e-06,7.963601144644495e-06,7.98615300073199e-06,8.008788010257826e-06,8.031504155929284e-06,8.054333383724188e-06,8.077343808383245e-06,8.100640261926542e-06,8.124362892272686e-06,8.148683608848511e-06,8.173800283030167e-06,8.199928735772889e-06,8.227292674172325e-06,8.256111864001962e-06,8.286588937874785e-06,8.318895331375065e-06,8.353156906560183e-06,8.38943986040445e-06,8.427737523667922e-06,8.467958634399945e-06,8.509917622528948e-06,8.553327371829414e-06,8.59779483796186e-06,8.642819801269089e-06,8.687796925533656e-06,8.732021183174847e-06,8.7746965968502e-06,8.814948139841244e-06,8.851836534828125e-06,8.884375594454913e-06,8.911551658778318e-06,8.932344606186455e-06,8.945749847731667e-06,8.950800662776492e-06,8.94659019962632e-06,8.932292451739554e-06,8.90718153146026e-06,8.87064860155356e-06,8.822215891633709e-06,8.76154732160385e-06,8.688455375376359e-06,8.60290401113989e-06,8.50500755292243e-06,8.395025674144988e-06,8.273354747955427e-06,8.14051599156321e-06,7.997140963102046e-06,7.843955071245628e-06,7.681759823438153e-06,7.511414564016171e-06,7.333818437478063e-06,7.149893256343733e-06,6.960567861899963e-06,6.766764446491492e-06,6.569387166457824e-06,6.369313224980165e-06,6.167386453840762e-06,5.964413281745307e-06,5.761160852550052e-06,5.558356955916059e-06,5.3566913599485265e-06,5.156818092563036e-06,4.959358205760813e-06,4.7649025730209994e-06,4.574014311379096e-06,4.387230482124776e-06,4.205062802375439e-06,4.027997188739512e-06,3.856492048606896e-06,3.690975329306246e-06,3.5318404260000675e-06,3.3794411318371942e-06,3.2340858852967563e-06,3.096031627187386e-06,2.9654776213486572e-06,2.8425596172418716e-06,2.7273447383649103e-06,2.619827467400672e-06,2.5199270674245984e-06,2.427486729242968e-06,2.3422746695972915e-06,2.26398732593362e-06,2.192254703819554e-06,2.126647836782541e-06,2.0666882198192547e-06,2.011858982020629e-06,1.96161747577178e-06,1.9154088848223584e-06,1.872680395682351e-06,1.8328954400207439e-06,1.7955475026086613e-06,1.7601730010951234e-06,1.726362780247861e-06,1.6937718223846278e-06,1.6621268542598847e-06,1.631231624099899e-06,1.6009697252959795e-06,1.5713049494511536e-06,1.5422792549050828e-06,1.5140085317659621e-06,1.4866764258442668e-06,1.4605265477739354e-06,1.4358534374228641e-06,1.4129926762336127e-06,1.3923105416631118e-06,1.3741935799551645e-06,1.3590384387628437e-06,1.3472422531604597e-06,1.3391938214139816e-06,1.3352657448004008e-06,1.3358076430117084e-06,1.3411404971208005e-06,1.351552119064743e-06,1.3672937027093317e-06,1.3885773785832722e-06,1.4155746731822707e-06,1.4484157643395456e-06,1.4871894256719855e-06,1.5319435639004139e-06,1.5826862706374824e-06,1.6393873322644068e-06,1.7019801647293818e-06,1.7703641613669465e-06,1.8444074581955895e-06,1.9239501300351314e-06,2.008807830270519e-06,2.0987758760662954e-06,2.1936337591993706e-06,2.293150031370259e-06,2.3970874739280644e-06,2.5052084184226334e-06,2.6172800401582494e-06,2.7330794063835676e-06,2.8523980285688246e-06,2.9750456488813643e-06,3.1008529883739087e-06,3.229673201469079e-06,3.3613818196190595e-06,3.4958750265125554e-06,3.6330661860437013e-06,3.7728806388647027e-06,3.915248888432085e-06,4.060098406421738e-06,4.207344392681541e-06,4.356879918617047e-06,4.508565957369132e-06,4.662221852604008e-06,4.817616794857717e-06,4.9744628568908994e-06,5.132410086507625e-06,5.2910440684000325e-06,5.449886250040056e-06,5.6083971870041806e-06,5.765982708836961e-06,5.922002847461334e-06,6.075783216616931e-06,6.226628393084966e-06,6.373836737849139e-06,6.5167160154076295e-06,6.654599127595618e-06,6.786859277116622e-06,6.912923915336145e-06,7.0322869056826686e-06,7.144518442560688e-06,7.249272398189473e-06,7.346290916900457e-06,7.435406228040675e-06,7.516539794521891e-06,7.589699044923489e-06,7.654972044809866e-06,7.71252054166719e-06,7.762571863863854e-06,7.80541016625673e-06,7.841367494793861e-06,7.870815093410548e-06,7.894155304130048e-06,7.911814322425828e-06,7.924235972173678e-06,7.931876565561582e-06,7.935200820419086e-06,7.934678726692156e-06,7.930783190154757e-06,7.92398823790883e-06,7.914767548312093e-06,7.903593067272759e-06,7.890933491448392e-06,7.877252433773518e-06,7.863006133781597e-06,7.848640629931402e-06,7.834588369061266e-06,7.82126428474208e-06,7.809061428088474e-06,7.79834627844205e-06,7.789453895250528e-06,7.782683095313193e-06,7.77829185095437e-06,7.776493105194513e-06,7.777451190486807e-06,7.781279019479915e-06,7.788036191106907e-06,7.797728124661896e-06,7.81030629987066e-06,7.82566964373308e-06,7.843667066258975e-06,7.864101108300343e-06,7.886732626458901e-06,7.911286403623619e-06,7.937457540051321e-06,7.96491845031127e-06,7.993326266942823e-06,8.022330433772882e-06,8.051580261527172e-06,8.080732216830163e-06,8.109456723580323e-06,8.137444273374938e-06,8.164410668920717e-06,8.190101260316743e-06,8.214294077368781e-06,8.236801809454075e-06,8.257472635466531e-06,8.276189956931754e-06,8.292871134484167e-06,8.307465368458757e-06,8.319950895687436e-06,8.330331694600876e-06,8.338633898067018e-06,8.344902107683759e-06,8.349195785105582e-06,8.351585867079344e-06,8.352151713794795e-06,8.350978458177499e-06,8.348154780724116e-06,8.343771094233949e-06,8.337918089053096e-06,8.330685565341534e-06,8.32216146647208e-06,8.312431028145751e-06,8.301575970639937e-06,8.289673685328089e-06,8.276796398178944e-06,8.263010328542321e-06,8.248374896682506e-06,8.23294206354637e-06,8.216755906902873e-06,8.19985254575153e-06,8.182260517625346e-06,8.164001690406235e-06,8.145092752644379e-06,8.125547276863934e-06,8.105378293149336e-06,8.084601250801892e-06,8.063237189892185e-06,8.041315897964987e-06,8.018878795313226e-06,7.995981279158938e-06,7.972694265251248e-06,7.949104695474407e-06,7.925314830588006e-06,7.901440215051245e-06,7.877606281147071e-06,7.8539436464298e-06,7.830582245392936e-06,7.80764451665223e-06,7.785237935050346e-06,7.763447228932302e-06,7.742326653122353e-06,7.721892695892148e-06,7.702117583445185e-06,7.682923909494897e-06,7.664180663263095e-06,7.64570086046414e-06,7.627240903155112e-06,7.6085017105786325e-06,7.589131579163998e-06,7.568730650274565e-06,7.546856793166979e-06,7.523032651406222e-06,7.496753556358493e-06,7.467495983329711e-06,7.434726215601897e-06,7.3979088894793845e-06,7.356515119140486e-06,7.31002994248001e-06,7.257958886335617e-06,7.1998335187730886e-06,7.135215933976632e-06,7.063702197459115e-06,6.9849248608436e-06,6.898554730990978e-06,6.804302142113178e-06,6.701918026281206e-06,6.591195102474047e-06,6.471969503111548e-06,6.344123127464243e-06,6.207586952830056e-06,6.0623454485933534e-06,5.908442129175984e-06,5.745986155767177e-06,5.575159761964342e-06,5.3962261450338055e-06,5.2095373433417095e-06,5.015541522619496e-06,4.814789029264707e-06,4.607936546220065e-06,4.395748711767643e-06,4.179096636110795e-06,3.958952873299063e-06,3.736382571306475e-06,3.512530721558793e-06,3.2886056483824213e-06,3.065859103915959e-06,2.84556354903535e-06],\"yaxis\":\"y\",\"type\":\"scatter\"},{\"legendgroup\":\"Fraudulent\",\"marker\":{\"color\":\"rgb(255, 127, 14)\"},\"mode\":\"lines\",\"name\":\"Fraudulent\",\"showlegend\":true,\"x\":[406.0,745.884,1085.768,1425.652,1765.536,2105.42,2445.304,2785.188,3125.072,3464.956,3804.84,4144.724,4484.608,4824.492,5164.376,5504.26,5844.144,6184.028,6523.912,6863.796,7203.68,7543.564,7883.448,8223.332,8563.216,8903.1,9242.984,9582.868,9922.752,10262.636,10602.52,10942.404,11282.288,11622.172,11962.056,12301.94,12641.824,12981.708,13321.592,13661.476,14001.36,14341.244,14681.128,15021.012,15360.896,15700.78,16040.664,16380.548,16720.432,17060.316,17400.2,17740.084,18079.968,18419.852,18759.736,19099.62,19439.504,19779.388,20119.272,20459.156,20799.04,21138.924,21478.808,21818.692,22158.576,22498.46,22838.344,23178.228,23518.112,23857.996,24197.88,24537.764,24877.648,25217.532,25557.416,25897.3,26237.184,26577.068,26916.952,27256.836,27596.72,27936.604,28276.488,28616.372,28956.256,29296.14,29636.024,29975.908,30315.792,30655.676,30995.56,31335.444,31675.328,32015.212,32355.096,32694.98,33034.864,33374.748,33714.632,34054.516,34394.4,34734.284,35074.168,35414.052,35753.936,36093.82,36433.704,36773.588,37113.472,37453.356,37793.24,38133.124,38473.008,38812.892,39152.776,39492.66,39832.544,40172.428,40512.312,40852.196,41192.08,41531.964,41871.848,42211.732,42551.616,42891.5,43231.384,43571.268,43911.152,44251.036,44590.92,44930.804,45270.688,45610.572,45950.456,46290.34,46630.224,46970.108,47309.992,47649.876,47989.76,48329.644,48669.528,49009.412,49349.296,49689.18,50029.064,50368.948,50708.832,51048.716,51388.6,51728.484,52068.368,52408.252,52748.136,53088.02,53427.904,53767.788,54107.672,54447.556,54787.44,55127.324,55467.208,55807.092,56146.976,56486.86,56826.744,57166.628,57506.512,57846.396,58186.28,58526.164,58866.048,59205.932,59545.816,59885.7,60225.584,60565.468,60905.352,61245.236,61585.12,61925.004,62264.888,62604.772,62944.656,63284.54,63624.424,63964.308,64304.192,64644.076,64983.96,65323.844,65663.728,66003.612,66343.496,66683.38,67023.264,67363.148,67703.032,68042.916,68382.8,68722.684,69062.568,69402.452,69742.336,70082.22,70422.104,70761.988,71101.872,71441.756,71781.64,72121.524,72461.408,72801.292,73141.176,73481.06,73820.944,74160.828,74500.712,74840.596,75180.48,75520.364,75860.248,76200.132,76540.016,76879.9,77219.784,77559.668,77899.552,78239.436,78579.32,78919.204,79259.088,79598.972,79938.856,80278.74,80618.624,80958.508,81298.392,81638.276,81978.16,82318.044,82657.928,82997.812,83337.696,83677.58,84017.464,84357.348,84697.232,85037.116,85377.0,85716.884,86056.768,86396.652,86736.536,87076.42,87416.304,87756.188,88096.072,88435.956,88775.84,89115.724,89455.608,89795.492,90135.376,90475.26,90815.144,91155.028,91494.912,91834.796,92174.68,92514.564,92854.448,93194.332,93534.216,93874.1,94213.984,94553.868,94893.752,95233.636,95573.52,95913.404,96253.288,96593.172,96933.056,97272.94,97612.824,97952.708,98292.592,98632.476,98972.36,99312.244,99652.128,99992.012,100331.896,100671.78,101011.664,101351.548,101691.432,102031.316,102371.2,102711.084,103050.968,103390.852,103730.736,104070.62,104410.504,104750.388,105090.272,105430.156,105770.04,106109.924,106449.808,106789.692,107129.576,107469.46,107809.344,108149.228,108489.112,108828.996,109168.88,109508.764,109848.648,110188.532,110528.416,110868.3,111208.184,111548.068,111887.952,112227.836,112567.72,112907.604,113247.488,113587.372,113927.256,114267.14,114607.024,114946.908,115286.792,115626.676,115966.56,116306.444,116646.328,116986.212,117326.096,117665.98,118005.864,118345.748,118685.632,119025.516,119365.4,119705.284,120045.168,120385.052,120724.936,121064.82,121404.704,121744.588,122084.472,122424.356,122764.24,123104.124,123444.008,123783.892,124123.776,124463.66,124803.544,125143.428,125483.312,125823.196,126163.08,126502.964,126842.848,127182.732,127522.616,127862.5,128202.384,128542.268,128882.152,129222.036,129561.92,129901.804,130241.688,130581.572,130921.456,131261.34,131601.224,131941.108,132280.992,132620.876,132960.76,133300.644,133640.528,133980.412,134320.296,134660.18,135000.064,135339.948,135679.832,136019.716,136359.6,136699.484,137039.368,137379.252,137719.136,138059.02,138398.904,138738.788,139078.672,139418.556,139758.44,140098.324,140438.208,140778.092,141117.976,141457.86,141797.744,142137.628,142477.512,142817.396,143157.28,143497.164,143837.048,144176.932,144516.816,144856.7,145196.584,145536.468,145876.352,146216.236,146556.12,146896.004,147235.888,147575.772,147915.656,148255.54,148595.424,148935.308,149275.192,149615.076,149954.96,150294.844,150634.728,150974.612,151314.496,151654.38,151994.264,152334.148,152674.032,153013.916,153353.8,153693.684,154033.568,154373.452,154713.336,155053.22,155393.104,155732.988,156072.872,156412.756,156752.64,157092.524,157432.408,157772.292,158112.176,158452.06,158791.944,159131.828,159471.712,159811.596,160151.48,160491.364,160831.248,161171.132,161511.016,161850.9,162190.784,162530.668,162870.552,163210.436,163550.32,163890.204,164230.088,164569.972,164909.856,165249.74,165589.624,165929.508,166269.392,166609.276,166949.16,167289.044,167628.928,167968.812,168308.696,168648.58,168988.464,169328.348,169668.232,170008.116],\"xaxis\":\"x\",\"y\":[2.5725270199184186e-06,2.6310058058129383e-06,2.6897686304363113e-06,2.748786647363209e-06,2.8080309928186178e-06,2.8674728524427232e-06,2.927083527927629e-06,2.9868345032672523e-06,3.046697510360476e-06,3.106644593707739e-06,3.1666481739421243e-06,3.2266811099387665e-06,3.286716759249754e-06,3.3467290366169334e-06,3.4066924703207853e-06,3.4665822561312503e-06,3.5263743086346612e-06,3.586045309720728e-06,3.6455727540243725e-06,3.704934991128807e-06,3.764111264349627e-06,3.823081745932931e-06,3.8818275685156236e-06,3.940330852711665e-06,3.998574730703817e-06,4.056543365738184e-06,4.114221967435875e-06,4.171596802854251e-06,4.22865520324932e-06,4.2853855665086814e-06,4.341777355244726e-06,4.397821090555965e-06,4.4535083414842744e-06,4.508831710215101e-06,4.5637848130863e-06,4.618362257490829e-06,4.672559614776593e-06,4.726373389264856e-06,4.7798009835267726e-06,4.832840660073918e-06,4.8854914996356455e-06,4.937753356211278e-06,4.989626809100186e-06,5.04111311212635e-06,5.0922141402872045e-06,5.142932334068026e-06,5.193270641674184e-06,5.2432324594427434e-06,5.2928215707039586e-06,5.342042083369238e-06,5.390898366529312e-06,5.439394986349832e-06,5.487536641555415e-06,5.5353280987949695e-06,5.582774128181599e-06,5.629879439299518e-06,5.676648617968544e-06,5.723086064053026e-06,5.769195930597303e-06,5.814982064563845e-06,5.860447949442463e-06,5.905596649991412e-06,5.950430759359787e-06,5.994952348831379e-06,6.039162920417333e-06,6.0830633625115504e-06,6.126653908809836e-06,6.169934100677941e-06,6.212902753138355e-06,6.255557924628917e-06,6.297896890669671e-06,6.339916121555685e-06,6.381611264176304e-06,6.422977128041518e-06,6.464007675577935e-06,6.504696016736771e-06,6.545034407937351e-06,6.585014255349519e-06,6.6246261224990165e-06,6.663859742160641e-06,6.702704032484233e-06,6.741147117280074e-06,6.779176350371278e-06,6.8167783439031485e-06,6.8539390004813194e-06,6.890643548994117e-06,6.9268765839581094e-06,6.962622108210547e-06,6.997863578757841e-06,7.032583955575587e-06,7.066765753143314e-06,7.100391094485442e-06,7.13344176747952e-06,7.165899283183912e-06,7.197744935928862e-06,7.228959864908295e-06,7.2595251170041e-06,7.2894217105707835e-06,7.318630699905537e-06,7.347133240126908e-06,7.374910652185972e-06,7.401944487734288e-06,7.428216593576158e-06,7.453709175436182e-06,7.478404860778611e-06,7.502286760421194e-06,7.525338528694e-06,7.547544421902765e-06,7.568889354865974e-06,7.589358955305963e-06,7.6089396158869455e-06,7.6276185437049614e-06,7.645383807049724e-06,7.662224379271765e-06,7.678130179605082e-06,7.693092110809923e-06,7.707102093518343e-06,7.720153097180765e-06,7.73223916753028e-06,7.74335545049777e-06,7.753498212529612e-06,7.762664857276409e-06,7.770853938639617e-06,7.778065170179877e-06,7.784299430908184e-06,7.789558767497564e-06,7.793846392970039e-06,7.79716668192795e-06,7.799525162415756e-06,7.800928504511102e-06,7.801384505758749e-06,7.800902073572752e-06,7.79949120474543e-06,7.797162962210432e-06,7.793929449219127e-06,7.789803781096399e-06,7.784800054750648e-06,7.778933316118147e-06,7.772219525727597e-06,7.764675522574614e-06,7.75631898649779e-06,7.747168399250416e-06,7.737243004461252e-06,7.726562766677172e-06,7.715148329678115e-06,7.703020974251558e-06,7.690202575608858e-06,7.67671556062078e-06,7.662582865042432e-06,7.647827890890533e-06,7.63247446412764e-06,7.6165467927982415e-06,7.600069425751878e-06,7.583067212077927e-06,7.565565261364991e-06,7.547588904886183e-06,7.529163657799741e-06,7.510315182441231e-06,7.491069252771464e-06,7.471451720031027e-06,7.451488479639303e-06,7.431205439363626e-06,7.410628488770476e-06,7.3897834699591784e-06,7.368696149565699e-06,7.347392192012733e-06,7.325897133970948e-06,7.30423635998556e-06,7.282435079212543e-06,7.260518303199246e-06,7.238510824635931e-06,7.216437196996779e-06,7.194321714982592e-06,7.172188395671026e-06,7.15006096027575e-06,7.1279628164118935e-06,7.105917040762377e-06,7.083946362037863e-06,7.06207314412266e-06,7.040319369298783e-06,7.018706621442342e-06,6.997256069088546e-06,6.975988448265334e-06,6.954924045000071e-06,6.934082677409288e-06,6.9134836772881e-06,6.893145871122829e-06,6.873087560459115e-06,6.8533265015665985e-06,6.833879884350618e-06,6.8147643104725706e-06,6.795995770650816e-06,6.777589621125901e-06,6.759560559286022e-06,6.741922598460666e-06,6.724689041902917e-06,6.707872455994472e-06,6.6914846427192735e-06,6.675536611465735e-06,6.66003855022945e-06,6.644999796301857e-06,6.630428806542279e-06,6.616333127343136e-06,6.60271936441016e-06,6.589593152489992e-06,6.576959125189144e-06,6.564820885037666e-06,6.553180973960314e-06,6.542040844326773e-06,6.531400830759609e-06,6.521260122885779e-06,6.511616739222865e-06,6.502467502396011e-06,6.4938080158847915e-06,6.485632642502066e-06,6.477934484807599e-06,6.470705367659423e-06,6.463935823104737e-06,6.457615077809518e-06,6.4517310432223365e-06,6.446270308662627e-06,6.441218137517905e-06,6.43655846672634e-06,6.432273909712533e-06,6.428345762934644e-06,6.424754016189525e-06,6.4214773668104815e-06,6.418493237878816e-06,6.415777800556125e-06,6.413306000628759e-06,6.4110515893397576e-06,6.408987158566516e-06,6.407084180384325e-06,6.405313051037887e-06,6.4036431393233005e-06,6.402042839363787e-06,6.400479627742147e-06,6.398920124932858e-06,6.397330160956057e-06,6.395674845154959e-06,6.3939186399780624e-06,6.3920254386263285e-06,6.38995864640597e-06,6.38768126560702e-06,6.385155983708638e-06,6.382345264692887e-06,6.379211443230842e-06,6.375716821486896e-06,6.371823768270629e-06,6.367494820249907e-06,6.362692784924035e-06,6.357380845042472e-06,6.3515226641418096e-06,6.345082492863202e-06,6.338025275702306e-06,6.33031675783569e-06,6.321923591660976e-06,6.312813442682563e-06,6.302955094371123e-06,6.292318551623299e-06,6.280875142447134e-06,6.268597617500529e-06,6.2554602471125774e-06,6.2414389154223915e-06,6.226511211276388e-06,6.210656515532497e-06,6.1938560844299705e-06,6.176093128693816e-06,6.1573528880561844e-06,6.137622700890801e-06,6.1168920686722895e-06,6.09515271498915e-06,6.0723986388573735e-06,6.048626162101344e-06,6.023833970588853e-06,5.998023149129174e-06,5.971197209865401e-06,5.943362114015651e-06,5.914526286842008e-06,5.884700625750639e-06,5.853898501451924e-06,5.822135752134675e-06,5.7894306706348915e-06,5.7558039846049595e-06,5.721278829715635e-06,5.685880715948571e-06,5.649637487063369e-06,5.612579273347977e-06,5.574738437786229e-06,5.536149515800898e-06,5.49684914875355e-06,5.456876011406088e-06,5.4162707335700106e-06,5.3750758161907535e-06,5.333335542134214e-06,5.291095881960868e-06,5.248404394990797e-06,5.205310125978372e-06,5.161863497730501e-06,5.118116200015251e-06,5.074121075119351e-06,5.029932000423422e-06,4.985603768372088e-06,4.941191964223304e-06,4.896752841966393e-06,4.85234319880216e-06,4.808020248580191e-06,4.763841494589364e-06,4.719864602095872e-06,4.676147271020593e-06,4.632747109143135e-06,4.589721506214109e-06,4.547127509349559e-06,4.505021700072854e-06,4.463460073358997e-06,4.4224979190248335e-06,4.382189705795714e-06,4.342588968365247e-06,4.303748197749751e-06,4.265718735222607e-06,4.228550670097034e-06,4.192292741607468e-06,4.156992245121314e-06,4.122694942893464e-06,4.089444979555856e-06,4.057284802514108e-06,4.026255087402529e-06,3.996394668727529e-06,3.967740475808403e-06,3.940327474103151e-06,3.914188611985556e-06,3.889354773018637e-06,3.865854733748632e-06,3.843715127022968e-06,3.822960410815293e-06,3.8036128425209813e-06,3.785692458667052e-06,3.769217059961994e-06,3.754202201592922e-06,3.7406611886604264e-06,3.728605076625154e-06,3.7180426766247457e-06,3.708980565505328e-06,3.70142310039843e-06,3.695372437661674e-06,3.6908285559905345e-06,3.687789283498205e-06,3.686250328551705e-06,3.686205314144638e-06,3.6876458155803856e-06,3.6905614012342007e-06,3.6949396761586576e-06,3.7007663282937523e-06,3.7080251770415627e-06,3.716698223964658e-06,3.72676570536829e-06,3.7382061465281578e-06,3.750996417328555e-06,3.7651117890798223e-06,3.7805259922891007e-06,3.7972112751645694e-06,3.815138462640425e-06,3.834277015717924e-06,3.85459509092663e-06,3.876059599719658e-06,3.898636267627168e-06,3.922289693003299e-06,3.946983405213356e-06,3.9726799221203845e-06,3.99934080674246e-06,4.026926722965422e-06,4.055397490208563e-06,4.084712136954444e-06,4.1148289530674665e-06,4.14570554083936e-06,4.177298864713326e-06,4.209565299651933e-06,4.2424606781271595e-06,4.275940335723666e-06,4.309959155359336e-06,4.344471610138979e-06,4.37943180486875e-06,4.4147935162702665e-06,4.450510231943434e-06,4.486535188137169e-06,4.522821406396071e-06,4.559321729159453e-06,4.595988854396512e-06,4.632775369368175e-06,4.669633783611571e-06,4.706516561248101e-06,4.743376152719514e-06,4.780165026059656e-06,4.816835697810895e-06,4.8533407636952975e-06,4.889632929150575e-06,4.925665039839297e-06,4.961390112238059e-06,4.996761364410147e-06,5.031732247060993e-06,5.066256474971185e-06,5.10028805889563e-06,5.133781338011263e-06,5.1666910129878835e-06,5.1989721797491105e-06,5.230580363981222e-06,5.26147155643864e-06,5.291602249084776e-06,5.320929472096579e-06,5.349410831750429e-06,5.377004549195869e-06,5.403669500112424e-06,5.429365255233112e-06,5.454052121706752e-06,5.47769118525958e-06,5.50024435310493e-06,5.5216743975386395e-06,5.541945000146369e-06,5.561020796538229e-06,5.578867421515788e-06,5.595451554565916e-06,5.610740965567116e-06,5.624704560584352e-06,5.6373124276203065e-06,5.648535882183501e-06,5.658347512526507e-06,5.666721224401678e-06,5.6736322851763365e-06,5.679057367145257e-06,5.682974589874614e-06,5.68536356140919e-06,5.686205418173049e-06,5.685482863393367e-06,5.683180203877497e-06,5.679283384974734e-06,5.673780023556718e-06,5.666659438853747e-06,5.657912680988523e-06,5.647532557054241e-06,5.63551365459e-06,5.621852362313586e-06,5.606546887979509e-06,5.589597273238929e-06,5.571005405387347e-06,5.550775025896202e-06,5.528911735635079e-06,5.505422996702589e-06,5.480318130795817e-06,5.453608314060394e-06,5.425306568375871e-06,5.395427749044038e-06,5.363988528860966e-06,5.331007378566766e-06,5.296504543680576e-06,5.2605020177416475e-06,5.2230235119907465e-06,5.184094421539271e-06,5.143741788086644e-06,5.101994259259249e-06,5.05888204465646e-06,5.0144368687017364e-06,4.968691920407994e-06,4.921681800177755e-06,4.873442463769114e-06,4.824011163568484e-06,4.773426387320357e-06,4.721727794472902e-06,4.668956150306307e-06,4.615153258017563e-06,4.560361888942082e-06,4.504625711097861e-06,4.447989216242829e-06,4.39049764563976e-06,4.332196914726348e-06,4.27313353689029e-06,4.213354546550483e-06,4.152907421746282e-06,4.091840006436426e-06,4.030200432708102e-06,3.968037043095123e-06,3.905398313201444e-06,3.842332774823002e-06,3.778888939757e-06,3.715115224483064e-06,3.6510598758955166e-06,3.5867708982600254e-06,3.5222959815618283e-06,3.4576824314054783e-06,3.3929771006189387e-06,3.328226322707072e-06,3.263475847291372e-06,3.1987707776643126e-06,3.134155510578029e-06,3.0696736783780304e-06,3.005368093583349e-06,2.9412806960054663e-06,2.877452502488683e-06,2.8139235593453073e-06,2.7507328975493902e-06,2.6879184907434146e-06],\"yaxis\":\"y\",\"type\":\"scatter\"}],                        {\"barmode\":\"overlay\",\"hovermode\":\"closest\",\"legend\":{\"traceorder\":\"reversed\"},\"xaxis\":{\"anchor\":\"y2\",\"domain\":[0.0,1.0],\"zeroline\":false,\"title\":{\"text\":\"Time\"}},\"yaxis\":{\"anchor\":\"free\",\"domain\":[0.0,1],\"position\":0.0,\"title\":{\"text\":\"Transactions\"}},\"template\":{\"data\":{\"histogram2dcontour\":[{\"type\":\"histogram2dcontour\",\"colorbar\":{\"outlinewidth\":0,\"ticks\":\"\"},\"colorscale\":[[0.0,\"#0d0887\"],[0.1111111111111111,\"#46039f\"],[0.2222222222222222,\"#7201a8\"],[0.3333333333333333,\"#9c179e\"],[0.4444444444444444,\"#bd3786\"],[0.5555555555555556,\"#d8576b\"],[0.6666666666666666,\"#ed7953\"],[0.7777777777777778,\"#fb9f3a\"],[0.8888888888888888,\"#fdca26\"],[1.0,\"#f0f921\"]]}],\"choropleth\":[{\"type\":\"choropleth\",\"colorbar\":{\"outlinewidth\":0,\"ticks\":\"\"}}],\"histogram2d\":[{\"type\":\"histogram2d\",\"colorbar\":{\"outlinewidth\":0,\"ticks\":\"\"},\"colorscale\":[[0.0,\"#0d0887\"],[0.1111111111111111,\"#46039f\"],[0.2222222222222222,\"#7201a8\"],[0.3333333333333333,\"#9c179e\"],[0.4444444444444444,\"#bd3786\"],[0.5555555555555556,\"#d8576b\"],[0.6666666666666666,\"#ed7953\"],[0.7777777777777778,\"#fb9f3a\"],[0.8888888888888888,\"#fdca26\"],[1.0,\"#f0f921\"]]}],\"heatmap\":[{\"type\":\"heatmap\",\"colorbar\":{\"outlinewidth\":0,\"ticks\":\"\"},\"colorscale\":[[0.0,\"#0d0887\"],[0.1111111111111111,\"#46039f\"],[0.2222222222222222,\"#7201a8\"],[0.3333333333333333,\"#9c179e\"],[0.4444444444444444,\"#bd3786\"],[0.5555555555555556,\"#d8576b\"],[0.6666666666666666,\"#ed7953\"],[0.7777777777777778,\"#fb9f3a\"],[0.8888888888888888,\"#fdca26\"],[1.0,\"#f0f921\"]]}],\"heatmapgl\":[{\"type\":\"heatmapgl\",\"colorbar\":{\"outlinewidth\":0,\"ticks\":\"\"},\"colorscale\":[[0.0,\"#0d0887\"],[0.1111111111111111,\"#46039f\"],[0.2222222222222222,\"#7201a8\"],[0.3333333333333333,\"#9c179e\"],[0.4444444444444444,\"#bd3786\"],[0.5555555555555556,\"#d8576b\"],[0.6666666666666666,\"#ed7953\"],[0.7777777777777778,\"#fb9f3a\"],[0.8888888888888888,\"#fdca26\"],[1.0,\"#f0f921\"]]}],\"contourcarpet\":[{\"type\":\"contourcarpet\",\"colorbar\":{\"outlinewidth\":0,\"ticks\":\"\"}}],\"contour\":[{\"type\":\"contour\",\"colorbar\":{\"outlinewidth\":0,\"ticks\":\"\"},\"colorscale\":[[0.0,\"#0d0887\"],[0.1111111111111111,\"#46039f\"],[0.2222222222222222,\"#7201a8\"],[0.3333333333333333,\"#9c179e\"],[0.4444444444444444,\"#bd3786\"],[0.5555555555555556,\"#d8576b\"],[0.6666666666666666,\"#ed7953\"],[0.7777777777777778,\"#fb9f3a\"],[0.8888888888888888,\"#fdca26\"],[1.0,\"#f0f921\"]]}],\"surface\":[{\"type\":\"surface\",\"colorbar\":{\"outlinewidth\":0,\"ticks\":\"\"},\"colorscale\":[[0.0,\"#0d0887\"],[0.1111111111111111,\"#46039f\"],[0.2222222222222222,\"#7201a8\"],[0.3333333333333333,\"#9c179e\"],[0.4444444444444444,\"#bd3786\"],[0.5555555555555556,\"#d8576b\"],[0.6666666666666666,\"#ed7953\"],[0.7777777777777778,\"#fb9f3a\"],[0.8888888888888888,\"#fdca26\"],[1.0,\"#f0f921\"]]}],\"mesh3d\":[{\"type\":\"mesh3d\",\"colorbar\":{\"outlinewidth\":0,\"ticks\":\"\"}}],\"scatter\":[{\"fillpattern\":{\"fillmode\":\"overlay\",\"size\":10,\"solidity\":0.2},\"type\":\"scatter\"}],\"parcoords\":[{\"type\":\"parcoords\",\"line\":{\"colorbar\":{\"outlinewidth\":0,\"ticks\":\"\"}}}],\"scatterpolargl\":[{\"type\":\"scatterpolargl\",\"marker\":{\"colorbar\":{\"outlinewidth\":0,\"ticks\":\"\"}}}],\"bar\":[{\"error_x\":{\"color\":\"#2a3f5f\"},\"error_y\":{\"color\":\"#2a3f5f\"},\"marker\":{\"line\":{\"color\":\"#E5ECF6\",\"width\":0.5},\"pattern\":{\"fillmode\":\"overlay\",\"size\":10,\"solidity\":0.2}},\"type\":\"bar\"}],\"scattergeo\":[{\"type\":\"scattergeo\",\"marker\":{\"colorbar\":{\"outlinewidth\":0,\"ticks\":\"\"}}}],\"scatterpolar\":[{\"type\":\"scatterpolar\",\"marker\":{\"colorbar\":{\"outlinewidth\":0,\"ticks\":\"\"}}}],\"histogram\":[{\"marker\":{\"pattern\":{\"fillmode\":\"overlay\",\"size\":10,\"solidity\":0.2}},\"type\":\"histogram\"}],\"scattergl\":[{\"type\":\"scattergl\",\"marker\":{\"colorbar\":{\"outlinewidth\":0,\"ticks\":\"\"}}}],\"scatter3d\":[{\"type\":\"scatter3d\",\"line\":{\"colorbar\":{\"outlinewidth\":0,\"ticks\":\"\"}},\"marker\":{\"colorbar\":{\"outlinewidth\":0,\"ticks\":\"\"}}}],\"scattermapbox\":[{\"type\":\"scattermapbox\",\"marker\":{\"colorbar\":{\"outlinewidth\":0,\"ticks\":\"\"}}}],\"scatterternary\":[{\"type\":\"scatterternary\",\"marker\":{\"colorbar\":{\"outlinewidth\":0,\"ticks\":\"\"}}}],\"scattercarpet\":[{\"type\":\"scattercarpet\",\"marker\":{\"colorbar\":{\"outlinewidth\":0,\"ticks\":\"\"}}}],\"carpet\":[{\"aaxis\":{\"endlinecolor\":\"#2a3f5f\",\"gridcolor\":\"white\",\"linecolor\":\"white\",\"minorgridcolor\":\"white\",\"startlinecolor\":\"#2a3f5f\"},\"baxis\":{\"endlinecolor\":\"#2a3f5f\",\"gridcolor\":\"white\",\"linecolor\":\"white\",\"minorgridcolor\":\"white\",\"startlinecolor\":\"#2a3f5f\"},\"type\":\"carpet\"}],\"table\":[{\"cells\":{\"fill\":{\"color\":\"#EBF0F8\"},\"line\":{\"color\":\"white\"}},\"header\":{\"fill\":{\"color\":\"#C8D4E3\"},\"line\":{\"color\":\"white\"}},\"type\":\"table\"}],\"barpolar\":[{\"marker\":{\"line\":{\"color\":\"#E5ECF6\",\"width\":0.5},\"pattern\":{\"fillmode\":\"overlay\",\"size\":10,\"solidity\":0.2}},\"type\":\"barpolar\"}],\"pie\":[{\"automargin\":true,\"type\":\"pie\"}]},\"layout\":{\"autotypenumbers\":\"strict\",\"colorway\":[\"#636efa\",\"#EF553B\",\"#00cc96\",\"#ab63fa\",\"#FFA15A\",\"#19d3f3\",\"#FF6692\",\"#B6E880\",\"#FF97FF\",\"#FECB52\"],\"font\":{\"color\":\"#2a3f5f\"},\"hovermode\":\"closest\",\"hoverlabel\":{\"align\":\"left\"},\"paper_bgcolor\":\"white\",\"plot_bgcolor\":\"#E5ECF6\",\"polar\":{\"bgcolor\":\"#E5ECF6\",\"angularaxis\":{\"gridcolor\":\"white\",\"linecolor\":\"white\",\"ticks\":\"\"},\"radialaxis\":{\"gridcolor\":\"white\",\"linecolor\":\"white\",\"ticks\":\"\"}},\"ternary\":{\"bgcolor\":\"#E5ECF6\",\"aaxis\":{\"gridcolor\":\"white\",\"linecolor\":\"white\",\"ticks\":\"\"},\"baxis\":{\"gridcolor\":\"white\",\"linecolor\":\"white\",\"ticks\":\"\"},\"caxis\":{\"gridcolor\":\"white\",\"linecolor\":\"white\",\"ticks\":\"\"}},\"coloraxis\":{\"colorbar\":{\"outlinewidth\":0,\"ticks\":\"\"}},\"colorscale\":{\"sequential\":[[0.0,\"#0d0887\"],[0.1111111111111111,\"#46039f\"],[0.2222222222222222,\"#7201a8\"],[0.3333333333333333,\"#9c179e\"],[0.4444444444444444,\"#bd3786\"],[0.5555555555555556,\"#d8576b\"],[0.6666666666666666,\"#ed7953\"],[0.7777777777777778,\"#fb9f3a\"],[0.8888888888888888,\"#fdca26\"],[1.0,\"#f0f921\"]],\"sequentialminus\":[[0.0,\"#0d0887\"],[0.1111111111111111,\"#46039f\"],[0.2222222222222222,\"#7201a8\"],[0.3333333333333333,\"#9c179e\"],[0.4444444444444444,\"#bd3786\"],[0.5555555555555556,\"#d8576b\"],[0.6666666666666666,\"#ed7953\"],[0.7777777777777778,\"#fb9f3a\"],[0.8888888888888888,\"#fdca26\"],[1.0,\"#f0f921\"]],\"diverging\":[[0,\"#8e0152\"],[0.1,\"#c51b7d\"],[0.2,\"#de77ae\"],[0.3,\"#f1b6da\"],[0.4,\"#fde0ef\"],[0.5,\"#f7f7f7\"],[0.6,\"#e6f5d0\"],[0.7,\"#b8e186\"],[0.8,\"#7fbc41\"],[0.9,\"#4d9221\"],[1,\"#276419\"]]},\"xaxis\":{\"gridcolor\":\"white\",\"linecolor\":\"white\",\"ticks\":\"\",\"title\":{\"standoff\":15},\"zerolinecolor\":\"white\",\"automargin\":true,\"zerolinewidth\":2},\"yaxis\":{\"gridcolor\":\"white\",\"linecolor\":\"white\",\"ticks\":\"\",\"title\":{\"standoff\":15},\"zerolinecolor\":\"white\",\"automargin\":true,\"zerolinewidth\":2},\"scene\":{\"xaxis\":{\"backgroundcolor\":\"#E5ECF6\",\"gridcolor\":\"white\",\"linecolor\":\"white\",\"showbackground\":true,\"ticks\":\"\",\"zerolinecolor\":\"white\",\"gridwidth\":2},\"yaxis\":{\"backgroundcolor\":\"#E5ECF6\",\"gridcolor\":\"white\",\"linecolor\":\"white\",\"showbackground\":true,\"ticks\":\"\",\"zerolinecolor\":\"white\",\"gridwidth\":2},\"zaxis\":{\"backgroundcolor\":\"#E5ECF6\",\"gridcolor\":\"white\",\"linecolor\":\"white\",\"showbackground\":true,\"ticks\":\"\",\"zerolinecolor\":\"white\",\"gridwidth\":2}},\"shapedefaults\":{\"line\":{\"color\":\"#2a3f5f\"}},\"annotationdefaults\":{\"arrowcolor\":\"#2a3f5f\",\"arrowhead\":0,\"arrowwidth\":1},\"geo\":{\"bgcolor\":\"white\",\"landcolor\":\"#E5ECF6\",\"subunitcolor\":\"white\",\"showland\":true,\"showlakes\":true,\"lakecolor\":\"white\"},\"title\":{\"x\":0.05},\"mapbox\":{\"style\":\"light\"}}},\"title\":{\"text\":\"Credit Card Transactions by Class\"}},                        {\"responsive\": true}                    ).then(function(){\n",
       "                            \n",
       "var gd = document.getElementById('bac767ba-5f3e-4003-b275-d2fffc0f2689');\n",
       "var x = new MutationObserver(function (mutations, observer) {{\n",
       "        var display = window.getComputedStyle(gd).display;\n",
       "        if (!display || display === 'none') {{\n",
       "            console.log([gd, 'removed!']);\n",
       "            Plotly.purge(gd);\n",
       "            observer.disconnect();\n",
       "        }}\n",
       "}});\n",
       "\n",
       "// Listen for the removal of the full notebook cells\n",
       "var notebookContainer = gd.closest('#notebook-container');\n",
       "if (notebookContainer) {{\n",
       "    x.observe(notebookContainer, {childList: true});\n",
       "}}\n",
       "\n",
       "// Listen for the clearing of the current output cell\n",
       "var outputEl = gd.closest('.output');\n",
       "if (outputEl) {{\n",
       "    x.observe(outputEl, {childList: true});\n",
       "}}\n",
       "\n",
       "                        })                };                });            </script>        </div>"
      ]
     },
     "metadata": {},
     "output_type": "display_data"
    }
   ],
   "source": [
    "## Creating the displot data by Class variable\n",
    "non_fraud = credit_card_df.loc[credit_card_df['Class'] == 0][\"Time\"]\n",
    "fraud = credit_card_df.loc[credit_card_df['Class'] == 1][\"Time\"]\n",
    "\n",
    "## Grouping data together.\n",
    "hist_data = [non_fraud, fraud]\n",
    "\n",
    "## Creating the labels for displot data as per Class.\n",
    "group_labels = ['Non-Fraudulent', 'Fraudulent']\n",
    "\n",
    "## Create distplot\n",
    "fig = ff.create_distplot(hist_data, group_labels, show_hist=False, show_rug=False)\n",
    "\n",
    "## Lets add the tite to the curve\n",
    "fig.update_layout(title_text='Credit Card Transactions by Class')\n",
    "\n",
    "## Addig the xaxix and y axis title.\n",
    "fig['layout'].update(xaxis=dict(title='Time'), yaxis=dict(title='Transactions'))\n",
    "\n",
    "fig.show()"
   ]
  },
  {
   "cell_type": "markdown",
   "id": "dc9ae78d-cfbf-4ec7-888a-6c7de75d7d5c",
   "metadata": {},
   "source": [
    "#### Looking at the above graph we can see that Fraudulent transactions are evenly distributed in time compare to Non-Fraudulent transactions. There are some time when very less number of Non-Fraudulent transactions happened but the Fraudulent transactions are almost remained constant"
   ]
  },
  {
   "cell_type": "markdown",
   "id": "c2f38ede-3b23-47fd-b2fa-a7f738096cc8",
   "metadata": {},
   "source": [
    "## Fraudulent and Non-Fraudulent transactions Amount\n",
    "### It would be interesting to see How the Fraudulent and Non-Fraudulent transaction are distributed by Amount. Using these graphs we can see How much money withdraws during Fraudulent transactions."
   ]
  },
  {
   "cell_type": "code",
   "execution_count": 19,
   "id": "1ff54407-0922-42dc-a680-29d215d5027c",
   "metadata": {},
   "outputs": [
    {
     "data": {
      "image/png": "[encoded data removed]",
      "text/plain": [
       "<Figure size 1440x432 with 2 Axes>"
      ]
     },
     "metadata": {
      "needs_background": "light"
     },
     "output_type": "display_data"
    }
   ],
   "source": [
    "## Lets create the histogram for Fraudulent and Non Fraudulent transaction side by side.\n",
    "f, (ax1, ax2) = plt.subplots(1, 2, sharex=True, figsize=(20,6))\n",
    "\n",
    "## Creating the data for histogram by Class.\n",
    "non_fraud = credit_card_df.loc[credit_card_df['Class'] == 0][\"Amount\"]\n",
    "fraud = credit_card_df.loc[credit_card_df['Class'] == 1][\"Amount\"]\n",
    "\n",
    "## Histogram for Fraudulent Transactions\n",
    "ax1.hist(fraud, bins = 30)\n",
    "\n",
    "## Setting the title for Fraudulent transactions\n",
    "ax1.set_title('Fraudalent Transactions', fontsize=20)\n",
    "\n",
    "## Setting the x-axis and y-axis labels for Fraudulent transactions.\n",
    "ax1.set_xlabel('Amount')\n",
    "ax1.set_ylabel('Number of Transactions') \n",
    "\n",
    "## Histogram for Non Fraudulent Transactions\n",
    "ax2.hist(non_fraud, bins = 30)\n",
    "\n",
    "## Setting the title for Non Fraudulent transactions\n",
    "ax2.set_title('Non Fraudulent Transactions', fontsize=20)\n",
    "\n",
    "## Setting the x-axis and y-axis labels for Non Fraudulent transactions.\n",
    "ax2.set_xlabel('Amount')\n",
    "ax2.set_ylabel('Number of Transactions') \n",
    "\n",
    "plt.yscale('log')\n",
    "plt.show()"
   ]
  },
  {
   "cell_type": "markdown",
   "id": "e3abcf28-d0f7-421e-8625-6b1be24868de",
   "metadata": {},
   "source": [
    "#### Both above graph is righ skewed and the Amount withdraws with Fraudulent transactions is very less compare to Non Fraudulent transaction. This also indicate that with respect to Class variable, the Credit card data is unbalanced."
   ]
  },
  {
   "cell_type": "markdown",
   "id": "2d46bc8e-979d-42f8-86c2-be1739e84114",
   "metadata": {},
   "source": [
    "#### It would be nice to know if zero money withdraw in any of the Fraudulent transaction. Lets check for both Fraudulent and Non Fraudulent transactions to get better insight of the data."
   ]
  },
  {
   "cell_type": "code",
   "execution_count": 20,
   "id": "f3ec129c-0026-4405-9c64-55b195e403e8",
   "metadata": {},
   "outputs": [
    {
     "data": {
      "text/plain": [
       "0    1798\n",
       "1      27\n",
       "Name: Amount, dtype: int64"
      ]
     },
     "execution_count": 20,
     "metadata": {},
     "output_type": "execute_result"
    }
   ],
   "source": [
    "## Creating the dataframe to see how many zero Amount transactions happened in dataframe by Class.\n",
    "\n",
    "df = credit_card_df.query(\"Amount==0\").groupby([\"Class\"]).count().reset_index()\n",
    "df.Amount"
   ]
  },
  {
   "cell_type": "code",
   "execution_count": 21,
   "id": "6e0840c9-3073-41fb-b2df-0f57726ecebb",
   "metadata": {},
   "outputs": [
    {
     "name": "stdout",
     "output_type": "stream",
     "text": [
      "The percentage of No amount Fraud transactions is 0.009480337078651686\n",
      "The percentage of No amount Non-Fraud transactions is 0.6313202247191011\n"
     ]
    }
   ],
   "source": [
    "## Lets calculate the percentage of zero amount transaction out of total transaction in dataframe.\n",
    "\n",
    "print('The percentage of No amount Fraud transactions is {}'.format(df.Amount[1]*100/credit_card_df.shape[0]))\n",
    "print('The percentage of No amount Non-Fraud transactions is {}'.format(df.Amount[0]*100/credit_card_df.shape[0]))"
   ]
  },
  {
   "cell_type": "markdown",
   "id": "85703175-782c-4bc0-b9f8-de1de159023a",
   "metadata": {},
   "source": [
    "#### No amount transactions indicate the presence of some data errors. Assuming why would someone use the credit card for zero amount transactions. Although the percentage for Fraud zero amount transaction is very less as .009% and Non Fraud zero amount transaction is .63%."
   ]
  },
  {
   "cell_type": "markdown",
   "id": "8cf04cd1-bf1b-486f-83b3-c7af3d0abe9d",
   "metadata": {},
   "source": [
    "### Conclusion\n",
    "#### While working on the credit card data set I have following observation: <br> &emsp;&emsp; a) Using the heatmap I found the features V1, V2, ... and V28 are weakly correlated to each other and they do not have much dependency on others. But we do find that Class and Amount variable are positively and negatively correlated to some of the features like V2, V3, V5, V7, V14, V17 and V12. <br> &emsp;&emsp; b) I used bar graph analysis to find out the number of fraud trasaction against the total number of transactions. We saw that the fraud transaction are very less compare to valid non fraud transactions. This also raise a question if the dataset is best fit or not as the training set is seems to be very small. <br> &emsp;&emsp; c) Next I used the boxplot to find out the outliers in the data set for amount varaible. Outliers can mislead the results for predictive model. Since we have less fraud transaction data I prefer to remove outliers that are extreme and have transaction amount exceeds from 10000. It is not changing the dataset much but will definitly increase the accuracy of the result of our model. <br> &emsp;&emsp; d) I used the denity plot to see pattern in fraud and valid non fraud transactions. I observed that fraud transactions are quite consistent compare to non fraud transactions. <br> &emsp;&emsp; e) Next i used histogram to find out if there is any unbalanced in amount data when comes to fraud transaction and non raud transaction. Histogram help me to understand that the transaction amount during fraudulent transaction is very less compare to the amount transfered in non fraudulent transactions. I also noticed that zero amount transaction happened for both fraud and non fraud transactions. although the number of transaction with no amount is very less but it indicate the presence of some data errors in the dataset. "
   ]
  },
  {
   "cell_type": "markdown",
   "id": "0dbda308-911f-4015-ba07-e2582f288010",
   "metadata": {},
   "source": [
    "## Term project Milestone 2: Data Preparation"
   ]
  },
  {
   "cell_type": "markdown",
   "id": "e7389119-4bed-4bd0-8259-307d5ad7a508",
   "metadata": {},
   "source": [
    "#### Data Preparation is an important step in data analysis as this process helps us to clean the data and prepare the dataset for evaluation phase that is building the model. As part of data preparation I will be working on the following process: <br> &emsp;&emsp; Look for null or missing values in credit card dataset, Replace the null or missing values with relevant values. <br> &emsp;&emsp; Drop any features from the credit card dataset which i think will not be useful in evaluation phase. <br> &emsp;&emsp; Create new features in dataset."
   ]
  },
  {
   "cell_type": "code",
   "execution_count": 22,
   "id": "c4feae13-37f2-4547-bf14-a5b3418e85fa",
   "metadata": {},
   "outputs": [],
   "source": [
    "## Lets import the reqired libraries.\n",
    "\n",
    "import numpy as np \n",
    "import pandas as pd\n",
    "import matplotlib.pyplot as plt\n",
    "from sklearn.model_selection import train_test_split #used to split data into training/test sets\n",
    "\n",
    "from matplotlib import pyplot \n",
    "\n",
    "## from sklearn.metrics import plot_confusion_matrix\n",
    "from sklearn.metrics import confusion_matrix, ConfusionMatrixDisplay\n",
    "import warnings\n",
    "warnings.filterwarnings(\"ignore\")\n",
    "from sklearn.feature_extraction.text import TfidfVectorizer\n",
    "from sklearn.linear_model import LogisticRegression"
   ]
  },
  {
   "cell_type": "code",
   "execution_count": 23,
   "id": "b430466e-67d7-42ef-9527-3db1ca906b56",
   "metadata": {},
   "outputs": [],
   "source": [
    "## Lets imports the yellowbrick library\n",
    "\n",
    "import yellowbrick\n",
    "from yellowbrick.classifier import ConfusionMatrix\n",
    "from yellowbrick.classifier import ClassificationReport\n",
    "from yellowbrick.classifier import ROCAUC"
   ]
  },
  {
   "cell_type": "markdown",
   "id": "71fb4bbc-14ca-4fd7-9134-a53f8a565970",
   "metadata": {},
   "source": [
    "## Looking for irrelevant column in dataset."
   ]
  },
  {
   "cell_type": "code",
   "execution_count": 24,
   "id": "de70392d-fdd7-4fed-af31-d571b1d9b811",
   "metadata": {},
   "outputs": [
    {
     "data": {
      "text/html": [
       "<div>\n",
       "<style scoped>\n",
       "    .dataframe tbody tr th:only-of-type {\n",
       "        vertical-align: middle;\n",
       "    }\n",
       "\n",
       "    .dataframe tbody tr th {\n",
       "        vertical-align: top;\n",
       "    }\n",
       "\n",
       "    .dataframe thead th {\n",
       "        text-align: right;\n",
       "    }\n",
       "</style>\n",
       "<table border=\"1\" class=\"dataframe\">\n",
       "  <thead>\n",
       "    <tr style=\"text-align: right;\">\n",
       "      <th></th>\n",
       "      <th>Time</th>\n",
       "      <th>V1</th>\n",
       "      <th>V2</th>\n",
       "      <th>V3</th>\n",
       "      <th>V4</th>\n",
       "      <th>V5</th>\n",
       "      <th>V6</th>\n",
       "      <th>V7</th>\n",
       "      <th>V8</th>\n",
       "      <th>V9</th>\n",
       "      <th>...</th>\n",
       "      <th>V21</th>\n",
       "      <th>V22</th>\n",
       "      <th>V23</th>\n",
       "      <th>V24</th>\n",
       "      <th>V25</th>\n",
       "      <th>V26</th>\n",
       "      <th>V27</th>\n",
       "      <th>V28</th>\n",
       "      <th>Amount</th>\n",
       "      <th>Class</th>\n",
       "    </tr>\n",
       "  </thead>\n",
       "  <tbody>\n",
       "    <tr>\n",
       "      <th>0</th>\n",
       "      <td>0.0</td>\n",
       "      <td>-1.359807</td>\n",
       "      <td>-0.072781</td>\n",
       "      <td>2.536347</td>\n",
       "      <td>1.378155</td>\n",
       "      <td>-0.338321</td>\n",
       "      <td>0.462388</td>\n",
       "      <td>0.239599</td>\n",
       "      <td>0.098698</td>\n",
       "      <td>0.363787</td>\n",
       "      <td>...</td>\n",
       "      <td>-0.018307</td>\n",
       "      <td>0.277838</td>\n",
       "      <td>-0.110474</td>\n",
       "      <td>0.066928</td>\n",
       "      <td>0.128539</td>\n",
       "      <td>-0.189115</td>\n",
       "      <td>0.133558</td>\n",
       "      <td>-0.021053</td>\n",
       "      <td>149.62</td>\n",
       "      <td>0</td>\n",
       "    </tr>\n",
       "    <tr>\n",
       "      <th>1</th>\n",
       "      <td>0.0</td>\n",
       "      <td>1.191857</td>\n",
       "      <td>0.266151</td>\n",
       "      <td>0.166480</td>\n",
       "      <td>0.448154</td>\n",
       "      <td>0.060018</td>\n",
       "      <td>-0.082361</td>\n",
       "      <td>-0.078803</td>\n",
       "      <td>0.085102</td>\n",
       "      <td>-0.255425</td>\n",
       "      <td>...</td>\n",
       "      <td>-0.225775</td>\n",
       "      <td>-0.638672</td>\n",
       "      <td>0.101288</td>\n",
       "      <td>-0.339846</td>\n",
       "      <td>0.167170</td>\n",
       "      <td>0.125895</td>\n",
       "      <td>-0.008983</td>\n",
       "      <td>0.014724</td>\n",
       "      <td>2.69</td>\n",
       "      <td>0</td>\n",
       "    </tr>\n",
       "    <tr>\n",
       "      <th>2</th>\n",
       "      <td>1.0</td>\n",
       "      <td>-1.358354</td>\n",
       "      <td>-1.340163</td>\n",
       "      <td>1.773209</td>\n",
       "      <td>0.379780</td>\n",
       "      <td>-0.503198</td>\n",
       "      <td>1.800499</td>\n",
       "      <td>0.791461</td>\n",
       "      <td>0.247676</td>\n",
       "      <td>-1.514654</td>\n",
       "      <td>...</td>\n",
       "      <td>0.247998</td>\n",
       "      <td>0.771679</td>\n",
       "      <td>0.909412</td>\n",
       "      <td>-0.689281</td>\n",
       "      <td>-0.327642</td>\n",
       "      <td>-0.139097</td>\n",
       "      <td>-0.055353</td>\n",
       "      <td>-0.059752</td>\n",
       "      <td>378.66</td>\n",
       "      <td>0</td>\n",
       "    </tr>\n",
       "    <tr>\n",
       "      <th>3</th>\n",
       "      <td>1.0</td>\n",
       "      <td>-0.966272</td>\n",
       "      <td>-0.185226</td>\n",
       "      <td>1.792993</td>\n",
       "      <td>-0.863291</td>\n",
       "      <td>-0.010309</td>\n",
       "      <td>1.247203</td>\n",
       "      <td>0.237609</td>\n",
       "      <td>0.377436</td>\n",
       "      <td>-1.387024</td>\n",
       "      <td>...</td>\n",
       "      <td>-0.108300</td>\n",
       "      <td>0.005274</td>\n",
       "      <td>-0.190321</td>\n",
       "      <td>-1.175575</td>\n",
       "      <td>0.647376</td>\n",
       "      <td>-0.221929</td>\n",
       "      <td>0.062723</td>\n",
       "      <td>0.061458</td>\n",
       "      <td>123.50</td>\n",
       "      <td>0</td>\n",
       "    </tr>\n",
       "    <tr>\n",
       "      <th>4</th>\n",
       "      <td>2.0</td>\n",
       "      <td>-1.158233</td>\n",
       "      <td>0.877737</td>\n",
       "      <td>1.548718</td>\n",
       "      <td>0.403034</td>\n",
       "      <td>-0.407193</td>\n",
       "      <td>0.095921</td>\n",
       "      <td>0.592941</td>\n",
       "      <td>-0.270533</td>\n",
       "      <td>0.817739</td>\n",
       "      <td>...</td>\n",
       "      <td>-0.009431</td>\n",
       "      <td>0.798278</td>\n",
       "      <td>-0.137458</td>\n",
       "      <td>0.141267</td>\n",
       "      <td>-0.206010</td>\n",
       "      <td>0.502292</td>\n",
       "      <td>0.219422</td>\n",
       "      <td>0.215153</td>\n",
       "      <td>69.99</td>\n",
       "      <td>0</td>\n",
       "    </tr>\n",
       "  </tbody>\n",
       "</table>\n",
       "<p>5 rows × 31 columns</p>\n",
       "</div>"
      ],
      "text/plain": [
       "   Time        V1        V2        V3        V4        V5        V6        V7  \\\n",
       "0   0.0 -1.359807 -0.072781  2.536347  1.378155 -0.338321  0.462388  0.239599   \n",
       "1   0.0  1.191857  0.266151  0.166480  0.448154  0.060018 -0.082361 -0.078803   \n",
       "2   1.0 -1.358354 -1.340163  1.773209  0.379780 -0.503198  1.800499  0.791461   \n",
       "3   1.0 -0.966272 -0.185226  1.792993 -0.863291 -0.010309  1.247203  0.237609   \n",
       "4   2.0 -1.158233  0.877737  1.548718  0.403034 -0.407193  0.095921  0.592941   \n",
       "\n",
       "         V8        V9  ...       V21       V22       V23       V24       V25  \\\n",
       "0  0.098698  0.363787  ... -0.018307  0.277838 -0.110474  0.066928  0.128539   \n",
       "1  0.085102 -0.255425  ... -0.225775 -0.638672  0.101288 -0.339846  0.167170   \n",
       "2  0.247676 -1.514654  ...  0.247998  0.771679  0.909412 -0.689281 -0.327642   \n",
       "3  0.377436 -1.387024  ... -0.108300  0.005274 -0.190321 -1.175575  0.647376   \n",
       "4 -0.270533  0.817739  ... -0.009431  0.798278 -0.137458  0.141267 -0.206010   \n",
       "\n",
       "        V26       V27       V28  Amount  Class  \n",
       "0 -0.189115  0.133558 -0.021053  149.62      0  \n",
       "1  0.125895 -0.008983  0.014724    2.69      0  \n",
       "2 -0.139097 -0.055353 -0.059752  378.66      0  \n",
       "3 -0.221929  0.062723  0.061458  123.50      0  \n",
       "4  0.502292  0.219422  0.215153   69.99      0  \n",
       "\n",
       "[5 rows x 31 columns]"
      ]
     },
     "execution_count": 24,
     "metadata": {},
     "output_type": "execute_result"
    }
   ],
   "source": [
    "## Lets check the first five rows of the data frame.\n",
    "\n",
    "credit_card_df.head(5)"
   ]
  },
  {
   "cell_type": "markdown",
   "id": "a0b92e85-cee0-4a02-a8e9-2fad3148026d",
   "metadata": {},
   "source": [
    "#### Looking at the above data I think I will not be using the \"Time\"column. This column will not help me in buiding the model. Lets drop this irrelevant feature from our dataset."
   ]
  },
  {
   "cell_type": "code",
   "execution_count": 25,
   "id": "a9f1407d-4a34-4241-aa94-f7df80b42a77",
   "metadata": {},
   "outputs": [],
   "source": [
    "## Using drop function to drop the \"Time\" feature from our credit card dataset.\n",
    "\n",
    "credit_card_df = credit_card_df.drop(['Time'], axis=1)"
   ]
  },
  {
   "cell_type": "code",
   "execution_count": 26,
   "id": "fcbb3512-c07c-43ba-88fe-b4d4ec66a1e6",
   "metadata": {},
   "outputs": [
    {
     "data": {
      "text/plain": [
       "Index(['V1', 'V2', 'V3', 'V4', 'V5', 'V6', 'V7', 'V8', 'V9', 'V10', 'V11',\n",
       "       'V12', 'V13', 'V14', 'V15', 'V16', 'V17', 'V18', 'V19', 'V20', 'V21',\n",
       "       'V22', 'V23', 'V24', 'V25', 'V26', 'V27', 'V28', 'Amount', 'Class'],\n",
       "      dtype='object')"
      ]
     },
     "execution_count": 26,
     "metadata": {},
     "output_type": "execute_result"
    }
   ],
   "source": [
    "## Lets check all the columns of credit card dataset after dropping Time column.\n",
    "\n",
    "credit_card_df.columns"
   ]
  },
  {
   "cell_type": "markdown",
   "id": "768927e7-83aa-4680-844e-499ccb9da554",
   "metadata": {},
   "source": [
    "## Deal with Missing or Null values"
   ]
  },
  {
   "cell_type": "markdown",
   "id": "5c744cd4-7046-4dc7-92df-fbb67ec4fc2b",
   "metadata": {},
   "source": [
    "#### It is important to deal with any missing or null values in the credit card dataset before building the model. Lets see if we have Null values in our dataset."
   ]
  },
  {
   "cell_type": "code",
   "execution_count": 27,
   "id": "067f130e-d5df-4ef9-b7a7-a1273c73b9b5",
   "metadata": {},
   "outputs": [
    {
     "name": "stdout",
     "output_type": "stream",
     "text": [
      "<class 'pandas.core.frame.DataFrame'>\n",
      "Int64Index: 284800 entries, 0 to 284806\n",
      "Data columns (total 30 columns):\n",
      " #   Column  Non-Null Count   Dtype  \n",
      "---  ------  --------------   -----  \n",
      " 0   V1      284800 non-null  float64\n",
      " 1   V2      284800 non-null  float64\n",
      " 2   V3      284800 non-null  float64\n",
      " 3   V4      284800 non-null  float64\n",
      " 4   V5      284800 non-null  float64\n",
      " 5   V6      284800 non-null  float64\n",
      " 6   V7      284800 non-null  float64\n",
      " 7   V8      284800 non-null  float64\n",
      " 8   V9      284800 non-null  float64\n",
      " 9   V10     284800 non-null  float64\n",
      " 10  V11     284800 non-null  float64\n",
      " 11  V12     284800 non-null  float64\n",
      " 12  V13     284800 non-null  float64\n",
      " 13  V14     284800 non-null  float64\n",
      " 14  V15     284800 non-null  float64\n",
      " 15  V16     284800 non-null  float64\n",
      " 16  V17     284800 non-null  float64\n",
      " 17  V18     284800 non-null  float64\n",
      " 18  V19     284800 non-null  float64\n",
      " 19  V20     284800 non-null  float64\n",
      " 20  V21     284800 non-null  float64\n",
      " 21  V22     284800 non-null  float64\n",
      " 22  V23     284800 non-null  float64\n",
      " 23  V24     284800 non-null  float64\n",
      " 24  V25     284800 non-null  float64\n",
      " 25  V26     284800 non-null  float64\n",
      " 26  V27     284800 non-null  float64\n",
      " 27  V28     284800 non-null  float64\n",
      " 28  Amount  284800 non-null  float64\n",
      " 29  Class   284800 non-null  int64  \n",
      "dtypes: float64(29), int64(1)\n",
      "memory usage: 67.4 MB\n"
     ]
    }
   ],
   "source": [
    "## Using info function to make sure that the data frame do not have any missing values.\n",
    "\n",
    "credit_card_df.info()"
   ]
  },
  {
   "cell_type": "markdown",
   "id": "998b9fa4-8224-4937-8a3d-1d116fd5f562",
   "metadata": {
    "tags": []
   },
   "source": [
    "#### As we can see all the features of the dataset has 284800 row count which is total number of rows in our dataset so we do not have any missing or null values in our dataset."
   ]
  },
  {
   "cell_type": "code",
   "execution_count": 28,
   "id": "72c4a84a-5a6e-426a-8050-28769c0b4af8",
   "metadata": {},
   "outputs": [
    {
     "name": "stdout",
     "output_type": "stream",
     "text": [
      "The total number of not null values in our dataset: 284800\n",
      "The Null or Missing values in our dataset : 0\n"
     ]
    }
   ],
   "source": [
    "## Also we can check the null values using isnull function. \n",
    "\n",
    "credit_card_df.isnull().shape[0]\n",
    "\n",
    "print(\"The total number of not null values in our dataset: \" + str(credit_card_df.isnull().shape[0]))\n",
    "print(\"The Null or Missing values in our dataset : \" + str(credit_card_df.shape[0] - credit_card_df.isnull().shape[0]))"
   ]
  },
  {
   "cell_type": "markdown",
   "id": "e382daf6-307a-429b-8cee-b372b009ea3b",
   "metadata": {},
   "source": [
    "#### We already aware of the fact that there is no null values in our dataset."
   ]
  },
  {
   "cell_type": "markdown",
   "id": "b0b07c27-a928-49a6-b8e2-bb81f9b5d01d",
   "metadata": {},
   "source": [
    "## Data Transform"
   ]
  },
  {
   "cell_type": "markdown",
   "id": "71f72b9b-eda3-4706-b776-f1b4ae84df0a",
   "metadata": {},
   "source": [
    "#### Please also note that we have taken care of some outliers in our dataset as part of week 5 project milestone 1."
   ]
  },
  {
   "cell_type": "markdown",
   "id": "641eab0e-7b81-4403-85f0-d7856ad7d842",
   "metadata": {},
   "source": [
    "#### Lets standardize the Amount column of the credit card data set using RoberScaler transform. This will helps us to remove remaining outliers"
   ]
  },
  {
   "cell_type": "code",
   "execution_count": 29,
   "id": "fb95ce9e-5cb3-4edf-9d56-a9bc2263418a",
   "metadata": {},
   "outputs": [],
   "source": [
    "import seaborn as sns "
   ]
  },
  {
   "cell_type": "code",
   "execution_count": 30,
   "id": "d6e2b3cb-adf5-4dbd-9a4b-3fe47a07f90a",
   "metadata": {},
   "outputs": [
    {
     "data": {
      "text/plain": [
       "<AxesSubplot:title={'center':'After Standard Scaling'}, xlabel='Amount_Scaler', ylabel='Density'>"
      ]
     },
     "execution_count": 30,
     "metadata": {},
     "output_type": "execute_result"
    },
    {
     "data": {
      "image/png": "[encoded data removed]",
      "text/plain": [
       "<Figure size 1440x360 with 3 Axes>"
      ]
     },
     "metadata": {},
     "output_type": "display_data"
    }
   ],
   "source": [
    "from sklearn import preprocessing\n",
    "from sklearn.preprocessing import RobustScaler\n",
    "\n",
    "## Performing a robust scaler transform of the dataset\n",
    "\n",
    "data = preprocessing.RobustScaler().fit(credit_card_df[[\"Amount\"]])\n",
    "credit_card_df[[\"Amount_Robust\"]] = data.transform(credit_card_df[[\"Amount\"]])\n",
    "\n",
    "## Using Standard scaler to reprocess the data for Amount feature.\n",
    "\n",
    "data = preprocessing.StandardScaler().fit(credit_card_df[[\"Amount_Robust\"]])\n",
    "credit_card_df[[\"Amount_Scaler\"]] = data.transform(credit_card_df[[\"Amount_Robust\"]])\n",
    "\n",
    "## Lets plot the all three features together original column, Amount after robust and then Amount after using standard scaler transform.\n",
    "\n",
    "fig, (ax1, ax2, ax3) = plt.subplots(ncols = 3, figsize =(20, 5))\n",
    "ax1.set_title('Before Scaling the Amount')\n",
    "\n",
    "sns.kdeplot(credit_card_df['Amount'], ax = ax1, color ='r')\n",
    "\n",
    "ax2.set_title('After Robust Scaling')\n",
    "\n",
    "sns.kdeplot(credit_card_df['Amount_Robust'], ax = ax2, color ='b')\n",
    "\n",
    "ax3.set_title('After Standard Scaling')\n",
    " \n",
    "sns.kdeplot(credit_card_df['Amount_Scaler'], ax = ax3, color ='g')"
   ]
  },
  {
   "cell_type": "code",
   "execution_count": 31,
   "id": "14573d0b-3239-4ed5-9de5-0308da55833e",
   "metadata": {},
   "outputs": [
    {
     "data": {
      "text/html": [
       "<div>\n",
       "<style scoped>\n",
       "    .dataframe tbody tr th:only-of-type {\n",
       "        vertical-align: middle;\n",
       "    }\n",
       "\n",
       "    .dataframe tbody tr th {\n",
       "        vertical-align: top;\n",
       "    }\n",
       "\n",
       "    .dataframe thead th {\n",
       "        text-align: right;\n",
       "    }\n",
       "</style>\n",
       "<table border=\"1\" class=\"dataframe\">\n",
       "  <thead>\n",
       "    <tr style=\"text-align: right;\">\n",
       "      <th></th>\n",
       "      <th>V1</th>\n",
       "      <th>V2</th>\n",
       "      <th>V3</th>\n",
       "      <th>V4</th>\n",
       "      <th>V5</th>\n",
       "      <th>V6</th>\n",
       "      <th>V7</th>\n",
       "      <th>V8</th>\n",
       "      <th>V9</th>\n",
       "      <th>V10</th>\n",
       "      <th>...</th>\n",
       "      <th>V23</th>\n",
       "      <th>V24</th>\n",
       "      <th>V25</th>\n",
       "      <th>V26</th>\n",
       "      <th>V27</th>\n",
       "      <th>V28</th>\n",
       "      <th>Amount</th>\n",
       "      <th>Class</th>\n",
       "      <th>Amount_Robust</th>\n",
       "      <th>Amount_Scaler</th>\n",
       "    </tr>\n",
       "  </thead>\n",
       "  <tbody>\n",
       "    <tr>\n",
       "      <th>0</th>\n",
       "      <td>-1.359807</td>\n",
       "      <td>-0.072781</td>\n",
       "      <td>2.536347</td>\n",
       "      <td>1.378155</td>\n",
       "      <td>-0.338321</td>\n",
       "      <td>0.462388</td>\n",
       "      <td>0.239599</td>\n",
       "      <td>0.098698</td>\n",
       "      <td>0.363787</td>\n",
       "      <td>0.090794</td>\n",
       "      <td>...</td>\n",
       "      <td>-0.110474</td>\n",
       "      <td>0.066928</td>\n",
       "      <td>0.128539</td>\n",
       "      <td>-0.189115</td>\n",
       "      <td>0.133558</td>\n",
       "      <td>-0.021053</td>\n",
       "      <td>149.62</td>\n",
       "      <td>0</td>\n",
       "      <td>1.783399</td>\n",
       "      <td>0.261103</td>\n",
       "    </tr>\n",
       "    <tr>\n",
       "      <th>1</th>\n",
       "      <td>1.191857</td>\n",
       "      <td>0.266151</td>\n",
       "      <td>0.166480</td>\n",
       "      <td>0.448154</td>\n",
       "      <td>0.060018</td>\n",
       "      <td>-0.082361</td>\n",
       "      <td>-0.078803</td>\n",
       "      <td>0.085102</td>\n",
       "      <td>-0.255425</td>\n",
       "      <td>-0.166974</td>\n",
       "      <td>...</td>\n",
       "      <td>0.101288</td>\n",
       "      <td>-0.339846</td>\n",
       "      <td>0.167170</td>\n",
       "      <td>0.125895</td>\n",
       "      <td>-0.008983</td>\n",
       "      <td>0.014724</td>\n",
       "      <td>2.69</td>\n",
       "      <td>0</td>\n",
       "      <td>-0.269843</td>\n",
       "      <td>-0.361100</td>\n",
       "    </tr>\n",
       "    <tr>\n",
       "      <th>2</th>\n",
       "      <td>-1.358354</td>\n",
       "      <td>-1.340163</td>\n",
       "      <td>1.773209</td>\n",
       "      <td>0.379780</td>\n",
       "      <td>-0.503198</td>\n",
       "      <td>1.800499</td>\n",
       "      <td>0.791461</td>\n",
       "      <td>0.247676</td>\n",
       "      <td>-1.514654</td>\n",
       "      <td>0.207643</td>\n",
       "      <td>...</td>\n",
       "      <td>0.909412</td>\n",
       "      <td>-0.689281</td>\n",
       "      <td>-0.327642</td>\n",
       "      <td>-0.139097</td>\n",
       "      <td>-0.055353</td>\n",
       "      <td>-0.059752</td>\n",
       "      <td>378.66</td>\n",
       "      <td>0</td>\n",
       "      <td>4.984069</td>\n",
       "      <td>1.231015</td>\n",
       "    </tr>\n",
       "    <tr>\n",
       "      <th>3</th>\n",
       "      <td>-0.966272</td>\n",
       "      <td>-0.185226</td>\n",
       "      <td>1.792993</td>\n",
       "      <td>-0.863291</td>\n",
       "      <td>-0.010309</td>\n",
       "      <td>1.247203</td>\n",
       "      <td>0.237609</td>\n",
       "      <td>0.377436</td>\n",
       "      <td>-1.387024</td>\n",
       "      <td>-0.054952</td>\n",
       "      <td>...</td>\n",
       "      <td>-0.190321</td>\n",
       "      <td>-1.175575</td>\n",
       "      <td>0.647376</td>\n",
       "      <td>-0.221929</td>\n",
       "      <td>0.062723</td>\n",
       "      <td>0.061458</td>\n",
       "      <td>123.50</td>\n",
       "      <td>0</td>\n",
       "      <td>1.418390</td>\n",
       "      <td>0.150493</td>\n",
       "    </tr>\n",
       "    <tr>\n",
       "      <th>4</th>\n",
       "      <td>-1.158233</td>\n",
       "      <td>0.877737</td>\n",
       "      <td>1.548718</td>\n",
       "      <td>0.403034</td>\n",
       "      <td>-0.407193</td>\n",
       "      <td>0.095921</td>\n",
       "      <td>0.592941</td>\n",
       "      <td>-0.270533</td>\n",
       "      <td>0.817739</td>\n",
       "      <td>0.753074</td>\n",
       "      <td>...</td>\n",
       "      <td>-0.137458</td>\n",
       "      <td>0.141267</td>\n",
       "      <td>-0.206010</td>\n",
       "      <td>0.502292</td>\n",
       "      <td>0.219422</td>\n",
       "      <td>0.215153</td>\n",
       "      <td>69.99</td>\n",
       "      <td>0</td>\n",
       "      <td>0.670626</td>\n",
       "      <td>-0.076105</td>\n",
       "    </tr>\n",
       "    <tr>\n",
       "      <th>284802</th>\n",
       "      <td>-11.881118</td>\n",
       "      <td>10.071785</td>\n",
       "      <td>-9.834783</td>\n",
       "      <td>-2.066656</td>\n",
       "      <td>-5.364473</td>\n",
       "      <td>-2.606837</td>\n",
       "      <td>-4.918215</td>\n",
       "      <td>7.305334</td>\n",
       "      <td>1.914428</td>\n",
       "      <td>4.356170</td>\n",
       "      <td>...</td>\n",
       "      <td>1.014480</td>\n",
       "      <td>-0.509348</td>\n",
       "      <td>1.436807</td>\n",
       "      <td>0.250034</td>\n",
       "      <td>0.943651</td>\n",
       "      <td>0.823731</td>\n",
       "      <td>0.77</td>\n",
       "      <td>0</td>\n",
       "      <td>-0.296674</td>\n",
       "      <td>-0.369230</td>\n",
       "    </tr>\n",
       "    <tr>\n",
       "      <th>284803</th>\n",
       "      <td>-0.732789</td>\n",
       "      <td>-0.055080</td>\n",
       "      <td>2.035030</td>\n",
       "      <td>-0.738589</td>\n",
       "      <td>0.868229</td>\n",
       "      <td>1.058415</td>\n",
       "      <td>0.024330</td>\n",
       "      <td>0.294869</td>\n",
       "      <td>0.584800</td>\n",
       "      <td>-0.975926</td>\n",
       "      <td>...</td>\n",
       "      <td>0.012463</td>\n",
       "      <td>-1.016226</td>\n",
       "      <td>-0.606624</td>\n",
       "      <td>-0.395255</td>\n",
       "      <td>0.068472</td>\n",
       "      <td>-0.053527</td>\n",
       "      <td>24.79</td>\n",
       "      <td>0</td>\n",
       "      <td>0.038988</td>\n",
       "      <td>-0.267513</td>\n",
       "    </tr>\n",
       "    <tr>\n",
       "      <th>284804</th>\n",
       "      <td>1.919565</td>\n",
       "      <td>-0.301254</td>\n",
       "      <td>-3.249640</td>\n",
       "      <td>-0.557828</td>\n",
       "      <td>2.630515</td>\n",
       "      <td>3.031260</td>\n",
       "      <td>-0.296827</td>\n",
       "      <td>0.708417</td>\n",
       "      <td>0.432454</td>\n",
       "      <td>-0.484782</td>\n",
       "      <td>...</td>\n",
       "      <td>-0.037501</td>\n",
       "      <td>0.640134</td>\n",
       "      <td>0.265745</td>\n",
       "      <td>-0.087371</td>\n",
       "      <td>0.004455</td>\n",
       "      <td>-0.026561</td>\n",
       "      <td>67.88</td>\n",
       "      <td>0</td>\n",
       "      <td>0.641140</td>\n",
       "      <td>-0.085040</td>\n",
       "    </tr>\n",
       "    <tr>\n",
       "      <th>284805</th>\n",
       "      <td>-0.240440</td>\n",
       "      <td>0.530483</td>\n",
       "      <td>0.702510</td>\n",
       "      <td>0.689799</td>\n",
       "      <td>-0.377961</td>\n",
       "      <td>0.623708</td>\n",
       "      <td>-0.686180</td>\n",
       "      <td>0.679145</td>\n",
       "      <td>0.392087</td>\n",
       "      <td>-0.399126</td>\n",
       "      <td>...</td>\n",
       "      <td>-0.163298</td>\n",
       "      <td>0.123205</td>\n",
       "      <td>-0.569159</td>\n",
       "      <td>0.546668</td>\n",
       "      <td>0.108821</td>\n",
       "      <td>0.104533</td>\n",
       "      <td>10.00</td>\n",
       "      <td>0</td>\n",
       "      <td>-0.167691</td>\n",
       "      <td>-0.330144</td>\n",
       "    </tr>\n",
       "    <tr>\n",
       "      <th>284806</th>\n",
       "      <td>-0.533413</td>\n",
       "      <td>-0.189733</td>\n",
       "      <td>0.703337</td>\n",
       "      <td>-0.506271</td>\n",
       "      <td>-0.012546</td>\n",
       "      <td>-0.649617</td>\n",
       "      <td>1.577006</td>\n",
       "      <td>-0.414650</td>\n",
       "      <td>0.486180</td>\n",
       "      <td>-0.915427</td>\n",
       "      <td>...</td>\n",
       "      <td>0.376777</td>\n",
       "      <td>0.008797</td>\n",
       "      <td>-0.473649</td>\n",
       "      <td>-0.818267</td>\n",
       "      <td>-0.002415</td>\n",
       "      <td>0.013649</td>\n",
       "      <td>217.00</td>\n",
       "      <td>0</td>\n",
       "      <td>2.724986</td>\n",
       "      <td>0.546436</td>\n",
       "    </tr>\n",
       "  </tbody>\n",
       "</table>\n",
       "<p>10 rows × 32 columns</p>\n",
       "</div>"
      ],
      "text/plain": [
       "               V1         V2        V3        V4        V5        V6  \\\n",
       "0       -1.359807  -0.072781  2.536347  1.378155 -0.338321  0.462388   \n",
       "1        1.191857   0.266151  0.166480  0.448154  0.060018 -0.082361   \n",
       "2       -1.358354  -1.340163  1.773209  0.379780 -0.503198  1.800499   \n",
       "3       -0.966272  -0.185226  1.792993 -0.863291 -0.010309  1.247203   \n",
       "4       -1.158233   0.877737  1.548718  0.403034 -0.407193  0.095921   \n",
       "284802 -11.881118  10.071785 -9.834783 -2.066656 -5.364473 -2.606837   \n",
       "284803  -0.732789  -0.055080  2.035030 -0.738589  0.868229  1.058415   \n",
       "284804   1.919565  -0.301254 -3.249640 -0.557828  2.630515  3.031260   \n",
       "284805  -0.240440   0.530483  0.702510  0.689799 -0.377961  0.623708   \n",
       "284806  -0.533413  -0.189733  0.703337 -0.506271 -0.012546 -0.649617   \n",
       "\n",
       "              V7        V8        V9       V10  ...       V23       V24  \\\n",
       "0       0.239599  0.098698  0.363787  0.090794  ... -0.110474  0.066928   \n",
       "1      -0.078803  0.085102 -0.255425 -0.166974  ...  0.101288 -0.339846   \n",
       "2       0.791461  0.247676 -1.514654  0.207643  ...  0.909412 -0.689281   \n",
       "3       0.237609  0.377436 -1.387024 -0.054952  ... -0.190321 -1.175575   \n",
       "4       0.592941 -0.270533  0.817739  0.753074  ... -0.137458  0.141267   \n",
       "284802 -4.918215  7.305334  1.914428  4.356170  ...  1.014480 -0.509348   \n",
       "284803  0.024330  0.294869  0.584800 -0.975926  ...  0.012463 -1.016226   \n",
       "284804 -0.296827  0.708417  0.432454 -0.484782  ... -0.037501  0.640134   \n",
       "284805 -0.686180  0.679145  0.392087 -0.399126  ... -0.163298  0.123205   \n",
       "284806  1.577006 -0.414650  0.486180 -0.915427  ...  0.376777  0.008797   \n",
       "\n",
       "             V25       V26       V27       V28  Amount  Class  Amount_Robust  \\\n",
       "0       0.128539 -0.189115  0.133558 -0.021053  149.62      0       1.783399   \n",
       "1       0.167170  0.125895 -0.008983  0.014724    2.69      0      -0.269843   \n",
       "2      -0.327642 -0.139097 -0.055353 -0.059752  378.66      0       4.984069   \n",
       "3       0.647376 -0.221929  0.062723  0.061458  123.50      0       1.418390   \n",
       "4      -0.206010  0.502292  0.219422  0.215153   69.99      0       0.670626   \n",
       "284802  1.436807  0.250034  0.943651  0.823731    0.77      0      -0.296674   \n",
       "284803 -0.606624 -0.395255  0.068472 -0.053527   24.79      0       0.038988   \n",
       "284804  0.265745 -0.087371  0.004455 -0.026561   67.88      0       0.641140   \n",
       "284805 -0.569159  0.546668  0.108821  0.104533   10.00      0      -0.167691   \n",
       "284806 -0.473649 -0.818267 -0.002415  0.013649  217.00      0       2.724986   \n",
       "\n",
       "        Amount_Scaler  \n",
       "0            0.261103  \n",
       "1           -0.361100  \n",
       "2            1.231015  \n",
       "3            0.150493  \n",
       "4           -0.076105  \n",
       "284802      -0.369230  \n",
       "284803      -0.267513  \n",
       "284804      -0.085040  \n",
       "284805      -0.330144  \n",
       "284806       0.546436  \n",
       "\n",
       "[10 rows x 32 columns]"
      ]
     },
     "execution_count": 31,
     "metadata": {},
     "output_type": "execute_result"
    }
   ],
   "source": [
    "## Lets check the data now for our dataset after transform the amount column\n",
    "\n",
    "credit_card_df.head().append(credit_card_df.tail())"
   ]
  },
  {
   "cell_type": "code",
   "execution_count": 32,
   "id": "6d53f0da-c7d1-490d-adf0-08c09bcbf270",
   "metadata": {},
   "outputs": [
    {
     "name": "stdout",
     "output_type": "stream",
     "text": [
      "                  V1             V2             V3             V4  \\\n",
      "count  284800.000000  284800.000000  284800.000000  284800.000000   \n",
      "mean        0.000640       0.001001       0.000513      -0.000290   \n",
      "std         1.953903       1.636922       1.511632       1.414503   \n",
      "min       -56.407510     -72.715728     -33.680984      -5.683171   \n",
      "25%        -0.920304      -0.598498      -0.890276      -0.848657   \n",
      "50%         0.018152       0.065522       0.179859      -0.019917   \n",
      "75%         1.315648       0.803742       1.027210       0.743302   \n",
      "max         2.454930      22.057729       9.382558      16.491217   \n",
      "\n",
      "                  V5             V6             V7             V8  \\\n",
      "count  284800.000000  284800.000000  284800.000000  284800.000000   \n",
      "mean        0.000814      -0.000447      -0.000911       0.000184   \n",
      "std         1.359957       1.324181       1.210728       1.193089   \n",
      "min       -42.147898     -26.160506     -43.557242     -73.216718   \n",
      "25%        -0.691541      -0.768308      -0.554094      -0.208608   \n",
      "50%        -0.054320      -0.274228       0.040079       0.022362   \n",
      "75%         0.611930       0.398461       0.570385       0.327354   \n",
      "max        34.801666      22.529298      36.877368      20.007208   \n",
      "\n",
      "                  V9            V10  ...            V23            V24  \\\n",
      "count  284800.000000  284800.000000  ...  284800.000000  284800.000000   \n",
      "mean        0.000047       0.000188  ...       0.000211      -0.000026   \n",
      "std         1.098576       1.088146  ...       0.621770       0.605585   \n",
      "min       -13.434066     -24.588262  ...     -44.807735      -2.836627   \n",
      "25%        -0.643081      -0.535402  ...      -0.161842      -0.354593   \n",
      "50%        -0.051414      -0.092888  ...      -0.011191       0.040966   \n",
      "75%         0.597164       0.454001  ...       0.147642       0.439523   \n",
      "max        15.594995      23.745136  ...      22.528412       4.022866   \n",
      "\n",
      "                 V25            V26            V27            V28  \\\n",
      "count  284800.000000  284800.000000  284800.000000  284800.000000   \n",
      "mean        0.000073       0.000013      -0.000074       0.000018   \n",
      "std         0.520649       0.482094       0.399034       0.328588   \n",
      "min       -10.295397      -2.068561     -22.565679     -11.710896   \n",
      "25%        -0.317131      -0.326979      -0.070837      -0.052960   \n",
      "50%         0.016602      -0.052126       0.001343       0.011243   \n",
      "75%         0.350715       0.240950       0.091044       0.078278   \n",
      "max         7.519589       3.517346      12.152401      33.847808   \n",
      "\n",
      "              Amount          Class  Amount_Robust  Amount_Scaler  \n",
      "count  284800.000000  284800.000000  284800.000000   2.848000e+05  \n",
      "mean       87.961847       0.001728       0.921770   4.188114e-15  \n",
      "std       236.145430       0.041528       3.299964   1.000002e+00  \n",
      "min         0.000000       0.000000      -0.307434  -3.724908e-01  \n",
      "25%         5.590000       0.000000      -0.229318  -3.488189e-01  \n",
      "50%        22.000000       0.000000       0.000000  -2.793277e-01  \n",
      "75%        77.150000       0.000000       0.770682  -4.578478e-02  \n",
      "max     10000.000000       1.000000     139.435439   4.197437e+01  \n",
      "\n",
      "[8 rows x 32 columns]\n"
     ]
    }
   ],
   "source": [
    "## Lets summarize the dataset\n",
    "\n",
    "print(credit_card_df.describe())"
   ]
  },
  {
   "cell_type": "markdown",
   "id": "36001e6c-3137-40d4-a8d2-48cbe82daeff",
   "metadata": {},
   "source": [
    "#### The above steps help us to scale the Amount feature in the ramge between Interquartile range and remove outliers of the dataset."
   ]
  },
  {
   "cell_type": "markdown",
   "id": "9b19f2ed-6a28-48c3-864d-ee530899f82e",
   "metadata": {
    "tags": []
   },
   "source": [
    "## Split the data set into a training and test set"
   ]
  },
  {
   "cell_type": "code",
   "execution_count": 33,
   "id": "4fa3343b-bbd6-4d29-9962-f9c9e5584b74",
   "metadata": {},
   "outputs": [],
   "source": [
    "## Lets split the data into training and test sets\n",
    "\n",
    "X = credit_card_df.drop('Class', axis = 1).values\n",
    "Y = credit_card_df['Class'].values"
   ]
  },
  {
   "cell_type": "code",
   "execution_count": 34,
   "id": "28985b30-ed14-4e41-8e1c-fed6d85cbefb",
   "metadata": {},
   "outputs": [],
   "source": [
    "## Pareto Principle Split\n",
    "## Using train_test_split function to split the data into 75% training and 25% testing.\n",
    "\n",
    "X_train, X_test, Y_train, Y_test = train_test_split(X, Y, test_size = 0.25, random_state = 1)"
   ]
  },
  {
   "cell_type": "code",
   "execution_count": 35,
   "id": "c00b8002-ec2b-4afa-b693-fe1d6d64491b",
   "metadata": {},
   "outputs": [
    {
     "name": "stdout",
     "output_type": "stream",
     "text": [
      "The shape of X training dataset is: (213600, 31)\n",
      "The shape of Y training dataset is: (213600,)\n",
      "The shape of X testing dataset is: (71200, 31)\n",
      "The shape of Y testing dataset is: (71200,)\n"
     ]
    }
   ],
   "source": [
    "## lets check the number of rows and columns of the split data\n",
    "\n",
    "print(\"The shape of X training dataset is: {}\".format(X_train.shape))\n",
    "print(\"The shape of Y training dataset is: {}\".format(Y_train.shape))\n",
    "print(\"The shape of X testing dataset is: {}\".format(X_test.shape))\n",
    "print(\"The shape of Y testing dataset is: {}\".format(Y_test.shape))"
   ]
  },
  {
   "cell_type": "markdown",
   "id": "93cb052c-39e2-4048-afd2-f2039f502b3d",
   "metadata": {
    "tags": []
   },
   "source": [
    "## Train a logistic regression using the training data."
   ]
  },
  {
   "cell_type": "markdown",
   "id": "622262a8-5252-4699-84e4-0156585d4031",
   "metadata": {},
   "source": [
    "#### Lets define the model parameters. I will be running the model using training set for training and then will do the validation using the test set."
   ]
  },
  {
   "cell_type": "code",
   "execution_count": 36,
   "id": "94c0fd80-7589-463e-b26a-4517c54cb533",
   "metadata": {},
   "outputs": [],
   "source": [
    "## Lets import the logisticregression library\n",
    "\n",
    "from sklearn.linear_model import LogisticRegression"
   ]
  },
  {
   "cell_type": "code",
   "execution_count": 37,
   "id": "adff5ab2-4cae-4191-86a4-90013b086ef7",
   "metadata": {},
   "outputs": [],
   "source": [
    "## Lets create the variable for logistic regression model \n",
    "\n",
    "Log_Reg = LogisticRegression(max_iter = 500)"
   ]
  },
  {
   "cell_type": "code",
   "execution_count": 38,
   "id": "ac74f64a-abcf-4a8e-89d2-9aab72b4aeb7",
   "metadata": {},
   "outputs": [
    {
     "data": {
      "text/html": [
       "<style>#sk-container-id-1 {color: black;}#sk-container-id-1 pre{padding: 0;}#sk-container-id-1 div.sk-toggleable {background-color: white;}#sk-container-id-1 label.sk-toggleable__label {cursor: pointer;display: block;width: 100%;margin-bottom: 0;padding: 0.3em;box-sizing: border-box;text-align: center;}#sk-container-id-1 label.sk-toggleable__label-arrow:before {content: \"▸\";float: left;margin-right: 0.25em;color: #696969;}#sk-container-id-1 label.sk-toggleable__label-arrow:hover:before {color: black;}#sk-container-id-1 div.sk-estimator:hover label.sk-toggleable__label-arrow:before {color: black;}#sk-container-id-1 div.sk-toggleable__content {max-height: 0;max-width: 0;overflow: hidden;text-align: left;background-color: #f0f8ff;}#sk-container-id-1 div.sk-toggleable__content pre {margin: 0.2em;color: black;border-radius: 0.25em;background-color: #f0f8ff;}#sk-container-id-1 input.sk-toggleable__control:checked~div.sk-toggleable__content {max-height: 200px;max-width: 100%;overflow: auto;}#sk-container-id-1 input.sk-toggleable__control:checked~label.sk-toggleable__label-arrow:before {content: \"▾\";}#sk-container-id-1 div.sk-estimator input.sk-toggleable__control:checked~label.sk-toggleable__label {background-color: #d4ebff;}#sk-container-id-1 div.sk-label input.sk-toggleable__control:checked~label.sk-toggleable__label {background-color: #d4ebff;}#sk-container-id-1 input.sk-hidden--visually {border: 0;clip: rect(1px 1px 1px 1px);clip: rect(1px, 1px, 1px, 1px);height: 1px;margin: -1px;overflow: hidden;padding: 0;position: absolute;width: 1px;}#sk-container-id-1 div.sk-estimator {font-family: monospace;background-color: #f0f8ff;border: 1px dotted black;border-radius: 0.25em;box-sizing: border-box;margin-bottom: 0.5em;}#sk-container-id-1 div.sk-estimator:hover {background-color: #d4ebff;}#sk-container-id-1 div.sk-parallel-item::after {content: \"\";width: 100%;border-bottom: 1px solid gray;flex-grow: 1;}#sk-container-id-1 div.sk-label:hover label.sk-toggleable__label {background-color: #d4ebff;}#sk-container-id-1 div.sk-serial::before {content: \"\";position: absolute;border-left: 1px solid gray;box-sizing: border-box;top: 0;bottom: 0;left: 50%;z-index: 0;}#sk-container-id-1 div.sk-serial {display: flex;flex-direction: column;align-items: center;background-color: white;padding-right: 0.2em;padding-left: 0.2em;position: relative;}#sk-container-id-1 div.sk-item {position: relative;z-index: 1;}#sk-container-id-1 div.sk-parallel {display: flex;align-items: stretch;justify-content: center;background-color: white;position: relative;}#sk-container-id-1 div.sk-item::before, #sk-container-id-1 div.sk-parallel-item::before {content: \"\";position: absolute;border-left: 1px solid gray;box-sizing: border-box;top: 0;bottom: 0;left: 50%;z-index: -1;}#sk-container-id-1 div.sk-parallel-item {display: flex;flex-direction: column;z-index: 1;position: relative;background-color: white;}#sk-container-id-1 div.sk-parallel-item:first-child::after {align-self: flex-end;width: 50%;}#sk-container-id-1 div.sk-parallel-item:last-child::after {align-self: flex-start;width: 50%;}#sk-container-id-1 div.sk-parallel-item:only-child::after {width: 0;}#sk-container-id-1 div.sk-dashed-wrapped {border: 1px dashed gray;margin: 0 0.4em 0.5em 0.4em;box-sizing: border-box;padding-bottom: 0.4em;background-color: white;}#sk-container-id-1 div.sk-label label {font-family: monospace;font-weight: bold;display: inline-block;line-height: 1.2em;}#sk-container-id-1 div.sk-label-container {text-align: center;}#sk-container-id-1 div.sk-container {/* jupyter's `normalize.less` sets `[hidden] { display: none; }` but bootstrap.min.css set `[hidden] { display: none !important; }` so we also need the `!important` here to be able to override the default hidden behavior on the sphinx rendered scikit-learn.org. See: https://github.com/scikit-learn/scikit-learn/issues/21755 */display: inline-block !important;position: relative;}#sk-container-id-1 div.sk-text-repr-fallback {display: none;}</style><div id=\"sk-container-id-1\" class=\"sk-top-container\"><div class=\"sk-text-repr-fallback\"><pre>LogisticRegression(max_iter=500)</pre><b>In a Jupyter environment, please rerun this cell to show the HTML representation or trust the notebook. <br />On GitHub, the HTML representation is unable to render, please try loading this page with nbviewer.org.</b></div><div class=\"sk-container\" hidden><div class=\"sk-item\"><div class=\"sk-estimator sk-toggleable\"><input class=\"sk-toggleable__control sk-hidden--visually\" id=\"sk-estimator-id-1\" type=\"checkbox\" checked><label for=\"sk-estimator-id-1\" class=\"sk-toggleable__label sk-toggleable__label-arrow\">LogisticRegression</label><div class=\"sk-toggleable__content\"><pre>LogisticRegression(max_iter=500)</pre></div></div></div></div></div>"
      ],
      "text/plain": [
       "LogisticRegression(max_iter=500)"
      ]
     },
     "execution_count": 38,
     "metadata": {},
     "output_type": "execute_result"
    }
   ],
   "source": [
    "## Lets train the linear regression on the training data.\n",
    "\n",
    "Log_Reg.fit(X_train, Y_train)"
   ]
  },
  {
   "cell_type": "code",
   "execution_count": 39,
   "id": "ebf238a0-e46a-43ce-848c-d28a2713650a",
   "metadata": {},
   "outputs": [],
   "source": [
    "## Lets make the prediction on test data\n",
    "\n",
    "Log_Reg_pred_test = Log_Reg.predict(X_test)"
   ]
  },
  {
   "cell_type": "markdown",
   "id": "39365741-e9b8-4f41-a6ff-478f4b93f046",
   "metadata": {},
   "source": [
    "## Confusion matrix for the test set predictions."
   ]
  },
  {
   "cell_type": "code",
   "execution_count": 40,
   "id": "b265ceec-e566-4530-a0dc-7a44522ac022",
   "metadata": {},
   "outputs": [
    {
     "name": "stdout",
     "output_type": "stream",
     "text": [
      "The Model Accuracy is: 99.92%\n"
     ]
    },
    {
     "data": {
      "image/png": "[encoded data removed]",
      "text/plain": [
       "<Figure size 576x396 with 1 Axes>"
      ]
     },
     "metadata": {},
     "output_type": "display_data"
    }
   ],
   "source": [
    "## Lets create the label for confusion Matrix\n",
    "## class labels as 0 then it is non-fraudulent and when it is 1 then it is fraudulent\n",
    "\n",
    "label = {0: 'Non Fraudulent', 1: 'Fraudulent'}\n",
    "\n",
    "## lets create variable for confusion matrix\n",
    "\n",
    "CMatrix = ConfusionMatrix(Log_Reg, encoder = label,  percent=False)\n",
    "\n",
    "## Lets fit the confusion matrix on testing set\n",
    "\n",
    "CMatrix.fit(X_test, Y_test)\n",
    "\n",
    "## Lets find out the accuracy of the model on the test set\n",
    "\n",
    "Accuracy = 100*CMatrix.score(X_test, Y_test)\n",
    "\n",
    "print('The Model Accuracy is: ', round(Accuracy,2), '%', sep = '')\n",
    "\n",
    "## changing the label fontsize in the confustion matrix\n",
    "\n",
    "for labelsize in CMatrix.ax.texts:\n",
    "    labelsize.set_size(20)\n",
    "\n",
    "## Lets show the confusion matrix for the test set\n",
    "plt.xlabel('Predictions', fontsize=18)\n",
    "plt.ylabel('Actuals', fontsize=18)\n",
    "plt.title('Logistic Regression Confusion Matrix', fontsize=18)\n",
    "plt.show()"
   ]
  },
  {
   "cell_type": "markdown",
   "id": "4f3dc682-8aab-4031-a98a-3cd2facad2a8",
   "metadata": {},
   "source": [
    "#### Logistic Regression confusion matrix says that the model is correctly classified 71071 positive class - Non Fraudulent transaction and 71 negative class - Fraudulent transacrtions. False positive and true negative values are 13 and 44 which is very less."
   ]
  },
  {
   "cell_type": "markdown",
   "id": "e9c29a3a-f3fb-4a08-8793-abcd80804176",
   "metadata": {},
   "source": [
    "#### The above confusion matrix also show the data is very unbalanced as we do not have lot of the Fraud transactions in our dataset but still the accuracy of the model is 99.92 % which is really good and indicates that the model has performed well in find out the fraudulent cases while maintaining the low false positive rate."
   ]
  },
  {
   "cell_type": "markdown",
   "id": "89c92123-c0c7-4c7b-bf06-ef72e2f0783f",
   "metadata": {},
   "source": [
    "## Creating categorical column Class_value"
   ]
  },
  {
   "cell_type": "code",
   "execution_count": 41,
   "id": "48a7b04b-5aff-4d72-8d51-c3ea78190126",
   "metadata": {},
   "outputs": [
    {
     "data": {
      "text/html": [
       "<div>\n",
       "<style scoped>\n",
       "    .dataframe tbody tr th:only-of-type {\n",
       "        vertical-align: middle;\n",
       "    }\n",
       "\n",
       "    .dataframe tbody tr th {\n",
       "        vertical-align: top;\n",
       "    }\n",
       "\n",
       "    .dataframe thead th {\n",
       "        text-align: right;\n",
       "    }\n",
       "</style>\n",
       "<table border=\"1\" class=\"dataframe\">\n",
       "  <thead>\n",
       "    <tr style=\"text-align: right;\">\n",
       "      <th></th>\n",
       "      <th>V1</th>\n",
       "      <th>V2</th>\n",
       "      <th>V3</th>\n",
       "      <th>V4</th>\n",
       "      <th>V5</th>\n",
       "      <th>V6</th>\n",
       "      <th>V7</th>\n",
       "      <th>V8</th>\n",
       "      <th>V9</th>\n",
       "      <th>V10</th>\n",
       "      <th>...</th>\n",
       "      <th>V24</th>\n",
       "      <th>V25</th>\n",
       "      <th>V26</th>\n",
       "      <th>V27</th>\n",
       "      <th>V28</th>\n",
       "      <th>Amount</th>\n",
       "      <th>Class</th>\n",
       "      <th>Amount_Robust</th>\n",
       "      <th>Amount_Scaler</th>\n",
       "      <th>Class_Value</th>\n",
       "    </tr>\n",
       "  </thead>\n",
       "  <tbody>\n",
       "    <tr>\n",
       "      <th>0</th>\n",
       "      <td>-1.359807</td>\n",
       "      <td>-0.072781</td>\n",
       "      <td>2.536347</td>\n",
       "      <td>1.378155</td>\n",
       "      <td>-0.338321</td>\n",
       "      <td>0.462388</td>\n",
       "      <td>0.239599</td>\n",
       "      <td>0.098698</td>\n",
       "      <td>0.363787</td>\n",
       "      <td>0.090794</td>\n",
       "      <td>...</td>\n",
       "      <td>0.066928</td>\n",
       "      <td>0.128539</td>\n",
       "      <td>-0.189115</td>\n",
       "      <td>0.133558</td>\n",
       "      <td>-0.021053</td>\n",
       "      <td>149.62</td>\n",
       "      <td>0</td>\n",
       "      <td>1.783399</td>\n",
       "      <td>0.261103</td>\n",
       "      <td>Non-Fraudulent</td>\n",
       "    </tr>\n",
       "    <tr>\n",
       "      <th>1</th>\n",
       "      <td>1.191857</td>\n",
       "      <td>0.266151</td>\n",
       "      <td>0.166480</td>\n",
       "      <td>0.448154</td>\n",
       "      <td>0.060018</td>\n",
       "      <td>-0.082361</td>\n",
       "      <td>-0.078803</td>\n",
       "      <td>0.085102</td>\n",
       "      <td>-0.255425</td>\n",
       "      <td>-0.166974</td>\n",
       "      <td>...</td>\n",
       "      <td>-0.339846</td>\n",
       "      <td>0.167170</td>\n",
       "      <td>0.125895</td>\n",
       "      <td>-0.008983</td>\n",
       "      <td>0.014724</td>\n",
       "      <td>2.69</td>\n",
       "      <td>0</td>\n",
       "      <td>-0.269843</td>\n",
       "      <td>-0.361100</td>\n",
       "      <td>Non-Fraudulent</td>\n",
       "    </tr>\n",
       "    <tr>\n",
       "      <th>2</th>\n",
       "      <td>-1.358354</td>\n",
       "      <td>-1.340163</td>\n",
       "      <td>1.773209</td>\n",
       "      <td>0.379780</td>\n",
       "      <td>-0.503198</td>\n",
       "      <td>1.800499</td>\n",
       "      <td>0.791461</td>\n",
       "      <td>0.247676</td>\n",
       "      <td>-1.514654</td>\n",
       "      <td>0.207643</td>\n",
       "      <td>...</td>\n",
       "      <td>-0.689281</td>\n",
       "      <td>-0.327642</td>\n",
       "      <td>-0.139097</td>\n",
       "      <td>-0.055353</td>\n",
       "      <td>-0.059752</td>\n",
       "      <td>378.66</td>\n",
       "      <td>0</td>\n",
       "      <td>4.984069</td>\n",
       "      <td>1.231015</td>\n",
       "      <td>Non-Fraudulent</td>\n",
       "    </tr>\n",
       "    <tr>\n",
       "      <th>3</th>\n",
       "      <td>-0.966272</td>\n",
       "      <td>-0.185226</td>\n",
       "      <td>1.792993</td>\n",
       "      <td>-0.863291</td>\n",
       "      <td>-0.010309</td>\n",
       "      <td>1.247203</td>\n",
       "      <td>0.237609</td>\n",
       "      <td>0.377436</td>\n",
       "      <td>-1.387024</td>\n",
       "      <td>-0.054952</td>\n",
       "      <td>...</td>\n",
       "      <td>-1.175575</td>\n",
       "      <td>0.647376</td>\n",
       "      <td>-0.221929</td>\n",
       "      <td>0.062723</td>\n",
       "      <td>0.061458</td>\n",
       "      <td>123.50</td>\n",
       "      <td>0</td>\n",
       "      <td>1.418390</td>\n",
       "      <td>0.150493</td>\n",
       "      <td>Non-Fraudulent</td>\n",
       "    </tr>\n",
       "    <tr>\n",
       "      <th>4</th>\n",
       "      <td>-1.158233</td>\n",
       "      <td>0.877737</td>\n",
       "      <td>1.548718</td>\n",
       "      <td>0.403034</td>\n",
       "      <td>-0.407193</td>\n",
       "      <td>0.095921</td>\n",
       "      <td>0.592941</td>\n",
       "      <td>-0.270533</td>\n",
       "      <td>0.817739</td>\n",
       "      <td>0.753074</td>\n",
       "      <td>...</td>\n",
       "      <td>0.141267</td>\n",
       "      <td>-0.206010</td>\n",
       "      <td>0.502292</td>\n",
       "      <td>0.219422</td>\n",
       "      <td>0.215153</td>\n",
       "      <td>69.99</td>\n",
       "      <td>0</td>\n",
       "      <td>0.670626</td>\n",
       "      <td>-0.076105</td>\n",
       "      <td>Non-Fraudulent</td>\n",
       "    </tr>\n",
       "  </tbody>\n",
       "</table>\n",
       "<p>5 rows × 33 columns</p>\n",
       "</div>"
      ],
      "text/plain": [
       "         V1        V2        V3        V4        V5        V6        V7  \\\n",
       "0 -1.359807 -0.072781  2.536347  1.378155 -0.338321  0.462388  0.239599   \n",
       "1  1.191857  0.266151  0.166480  0.448154  0.060018 -0.082361 -0.078803   \n",
       "2 -1.358354 -1.340163  1.773209  0.379780 -0.503198  1.800499  0.791461   \n",
       "3 -0.966272 -0.185226  1.792993 -0.863291 -0.010309  1.247203  0.237609   \n",
       "4 -1.158233  0.877737  1.548718  0.403034 -0.407193  0.095921  0.592941   \n",
       "\n",
       "         V8        V9       V10  ...       V24       V25       V26       V27  \\\n",
       "0  0.098698  0.363787  0.090794  ...  0.066928  0.128539 -0.189115  0.133558   \n",
       "1  0.085102 -0.255425 -0.166974  ... -0.339846  0.167170  0.125895 -0.008983   \n",
       "2  0.247676 -1.514654  0.207643  ... -0.689281 -0.327642 -0.139097 -0.055353   \n",
       "3  0.377436 -1.387024 -0.054952  ... -1.175575  0.647376 -0.221929  0.062723   \n",
       "4 -0.270533  0.817739  0.753074  ...  0.141267 -0.206010  0.502292  0.219422   \n",
       "\n",
       "        V28  Amount  Class  Amount_Robust  Amount_Scaler     Class_Value  \n",
       "0 -0.021053  149.62      0       1.783399       0.261103  Non-Fraudulent  \n",
       "1  0.014724    2.69      0      -0.269843      -0.361100  Non-Fraudulent  \n",
       "2 -0.059752  378.66      0       4.984069       1.231015  Non-Fraudulent  \n",
       "3  0.061458  123.50      0       1.418390       0.150493  Non-Fraudulent  \n",
       "4  0.215153   69.99      0       0.670626      -0.076105  Non-Fraudulent  \n",
       "\n",
       "[5 rows x 33 columns]"
      ]
     },
     "execution_count": 41,
     "metadata": {},
     "output_type": "execute_result"
    }
   ],
   "source": [
    "## The class columns has 0 and 1 values. The 0 value is for Non Fraudulent and the 1 is for Fraudulent\n",
    "## Lets create a new variable class_value which is value Fraudulent for class value 1 and Non Fraudulent for class value 0.\n",
    "\n",
    "credit_card_df['Class_Value'] = credit_card_df['Class'].replace(to_replace=[1,0], value=['Fraudulent','Non-Fraudulent'])\n",
    "\n",
    "## lets check the top five rows for the dataframe with new column.\n",
    "\n",
    "credit_card_df.head()"
   ]
  },
  {
   "cell_type": "code",
   "execution_count": 42,
   "id": "6a291d5c-78a7-4e59-8fb1-569314b2936e",
   "metadata": {},
   "outputs": [],
   "source": [
    "## Lets find out the categorical columns in the dataframe.\n",
    "\n",
    "CateColumns = credit_card_df.select_dtypes(\"object\").columns\n",
    "\n",
    "## Storing the categorical columns in a list.\n",
    "\n",
    "CateColumns= list(set(CateColumns))"
   ]
  },
  {
   "cell_type": "code",
   "execution_count": 43,
   "id": "932379b8-8f65-48f6-8627-9f1197cb87f0",
   "metadata": {},
   "outputs": [
    {
     "data": {
      "text/plain": [
       "['Class_Value']"
      ]
     },
     "execution_count": 43,
     "metadata": {},
     "output_type": "execute_result"
    }
   ],
   "source": [
    "## Lets print out the categorical columns of the dataframe.\n",
    "\n",
    "CateColumns"
   ]
  },
  {
   "cell_type": "markdown",
   "id": "507a80ff-8226-4006-98ef-765c679f8836",
   "metadata": {},
   "source": [
    "#### We now have the caetgorical feature in our dataset."
   ]
  },
  {
   "cell_type": "markdown",
   "id": "76dae4d8-2cdc-4891-8155-021e0ea58fa5",
   "metadata": {},
   "source": [
    "## Converting the categorical feature to dummy variables"
   ]
  },
  {
   "cell_type": "code",
   "execution_count": 44,
   "id": "4a0014d3-8861-4b65-acd5-6bb846744d95",
   "metadata": {},
   "outputs": [],
   "source": [
    "## Using the get_dummies function for creating the dummmy variables.\n",
    "\n",
    "credit_card_dummy_df = pd.get_dummies(credit_card_df, columns=CateColumns)"
   ]
  },
  {
   "cell_type": "code",
   "execution_count": 45,
   "id": "751a39e9-b78a-4955-bd37-4a3061c60600",
   "metadata": {},
   "outputs": [
    {
     "data": {
      "text/html": [
       "<div>\n",
       "<style scoped>\n",
       "    .dataframe tbody tr th:only-of-type {\n",
       "        vertical-align: middle;\n",
       "    }\n",
       "\n",
       "    .dataframe tbody tr th {\n",
       "        vertical-align: top;\n",
       "    }\n",
       "\n",
       "    .dataframe thead th {\n",
       "        text-align: right;\n",
       "    }\n",
       "</style>\n",
       "<table border=\"1\" class=\"dataframe\">\n",
       "  <thead>\n",
       "    <tr style=\"text-align: right;\">\n",
       "      <th></th>\n",
       "      <th>V1</th>\n",
       "      <th>V2</th>\n",
       "      <th>V3</th>\n",
       "      <th>V4</th>\n",
       "      <th>V5</th>\n",
       "      <th>V6</th>\n",
       "      <th>V7</th>\n",
       "      <th>V8</th>\n",
       "      <th>V9</th>\n",
       "      <th>V10</th>\n",
       "      <th>...</th>\n",
       "      <th>V25</th>\n",
       "      <th>V26</th>\n",
       "      <th>V27</th>\n",
       "      <th>V28</th>\n",
       "      <th>Amount</th>\n",
       "      <th>Class</th>\n",
       "      <th>Amount_Robust</th>\n",
       "      <th>Amount_Scaler</th>\n",
       "      <th>Class_Value_Fraudulent</th>\n",
       "      <th>Class_Value_Non-Fraudulent</th>\n",
       "    </tr>\n",
       "  </thead>\n",
       "  <tbody>\n",
       "    <tr>\n",
       "      <th>0</th>\n",
       "      <td>-1.359807</td>\n",
       "      <td>-0.072781</td>\n",
       "      <td>2.536347</td>\n",
       "      <td>1.378155</td>\n",
       "      <td>-0.338321</td>\n",
       "      <td>0.462388</td>\n",
       "      <td>0.239599</td>\n",
       "      <td>0.098698</td>\n",
       "      <td>0.363787</td>\n",
       "      <td>0.090794</td>\n",
       "      <td>...</td>\n",
       "      <td>0.128539</td>\n",
       "      <td>-0.189115</td>\n",
       "      <td>0.133558</td>\n",
       "      <td>-0.021053</td>\n",
       "      <td>149.62</td>\n",
       "      <td>0</td>\n",
       "      <td>1.783399</td>\n",
       "      <td>0.261103</td>\n",
       "      <td>0</td>\n",
       "      <td>1</td>\n",
       "    </tr>\n",
       "    <tr>\n",
       "      <th>1</th>\n",
       "      <td>1.191857</td>\n",
       "      <td>0.266151</td>\n",
       "      <td>0.166480</td>\n",
       "      <td>0.448154</td>\n",
       "      <td>0.060018</td>\n",
       "      <td>-0.082361</td>\n",
       "      <td>-0.078803</td>\n",
       "      <td>0.085102</td>\n",
       "      <td>-0.255425</td>\n",
       "      <td>-0.166974</td>\n",
       "      <td>...</td>\n",
       "      <td>0.167170</td>\n",
       "      <td>0.125895</td>\n",
       "      <td>-0.008983</td>\n",
       "      <td>0.014724</td>\n",
       "      <td>2.69</td>\n",
       "      <td>0</td>\n",
       "      <td>-0.269843</td>\n",
       "      <td>-0.361100</td>\n",
       "      <td>0</td>\n",
       "      <td>1</td>\n",
       "    </tr>\n",
       "    <tr>\n",
       "      <th>2</th>\n",
       "      <td>-1.358354</td>\n",
       "      <td>-1.340163</td>\n",
       "      <td>1.773209</td>\n",
       "      <td>0.379780</td>\n",
       "      <td>-0.503198</td>\n",
       "      <td>1.800499</td>\n",
       "      <td>0.791461</td>\n",
       "      <td>0.247676</td>\n",
       "      <td>-1.514654</td>\n",
       "      <td>0.207643</td>\n",
       "      <td>...</td>\n",
       "      <td>-0.327642</td>\n",
       "      <td>-0.139097</td>\n",
       "      <td>-0.055353</td>\n",
       "      <td>-0.059752</td>\n",
       "      <td>378.66</td>\n",
       "      <td>0</td>\n",
       "      <td>4.984069</td>\n",
       "      <td>1.231015</td>\n",
       "      <td>0</td>\n",
       "      <td>1</td>\n",
       "    </tr>\n",
       "    <tr>\n",
       "      <th>3</th>\n",
       "      <td>-0.966272</td>\n",
       "      <td>-0.185226</td>\n",
       "      <td>1.792993</td>\n",
       "      <td>-0.863291</td>\n",
       "      <td>-0.010309</td>\n",
       "      <td>1.247203</td>\n",
       "      <td>0.237609</td>\n",
       "      <td>0.377436</td>\n",
       "      <td>-1.387024</td>\n",
       "      <td>-0.054952</td>\n",
       "      <td>...</td>\n",
       "      <td>0.647376</td>\n",
       "      <td>-0.221929</td>\n",
       "      <td>0.062723</td>\n",
       "      <td>0.061458</td>\n",
       "      <td>123.50</td>\n",
       "      <td>0</td>\n",
       "      <td>1.418390</td>\n",
       "      <td>0.150493</td>\n",
       "      <td>0</td>\n",
       "      <td>1</td>\n",
       "    </tr>\n",
       "    <tr>\n",
       "      <th>4</th>\n",
       "      <td>-1.158233</td>\n",
       "      <td>0.877737</td>\n",
       "      <td>1.548718</td>\n",
       "      <td>0.403034</td>\n",
       "      <td>-0.407193</td>\n",
       "      <td>0.095921</td>\n",
       "      <td>0.592941</td>\n",
       "      <td>-0.270533</td>\n",
       "      <td>0.817739</td>\n",
       "      <td>0.753074</td>\n",
       "      <td>...</td>\n",
       "      <td>-0.206010</td>\n",
       "      <td>0.502292</td>\n",
       "      <td>0.219422</td>\n",
       "      <td>0.215153</td>\n",
       "      <td>69.99</td>\n",
       "      <td>0</td>\n",
       "      <td>0.670626</td>\n",
       "      <td>-0.076105</td>\n",
       "      <td>0</td>\n",
       "      <td>1</td>\n",
       "    </tr>\n",
       "  </tbody>\n",
       "</table>\n",
       "<p>5 rows × 34 columns</p>\n",
       "</div>"
      ],
      "text/plain": [
       "         V1        V2        V3        V4        V5        V6        V7  \\\n",
       "0 -1.359807 -0.072781  2.536347  1.378155 -0.338321  0.462388  0.239599   \n",
       "1  1.191857  0.266151  0.166480  0.448154  0.060018 -0.082361 -0.078803   \n",
       "2 -1.358354 -1.340163  1.773209  0.379780 -0.503198  1.800499  0.791461   \n",
       "3 -0.966272 -0.185226  1.792993 -0.863291 -0.010309  1.247203  0.237609   \n",
       "4 -1.158233  0.877737  1.548718  0.403034 -0.407193  0.095921  0.592941   \n",
       "\n",
       "         V8        V9       V10  ...       V25       V26       V27       V28  \\\n",
       "0  0.098698  0.363787  0.090794  ...  0.128539 -0.189115  0.133558 -0.021053   \n",
       "1  0.085102 -0.255425 -0.166974  ...  0.167170  0.125895 -0.008983  0.014724   \n",
       "2  0.247676 -1.514654  0.207643  ... -0.327642 -0.139097 -0.055353 -0.059752   \n",
       "3  0.377436 -1.387024 -0.054952  ...  0.647376 -0.221929  0.062723  0.061458   \n",
       "4 -0.270533  0.817739  0.753074  ... -0.206010  0.502292  0.219422  0.215153   \n",
       "\n",
       "   Amount  Class  Amount_Robust  Amount_Scaler  Class_Value_Fraudulent  \\\n",
       "0  149.62      0       1.783399       0.261103                       0   \n",
       "1    2.69      0      -0.269843      -0.361100                       0   \n",
       "2  378.66      0       4.984069       1.231015                       0   \n",
       "3  123.50      0       1.418390       0.150493                       0   \n",
       "4   69.99      0       0.670626      -0.076105                       0   \n",
       "\n",
       "   Class_Value_Non-Fraudulent  \n",
       "0                           1  \n",
       "1                           1  \n",
       "2                           1  \n",
       "3                           1  \n",
       "4                           1  \n",
       "\n",
       "[5 rows x 34 columns]"
      ]
     },
     "execution_count": 45,
     "metadata": {},
     "output_type": "execute_result"
    }
   ],
   "source": [
    "## Lets display the top 5 rows of the dataframe.\n",
    "\n",
    "credit_card_dummy_df.head()"
   ]
  },
  {
   "cell_type": "code",
   "execution_count": 46,
   "id": "d76173a6-65dd-4405-b06d-897824611296",
   "metadata": {
    "tags": []
   },
   "outputs": [
    {
     "data": {
      "text/plain": [
       "(284800, 34)"
      ]
     },
     "execution_count": 46,
     "metadata": {},
     "output_type": "execute_result"
    }
   ],
   "source": [
    "## Lets check out the number of rows and columns of the new dataframe.\n",
    "\n",
    "credit_card_dummy_df.shape"
   ]
  },
  {
   "cell_type": "markdown",
   "id": "d8baac38-ee4a-42c9-a1f4-6e395eca3010",
   "metadata": {},
   "source": [
    "## Split the data set into a training and test set"
   ]
  },
  {
   "cell_type": "code",
   "execution_count": 47,
   "id": "85ce0988-3450-4043-8817-1091f2665781",
   "metadata": {},
   "outputs": [],
   "source": [
    "## Lets again split the data into a training and test set.\n",
    "\n",
    "X = credit_card_dummy_df.drop(['Class'], axis = 1)\n",
    "\n",
    "Y = credit_card_dummy_df['Class']"
   ]
  },
  {
   "cell_type": "code",
   "execution_count": 48,
   "id": "0fce1701-4c01-42fd-98ec-118ab8d1ce2d",
   "metadata": {},
   "outputs": [],
   "source": [
    "## Pareto Principle Split\n",
    "## Using train_test_split function to split the data into 80% training and 20% testing.\n",
    "\n",
    "X_train, X_test, Y_train, Y_test = train_test_split(X, Y, test_size= 0.2)"
   ]
  },
  {
   "cell_type": "code",
   "execution_count": 49,
   "id": "be8c9efc-9f7d-4d13-a92b-ca42d3ac8b00",
   "metadata": {},
   "outputs": [],
   "source": [
    "## Lets reset the index in the training and test sets.\n",
    "\n",
    "X_train = X_train.reset_index(drop = True)\n",
    "X_test = X_test.reset_index(drop = True)\n",
    "Y_train = Y_train.reset_index(drop = True)\n",
    "Y_test = Y_test.reset_index(drop = True)"
   ]
  },
  {
   "cell_type": "code",
   "execution_count": 50,
   "id": "ec8b3e94-4d6a-45e5-8e83-2cb5e952e37a",
   "metadata": {},
   "outputs": [
    {
     "name": "stdout",
     "output_type": "stream",
     "text": [
      "The shape of X training dataset is: (227840, 33)\n",
      "The shape of Y training dataset is: (227840,)\n",
      "The shape of X testing dataset is: (56960, 33)\n",
      "The shape of Y testing dataset is: (56960,)\n"
     ]
    }
   ],
   "source": [
    "## lets check the number of rows and columns of the split data\n",
    "\n",
    "print(\"The shape of X training dataset is: {}\".format(X_train.shape))\n",
    "print(\"The shape of Y training dataset is: {}\".format(Y_train.shape))\n",
    "print(\"The shape of X testing dataset is: {}\".format(X_test.shape))\n",
    "print(\"The shape of Y testing dataset is: {}\".format(Y_test.shape))"
   ]
  },
  {
   "cell_type": "code",
   "execution_count": 51,
   "id": "c1894937-8802-47a8-afb9-44dcaf9b6465",
   "metadata": {},
   "outputs": [
    {
     "name": "stdout",
     "output_type": "stream",
     "text": [
      "V1                            0\n",
      "V2                            0\n",
      "V3                            0\n",
      "V4                            0\n",
      "V5                            0\n",
      "V6                            0\n",
      "V7                            0\n",
      "V8                            0\n",
      "V9                            0\n",
      "V10                           0\n",
      "V11                           0\n",
      "V12                           0\n",
      "V13                           0\n",
      "V14                           0\n",
      "V15                           0\n",
      "V16                           0\n",
      "V17                           0\n",
      "V18                           0\n",
      "V19                           0\n",
      "V20                           0\n",
      "V21                           0\n",
      "V22                           0\n",
      "V23                           0\n",
      "V24                           0\n",
      "V25                           0\n",
      "V26                           0\n",
      "V27                           0\n",
      "V28                           0\n",
      "Amount                        0\n",
      "Amount_Robust                 0\n",
      "Amount_Scaler                 0\n",
      "Class_Value_Fraudulent        0\n",
      "Class_Value_Non-Fraudulent    0\n",
      "dtype: int64\n",
      "V1                            0\n",
      "V2                            0\n",
      "V3                            0\n",
      "V4                            0\n",
      "V5                            0\n",
      "V6                            0\n",
      "V7                            0\n",
      "V8                            0\n",
      "V9                            0\n",
      "V10                           0\n",
      "V11                           0\n",
      "V12                           0\n",
      "V13                           0\n",
      "V14                           0\n",
      "V15                           0\n",
      "V16                           0\n",
      "V17                           0\n",
      "V18                           0\n",
      "V19                           0\n",
      "V20                           0\n",
      "V21                           0\n",
      "V22                           0\n",
      "V23                           0\n",
      "V24                           0\n",
      "V25                           0\n",
      "V26                           0\n",
      "V27                           0\n",
      "V28                           0\n",
      "Amount                        0\n",
      "Amount_Robust                 0\n",
      "Amount_Scaler                 0\n",
      "Class_Value_Fraudulent        0\n",
      "Class_Value_Non-Fraudulent    0\n",
      "dtype: int64\n"
     ]
    }
   ],
   "source": [
    "## Lets look for nulls in both training and test sets.\n",
    "\n",
    "print(X_train.isna().sum())\n",
    "print(X_test.isna().sum())"
   ]
  },
  {
   "cell_type": "markdown",
   "id": "9be43af0-4d75-47e3-8ae4-8f8fba4bb654",
   "metadata": {},
   "source": [
    "#### We do not have the null values in our dataset"
   ]
  },
  {
   "cell_type": "markdown",
   "id": "5de677a6-2e55-427f-9950-4562679c7af1",
   "metadata": {},
   "source": [
    "## Train a Linear regression using the training data."
   ]
  },
  {
   "cell_type": "code",
   "execution_count": 52,
   "id": "1d9b87f9-f4fb-4baf-81b0-a2084376d3f4",
   "metadata": {},
   "outputs": [],
   "source": [
    "## lets import the required library\n",
    "\n",
    "from sklearn.linear_model import LinearRegression"
   ]
  },
  {
   "cell_type": "code",
   "execution_count": 53,
   "id": "1dd5f6f2-c37a-4f33-ae34-497605da883f",
   "metadata": {},
   "outputs": [
    {
     "data": {
      "text/html": [
       "<style>#sk-container-id-2 {color: black;}#sk-container-id-2 pre{padding: 0;}#sk-container-id-2 div.sk-toggleable {background-color: white;}#sk-container-id-2 label.sk-toggleable__label {cursor: pointer;display: block;width: 100%;margin-bottom: 0;padding: 0.3em;box-sizing: border-box;text-align: center;}#sk-container-id-2 label.sk-toggleable__label-arrow:before {content: \"▸\";float: left;margin-right: 0.25em;color: #696969;}#sk-container-id-2 label.sk-toggleable__label-arrow:hover:before {color: black;}#sk-container-id-2 div.sk-estimator:hover label.sk-toggleable__label-arrow:before {color: black;}#sk-container-id-2 div.sk-toggleable__content {max-height: 0;max-width: 0;overflow: hidden;text-align: left;background-color: #f0f8ff;}#sk-container-id-2 div.sk-toggleable__content pre {margin: 0.2em;color: black;border-radius: 0.25em;background-color: #f0f8ff;}#sk-container-id-2 input.sk-toggleable__control:checked~div.sk-toggleable__content {max-height: 200px;max-width: 100%;overflow: auto;}#sk-container-id-2 input.sk-toggleable__control:checked~label.sk-toggleable__label-arrow:before {content: \"▾\";}#sk-container-id-2 div.sk-estimator input.sk-toggleable__control:checked~label.sk-toggleable__label {background-color: #d4ebff;}#sk-container-id-2 div.sk-label input.sk-toggleable__control:checked~label.sk-toggleable__label {background-color: #d4ebff;}#sk-container-id-2 input.sk-hidden--visually {border: 0;clip: rect(1px 1px 1px 1px);clip: rect(1px, 1px, 1px, 1px);height: 1px;margin: -1px;overflow: hidden;padding: 0;position: absolute;width: 1px;}#sk-container-id-2 div.sk-estimator {font-family: monospace;background-color: #f0f8ff;border: 1px dotted black;border-radius: 0.25em;box-sizing: border-box;margin-bottom: 0.5em;}#sk-container-id-2 div.sk-estimator:hover {background-color: #d4ebff;}#sk-container-id-2 div.sk-parallel-item::after {content: \"\";width: 100%;border-bottom: 1px solid gray;flex-grow: 1;}#sk-container-id-2 div.sk-label:hover label.sk-toggleable__label {background-color: #d4ebff;}#sk-container-id-2 div.sk-serial::before {content: \"\";position: absolute;border-left: 1px solid gray;box-sizing: border-box;top: 0;bottom: 0;left: 50%;z-index: 0;}#sk-container-id-2 div.sk-serial {display: flex;flex-direction: column;align-items: center;background-color: white;padding-right: 0.2em;padding-left: 0.2em;position: relative;}#sk-container-id-2 div.sk-item {position: relative;z-index: 1;}#sk-container-id-2 div.sk-parallel {display: flex;align-items: stretch;justify-content: center;background-color: white;position: relative;}#sk-container-id-2 div.sk-item::before, #sk-container-id-2 div.sk-parallel-item::before {content: \"\";position: absolute;border-left: 1px solid gray;box-sizing: border-box;top: 0;bottom: 0;left: 50%;z-index: -1;}#sk-container-id-2 div.sk-parallel-item {display: flex;flex-direction: column;z-index: 1;position: relative;background-color: white;}#sk-container-id-2 div.sk-parallel-item:first-child::after {align-self: flex-end;width: 50%;}#sk-container-id-2 div.sk-parallel-item:last-child::after {align-self: flex-start;width: 50%;}#sk-container-id-2 div.sk-parallel-item:only-child::after {width: 0;}#sk-container-id-2 div.sk-dashed-wrapped {border: 1px dashed gray;margin: 0 0.4em 0.5em 0.4em;box-sizing: border-box;padding-bottom: 0.4em;background-color: white;}#sk-container-id-2 div.sk-label label {font-family: monospace;font-weight: bold;display: inline-block;line-height: 1.2em;}#sk-container-id-2 div.sk-label-container {text-align: center;}#sk-container-id-2 div.sk-container {/* jupyter's `normalize.less` sets `[hidden] { display: none; }` but bootstrap.min.css set `[hidden] { display: none !important; }` so we also need the `!important` here to be able to override the default hidden behavior on the sphinx rendered scikit-learn.org. See: https://github.com/scikit-learn/scikit-learn/issues/21755 */display: inline-block !important;position: relative;}#sk-container-id-2 div.sk-text-repr-fallback {display: none;}</style><div id=\"sk-container-id-2\" class=\"sk-top-container\"><div class=\"sk-text-repr-fallback\"><pre>LinearRegression()</pre><b>In a Jupyter environment, please rerun this cell to show the HTML representation or trust the notebook. <br />On GitHub, the HTML representation is unable to render, please try loading this page with nbviewer.org.</b></div><div class=\"sk-container\" hidden><div class=\"sk-item\"><div class=\"sk-estimator sk-toggleable\"><input class=\"sk-toggleable__control sk-hidden--visually\" id=\"sk-estimator-id-2\" type=\"checkbox\" checked><label for=\"sk-estimator-id-2\" class=\"sk-toggleable__label sk-toggleable__label-arrow\">LinearRegression</label><div class=\"sk-toggleable__content\"><pre>LinearRegression()</pre></div></div></div></div></div>"
      ],
      "text/plain": [
       "LinearRegression()"
      ]
     },
     "execution_count": 53,
     "metadata": {},
     "output_type": "execute_result"
    }
   ],
   "source": [
    "## Lets create the variable for linear regression model \n",
    "\n",
    "Linear_Reg = LinearRegression()\n",
    "\n",
    "## lets apply the linear regression to training set\n",
    "\n",
    "Linear_Reg.fit(X_train, Y_train)"
   ]
  },
  {
   "cell_type": "code",
   "execution_count": 54,
   "id": "5061a7e9-0a04-4f23-a176-6b38da8d0e9f",
   "metadata": {},
   "outputs": [],
   "source": [
    "## Making prediction on test set using the linear regression model\n",
    "\n",
    "Y_pred = Linear_Reg.predict(X_test)"
   ]
  },
  {
   "cell_type": "code",
   "execution_count": 55,
   "id": "c7f676cb-8fa8-429a-a24a-785d957859bf",
   "metadata": {},
   "outputs": [],
   "source": [
    "## Lets import the required libraries.\n",
    "\n",
    "from sklearn.metrics import mean_squared_error, r2_score, mean_absolute_error\n",
    "from math import sqrt"
   ]
  },
  {
   "cell_type": "markdown",
   "id": "54084c57-de29-4bf5-81e1-08e05cc09a8f",
   "metadata": {},
   "source": [
    "## R2-value and RMSE on the test set"
   ]
  },
  {
   "cell_type": "code",
   "execution_count": 56,
   "id": "54dadd9c-bceb-4e98-ad98-c5f44500b0ab",
   "metadata": {},
   "outputs": [
    {
     "name": "stdout",
     "output_type": "stream",
     "text": [
      "The R2 value on the test set is:  1.0\n",
      "The RMSE on the test set is:  9.118868999605363e-15\n"
     ]
    }
   ],
   "source": [
    "## lets calculate the R2 and RMSE on the test set\n",
    "\n",
    "print(\"The R2 value on the test set is: \", r2_score(Y_test, Y_pred))\n",
    "print(\"The RMSE on the test set is: \", sqrt(mean_squared_error(Y_test, Y_pred)))"
   ]
  },
  {
   "cell_type": "markdown",
   "id": "a26bfeb6-2165-46c0-a3f1-1fe9002e9e5f",
   "metadata": {},
   "source": [
    "#### As we know when R2 is large it means that the regression model fitting the observation. When the R2 value is high it suggest the better fit for the model. Also the RMSE value if low it stat that the accuracy of prediction are close and suggest that the model is close to accuracy.\n",
    "\n"
   ]
  },
  {
   "cell_type": "markdown",
   "id": "6e47e704-1848-4cca-a30a-0eee536e45f2",
   "metadata": {},
   "source": [
    "#### As we can see R2 value is 100 % and it suggest the better fit to the model. Also The RMSE value is low  as .09 for linear regression model which again suggest the predicted model is close to accuracy."
   ]
  },
  {
   "cell_type": "markdown",
   "id": "ac675642-51d7-4f8f-9268-77aaa6fc92e9",
   "metadata": {},
   "source": [
    "## ***** Conclusion ******"
   ]
  },
  {
   "cell_type": "markdown",
   "id": "a084bd76-64de-4c74-8ea6-9f8e034336ee",
   "metadata": {},
   "source": [
    "#### As part of data preparation we have done the following in the  credit card dataset. <br><br> &emsp;&emsp; a) Drop the irrelevant feature from the dataset. <br> &emsp;&emsp; b) Taking care of NULL or Missing values. <br> &emsp;&emsp; c) Transform the dataset to remove outliers and scale them using statistics that are robust to outliers. <br><br> After preparating the dataset I have split the credit card dataset to train and test set and then build the Logistic regression model and use the confusion matrix to show the Logistic regression model. The credit card fraud detection model has accuracy of 99.92 % and have really low false positive rate. This indicate model is almost accurate and is performing good. <br><br> Also I have added the categorical feature in our dataset using the Class column, as we know in Class feature all 0 values represent Non Fraudulent transactions and 1 represent the Fraudulent transactions.<br><br> Converted the categorical feature to dummy variable. I split the dataset which have now all the dummy varaible to train and test set using Pareto Principle Split. Train the linear regression using the train set and calculate the R2 and RMSE on the test data.<br> The R2 value came out as 100 % which suggest that the linear regression model is fitting the observation. The RMSE value is low as .09 which also state that created model is close to accuracy. <br> <br> In the next milestone, I will be comparing the logistic regression model with other model and will see which model is best fir for credit card fraud detection."
   ]
  },
  {
   "cell_type": "code",
   "execution_count": null,
   "id": "88b2d5f5-ca70-4cab-9764-0ecd7669db3b",
   "metadata": {},
   "outputs": [],
   "source": []
  }
 ],
 "metadata": {
  "kernelspec": {
   "display_name": "Python 3 (ipykernel)",
   "language": "python",
   "name": "python3"
  },
  "language_info": {
   "codemirror_mode": {
    "name": "ipython",
    "version": 3
   },
   "file_extension": ".py",
   "mimetype": "text/x-python",
   "name": "python",
   "nbconvert_exporter": "python",
   "pygments_lexer": "ipython3",
   "version": "3.9.7"
  }
 },
 "nbformat": 4,
 "nbformat_minor": 5
}
